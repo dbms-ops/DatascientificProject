{
 "cells": [
  {
   "cell_type": "markdown",
   "id": "f561e85c-e3ae-4c67-8e24-5ce19cc445f0",
   "metadata": {},
   "source": [
    "## Python 语法基础知识"
   ]
  },
  {
   "cell_type": "code",
   "execution_count": 18,
   "id": "1db05a12-6965-495b-b4a1-69e2af32820a",
   "metadata": {
    "ExecuteTime": {
     "end_time": "2024-03-11T02:25:53.881375Z",
     "start_time": "2024-03-11T02:25:53.875403Z"
    }
   },
   "outputs": [
    {
     "name": "stdout",
     "output_type": "stream",
     "text": [
      "['yield', 'with', 'while', 'try', 'return', 'raise', 'pass', 'or', 'not', 'nonlocal', 'lambda', 'is', 'in', 'import', 'if', 'global', 'from', 'for', 'finally', 'except', 'else', 'elif', 'del', 'def', 'continue', 'class', 'break', 'await', 'async', 'assert', 'as', 'and', 'True', 'None', 'False']\n"
     ]
    }
   ],
   "source": [
    "import keyword\n",
    "print(sorted(keyword.kwlist,reverse=True))"
   ]
  },
  {
   "cell_type": "markdown",
   "id": "dd960a87-9c0b-4b3e-b917-1cb20c391d23",
   "metadata": {},
   "source": [
    "基本数据类型：数值、字符串、列表、元组、集合、字典"
   ]
  },
  {
   "cell_type": "markdown",
   "id": "96bfbbd8-44fc-41b2-97a2-706bd954b6fb",
   "metadata": {},
   "source": [
    "数值：/ 表示浮点数除法，// 表示整数除法，所以 Python 的单行注释是 # "
   ]
  },
  {
   "cell_type": "code",
   "execution_count": 19,
   "id": "ee57c670-db85-4665-9024-987947aeb87e",
   "metadata": {
    "ExecuteTime": {
     "end_time": "2024-03-11T02:26:28.327159Z",
     "start_time": "2024-03-11T02:26:28.323465Z"
    }
   },
   "outputs": [
    {
     "name": "stdout",
     "output_type": "stream",
     "text": [
      "11 12 0.9166666666666666\n"
     ]
    },
    {
     "data": {
      "text/plain": [
       "float"
      ]
     },
     "execution_count": 19,
     "metadata": {},
     "output_type": "execute_result"
    }
   ],
   "source": [
    "x = 11\n",
    "y = 12\n",
    "z = x / y\n",
    "print(x,y,z)\n",
    "type(z)"
   ]
  },
  {
   "cell_type": "markdown",
   "id": "58dae090-fa74-4f43-8f6e-138854925e3b",
   "metadata": {},
   "source": [
    "字符串：字符串，使用 '' 或者 \"\" 都是可以的，没有字符类型，一个字符就是长度为 1 的字符串\n",
    "字符串不可修改，类似 word[0] = 'H'，都是错误的"
   ]
  },
  {
   "cell_type": "code",
   "execution_count": 20,
   "id": "3939ab4b-2aef-422b-b91a-ea4a6da4a0c8",
   "metadata": {},
   "outputs": [
    {
     "name": "stdout",
     "output_type": "stream",
     "text": [
      "hellohellohello string \n"
     ]
    }
   ],
   "source": [
    "world = 'hello'\n",
    "print(world * 3 + ' str' + 'ing ')"
   ]
  },
  {
   "cell_type": "markdown",
   "id": "1c295aff-4f5b-4141-ac5d-55fdad8ffda2",
   "metadata": {},
   "source": [
    "数组"
   ]
  },
  {
   "cell_type": "markdown",
   "id": "73284153-77c8-4dbd-9fc9-f424d5397ac9",
   "metadata": {},
   "source": [
    "一维数组可以用乘法，但是二维数组不可以，会造成引用赋值"
   ]
  },
  {
   "cell_type": "code",
   "execution_count": 21,
   "id": "7dc139d0-559d-4005-8f5d-f4148416fb81",
   "metadata": {},
   "outputs": [
    {
     "data": {
      "text/plain": [
       "[0, 0, 0, 0, 0, 0, 0, 0, 0, 0]"
      ]
     },
     "execution_count": 21,
     "metadata": {},
     "output_type": "execute_result"
    }
   ],
   "source": [
    "arrOne = [0]*10 \n",
    "arrOne"
   ]
  },
  {
   "cell_type": "markdown",
   "id": "91a0f670-54a0-4c89-afba-2beffaa29173",
   "metadata": {},
   "source": [
    "n*n 的二维数组"
   ]
  },
  {
   "cell_type": "code",
   "execution_count": 22,
   "id": "6adb4fd1-7ede-461c-8403-dba68cbcea52",
   "metadata": {},
   "outputs": [
    {
     "data": {
      "text/plain": [
       "[[0, 0, 0, 0, 0, 0, 0, 0, 0, 0],\n",
       " [0, 0, 0, 0, 0, 0, 0, 0, 0, 0],\n",
       " [0, 0, 0, 0, 0, 0, 0, 0, 0, 0],\n",
       " [0, 0, 0, 0, 0, 0, 0, 0, 0, 0],\n",
       " [0, 0, 0, 0, 0, 0, 0, 0, 0, 0],\n",
       " [0, 0, 0, 0, 0, 0, 0, 0, 0, 0],\n",
       " [0, 0, 0, 0, 0, 0, 0, 0, 0, 0],\n",
       " [0, 0, 0, 0, 0, 0, 0, 0, 0, 0],\n",
       " [0, 0, 0, 0, 0, 0, 0, 0, 0, 0],\n",
       " [0, 0, 0, 0, 0, 0, 0, 0, 0, 0]]"
      ]
     },
     "execution_count": 22,
     "metadata": {},
     "output_type": "execute_result"
    }
   ],
   "source": [
    "n=10\n",
    "arrTwo = [[0]*n for _ in range(n)]\n",
    "arrTwo"
   ]
  },
  {
   "cell_type": "markdown",
   "id": "b12eb705-448a-4219-9cf3-7cbfa3ab1631",
   "metadata": {},
   "source": [
    "元组，不可修改，可以存放多种类型"
   ]
  },
  {
   "cell_type": "code",
   "execution_count": 23,
   "id": "eb04c942-12a9-467e-b6aa-819c8188d970",
   "metadata": {},
   "outputs": [
    {
     "data": {
      "text/plain": [
       "(11, 'hello', 22)"
      ]
     },
     "execution_count": 23,
     "metadata": {},
     "output_type": "execute_result"
    }
   ],
   "source": [
    "tup = (11, 'hello', 22)\n",
    "tup"
   ]
  },
  {
   "cell_type": "markdown",
   "id": "640adb6a-4442-411a-a226-ebbe44164339",
   "metadata": {},
   "source": [
    "列表：不同于数组，里面存放的值可以是多种类型"
   ]
  },
  {
   "cell_type": "code",
   "execution_count": 24,
   "id": "84efbd7e-4c3a-4957-a1b8-fa175bb68a8e",
   "metadata": {},
   "outputs": [
    {
     "data": {
      "text/plain": [
       "[11, 'hello', 25]"
      ]
     },
     "execution_count": 24,
     "metadata": {},
     "output_type": "execute_result"
    }
   ],
   "source": [
    "li = [11, 'hello', 25]\n",
    "li"
   ]
  },
  {
   "cell_type": "code",
   "execution_count": 25,
   "id": "0ebfa568-1cfc-4e58-8ece-1386e6a92847",
   "metadata": {},
   "outputs": [
    {
     "data": {
      "text/plain": [
       "[11, 'hello', 25, 23.0]"
      ]
     },
     "execution_count": 25,
     "metadata": {},
     "output_type": "execute_result"
    }
   ],
   "source": [
    "li.append(23.0)\n",
    "li"
   ]
  },
  {
   "cell_type": "markdown",
   "id": "256180d1-6f31-4f41-82d5-1662ba76ee0d",
   "metadata": {},
   "source": [
    "集合：无顺不重复的集合，可以用 set 进行去重"
   ]
  },
  {
   "cell_type": "code",
   "execution_count": 26,
   "id": "baa2e3c8-9749-481b-bb5d-29752a59c25c",
   "metadata": {},
   "outputs": [
    {
     "data": {
      "text/plain": [
       "{'jerry', 'mary', 'tom'}"
      ]
     },
     "execution_count": 26,
     "metadata": {},
     "output_type": "execute_result"
    }
   ],
   "source": [
    "student = {'tom', 'jerry', 'mary'}\n",
    "student"
   ]
  },
  {
   "cell_type": "markdown",
   "id": "92baf13d-2308-4c4e-af1b-0d83afa6e97d",
   "metadata": {},
   "source": [
    "字典, key - value 对"
   ]
  },
  {
   "cell_type": "code",
   "execution_count": 27,
   "id": "0a28a49d-b789-4d95-95fb-de718145a972",
   "metadata": {},
   "outputs": [
    {
     "data": {
      "text/plain": [
       "{'key': 'value', 11: 22, 'id': 10}"
      ]
     },
     "execution_count": 27,
     "metadata": {},
     "output_type": "execute_result"
    }
   ],
   "source": [
    "dic = {'key':'value', 11:22, 'id':10}\n",
    "dic"
   ]
  },
  {
   "cell_type": "markdown",
   "id": "ea803e8d-0191-4e30-8aa9-8ad88d3bb614",
   "metadata": {},
   "source": [
    "## 编程常用写法"
   ]
  },
  {
   "cell_type": "markdown",
   "id": "7d36d450-0878-4b40-aa71-77e9d5987d0f",
   "metadata": {},
   "source": [
    "输入一串数据，空格分隔，转换为整数如： 1 2 3 4 5"
   ]
  },
  {
   "cell_type": "markdown",
   "id": "e6dca2cf-de18-4a92-8766-2cbe0c71a4a3",
   "metadata": {},
   "source": [
    "split 默认以空格分隔，输入默认是字符串"
   ]
  },
  {
   "cell_type": "code",
   "execution_count": 28,
   "id": "bc393b1b-b2e3-4e35-89a3-fbeb843e8136",
   "metadata": {},
   "outputs": [
    {
     "data": {
      "text/plain": [
       "{'s': 1, 'b': 1, 'c': 1, 'd': 1, 'e': 1, 'f': 1}"
      ]
     },
     "execution_count": 28,
     "metadata": {},
     "output_type": "execute_result"
    }
   ],
   "source": [
    "import collections\n",
    "string_input = ['s','b','c','d','e','f']\n",
    "counter = dict(collections.Counter(string_input))\n",
    "counter"
   ]
  },
  {
   "cell_type": "markdown",
   "id": "a34baab9-002c-4c0a-ac74-b41fec14babe",
   "metadata": {},
   "source": [
    "## 常用函数"
   ]
  },
  {
   "cell_type": "markdown",
   "id": "ea328bb3-aa2f-488e-bae2-198c5d50be5d",
   "metadata": {},
   "source": [
    "python运行速度：因为 Python 是动态语言，解释执行，因此 Python 代码运行速度慢。\n",
    "如果要提高 Python 代码的运行速度，最简单的方法是把 某些关键函数用 C 语言重写，这样就能大大提高执行速度。\n",
    "同样的功能，StringIO 是纯 Python 代码编写的，而 cStringIO 部分函数是 C 写的，因此 cStringIO 运行速度更快"
   ]
  },
  {
   "cell_type": "markdown",
   "id": "1c309681-6fc7-4b2b-ac9d-c03b186d4850",
   "metadata": {},
   "source": [
    "帮助文档 help  和 dir"
   ]
  },
  {
   "cell_type": "markdown",
   "id": "5d107be2-7a06-40f3-b42e-1797629f3242",
   "metadata": {},
   "source": [
    "可以查看该函数的使用方法包括 需要的参数 和 返回值"
   ]
  },
  {
   "cell_type": "code",
   "execution_count": 29,
   "id": "8312a844-2224-42d6-b2cd-d00daa76c8e7",
   "metadata": {},
   "outputs": [
    {
     "name": "stdout",
     "output_type": "stream",
     "text": [
      "Help on class str in module builtins:\n",
      "\n",
      "class str(object)\n",
      " |  str(object='') -> str\n",
      " |  str(bytes_or_buffer[, encoding[, errors]]) -> str\n",
      " |  \n",
      " |  Create a new string object from the given object. If encoding or\n",
      " |  errors is specified, then the object must expose a data buffer\n",
      " |  that will be decoded using the given encoding and error handler.\n",
      " |  Otherwise, returns the result of object.__str__() (if defined)\n",
      " |  or repr(object).\n",
      " |  encoding defaults to sys.getdefaultencoding().\n",
      " |  errors defaults to 'strict'.\n",
      " |  \n",
      " |  Methods defined here:\n",
      " |  \n",
      " |  __add__(self, value, /)\n",
      " |      Return self+value.\n",
      " |  \n",
      " |  __contains__(self, key, /)\n",
      " |      Return key in self.\n",
      " |  \n",
      " |  __eq__(self, value, /)\n",
      " |      Return self==value.\n",
      " |  \n",
      " |  __format__(self, format_spec, /)\n",
      " |      Return a formatted version of the string as described by format_spec.\n",
      " |  \n",
      " |  __ge__(self, value, /)\n",
      " |      Return self>=value.\n",
      " |  \n",
      " |  __getattribute__(self, name, /)\n",
      " |      Return getattr(self, name).\n",
      " |  \n",
      " |  __getitem__(self, key, /)\n",
      " |      Return self[key].\n",
      " |  \n",
      " |  __getnewargs__(...)\n",
      " |  \n",
      " |  __gt__(self, value, /)\n",
      " |      Return self>value.\n",
      " |  \n",
      " |  __hash__(self, /)\n",
      " |      Return hash(self).\n",
      " |  \n",
      " |  __iter__(self, /)\n",
      " |      Implement iter(self).\n",
      " |  \n",
      " |  __le__(self, value, /)\n",
      " |      Return self<=value.\n",
      " |  \n",
      " |  __len__(self, /)\n",
      " |      Return len(self).\n",
      " |  \n",
      " |  __lt__(self, value, /)\n",
      " |      Return self<value.\n",
      " |  \n",
      " |  __mod__(self, value, /)\n",
      " |      Return self%value.\n",
      " |  \n",
      " |  __mul__(self, value, /)\n",
      " |      Return self*value.\n",
      " |  \n",
      " |  __ne__(self, value, /)\n",
      " |      Return self!=value.\n",
      " |  \n",
      " |  __repr__(self, /)\n",
      " |      Return repr(self).\n",
      " |  \n",
      " |  __rmod__(self, value, /)\n",
      " |      Return value%self.\n",
      " |  \n",
      " |  __rmul__(self, value, /)\n",
      " |      Return value*self.\n",
      " |  \n",
      " |  __sizeof__(self, /)\n",
      " |      Return the size of the string in memory, in bytes.\n",
      " |  \n",
      " |  __str__(self, /)\n",
      " |      Return str(self).\n",
      " |  \n",
      " |  capitalize(self, /)\n",
      " |      Return a capitalized version of the string.\n",
      " |      \n",
      " |      More specifically, make the first character have upper case and the rest lower\n",
      " |      case.\n",
      " |  \n",
      " |  casefold(self, /)\n",
      " |      Return a version of the string suitable for caseless comparisons.\n",
      " |  \n",
      " |  center(self, width, fillchar=' ', /)\n",
      " |      Return a centered string of length width.\n",
      " |      \n",
      " |      Padding is done using the specified fill character (default is a space).\n",
      " |  \n",
      " |  count(...)\n",
      " |      S.count(sub[, start[, end]]) -> int\n",
      " |      \n",
      " |      Return the number of non-overlapping occurrences of substring sub in\n",
      " |      string S[start:end].  Optional arguments start and end are\n",
      " |      interpreted as in slice notation.\n",
      " |  \n",
      " |  encode(self, /, encoding='utf-8', errors='strict')\n",
      " |      Encode the string using the codec registered for encoding.\n",
      " |      \n",
      " |      encoding\n",
      " |        The encoding in which to encode the string.\n",
      " |      errors\n",
      " |        The error handling scheme to use for encoding errors.\n",
      " |        The default is 'strict' meaning that encoding errors raise a\n",
      " |        UnicodeEncodeError.  Other possible values are 'ignore', 'replace' and\n",
      " |        'xmlcharrefreplace' as well as any other name registered with\n",
      " |        codecs.register_error that can handle UnicodeEncodeErrors.\n",
      " |  \n",
      " |  endswith(...)\n",
      " |      S.endswith(suffix[, start[, end]]) -> bool\n",
      " |      \n",
      " |      Return True if S ends with the specified suffix, False otherwise.\n",
      " |      With optional start, test S beginning at that position.\n",
      " |      With optional end, stop comparing S at that position.\n",
      " |      suffix can also be a tuple of strings to try.\n",
      " |  \n",
      " |  expandtabs(self, /, tabsize=8)\n",
      " |      Return a copy where all tab characters are expanded using spaces.\n",
      " |      \n",
      " |      If tabsize is not given, a tab size of 8 characters is assumed.\n",
      " |  \n",
      " |  find(...)\n",
      " |      S.find(sub[, start[, end]]) -> int\n",
      " |      \n",
      " |      Return the lowest index in S where substring sub is found,\n",
      " |      such that sub is contained within S[start:end].  Optional\n",
      " |      arguments start and end are interpreted as in slice notation.\n",
      " |      \n",
      " |      Return -1 on failure.\n",
      " |  \n",
      " |  format(...)\n",
      " |      S.format(*args, **kwargs) -> str\n",
      " |      \n",
      " |      Return a formatted version of S, using substitutions from args and kwargs.\n",
      " |      The substitutions are identified by braces ('{' and '}').\n",
      " |  \n",
      " |  format_map(...)\n",
      " |      S.format_map(mapping) -> str\n",
      " |      \n",
      " |      Return a formatted version of S, using substitutions from mapping.\n",
      " |      The substitutions are identified by braces ('{' and '}').\n",
      " |  \n",
      " |  index(...)\n",
      " |      S.index(sub[, start[, end]]) -> int\n",
      " |      \n",
      " |      Return the lowest index in S where substring sub is found,\n",
      " |      such that sub is contained within S[start:end].  Optional\n",
      " |      arguments start and end are interpreted as in slice notation.\n",
      " |      \n",
      " |      Raises ValueError when the substring is not found.\n",
      " |  \n",
      " |  isalnum(self, /)\n",
      " |      Return True if the string is an alpha-numeric string, False otherwise.\n",
      " |      \n",
      " |      A string is alpha-numeric if all characters in the string are alpha-numeric and\n",
      " |      there is at least one character in the string.\n",
      " |  \n",
      " |  isalpha(self, /)\n",
      " |      Return True if the string is an alphabetic string, False otherwise.\n",
      " |      \n",
      " |      A string is alphabetic if all characters in the string are alphabetic and there\n",
      " |      is at least one character in the string.\n",
      " |  \n",
      " |  isascii(self, /)\n",
      " |      Return True if all characters in the string are ASCII, False otherwise.\n",
      " |      \n",
      " |      ASCII characters have code points in the range U+0000-U+007F.\n",
      " |      Empty string is ASCII too.\n",
      " |  \n",
      " |  isdecimal(self, /)\n",
      " |      Return True if the string is a decimal string, False otherwise.\n",
      " |      \n",
      " |      A string is a decimal string if all characters in the string are decimal and\n",
      " |      there is at least one character in the string.\n",
      " |  \n",
      " |  isdigit(self, /)\n",
      " |      Return True if the string is a digit string, False otherwise.\n",
      " |      \n",
      " |      A string is a digit string if all characters in the string are digits and there\n",
      " |      is at least one character in the string.\n",
      " |  \n",
      " |  isidentifier(self, /)\n",
      " |      Return True if the string is a valid Python identifier, False otherwise.\n",
      " |      \n",
      " |      Call keyword.iskeyword(s) to test whether string s is a reserved identifier,\n",
      " |      such as \"def\" or \"class\".\n",
      " |  \n",
      " |  islower(self, /)\n",
      " |      Return True if the string is a lowercase string, False otherwise.\n",
      " |      \n",
      " |      A string is lowercase if all cased characters in the string are lowercase and\n",
      " |      there is at least one cased character in the string.\n",
      " |  \n",
      " |  isnumeric(self, /)\n",
      " |      Return True if the string is a numeric string, False otherwise.\n",
      " |      \n",
      " |      A string is numeric if all characters in the string are numeric and there is at\n",
      " |      least one character in the string.\n",
      " |  \n",
      " |  isprintable(self, /)\n",
      " |      Return True if the string is printable, False otherwise.\n",
      " |      \n",
      " |      A string is printable if all of its characters are considered printable in\n",
      " |      repr() or if it is empty.\n",
      " |  \n",
      " |  isspace(self, /)\n",
      " |      Return True if the string is a whitespace string, False otherwise.\n",
      " |      \n",
      " |      A string is whitespace if all characters in the string are whitespace and there\n",
      " |      is at least one character in the string.\n",
      " |  \n",
      " |  istitle(self, /)\n",
      " |      Return True if the string is a title-cased string, False otherwise.\n",
      " |      \n",
      " |      In a title-cased string, upper- and title-case characters may only\n",
      " |      follow uncased characters and lowercase characters only cased ones.\n",
      " |  \n",
      " |  isupper(self, /)\n",
      " |      Return True if the string is an uppercase string, False otherwise.\n",
      " |      \n",
      " |      A string is uppercase if all cased characters in the string are uppercase and\n",
      " |      there is at least one cased character in the string.\n",
      " |  \n",
      " |  join(self, iterable, /)\n",
      " |      Concatenate any number of strings.\n",
      " |      \n",
      " |      The string whose method is called is inserted in between each given string.\n",
      " |      The result is returned as a new string.\n",
      " |      \n",
      " |      Example: '.'.join(['ab', 'pq', 'rs']) -> 'ab.pq.rs'\n",
      " |  \n",
      " |  ljust(self, width, fillchar=' ', /)\n",
      " |      Return a left-justified string of length width.\n",
      " |      \n",
      " |      Padding is done using the specified fill character (default is a space).\n",
      " |  \n",
      " |  lower(self, /)\n",
      " |      Return a copy of the string converted to lowercase.\n",
      " |  \n",
      " |  lstrip(self, chars=None, /)\n",
      " |      Return a copy of the string with leading whitespace removed.\n",
      " |      \n",
      " |      If chars is given and not None, remove characters in chars instead.\n",
      " |  \n",
      " |  partition(self, sep, /)\n",
      " |      Partition the string into three parts using the given separator.\n",
      " |      \n",
      " |      This will search for the separator in the string.  If the separator is found,\n",
      " |      returns a 3-tuple containing the part before the separator, the separator\n",
      " |      itself, and the part after it.\n",
      " |      \n",
      " |      If the separator is not found, returns a 3-tuple containing the original string\n",
      " |      and two empty strings.\n",
      " |  \n",
      " |  removeprefix(self, prefix, /)\n",
      " |      Return a str with the given prefix string removed if present.\n",
      " |      \n",
      " |      If the string starts with the prefix string, return string[len(prefix):].\n",
      " |      Otherwise, return a copy of the original string.\n",
      " |  \n",
      " |  removesuffix(self, suffix, /)\n",
      " |      Return a str with the given suffix string removed if present.\n",
      " |      \n",
      " |      If the string ends with the suffix string and that suffix is not empty,\n",
      " |      return string[:-len(suffix)]. Otherwise, return a copy of the original\n",
      " |      string.\n",
      " |  \n",
      " |  replace(self, old, new, count=-1, /)\n",
      " |      Return a copy with all occurrences of substring old replaced by new.\n",
      " |      \n",
      " |        count\n",
      " |          Maximum number of occurrences to replace.\n",
      " |          -1 (the default value) means replace all occurrences.\n",
      " |      \n",
      " |      If the optional argument count is given, only the first count occurrences are\n",
      " |      replaced.\n",
      " |  \n",
      " |  rfind(...)\n",
      " |      S.rfind(sub[, start[, end]]) -> int\n",
      " |      \n",
      " |      Return the highest index in S where substring sub is found,\n",
      " |      such that sub is contained within S[start:end].  Optional\n",
      " |      arguments start and end are interpreted as in slice notation.\n",
      " |      \n",
      " |      Return -1 on failure.\n",
      " |  \n",
      " |  rindex(...)\n",
      " |      S.rindex(sub[, start[, end]]) -> int\n",
      " |      \n",
      " |      Return the highest index in S where substring sub is found,\n",
      " |      such that sub is contained within S[start:end].  Optional\n",
      " |      arguments start and end are interpreted as in slice notation.\n",
      " |      \n",
      " |      Raises ValueError when the substring is not found.\n",
      " |  \n",
      " |  rjust(self, width, fillchar=' ', /)\n",
      " |      Return a right-justified string of length width.\n",
      " |      \n",
      " |      Padding is done using the specified fill character (default is a space).\n",
      " |  \n",
      " |  rpartition(self, sep, /)\n",
      " |      Partition the string into three parts using the given separator.\n",
      " |      \n",
      " |      This will search for the separator in the string, starting at the end. If\n",
      " |      the separator is found, returns a 3-tuple containing the part before the\n",
      " |      separator, the separator itself, and the part after it.\n",
      " |      \n",
      " |      If the separator is not found, returns a 3-tuple containing two empty strings\n",
      " |      and the original string.\n",
      " |  \n",
      " |  rsplit(self, /, sep=None, maxsplit=-1)\n",
      " |      Return a list of the substrings in the string, using sep as the separator string.\n",
      " |      \n",
      " |        sep\n",
      " |          The separator used to split the string.\n",
      " |      \n",
      " |          When set to None (the default value), will split on any whitespace\n",
      " |          character (including \\\\n \\\\r \\\\t \\\\f and spaces) and will discard\n",
      " |          empty strings from the result.\n",
      " |        maxsplit\n",
      " |          Maximum number of splits (starting from the left).\n",
      " |          -1 (the default value) means no limit.\n",
      " |      \n",
      " |      Splitting starts at the end of the string and works to the front.\n",
      " |  \n",
      " |  rstrip(self, chars=None, /)\n",
      " |      Return a copy of the string with trailing whitespace removed.\n",
      " |      \n",
      " |      If chars is given and not None, remove characters in chars instead.\n",
      " |  \n",
      " |  split(self, /, sep=None, maxsplit=-1)\n",
      " |      Return a list of the substrings in the string, using sep as the separator string.\n",
      " |      \n",
      " |        sep\n",
      " |          The separator used to split the string.\n",
      " |      \n",
      " |          When set to None (the default value), will split on any whitespace\n",
      " |          character (including \\\\n \\\\r \\\\t \\\\f and spaces) and will discard\n",
      " |          empty strings from the result.\n",
      " |        maxsplit\n",
      " |          Maximum number of splits (starting from the left).\n",
      " |          -1 (the default value) means no limit.\n",
      " |      \n",
      " |      Note, str.split() is mainly useful for data that has been intentionally\n",
      " |      delimited.  With natural text that includes punctuation, consider using\n",
      " |      the regular expression module.\n",
      " |  \n",
      " |  splitlines(self, /, keepends=False)\n",
      " |      Return a list of the lines in the string, breaking at line boundaries.\n",
      " |      \n",
      " |      Line breaks are not included in the resulting list unless keepends is given and\n",
      " |      true.\n",
      " |  \n",
      " |  startswith(...)\n",
      " |      S.startswith(prefix[, start[, end]]) -> bool\n",
      " |      \n",
      " |      Return True if S starts with the specified prefix, False otherwise.\n",
      " |      With optional start, test S beginning at that position.\n",
      " |      With optional end, stop comparing S at that position.\n",
      " |      prefix can also be a tuple of strings to try.\n",
      " |  \n",
      " |  strip(self, chars=None, /)\n",
      " |      Return a copy of the string with leading and trailing whitespace removed.\n",
      " |      \n",
      " |      If chars is given and not None, remove characters in chars instead.\n",
      " |  \n",
      " |  swapcase(self, /)\n",
      " |      Convert uppercase characters to lowercase and lowercase characters to uppercase.\n",
      " |  \n",
      " |  title(self, /)\n",
      " |      Return a version of the string where each word is titlecased.\n",
      " |      \n",
      " |      More specifically, words start with uppercased characters and all remaining\n",
      " |      cased characters have lower case.\n",
      " |  \n",
      " |  translate(self, table, /)\n",
      " |      Replace each character in the string using the given translation table.\n",
      " |      \n",
      " |        table\n",
      " |          Translation table, which must be a mapping of Unicode ordinals to\n",
      " |          Unicode ordinals, strings, or None.\n",
      " |      \n",
      " |      The table must implement lookup/indexing via __getitem__, for instance a\n",
      " |      dictionary or list.  If this operation raises LookupError, the character is\n",
      " |      left untouched.  Characters mapped to None are deleted.\n",
      " |  \n",
      " |  upper(self, /)\n",
      " |      Return a copy of the string converted to uppercase.\n",
      " |  \n",
      " |  zfill(self, width, /)\n",
      " |      Pad a numeric string with zeros on the left, to fill a field of the given width.\n",
      " |      \n",
      " |      The string is never truncated.\n",
      " |  \n",
      " |  ----------------------------------------------------------------------\n",
      " |  Static methods defined here:\n",
      " |  \n",
      " |  __new__(*args, **kwargs) from builtins.type\n",
      " |      Create and return a new object.  See help(type) for accurate signature.\n",
      " |  \n",
      " |  maketrans(...)\n",
      " |      Return a translation table usable for str.translate().\n",
      " |      \n",
      " |      If there is only one argument, it must be a dictionary mapping Unicode\n",
      " |      ordinals (integers) or characters to Unicode ordinals, strings or None.\n",
      " |      Character keys will be then converted to ordinals.\n",
      " |      If there are two arguments, they must be strings of equal length, and\n",
      " |      in the resulting dictionary, each character in x will be mapped to the\n",
      " |      character at the same position in y. If there is a third argument, it\n",
      " |      must be a string, whose characters will be mapped to None in the result.\n",
      "\n"
     ]
    }
   ],
   "source": [
    "help(str)"
   ]
  },
  {
   "cell_type": "code",
   "execution_count": 30,
   "id": "aa48555d-e094-400f-8ebd-115a068f0709",
   "metadata": {},
   "outputs": [
    {
     "data": {
      "text/plain": [
       "['__add__',\n",
       " '__class__',\n",
       " '__contains__',\n",
       " '__delattr__',\n",
       " '__dir__',\n",
       " '__doc__',\n",
       " '__eq__',\n",
       " '__format__',\n",
       " '__ge__',\n",
       " '__getattribute__',\n",
       " '__getitem__',\n",
       " '__getnewargs__',\n",
       " '__gt__',\n",
       " '__hash__',\n",
       " '__init__',\n",
       " '__init_subclass__',\n",
       " '__iter__',\n",
       " '__le__',\n",
       " '__len__',\n",
       " '__lt__',\n",
       " '__mod__',\n",
       " '__mul__',\n",
       " '__ne__',\n",
       " '__new__',\n",
       " '__reduce__',\n",
       " '__reduce_ex__',\n",
       " '__repr__',\n",
       " '__rmod__',\n",
       " '__rmul__',\n",
       " '__setattr__',\n",
       " '__sizeof__',\n",
       " '__str__',\n",
       " '__subclasshook__',\n",
       " 'capitalize',\n",
       " 'casefold',\n",
       " 'center',\n",
       " 'count',\n",
       " 'encode',\n",
       " 'endswith',\n",
       " 'expandtabs',\n",
       " 'find',\n",
       " 'format',\n",
       " 'format_map',\n",
       " 'index',\n",
       " 'isalnum',\n",
       " 'isalpha',\n",
       " 'isascii',\n",
       " 'isdecimal',\n",
       " 'isdigit',\n",
       " 'isidentifier',\n",
       " 'islower',\n",
       " 'isnumeric',\n",
       " 'isprintable',\n",
       " 'isspace',\n",
       " 'istitle',\n",
       " 'isupper',\n",
       " 'join',\n",
       " 'ljust',\n",
       " 'lower',\n",
       " 'lstrip',\n",
       " 'maketrans',\n",
       " 'partition',\n",
       " 'removeprefix',\n",
       " 'removesuffix',\n",
       " 'replace',\n",
       " 'rfind',\n",
       " 'rindex',\n",
       " 'rjust',\n",
       " 'rpartition',\n",
       " 'rsplit',\n",
       " 'rstrip',\n",
       " 'split',\n",
       " 'splitlines',\n",
       " 'startswith',\n",
       " 'strip',\n",
       " 'swapcase',\n",
       " 'title',\n",
       " 'translate',\n",
       " 'upper',\n",
       " 'zfill']"
      ]
     },
     "execution_count": 30,
     "metadata": {},
     "output_type": "execute_result"
    }
   ],
   "source": [
    "dir(str)"
   ]
  },
  {
   "cell_type": "markdown",
   "id": "ac541c97-618d-4cbc-8760-e9a140c78345",
   "metadata": {},
   "source": [
    "可以查看该函数的使用方法包括 需要的参数 和 返回值"
   ]
  },
  {
   "cell_type": "code",
   "execution_count": 31,
   "id": "fc8ba856-d11b-4285-a541-7fb347734dad",
   "metadata": {
    "scrolled": true
   },
   "outputs": [
    {
     "data": {
      "text/plain": [
       "['__add__',\n",
       " '__class__',\n",
       " '__contains__',\n",
       " '__delattr__',\n",
       " '__dir__',\n",
       " '__doc__',\n",
       " '__eq__',\n",
       " '__format__',\n",
       " '__ge__',\n",
       " '__getattribute__',\n",
       " '__getitem__',\n",
       " '__getnewargs__',\n",
       " '__gt__',\n",
       " '__hash__',\n",
       " '__init__',\n",
       " '__init_subclass__',\n",
       " '__iter__',\n",
       " '__le__',\n",
       " '__len__',\n",
       " '__lt__',\n",
       " '__mod__',\n",
       " '__mul__',\n",
       " '__ne__',\n",
       " '__new__',\n",
       " '__reduce__',\n",
       " '__reduce_ex__',\n",
       " '__repr__',\n",
       " '__rmod__',\n",
       " '__rmul__',\n",
       " '__setattr__',\n",
       " '__sizeof__',\n",
       " '__str__',\n",
       " '__subclasshook__',\n",
       " 'capitalize',\n",
       " 'casefold',\n",
       " 'center',\n",
       " 'count',\n",
       " 'encode',\n",
       " 'endswith',\n",
       " 'expandtabs',\n",
       " 'find',\n",
       " 'format',\n",
       " 'format_map',\n",
       " 'index',\n",
       " 'isalnum',\n",
       " 'isalpha',\n",
       " 'isascii',\n",
       " 'isdecimal',\n",
       " 'isdigit',\n",
       " 'isidentifier',\n",
       " 'islower',\n",
       " 'isnumeric',\n",
       " 'isprintable',\n",
       " 'isspace',\n",
       " 'istitle',\n",
       " 'isupper',\n",
       " 'join',\n",
       " 'ljust',\n",
       " 'lower',\n",
       " 'lstrip',\n",
       " 'maketrans',\n",
       " 'partition',\n",
       " 'removeprefix',\n",
       " 'removesuffix',\n",
       " 'replace',\n",
       " 'rfind',\n",
       " 'rindex',\n",
       " 'rjust',\n",
       " 'rpartition',\n",
       " 'rsplit',\n",
       " 'rstrip',\n",
       " 'split',\n",
       " 'splitlines',\n",
       " 'startswith',\n",
       " 'strip',\n",
       " 'swapcase',\n",
       " 'title',\n",
       " 'translate',\n",
       " 'upper',\n",
       " 'zfill']"
      ]
     },
     "execution_count": 31,
     "metadata": {},
     "output_type": "execute_result"
    }
   ],
   "source": [
    "dir(str)"
   ]
  },
  {
   "cell_type": "markdown",
   "id": "4d615a51-d015-4160-874c-09d088fbe94f",
   "metadata": {},
   "source": [
    "简述：简述 any() 和 all() 方法"
   ]
  },
  {
   "cell_type": "markdown",
   "id": "01f9714a-2107-4956-8982-41ffb9ee4004",
   "metadata": {},
   "source": [
    "只要迭代器中有一个元素为真就为真"
   ]
  },
  {
   "cell_type": "code",
   "execution_count": 32,
   "id": "e1b58bb6-e759-4d7a-aede-1bcdcaf826ae",
   "metadata": {},
   "outputs": [
    {
     "data": {
      "text/plain": [
       "True"
      ]
     },
     "execution_count": 32,
     "metadata": {},
     "output_type": "execute_result"
    }
   ],
   "source": [
    "any((1,2,3,4,False))"
   ]
  },
  {
   "cell_type": "markdown",
   "id": "07b17529-789f-4df2-a340-aeb410f36252",
   "metadata": {},
   "source": [
    "迭代器中所有的判断项返回都是真，结果才为真"
   ]
  },
  {
   "cell_type": "code",
   "execution_count": 33,
   "id": "01d9b652-f90d-489c-ac70-0e39c4a3fde2",
   "metadata": {},
   "outputs": [
    {
     "data": {
      "text/plain": [
       "False"
      ]
     },
     "execution_count": 33,
     "metadata": {},
     "output_type": "execute_result"
    }
   ],
   "source": [
    "all((1,2,3,4,False))"
   ]
  },
  {
   "cell_type": "markdown",
   "id": "a310986c-3489-4306-938e-3ef3b36d33dc",
   "metadata": {},
   "source": [
    "### Python 中的四种内置函数"
   ]
  },
  {
   "cell_type": "markdown",
   "id": "4a2f3fa6-d43f-43b5-b1aa-c3e903b78026",
   "metadata": {},
   "source": [
    "map: map(func, li) 函数的用法：将函数作用于列表中的每个值"
   ]
  },
  {
   "cell_type": "markdown",
   "id": "75969fc3",
   "metadata": {},
   "source": [
    "返回一个可迭代的对象，需用 list 转换 [1,4,9]"
   ]
  },
  {
   "cell_type": "code",
   "execution_count": 34,
   "id": "a764851c-30b8-48fe-8ccf-78d57bbd5551",
   "metadata": {},
   "outputs": [
    {
     "data": {
      "text/plain": [
       "[1, 4, 9]"
      ]
     },
     "execution_count": 34,
     "metadata": {},
     "output_type": "execute_result"
    }
   ],
   "source": [
    "li = map(lambda x:x*x,[1,2,3]); li = list(li)\n",
    "li\n"
   ]
  },
  {
   "cell_type": "markdown",
   "id": "d855a219-4be9-406d-b666-c20e65e623ac",
   "metadata": {},
   "source": [
    "可两个函数一起使用，和上式效果相同, 底下的方式是错误的"
   ]
  },
  {
   "cell_type": "code",
   "execution_count": 35,
   "id": "6000f429-1e03-4271-8a62-a96629ee53fb",
   "metadata": {},
   "outputs": [],
   "source": [
    "ll = map(list, map(lambda x: x * x, [1, 2, 3]))\n"
   ]
  },
  {
   "cell_type": "markdown",
   "id": "c559d053",
   "metadata": {},
   "source": [
    "zip(li,li) 函数的用法：将两个参数的值一一对应成元组，返回一个可迭代对象"
   ]
  },
  {
   "cell_type": "code",
   "execution_count": 36,
   "id": "56fcdb91",
   "metadata": {},
   "outputs": [
    {
     "name": "stdout",
     "output_type": "stream",
     "text": [
      "[(1, 4), (2, 5), (3, 6)]\n",
      "{1: 4, 2: 5, 3: 6}\n"
     ]
    }
   ],
   "source": [
    "tup = list(zip([1, 2, 3], [4, 5, 6]))\n",
    "print(tup)\n",
    "\n",
    "tup = dict(zip([1, 2, 3], [4, 5, 6]))\n",
    "print(tup)"
   ]
  },
  {
   "cell_type": "markdown",
   "id": "d3aa9014",
   "metadata": {},
   "source": [
    "`filter(func, li)` 函数的用法：和 map 函数类似，不过只有返回 True 的值会被保留"
   ]
  },
  {
   "cell_type": "code",
   "execution_count": 37,
   "id": "2db7a781",
   "metadata": {},
   "outputs": [
    {
     "data": {
      "text/plain": [
       "[1, 3, 5, 7, 9]"
      ]
     },
     "execution_count": 37,
     "metadata": {},
     "output_type": "execute_result"
    }
   ],
   "source": [
    "li = list(filter(lambda x: x % 2, range(10)))\n",
    "li "
   ]
  },
  {
   "cell_type": "markdown",
   "id": "79b3629a",
   "metadata": {},
   "source": [
    "`reduce(func, li)` 函数的用法：唯一可以使用两个参数的函数"
   ]
  },
  {
   "cell_type": "code",
   "execution_count": 38,
   "id": "aef5da9c",
   "metadata": {},
   "outputs": [
    {
     "name": "stdout",
     "output_type": "stream",
     "text": [
      "15\n"
     ]
    }
   ],
   "source": [
    "import functools\n",
    "num = functools.reduce(lambda x,y:x+y,[1,2,3,4,5])\n",
    "print(num)"
   ]
  },
  {
   "cell_type": "markdown",
   "id": "b075a0ad",
   "metadata": {},
   "source": [
    "### 二进制函数"
   ]
  },
  {
   "cell_type": "code",
   "execution_count": 39,
   "id": "5de6d510",
   "metadata": {},
   "outputs": [
    {
     "name": "stdout",
     "output_type": "stream",
     "text": [
      "5e-3241e-3232.5e-3235e-3231e-3222e-3223.95e-3227.9e-3221.58e-3213.16e-3216.324e-3211.265e-3202.5296e-3205.059e-3201.01185e-3192.0237e-3194.0474e-3198.09477e-3191.618954e-3183.23791e-3186.475817e-3181.2951634e-3172.590327e-3175.180654e-3171.03613076e-3162.0722615e-3164.14452303e-3168.28904606e-3161.65780921e-3153.315618423e-3156.631236847e-3151.3262473694e-3142.6524947387e-3145.3049894774e-3141.0609978955e-3132.12199579097e-3134.24399158193e-3138.48798316386e-3131.69759663277e-3123.395193265544e-3126.79038653109e-3121.358077306218e-3112.7161546124355e-3115.432309224871e-3111.0864618449742e-3102.17292368994844e-3104.3458473798969e-3108.69169475979376e-3101.73833895195875e-3093.4766779039175e-3096.953355807835004e-3091.390671161567001e-3082.7813423231340017e-3085.562684646268003e-3081.1125369292536007e-3072.2250738585072014e-3074.450147717014403e-3078.900295434028806e-3071.780059086805761e-3063.560118173611522e-3067.120236347223044e-3061.424047269444609e-3052.848094538889218e-3055.696189077778436e-3051.1392378155556871e-3042.2784756311113742e-3044.5569512622227484e-3049.113902524445497e-3041.8227805048890994e-3033.645561009778199e-3037.291122019556397e-3031.4582244039112795e-3022.916448807822559e-3025.832897615645118e-3021.1665795231290236e-3012.333159046258047e-3014.666318092516094e-3019.332636185032189e-3011.8665272370064378e-3003.7330544740128755e-3007.466108948025751e-3001.4932217896051502e-2992.9864435792103004e-2995.972887158420601e-2991.1945774316841202e-2982.3891548633682403e-2984.778309726736481e-2989.556619453472961e-2981.9113238906945923e-2973.8226477813891845e-2977.645295562778369e-2971.5290591125556738e-2963.0581182251113476e-2966.116236450222695e-2961.223247290044539e-2952.446494580089078e-2954.892989160178156e-2959.785978320356312e-2951.9571956640712625e-2943.914391328142525e-2947.82878265628505e-2941.56575653125701e-2933.13151306251402e-2936.26302612502804e-2931.252605225005608e-2922.505210450011216e-2925.010420900022432e-2921.0020841800044864e-2912.0041683600089728e-2914.0083367200179456e-2918.016673440035891e-2911.6033346880071782e-2903.2066693760143564e-2906.413338752028713e-2901.2826677504057426e-2892.565335500811485e-2895.13067100162297e-2891.026134200324594e-2882.052268400649188e-2884.104536801298376e-2888.209073602596752e-2881.6418147205193505e-2873.283629441038701e-2876.567258882077402e-2871.3134517764154804e-2862.626903552830961e-2865.253807105661922e-2861.0507614211323843e-2852.1015228422647686e-2854.203045684529537e-2858.406091369059075e-2851.681218273811815e-2843.36243654762363e-2846.72487309524726e-2841.344974619049452e-2832.689949238098904e-2835.379898476197808e-2831.0759796952395615e-2822.151959390479123e-2824.303918780958246e-2828.607837561916492e-2821.7215675123832985e-2813.443135024766597e-2816.886270049533194e-2811.3772540099066388e-2802.7545080198132776e-2805.509016039626555e-2801.101803207925311e-2792.203606415850622e-2794.407212831701244e-2798.814425663402488e-2791.7628851326804976e-2783.525770265360995e-2787.05154053072199e-2781.410308106144398e-2772.820616212288796e-2775.641232424577592e-2771.1282464849155185e-2762.256492969831037e-2764.512985939662074e-2769.025971879324148e-2761.8051943758648296e-2753.610388751729659e-2757.220777503459318e-2751.4441555006918637e-2742.8883110013837273e-2745.776622002767455e-2741.155324400553491e-2732.310648801106982e-2734.621297602213964e-2739.242595204427927e-2731.8485190408855855e-2723.697038081771171e-2727.394076163542342e-2721.4788152327084684e-2712.957630465416937e-2715.915260930833874e-2711.1830521861667747e-2702.3661043723335494e-2704.732208744667099e-2709.464417489334198e-2701.8928834978668395e-2693.785766995733679e-2697.571533991467358e-2691.5143067982934716e-2683.028613596586943e-2686.057227193173887e-2681.2114454386347773e-2672.4228908772695546e-2674.845781754539109e-2679.691563509078218e-2671.9383127018156437e-2663.8766254036312874e-2667.753250807262575e-2661.550650161452515e-2653.10130032290503e-2656.20260064581006e-2651.240520129162012e-2642.481040258324024e-2644.962080516648048e-2649.924161033296096e-2641.984832206659219e-2633.969664413318438e-2637.939328826636877e-2631.5878657653273753e-2623.1757315306547506e-2626.351463061309501e-2621.2702926122619002e-2612.5405852245238005e-2615.081170449047601e-2611.0162340898095202e-2602.0324681796190404e-2604.064936359238081e-2608.129872718476162e-2601.6259745436952323e-2593.2519490873904646e-2596.503898174780929e-2591.3007796349561859e-2582.6015592699123717e-2585.203118539824743e-2581.0406237079649487e-2572.0812474159298974e-2574.162494831859795e-2578.32498966371959e-2571.664997932743918e-2563.329995865487836e-2566.659991730975672e-2561.3319983461951343e-2552.6639966923902686e-2555.327993384780537e-2551.0655986769561075e-2542.131197353912215e-2544.26239470782443e-2548.52478941564886e-2541.704957883129772e-2533.409915766259544e-2536.819831532519088e-2531.3639663065038175e-2522.727932613007635e-2525.45586522601527e-2521.091173045203054e-2512.182346090406108e-2514.364692180812216e-2518.729384361624432e-2511.7458768723248864e-2503.491753744649773e-2506.983507489299546e-2501.3967014978599092e-2492.7934029957198183e-2495.586805991439637e-2491.1173611982879273e-2482.2347223965758547e-2484.469444793151709e-2488.938889586303419e-2481.7877779172606837e-2473.5755558345213674e-2477.151111669042735e-2471.430222333808547e-2462.860444667617094e-2465.720889335234188e-2461.1441778670468376e-2452.288355734093675e-2454.57671146818735e-2459.1534229363747e-2451.83068458727494e-2443.66136917454988e-2447.32273834909976e-2441.464547669819952e-2432.929095339639904e-2435.858190679279808e-2431.1716381358559617e-2422.3432762717119234e-2424.686552543423847e-2429.373105086847693e-2421.8746210173695387e-2413.7492420347390774e-2417.498484069478155e-2411.499696813895631e-2402.999393627791262e-2405.998787255582524e-2401.1997574511165048e-2392.3995149022330095e-2394.799029804466019e-2399.598059608932038e-2391.9196119217864076e-2383.839223843572815e-2387.67844768714563e-2381.535689537429126e-2373.071379074858252e-2376.142758149716504e-2371.2285516299433009e-2362.4571032598866018e-2364.9142065197732035e-2369.828413039546407e-2361.9656826079092814e-2353.931365215818563e-2357.862730431637126e-2351.572546086327425e-2343.14509217265485e-2346.2901843453097e-2341.25803686906194e-2332.51607373812388e-2335.03214747624776e-2331.006429495249552e-2322.012858990499104e-2324.025717980998208e-2328.051435961996417e-2321.6102871923992833e-2313.2205743847985667e-2316.441148769597133e-2311.2882297539194267e-2302.5764595078388533e-2305.152919015677707e-2301.0305838031355413e-2292.0611676062710827e-2294.122335212542165e-2298.24467042508433e-2291.648934085016866e-2283.297868170033732e-2286.595736340067465e-2281.319147268013493e-2272.638294536026986e-2275.276589072053972e-2271.0553178144107943e-2262.1106356288215886e-2264.221271257643177e-2268.442542515286355e-2261.688508503057271e-2253.377017006114542e-2256.754034012229084e-2251.3508068024458167e-2242.7016136048916335e-2245.403227209783267e-2241.0806454419566534e-2232.1612908839133068e-2234.3225817678266135e-2238.645163535653227e-2231.7290327071306454e-2223.458065414261291e-2226.916130828522582e-2221.3832261657045163e-2212.7664523314090327e-2215.532904662818065e-2211.106580932563613e-2202.213161865127226e-2204.426323730254452e-2208.852647460508905e-2201.770529492101781e-2193.541058984203562e-2197.082117968407124e-2191.4164235936814247e-2182.8328471873628494e-2185.665694374725699e-2181.1331388749451398e-2172.2662777498902796e-2174.532555499780559e-2179.065110999561118e-2171.8130221999122236e-2163.626044399824447e-2167.252088799648895e-2161.450417759929779e-2152.900835519859558e-2155.801671039719116e-2151.1603342079438231e-2142.3206684158876463e-2144.6413368317752925e-2149.282673663550585e-2141.856534732710117e-2133.713069465420234e-2137.426138930840468e-2131.4852277861680936e-2122.970455572336187e-2125.940911144672374e-2121.1881822289344749e-2112.3763644578689498e-2114.7527289157378996e-2119.505457831475799e-2111.9010915662951598e-2103.8021831325903196e-2107.604366265180639e-2101.5208732530361279e-2093.0417465060722557e-2096.083493012144511e-2091.2166986024289023e-2082.4333972048578046e-2084.866794409715609e-2089.733588819431218e-2081.9467177638862437e-2073.893435527772487e-2077.786871055544975e-2071.557374211108995e-2063.11474842221799e-2066.22949684443598e-2061.245899368887196e-2052.491798737774392e-2054.983597475548784e-2059.967194951097568e-2051.9934389902195135e-2043.986877980439027e-2047.973755960878054e-2041.5947511921756108e-2033.1895023843512216e-2036.379004768702443e-2031.2758009537404886e-2022.5516019074809773e-2025.103203814961955e-2021.020640762992391e-2012.041281525984782e-2014.082563051969564e-2018.165126103939127e-2011.6330252207878255e-2003.266050441575651e-2006.532100883151302e-2001.3064201766302604e-1992.6128403532605207e-1995.2256807065210415e-1991.0451361413042083e-1982.0902722826084166e-1984.180544565216833e-1988.361089130433666e-1981.6722178260867333e-1973.3444356521734666e-1976.688871304346933e-1971.3377742608693866e-1962.6755485217387732e-1965.3510970434775465e-1961.0702194086955093e-1952.1404388173910186e-1954.280877634782037e-1958.561755269564074e-1951.712351053912815e-1943.42470210782563e-1946.84940421565126e-1941.369880843130252e-1932.739761686260504e-1935.479523372521008e-1931.0959046745042015e-1922.191809349008403e-1924.383618698016806e-1928.767237396033612e-1921.7534474792067224e-1913.506894958413445e-1917.01378991682689e-1911.402757983365378e-1902.805515966730756e-1905.611031933461512e-1901.1222063866923024e-1892.2444127733846047e-1894.4888255467692094e-1898.977651093538419e-1891.7955302187076838e-1883.5910604374153675e-1887.182120874830735e-1881.436424174966147e-1872.872848349932294e-1875.745696699864588e-1871.1491393399729176e-1862.2982786799458352e-1864.5965573598916705e-1869.193114719783341e-1861.8386229439566682e-1853.6772458879133364e-1857.354491775826673e-1851.4708983551653345e-1842.941796710330669e-1845.883593420661338e-1841.1767186841322676e-1832.3534373682645353e-1834.7068747365290705e-1839.413749473058141e-1831.8827498946116282e-1823.7654997892232564e-1827.530999578446513e-1821.5061999156893026e-1813.012399831378605e-1816.02479966275721e-1811.204959932551442e-1802.409919865102884e-1804.819839730205768e-1809.639679460411536e-1801.9279358920823073e-1793.8558717841646146e-1797.711743568329229e-1791.5423487136658458e-1783.0846974273316917e-1786.169394854663383e-1781.2338789709326767e-1772.4677579418653533e-1774.935515883730707e-1779.871031767461413e-1771.9742063534922827e-1763.948412706984565e-1767.89682541396913e-1761.579365082793826e-1753.158730165587652e-1756.317460331175305e-1751.263492066235061e-1742.526984132470122e-1745.053968264940244e-1741.0107936529880487e-1732.0215873059760975e-1734.043174611952195e-1738.08634922390439e-1731.617269844780878e-1723.234539689561756e-1726.469079379123512e-1721.2938158758247024e-1712.5876317516494047e-1715.1752635032988095e-1711.0350527006597619e-1702.0701054013195238e-1704.1402108026390476e-1708.280421605278095e-1701.656084321055619e-1693.312168642111238e-1696.624337284222476e-1691.3248674568444952e-1682.6497349136889905e-1685.299469827377981e-1681.0598939654755962e-1672.1197879309511924e-1674.239575861902385e-1678.47915172380477e-1671.695830344760954e-1663.391660689521908e-1666.783321379043816e-1661.356664275808763e-1652.713328551617526e-1655.426657103235052e-1651.0853314206470105e-1642.170662841294021e-1644.341325682588042e-1648.682651365176084e-1641.7365302730352168e-1633.4730605460704336e-1636.946121092140867e-1631.3892242184281734e-1622.778448436856347e-1625.556896873712694e-1621.1113793747425387e-1612.2227587494850775e-1614.445517498970155e-1618.89103499794031e-1611.778206999588062e-1603.556413999176124e-1607.112827998352248e-1601.4225655996704496e-1592.845131199340899e-1595.690262398681798e-1591.1380524797363597e-1582.2761049594727193e-1584.552209918945439e-1589.104419837890877e-1581.8208839675781755e-1573.641767935156351e-1577.283535870312702e-1571.4567071740625404e-1562.913414348125081e-1565.826828696250162e-1561.1653657392500323e-1552.3307314785000646e-1554.661462957000129e-1559.322925914000258e-1551.8645851828000517e-1543.7291703656001034e-1547.458340731200207e-1541.4916681462400413e-1532.9833362924800827e-1535.966672584960165e-1531.193334516992033e-1522.386669033984066e-1524.773338067968132e-1529.546676135936265e-1521.909335227187253e-1513.818670454374506e-1517.637340908749012e-1511.5274681817498023e-1503.0549363634996047e-1506.109872726999209e-1501.2219745453998419e-1492.4439490907996837e-1494.8878981815993675e-1499.775796363198735e-1491.955159272639747e-1483.910318545279494e-1487.820637090558988e-1481.5641274181117976e-1473.128254836223595e-1476.25650967244719e-1471.251301934489438e-1462.502603868978876e-1465.005207737957752e-1461.0010415475915505e-1452.002083095183101e-1454.004166190366202e-1458.008332380732404e-1451.6016664761464807e-1443.2033329522929615e-1446.406665904585923e-1441.2813331809171846e-1432.562666361834369e-1435.125332723668738e-1431.0250665447337477e-1422.0501330894674953e-1424.100266178934991e-1428.200532357869981e-1421.6401064715739963e-1413.2802129431479926e-1416.560425886295985e-1411.312085177259197e-1402.624170354518394e-1405.248340709036788e-1401.0496681418073576e-1392.0993362836147152e-1394.1986725672294305e-1398.397345134458861e-1391.6794690268917722e-1383.3589380537835444e-1386.717876107567089e-1381.3435752215134178e-1372.6871504430268355e-1375.374300886053671e-1371.0748601772107342e-1362.1497203544214684e-1364.299440708842937e-1368.598881417685874e-1361.7197762835371747e-1353.4395525670743494e-1356.879105134148699e-1351.3758210268297398e-1342.7516420536594796e-1345.503284107318959e-1341.1006568214637918e-1332.2013136429275836e-1334.402627285855167e-1338.805254571710335e-1331.761050914342067e-1323.522101828684134e-1327.044203657368268e-1321.4088407314736535e-1312.817681462947307e-1315.635362925894614e-1311.1270725851789228e-1302.2541451703578456e-1304.508290340715691e-1309.016580681431383e-1301.8033161362862765e-1293.606632272572553e-1297.213264545145106e-1291.4426529090290212e-1282.8853058180580424e-1285.770611636116085e-1281.154122327223217e-1272.308244654446434e-1274.616489308892868e-1279.232978617785736e-1271.846595723557147e-1263.693191447114294e-1267.386382894228589e-1261.4772765788457177e-1252.9545531576914354e-1255.909106315382871e-1251.1818212630765742e-1242.3636425261531484e-1244.727285052306297e-1249.454570104612593e-1241.8909140209225187e-1233.7818280418450374e-1237.563656083690075e-1231.512731216738015e-1223.02546243347603e-1226.05092486695206e-1221.210184973390412e-1212.420369946780824e-1214.840739893561648e-1219.681479787123296e-1211.936295957424659e-1203.872591914849318e-1207.745183829698637e-1201.5490367659397273e-1193.0980735318794546e-1196.196147063758909e-1191.2392294127517818e-1182.4784588255035637e-1184.956917651007127e-1189.913835302014255e-1181.982767060402851e-1173.965534120805702e-1177.931068241611404e-1171.5862136483222808e-1163.1724272966445615e-1166.344854593289123e-1161.2689709186578246e-1152.537941837315649e-1155.075883674631298e-1151.0151767349262597e-1142.0303534698525194e-1144.060706939705039e-1148.121413879410078e-1141.6242827758820155e-1133.248565551764031e-1136.497131103528062e-1131.2994262207056124e-1122.598852441411225e-1125.19770488282245e-1121.03954097656449e-1112.07908195312898e-1114.15816390625796e-1118.31632781251592e-1111.663265562503184e-1103.326531125006368e-1106.653062250012735e-1101.330612450002547e-1092.661224900005094e-1095.322449800010188e-1091.0644899600020377e-1082.1289799200040754e-1084.257959840008151e-1088.515919680016301e-1081.7031839360032603e-1073.4063678720065206e-1076.812735744013041e-1071.3625471488026082e-1062.7250942976052165e-1065.450188595210433e-1061.0900377190420866e-1052.180075438084173e-1054.360150876168346e-1058.720301752336693e-1051.7440603504673385e-1043.488120700934677e-1046.976241401869354e-1041.3952482803738708e-1032.7904965607477417e-1035.580993121495483e-1031.1161986242990967e-1022.2323972485981933e-1024.464794497196387e-1028.929588994392773e-1021.7859177988785547e-1013.5718355977571093e-1017.143671195514219e-1011.4287342391028437e-1002.8574684782056875e-1005.714936956411375e-1001.142987391282275e-992.28597478256455e-994.5719495651291e-999.1438991302582e-991.82877982605164e-983.65755965210328e-987.31511930420656e-981.463023860841312e-972.926047721682624e-975.852095443365248e-971.1704190886730496e-962.340838177346099e-964.681676354692198e-969.363352709384397e-961.8726705418768793e-953.7453410837537587e-957.490682167507517e-951.4981364335015035e-942.996272867003007e-945.992545734006014e-941.1985091468012028e-932.3970182936024055e-934.794036587204811e-939.588073174409622e-931.9176146348819244e-923.835229269763849e-927.670458539527698e-921.5340917079055395e-913.068183415811079e-916.136366831622158e-911.2272733663244316e-902.4545467326488633e-904.9090934652977266e-909.818186930595453e-901.9636373861190906e-893.927274772238181e-897.854549544476362e-891.5709099088952725e-883.141819817790545e-886.28363963558109e-881.256727927116218e-872.513455854232436e-875.026911708464872e-871.0053823416929744e-862.0107646833859488e-864.0215293667718976e-868.043058733543795e-861.608611746708759e-853.217223493417518e-856.434446986835036e-851.2868893973670072e-842.5737787947340145e-845.147557589468029e-841.0295115178936058e-832.0590230357872116e-834.118046071574423e-838.236092143148846e-831.6472184286297693e-823.2944368572595385e-826.588873714519077e-821.3177747429038154e-812.635549485807631e-815.271098971615262e-811.0542197943230523e-802.1084395886461046e-804.216879177292209e-808.433758354584419e-801.6867516709168837e-793.3735033418337674e-796.747006683667535e-791.349401336733507e-782.698802673467014e-785.397605346934028e-781.0795210693868056e-772.159042138773611e-774.318084277547222e-778.636168555094445e-771.727233711018889e-763.454467422037778e-766.908934844075556e-761.3817869688151111e-752.7635739376302223e-755.527147875260445e-751.105429575052089e-742.210859150104178e-744.421718300208356e-748.843436600416711e-741.7686873200833423e-733.5373746401666845e-737.074749280333369e-731.4149498560666738e-722.8298997121333476e-725.659799424266695e-721.131959884853339e-712.263919769706678e-714.527839539413356e-719.055679078826712e-711.8111358157653425e-703.622271631530685e-707.24454326306137e-701.448908652612274e-692.897817305224548e-695.795634610449096e-691.1591269220898192e-682.3182538441796384e-684.636507688359277e-689.273015376718553e-681.8546030753437107e-673.7092061506874214e-677.418412301374843e-671.4836824602749686e-662.967364920549937e-665.934729841099874e-661.1869459682199748e-652.3738919364399497e-654.747783872879899e-659.495567745759799e-651.8991135491519597e-643.7982270983039195e-647.596454196607839e-641.5192908393215678e-633.0385816786431356e-636.077163357286271e-631.2154326714572542e-622.4308653429145085e-624.861730685829017e-629.723461371658034e-621.9446922743316068e-613.8893845486632136e-617.778769097326427e-611.5557538194652854e-603.111507638930571e-606.223015277861142e-601.2446030555722283e-592.4892061111444567e-594.978412222288913e-599.956824444577827e-591.9913648889155653e-583.982729777831131e-587.965459555662261e-581.5930919111324523e-573.1861838222649046e-576.372367644529809e-571.2744735289059618e-562.5489470578119236e-565.097894115623847e-561.0195788231247695e-552.039157646249539e-554.078315292499078e-558.156630584998156e-551.631326116999631e-543.262652233999262e-546.525304467998525e-541.305060893599705e-532.61012178719941e-535.22024357439882e-531.044048714879764e-522.088097429759528e-524.176194859519056e-528.352389719038111e-521.6704779438076223e-513.3409558876152446e-516.681911775230489e-511.3363823550460978e-502.6727647100921956e-505.345529420184391e-501.0691058840368783e-492.1382117680737565e-494.276423536147513e-498.552847072295026e-491.7105694144590052e-483.4211388289180104e-486.842277657836021e-481.3684555315672042e-472.7369110631344083e-475.473822126268817e-471.0947644252537633e-462.1895288505075267e-464.379057701015053e-468.758115402030107e-461.7516230804060213e-453.5032461608120427e-457.006492321624085e-451.401298464324817e-442.802596928649634e-445.605193857299268e-441.1210387714598537e-432.2420775429197073e-434.484155085839415e-438.96831017167883e-431.793662034335766e-423.587324068671532e-427.174648137343063e-421.4349296274686127e-412.8698592549372254e-415.739718509874451e-411.1479437019748901e-402.2958874039497803e-404.5917748078995606e-409.183549615799121e-401.8367099231598242e-393.6734198463196485e-397.346839692639297e-391.4693679385278594e-382.938735877055719e-385.877471754111438e-381.1754943508222875e-372.350988701644575e-374.70197740328915e-379.4039548065783e-371.88079096131566e-363.76158192263132e-367.52316384526264e-361.504632769052528e-353.009265538105056e-356.018531076210112e-351.2037062152420224e-342.407412430484045e-344.81482486096809e-349.62964972193618e-341.925929944387236e-333.851859888774472e-337.703719777548943e-331.5407439555097887e-323.0814879110195774e-326.162975822039155e-321.232595164407831e-312.465190328815662e-314.930380657631324e-319.860761315262648e-311.9721522630525295e-303.944304526105059e-307.888609052210118e-301.5777218104420236e-293.155443620884047e-296.310887241768094e-291.262177448353619e-282.524354896707238e-285.048709793414476e-281.0097419586828951e-272.0194839173657902e-274.0389678347315804e-278.077935669463161e-271.6155871338926322e-263.2311742677852644e-266.462348535570529e-261.2924697071141057e-252.5849394142282115e-255.169878828456423e-251.0339757656912846e-242.0679515313825692e-244.1359030627651384e-248.271806125530277e-241.6543612251060553e-233.3087224502121107e-236.617444900424221e-231.3234889800848443e-222.6469779601696886e-225.293955920339377e-221.0587911840678754e-212.117582368135751e-214.235164736271502e-218.470329472543003e-211.6940658945086007e-203.3881317890172014e-206.776263578034403e-201.3552527156068805e-192.710505431213761e-195.421010862427522e-191.0842021724855044e-182.168404344971009e-184.336808689942018e-188.673617379884035e-181.734723475976807e-173.469446951953614e-176.938893903907228e-171.3877787807814457e-162.7755575615628914e-165.551115123125783e-161.1102230246251565e-152.220446049250313e-154.440892098500626e-158.881784197001252e-151.7763568394002505e-143.552713678800501e-147.105427357601002e-141.4210854715202004e-132.8421709430404007e-135.684341886080801e-131.1368683772161603e-122.2737367544323206e-124.547473508864641e-129.094947017729282e-121.8189894035458565e-113.637978807091713e-117.275957614183426e-111.4551915228366852e-102.9103830456733704e-105.820766091346741e-101.1641532182693481e-092.3283064365386963e-094.6566128730773926e-099.313225746154785e-091.862645149230957e-083.725290298461914e-087.450580596923828e-081.4901161193847656e-072.980232238769531e-075.960464477539062e-071.1920928955078125e-062.384185791015625e-064.76837158203125e-069.5367431640625e-061.9073486328125e-053.814697265625e-057.62939453125e-050.0001525878906250.000305175781250.00061035156250.0012207031250.002441406250.00488281250.0097656250.019531250.03906250.0781250.156250.31250.6251.250.51.00\n",
      "0b1010\n",
      "0xa\n",
      "0o12\n",
      "2 8 16\n"
     ]
    }
   ],
   "source": [
    "x = 124321\n",
    "binary = lambda x: \"\" if x == 0 else binary(x / 2) + str(x % 2)\n",
    "print(binary(10))\n",
    "print(bin(10))\n",
    "print(hex(10))\n",
    "print(oct(10))\n",
    "print(int(\"10\", 2), int(\"10\", 8), int(\"10\", 16))"
   ]
  },
  {
   "cell_type": "markdown",
   "id": "fb9c4d98",
   "metadata": {},
   "source": [
    "`Sorted` 函数: 返回排序后的列表，但原列表不变"
   ]
  },
  {
   "cell_type": "code",
   "execution_count": 40,
   "id": "a3866496",
   "metadata": {},
   "outputs": [
    {
     "data": {
      "text/plain": [
       "[9, 7, 5, 3, 1]"
      ]
     },
     "execution_count": 40,
     "metadata": {},
     "output_type": "execute_result"
    }
   ],
   "source": [
    "sorted(li, key=None, reverse=True)"
   ]
  },
  {
   "cell_type": "markdown",
   "id": "bbafc8b7",
   "metadata": {},
   "source": [
    "key 关键字一般需要传入一个函数"
   ]
  },
  {
   "cell_type": "code",
   "execution_count": 41,
   "id": "b916e634",
   "metadata": {},
   "outputs": [
    {
     "data": {
      "text/plain": [
       "['a', 'Andrew', 'from', 'is', 'string', 'test', 'This']"
      ]
     },
     "execution_count": 41,
     "metadata": {},
     "output_type": "execute_result"
    }
   ],
   "source": [
    "sorted(\"This is a test string from Andrew\".split(), key=str.lower)"
   ]
  },
  {
   "cell_type": "markdown",
   "id": "fc8d2543",
   "metadata": {},
   "source": [
    "如果比较的值是两个值的列表，则下式表示按 第一个值 递增排序，如果相同，按 第二个值 递减排序"
   ]
  },
  {
   "cell_type": "code",
   "execution_count": 42,
   "id": "be23c958",
   "metadata": {},
   "outputs": [
    {
     "data": {
      "text/plain": [
       "['Andrew', 'This', 'as', 'from', 'is', 'string', 'test']"
      ]
     },
     "execution_count": 42,
     "metadata": {},
     "output_type": "execute_result"
    }
   ],
   "source": [
    "li = \"This is as test string from Andrew\".split()\n",
    "li.sort(key=lambda x: (x[0], x[1]))\n",
    "li"
   ]
  },
  {
   "cell_type": "markdown",
   "id": "c609a6fe",
   "metadata": {},
   "source": [
    "传入两个参数：2.x版本有cmp参数，现在只有key了，但是加了这个函数模拟以前的功能。\n",
    "问：将一个字符串列表，组成字典序最大的串"
   ]
  },
  {
   "cell_type": "markdown",
   "id": "90eb9372",
   "metadata": {},
   "source": [
    "`itertools`: 该函数返回一个可迭代对象，将 li 里的元素，按 num 数量进行组合，每个组合以元组存储"
   ]
  },
  {
   "cell_type": "code",
   "execution_count": 43,
   "id": "5aa06e32",
   "metadata": {},
   "outputs": [
    {
     "name": "stdout",
     "output_type": "stream",
     "text": [
      "[(1, 2), (1, 3), (1, 4), (1, 5), (2, 3), (2, 4), (2, 5), (3, 4), (3, 5), (4, 5)]\n"
     ]
    }
   ],
   "source": [
    "import itertools\n",
    "li=[1,2,3,4,5];num=2\n",
    "li = itertools.combinations(li,num)\n",
    "print(list(li))\n"
   ]
  },
  {
   "cell_type": "markdown",
   "id": "4a9f54ed",
   "metadata": {},
   "source": [
    "`random`: 用于生成随机数"
   ]
  },
  {
   "cell_type": "code",
   "execution_count": 44,
   "id": "98324e78",
   "metadata": {},
   "outputs": [
    {
     "name": "stdout",
     "output_type": "stream",
     "text": [
      "2\n",
      "0.42123000591729554\n"
     ]
    }
   ],
   "source": [
    "import random\n",
    "print(random.randint(1,2))\n",
    "print(random.random())"
   ]
  },
  {
   "cell_type": "markdown",
   "id": "f46718cc",
   "metadata": {},
   "source": [
    "`enumerate` : 输出 li 的索引和值"
   ]
  },
  {
   "cell_type": "code",
   "execution_count": 45,
   "id": "3cacfe2e",
   "metadata": {},
   "outputs": [
    {
     "name": "stdout",
     "output_type": "stream",
     "text": [
      "0 1\n",
      "1 2\n",
      "2 3\n",
      "3 4\n",
      "4 5\n"
     ]
    }
   ],
   "source": [
    "li = [1,2,3,4,5]\n",
    "for index,num in enumerate(li):\n",
    "    print(index,num)"
   ]
  },
  {
   "cell_type": "markdown",
   "id": "766e1929",
   "metadata": {},
   "source": [
    "`isinstance` : 判断一个对象是否为一个类"
   ]
  },
  {
   "cell_type": "code",
   "execution_count": 46,
   "id": "e8fc9fd9",
   "metadata": {},
   "outputs": [
    {
     "name": "stdout",
     "output_type": "stream",
     "text": [
      "True\n",
      "False\n"
     ]
    }
   ],
   "source": [
    "a = 11\n",
    "print(isinstance(a,int))\n",
    "print(isinstance(a, str))"
   ]
  },
  {
   "cell_type": "markdown",
   "id": "78eb69fd",
   "metadata": {},
   "source": [
    "`evaluate` : 计算一个表达式的值"
   ]
  },
  {
   "cell_type": "code",
   "execution_count": 47,
   "id": "69dd1344",
   "metadata": {},
   "outputs": [
    {
     "data": {
      "text/plain": [
       "6"
      ]
     },
     "execution_count": 47,
     "metadata": {},
     "output_type": "execute_result"
    }
   ],
   "source": [
    "eval('1+2+3')"
   ]
  },
  {
   "cell_type": "markdown",
   "id": "425b1e37",
   "metadata": {},
   "source": [
    "reverse 列表的属性，返回 None"
   ]
  },
  {
   "cell_type": "code",
   "execution_count": 48,
   "id": "c6331936",
   "metadata": {},
   "outputs": [],
   "source": [
    "li.reverse()"
   ]
  },
  {
   "cell_type": "markdown",
   "id": "26772bcf",
   "metadata": {},
   "source": [
    "返回可迭代对象, 原列表不变"
   ]
  },
  {
   "cell_type": "code",
   "execution_count": 49,
   "id": "9c94e54b",
   "metadata": {},
   "outputs": [
    {
     "data": {
      "text/plain": [
       "[1, 2, 3, 4, 5]"
      ]
     },
     "execution_count": 49,
     "metadata": {},
     "output_type": "execute_result"
    }
   ],
   "source": [
    "list(reversed(li))"
   ]
  },
  {
   "cell_type": "markdown",
   "id": "18c181db",
   "metadata": {},
   "source": [
    "# 面试题"
   ]
  },
  {
   "cell_type": "markdown",
   "id": "008ae1c2",
   "metadata": {},
   "source": [
    "用 Python 实现统计一篇英文文章内每个单词的出现频率，并返回出现频率最高的前 10 个单词及其出现次数，并解答以下问题？（标点符号可忽略)\n",
    "底下的方法不太对,实际统计出来的是字母的频率"
   ]
  },
  {
   "cell_type": "code",
   "execution_count": 54,
   "id": "86ac016e",
   "metadata": {},
   "outputs": [
    {
     "data": {
      "text/plain": [
       "[('article', 3),\n",
       " ('ArithmeticError', 1),\n",
       " ('as', 1),\n",
       " ('section', 1),\n",
       " ('LK', 1),\n",
       " ('KS', 1),\n",
       " ('DE', 1),\n",
       " ('IK', 1)]"
      ]
     },
     "execution_count": 54,
     "metadata": {},
     "output_type": "execute_result"
    }
   ],
   "source": [
    "import collections\n",
    "article = \"ArithmeticError article article as article section LK KS DE IK\".split()\n",
    "dic = collections.Counter(article)\n",
    "dic.most_common()[:11]"
   ]
  },
  {
   "cell_type": "markdown",
   "id": "1da0cd7f",
   "metadata": {},
   "source": [
    "面试题:用两种方法去空格"
   ]
  },
  {
   "cell_type": "code",
   "execution_count": 62,
   "id": "77d766dd",
   "metadata": {},
   "outputs": [
    {
     "name": "stdout",
     "output_type": "stream",
     "text": [
      "ssasalistofarticlesfromtheworld\n",
      "ssasalistofarticlesfromtheworld\n"
     ]
    }
   ],
   "source": [
    "li = 'ss  as a list of articles from the world'\n",
    "\n",
    "print(\"\".join(li.split()))\n",
    "\n",
    "li = \"ss  as a list of articles from the world\"\n",
    "ll = li.replace(' ','')\n",
    "print(ll)"
   ]
  },
  {
   "cell_type": "markdown",
   "id": "67de91b8",
   "metadata": {},
   "source": []
  },
  {
   "cell_type": "markdown",
   "id": "fb203cd8",
   "metadata": {},
   "source": []
  },
  {
   "cell_type": "markdown",
   "id": "5d3bd0a4",
   "metadata": {},
   "source": []
  },
  {
   "cell_type": "markdown",
   "id": "050ca1ae",
   "metadata": {},
   "source": []
  },
  {
   "cell_type": "markdown",
   "id": "2cc9e26e",
   "metadata": {},
   "source": []
  },
  {
   "cell_type": "markdown",
   "id": "9f5f7275",
   "metadata": {},
   "source": []
  }
 ],
 "metadata": {
  "kernelspec": {
   "display_name": "Python 3 (ipykernel)",
   "language": "python",
   "name": "python3"
  },
  "language_info": {
   "codemirror_mode": {
    "name": "ipython",
    "version": 3
   },
   "file_extension": ".py",
   "mimetype": "text/x-python",
   "name": "python",
   "nbconvert_exporter": "python",
   "pygments_lexer": "ipython3",
   "version": "3.10.7"
  }
 },
 "nbformat": 4,
 "nbformat_minor": 5
}
