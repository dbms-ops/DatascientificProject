{
 "cells": [
  {
   "cell_type": "markdown",
   "id": "f561e85c-e3ae-4c67-8e24-5ce19cc445f0",
   "metadata": {},
   "source": [
    "Python 语法基础知识\n",
    "查看所有的关键字"
   ]
  },
  {
   "cell_type": "code",
   "execution_count": 1,
   "id": "1db05a12-6965-495b-b4a1-69e2af32820a",
   "metadata": {},
   "outputs": [
    {
     "name": "stdout",
     "output_type": "stream",
     "text": [
      "['False', 'None', 'True', 'and', 'as', 'assert', 'async', 'await', 'break', 'class', 'continue', 'def', 'del', 'elif', 'else', 'except', 'finally', 'for', 'from', 'global', 'if', 'import', 'in', 'is', 'lambda', 'nonlocal', 'not', 'or', 'pass', 'raise', 'return', 'try', 'while', 'with', 'yield']\n"
     ]
    }
   ],
   "source": [
    "import keyword\n",
    "print(keyword.kwlist)"
   ]
  },
  {
   "cell_type": "markdown",
   "id": "dd960a87-9c0b-4b3e-b917-1cb20c391d23",
   "metadata": {},
   "source": [
    "基本数据类型：数值、字符串、列表、元组、集合、字典"
   ]
  },
  {
   "cell_type": "markdown",
   "id": "96bfbbd8-44fc-41b2-97a2-706bd954b6fb",
   "metadata": {},
   "source": [
    "* 数值"
   ]
  },
  {
   "cell_type": "code",
   "execution_count": 3,
   "id": "ee57c670-db85-4665-9024-987947aeb87e",
   "metadata": {},
   "outputs": [
    {
     "data": {
      "text/plain": [
       "float"
      ]
     },
     "execution_count": 3,
     "metadata": {},
     "output_type": "execute_result"
    }
   ],
   "source": [
    "x = 11\n",
    "y = 12\n",
    "z = x / y\n",
    "x,y,z\n",
    "type(z)"
   ]
  },
  {
   "cell_type": "markdown",
   "id": "58dae090-fa74-4f43-8f6e-138854925e3b",
   "metadata": {},
   "source": [
    "* "
   ]
  },
  {
   "cell_type": "code",
   "execution_count": null,
   "id": "3939ab4b-2aef-422b-b91a-ea4a6da4a0c8",
   "metadata": {},
   "outputs": [],
   "source": []
  },
  {
   "cell_type": "code",
   "execution_count": null,
   "id": "1c295aff-4f5b-4141-ac5d-55fdad8ffda2",
   "metadata": {},
   "outputs": [],
   "source": []
  },
  {
   "cell_type": "code",
   "execution_count": null,
   "id": "7dc139d0-559d-4005-8f5d-f4148416fb81",
   "metadata": {},
   "outputs": [],
   "source": []
  },
  {
   "cell_type": "code",
   "execution_count": null,
   "id": "a2950fe9-a403-4486-b274-c81beea0db61",
   "metadata": {},
   "outputs": [],
   "source": []
  },
  {
   "cell_type": "code",
   "execution_count": null,
   "id": "6adb4fd1-7ede-461c-8403-dba68cbcea52",
   "metadata": {},
   "outputs": [],
   "source": []
  },
  {
   "cell_type": "code",
   "execution_count": null,
   "id": "a6bb717f-b2e7-4ff1-b8fe-b78e8acc88b7",
   "metadata": {},
   "outputs": [],
   "source": []
  },
  {
   "cell_type": "code",
   "execution_count": null,
   "id": "eb04c942-12a9-467e-b6aa-819c8188d970",
   "metadata": {},
   "outputs": [],
   "source": []
  },
  {
   "cell_type": "code",
   "execution_count": null,
   "id": "640adb6a-4442-411a-a226-ebbe44164339",
   "metadata": {},
   "outputs": [],
   "source": []
  },
  {
   "cell_type": "code",
   "execution_count": null,
   "id": "c82a9f04-477c-4e4a-b74a-3b0f0f3ae2b5",
   "metadata": {},
   "outputs": [],
   "source": []
  }
 ],
 "metadata": {
  "kernelspec": {
   "display_name": "Python 3 (ipykernel)",
   "language": "python",
   "name": "python3"
  },
  "language_info": {
   "codemirror_mode": {
    "name": "ipython",
    "version": 3
   },
   "file_extension": ".py",
   "mimetype": "text/x-python",
   "name": "python",
   "nbconvert_exporter": "python",
   "pygments_lexer": "ipython3",
   "version": "3.10.7"
  }
 },
 "nbformat": 4,
 "nbformat_minor": 5
}
