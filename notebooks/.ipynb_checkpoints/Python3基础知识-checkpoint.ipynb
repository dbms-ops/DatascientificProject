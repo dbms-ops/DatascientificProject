{
 "cells": [
  {
   "cell_type": "markdown",
   "id": "f561e85c-e3ae-4c67-8e24-5ce19cc445f0",
   "metadata": {},
   "source": [
    "## Python 语法基础知识\n"
   ]
  },
  {
   "cell_type": "code",
   "execution_count": 1,
   "id": "1db05a12-6965-495b-b4a1-69e2af32820a",
   "metadata": {},
   "outputs": [
    {
     "name": "stdout",
     "output_type": "stream",
     "text": [
      "['False', 'None', 'True', 'and', 'as', 'assert', 'async', 'await', 'break', 'class', 'continue', 'def', 'del', 'elif', 'else', 'except', 'finally', 'for', 'from', 'global', 'if', 'import', 'in', 'is', 'lambda', 'nonlocal', 'not', 'or', 'pass', 'raise', 'return', 'try', 'while', 'with', 'yield']\n"
     ]
    }
   ],
   "source": [
    "import keyword\n",
    "print(keyword.kwlist)"
   ]
  },
  {
   "cell_type": "markdown",
   "id": "dd960a87-9c0b-4b3e-b917-1cb20c391d23",
   "metadata": {},
   "source": [
    "基本数据类型：数值、字符串、列表、元组、集合、字典"
   ]
  },
  {
   "cell_type": "markdown",
   "id": "96bfbbd8-44fc-41b2-97a2-706bd954b6fb",
   "metadata": {},
   "source": [
    "数值：/ 表示浮点数除法，// 表示整数除法，所以 Python 的单行注释是 # "
   ]
  },
  {
   "cell_type": "code",
   "execution_count": 3,
   "id": "ee57c670-db85-4665-9024-987947aeb87e",
   "metadata": {},
   "outputs": [
    {
     "data": {
      "text/plain": [
       "float"
      ]
     },
     "execution_count": 3,
     "metadata": {},
     "output_type": "execute_result"
    }
   ],
   "source": [
    "x = 11\n",
    "y = 12\n",
    "z = x / y\n",
    "x,y,z\n",
    "type(z)"
   ]
  },
  {
   "cell_type": "markdown",
   "id": "58dae090-fa74-4f43-8f6e-138854925e3b",
   "metadata": {},
   "source": [
    "字符串：字符串，使用 '' 或者 \"\" 都是可以的，没有字符类型，一个字符就是长度为 1 的字符串\n",
    "字符串不可修改，类似 word[0] = 'H'，都是错误的"
   ]
  },
  {
   "cell_type": "code",
   "execution_count": 5,
   "id": "3939ab4b-2aef-422b-b91a-ea4a6da4a0c8",
   "metadata": {},
   "outputs": [
    {
     "name": "stdout",
     "output_type": "stream",
     "text": [
      "hellohellohello string \n"
     ]
    }
   ],
   "source": [
    "world = 'hello'\n",
    "print(world * 3 + ' str' + 'ing ')"
   ]
  },
  {
   "cell_type": "code",
   "execution_count": null,
   "id": "1c295aff-4f5b-4141-ac5d-55fdad8ffda2",
   "metadata": {},
   "outputs": [],
   "source": [
    "数组"
   ]
  },
  {
   "cell_type": "markdown",
   "id": "73284153-77c8-4dbd-9fc9-f424d5397ac9",
   "metadata": {},
   "source": [
    "一维数组可以用乘法，但是二维数组不可以，会造成引用赋值"
   ]
  },
  {
   "cell_type": "code",
   "execution_count": 9,
   "id": "7dc139d0-559d-4005-8f5d-f4148416fb81",
   "metadata": {},
   "outputs": [
    {
     "data": {
      "text/plain": [
       "[0, 0, 0, 0, 0, 0, 0, 0, 0, 0]"
      ]
     },
     "execution_count": 9,
     "metadata": {},
     "output_type": "execute_result"
    }
   ],
   "source": [
    "arrOne = [0]*10 \n",
    "arrOne"
   ]
  },
  {
   "cell_type": "markdown",
   "id": "91a0f670-54a0-4c89-afba-2beffaa29173",
   "metadata": {},
   "source": [
    "n*n 的二维数组"
   ]
  },
  {
   "cell_type": "code",
   "execution_count": 11,
   "id": "6adb4fd1-7ede-461c-8403-dba68cbcea52",
   "metadata": {},
   "outputs": [
    {
     "data": {
      "text/plain": [
       "[[0, 0, 0, 0, 0, 0, 0, 0, 0, 0],\n",
       " [0, 0, 0, 0, 0, 0, 0, 0, 0, 0],\n",
       " [0, 0, 0, 0, 0, 0, 0, 0, 0, 0],\n",
       " [0, 0, 0, 0, 0, 0, 0, 0, 0, 0],\n",
       " [0, 0, 0, 0, 0, 0, 0, 0, 0, 0],\n",
       " [0, 0, 0, 0, 0, 0, 0, 0, 0, 0],\n",
       " [0, 0, 0, 0, 0, 0, 0, 0, 0, 0],\n",
       " [0, 0, 0, 0, 0, 0, 0, 0, 0, 0],\n",
       " [0, 0, 0, 0, 0, 0, 0, 0, 0, 0],\n",
       " [0, 0, 0, 0, 0, 0, 0, 0, 0, 0]]"
      ]
     },
     "execution_count": 11,
     "metadata": {},
     "output_type": "execute_result"
    }
   ],
   "source": [
    "n=10\n",
    "arrTwo = [[0]*n for _ in range(n)]\n",
    "arrTwo"
   ]
  },
  {
   "cell_type": "markdown",
   "id": "b12eb705-448a-4219-9cf3-7cbfa3ab1631",
   "metadata": {},
   "source": [
    "元组，不可修改，可以存放多种类型"
   ]
  },
  {
   "cell_type": "code",
   "execution_count": 12,
   "id": "eb04c942-12a9-467e-b6aa-819c8188d970",
   "metadata": {},
   "outputs": [
    {
     "data": {
      "text/plain": [
       "(11, 'hello', 22)"
      ]
     },
     "execution_count": 12,
     "metadata": {},
     "output_type": "execute_result"
    }
   ],
   "source": [
    "tup = (11, 'hello', 22)\n",
    "tup"
   ]
  },
  {
   "cell_type": "code",
   "execution_count": null,
   "id": "640adb6a-4442-411a-a226-ebbe44164339",
   "metadata": {},
   "outputs": [],
   "source": [
    "列表：不同于数组，里面存放的值可以是多种类型"
   ]
  },
  {
   "cell_type": "code",
   "execution_count": 17,
   "id": "84efbd7e-4c3a-4957-a1b8-fa175bb68a8e",
   "metadata": {},
   "outputs": [
    {
     "data": {
      "text/plain": [
       "[11, 'hello', 25]"
      ]
     },
     "execution_count": 17,
     "metadata": {},
     "output_type": "execute_result"
    }
   ],
   "source": [
    "li = [11, 'hello', 25]\n",
    "li"
   ]
  },
  {
   "cell_type": "code",
   "execution_count": 18,
   "id": "0ebfa568-1cfc-4e58-8ece-1386e6a92847",
   "metadata": {},
   "outputs": [
    {
     "data": {
      "text/plain": [
       "[11, 'hello', 25, 23.0]"
      ]
     },
     "execution_count": 18,
     "metadata": {},
     "output_type": "execute_result"
    }
   ],
   "source": [
    "li.append(23.0)\n",
    "li"
   ]
  },
  {
   "cell_type": "code",
   "execution_count": null,
   "id": "256180d1-6f31-4f41-82d5-1662ba76ee0d",
   "metadata": {},
   "outputs": [],
   "source": [
    "集合：无顺不重复的集合，可以用 set 进行去重"
   ]
  },
  {
   "cell_type": "code",
   "execution_count": 19,
   "id": "baa2e3c8-9749-481b-bb5d-29752a59c25c",
   "metadata": {},
   "outputs": [
    {
     "data": {
      "text/plain": [
       "{'jerry', 'mary', 'tom'}"
      ]
     },
     "execution_count": 19,
     "metadata": {},
     "output_type": "execute_result"
    }
   ],
   "source": [
    "student = {'tom', 'jerry', 'mary'}\n",
    "student"
   ]
  },
  {
   "cell_type": "code",
   "execution_count": null,
   "id": "92baf13d-2308-4c4e-af1b-0d83afa6e97d",
   "metadata": {},
   "outputs": [],
   "source": [
    "字典, key - value 对"
   ]
  },
  {
   "cell_type": "code",
   "execution_count": 21,
   "id": "0a28a49d-b789-4d95-95fb-de718145a972",
   "metadata": {},
   "outputs": [
    {
     "data": {
      "text/plain": [
       "{'key': 'value', 11: 22, 'id': 10}"
      ]
     },
     "execution_count": 21,
     "metadata": {},
     "output_type": "execute_result"
    }
   ],
   "source": [
    "dic = {'key':'value', 11:22, 'id':10}\n",
    "dic"
   ]
  },
  {
   "cell_type": "markdown",
   "id": "ea803e8d-0191-4e30-8aa9-8ad88d3bb614",
   "metadata": {},
   "source": [
    "## 编程常用写法"
   ]
  },
  {
   "cell_type": "markdown",
   "id": "7d36d450-0878-4b40-aa71-77e9d5987d0f",
   "metadata": {},
   "source": [
    "输入一串数据，空格分隔，转换为整数如： 1 2 3 4 5"
   ]
  },
  {
   "cell_type": "markdown",
   "id": "e6dca2cf-de18-4a92-8766-2cbe0c71a4a3",
   "metadata": {},
   "source": [
    "#split 默认以空格分隔，输入默认是字符串"
   ]
  },
  {
   "cell_type": "code",
   "execution_count": null,
   "id": "bc393b1b-b2e3-4e35-89a3-fbeb843e8136",
   "metadata": {},
   "outputs": [],
   "source": []
  },
  {
   "cell_type": "code",
   "execution_count": null,
   "id": "ee205c29-2eaf-4a26-b5bf-50093a173704",
   "metadata": {},
   "outputs": [],
   "source": []
  },
  {
   "cell_type": "code",
   "execution_count": null,
   "id": "2cf9b372-ddc9-4fd1-8aa7-e1f0868c396f",
   "metadata": {},
   "outputs": [],
   "source": []
  },
  {
   "cell_type": "code",
   "execution_count": null,
   "id": "c82a9f04-477c-4e4a-b74a-3b0f0f3ae2b5",
   "metadata": {},
   "outputs": [],
   "source": []
  }
 ],
 "metadata": {
  "kernelspec": {
   "display_name": "Python 3 (ipykernel)",
   "language": "python",
   "name": "python3"
  },
  "language_info": {
   "codemirror_mode": {
    "name": "ipython",
    "version": 3
   },
   "file_extension": ".py",
   "mimetype": "text/x-python",
   "name": "python",
   "nbconvert_exporter": "python",
   "pygments_lexer": "ipython3",
   "version": "3.10.7"
  }
 },
 "nbformat": 4,
 "nbformat_minor": 5
}
