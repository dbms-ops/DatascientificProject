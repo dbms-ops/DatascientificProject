{
 "cells": [
  {
   "cell_type": "markdown",
   "metadata": {
    "jp-MarkdownHeadingCollapsed": true
   },
   "source": [
    "# 第二十章 迭代和解析"
   ]
  },
  {
   "cell_type": "markdown",
   "metadata": {},
   "source": [
    "列表解析: 用于把任意一个表达式而不是一个函数应用于一个迭代对象中的元素, 比 map 和 filter 更加通用"
   ]
  },
  {
   "cell_type": "markdown",
   "metadata": {},
   "source": [
    "__列表解析与 map__"
   ]
  },
  {
   "cell_type": "code",
   "execution_count": 1,
   "metadata": {},
   "outputs": [
    {
     "data": {
      "text/plain": [
       "[115, 112, 97, 109]"
      ]
     },
     "execution_count": 1,
     "metadata": {},
     "output_type": "execute_result"
    }
   ],
   "source": [
    "res = list(map(ord,'spam'))\n",
    "res"
   ]
  },
  {
   "cell_type": "markdown",
   "metadata": {},
   "source": [
    "列表解析用于在一个序列上应用一个任意的表达式,将其结果收集到一个新的列表中并返回"
   ]
  },
  {
   "cell_type": "code",
   "execution_count": null,
   "metadata": {},
   "outputs": [
    {
     "data": {
      "text/plain": [
       "[115, 112, 97, 109]"
      ]
     },
     "metadata": {},
     "output_type": "display_data"
    }
   ],
   "source": [
    "res = [ord(x) for x in 'spam']\n",
    "res"
   ]
  },
  {
   "cell_type": "code",
   "execution_count": null,
   "metadata": {},
   "outputs": [
    {
     "data": {
      "text/plain": [
       "[0, 1, 4, 9, 16, 25, 36, 49, 64, 81]"
      ]
     },
     "metadata": {},
     "output_type": "display_data"
    }
   ],
   "source": [
    "list(map((lambda x: x**2), range(10)))"
   ]
  },
  {
   "cell_type": "markdown",
   "metadata": {},
   "source": [
    "__列表解析增加循环和嵌套__"
   ]
  },
  {
   "cell_type": "code",
   "execution_count": null,
   "metadata": {},
   "outputs": [
    {
     "data": {
      "text/plain": [
       "[0, 2, 4, 6, 8]"
      ]
     },
     "metadata": {},
     "output_type": "display_data"
    }
   ],
   "source": [
    "[x for x in range(10) if x % 2 ==0]"
   ]
  },
  {
   "cell_type": "code",
   "execution_count": null,
   "metadata": {},
   "outputs": [
    {
     "data": {
      "text/plain": [
       "[0, 2, 4, 6, 8]"
      ]
     },
     "metadata": {},
     "output_type": "display_data"
    }
   ],
   "source": [
    "list(filter((lambda x: x % 2 == 0), range(10)))"
   ]
  },
  {
   "cell_type": "code",
   "execution_count": null,
   "metadata": {},
   "outputs": [
    {
     "data": {
      "text/plain": [
       "[0, 2, 2, 4]"
      ]
     },
     "metadata": {},
     "output_type": "display_data"
    }
   ],
   "source": [
    "res = [x+y for x in range(3) if x % 2==0 for y in range(3) if y%2==0]\n",
    "res"
   ]
  },
  {
   "cell_type": "markdown",
   "metadata": {},
   "source": [
    "__列表解析和矩阵__"
   ]
  },
  {
   "cell_type": "code",
   "execution_count": null,
   "metadata": {},
   "outputs": [],
   "source": [
    "M = [\n",
    "    [1,2,3],\n",
    "    [4,5,6],\n",
    "    [7,8,9]\n",
    "]\n",
    "N = [\n",
    "    [2,2,2],\n",
    "    [3,3,3],\n",
    "    [4,4,4],\n",
    "]"
   ]
  },
  {
   "cell_type": "code",
   "execution_count": null,
   "metadata": {},
   "outputs": [
    {
     "data": {
      "text/plain": [
       "[4, 5, 6]"
      ]
     },
     "metadata": {},
     "output_type": "display_data"
    }
   ],
   "source": [
    "M[1]"
   ]
  },
  {
   "cell_type": "code",
   "execution_count": null,
   "metadata": {},
   "outputs": [
    {
     "data": {
      "text/plain": [
       "6"
      ]
     },
     "metadata": {},
     "output_type": "display_data"
    }
   ],
   "source": [
    "M[1][2]"
   ]
  },
  {
   "cell_type": "code",
   "execution_count": null,
   "metadata": {},
   "outputs": [
    {
     "data": {
      "text/plain": [
       "[1, 4, 7]"
      ]
     },
     "metadata": {},
     "output_type": "display_data"
    }
   ],
   "source": [
    "[row[0] for row in M]"
   ]
  },
  {
   "cell_type": "markdown",
   "metadata": {},
   "source": [
    "### 理解列表解析"
   ]
  },
  {
   "cell_type": "markdown",
   "metadata": {},
   "source": [
    "对于现在运行的 Python 下的测试, map 调用比等效的 for 循环快两倍,列表解析比 map 循环更加快. 主要是因为 map 和 列表是在解释器中以 C 语言的速度来运行的"
   ]
  },
  {
   "cell_type": "markdown",
   "metadata": {},
   "source": [
    "1. for 循环可以让逻辑变得更加清晰,建议使用\n",
    "2. map 和列表解析也是比较容易理解的,并且能够改善应用运行的速度"
   ]
  },
  {
   "cell_type": "code",
   "execution_count": null,
   "metadata": {},
   "outputs": [
    {
     "data": {
      "text/plain": [
       "['aa\\n', 'bbhello \\n', 'world \\n']"
      ]
     },
     "metadata": {},
     "output_type": "display_data"
    }
   ],
   "source": [
    "open('data.x').readlines()"
   ]
  },
  {
   "cell_type": "code",
   "execution_count": null,
   "metadata": {},
   "outputs": [
    {
     "data": {
      "text/plain": [
       "['aa', 'bbhello', 'world']"
      ]
     },
     "metadata": {},
     "output_type": "display_data"
    }
   ],
   "source": [
    "[line.strip() for line in open('data.x')]"
   ]
  },
  {
   "cell_type": "code",
   "execution_count": null,
   "metadata": {},
   "outputs": [
    {
     "data": {
      "text/plain": [
       "['aa', 'bbhello', 'world']"
      ]
     },
     "metadata": {},
     "output_type": "display_data"
    }
   ],
   "source": [
    "[line.rstrip() for line in open('data.x')]"
   ]
  },
  {
   "cell_type": "code",
   "execution_count": null,
   "metadata": {},
   "outputs": [
    {
     "data": {
      "text/plain": [
       "['aa', 'bbhello', 'world']"
      ]
     },
     "metadata": {},
     "output_type": "display_data"
    }
   ],
   "source": [
    "list(map((lambda line: line.strip()), open('data.x')))"
   ]
  },
  {
   "cell_type": "markdown",
   "metadata": {},
   "source": [
    "## 生成器"
   ]
  },
  {
   "cell_type": "markdown",
   "metadata": {},
   "source": [
    "Python 对于延迟提供了更多的支持 --- 它提供了工具在需要的时候才产生结果,而不是立即产生结果. 可以通过两种语言结构延迟结果创建"
   ]
  },
  {
   "cell_type": "markdown",
   "metadata": {},
   "source": [
    "* 生成器函数: 编写为常规的 def 语句,但是使用 yield 语句一次返回一个结果,在每个结果之间挂起和继续他们的状态\n",
    "* 生成器表达式: 返回按照需要产生结果的一个对象, 而不是构建一个结果列表"
   ]
  },
  {
   "cell_type": "markdown",
   "metadata": {},
   "source": [
    "### 生成器函数 yield VS return\n",
    "* 生成器函数: 返回一个值并且从随后退出的地方继续的函数. 生成器函数是随着时间产生的一个序列\n",
    "* 创建时自动实现迭代器协议"
   ]
  },
  {
   "cell_type": "markdown",
   "metadata": {},
   "source": [
    "__状态挂起__\n",
    "* 生成器函数自动在生成值的时刻挂起并继续函数的执行. 通常用于提起计算一系列值以及在类中手动保存和恢复状态都很有用\n",
    "* 生成器函数在挂起时保存的状态包含他们的整个本地作用域, 当函数恢复时, 他们的本地变量保存了信息并且使得其可用\n",
    "* yield 语句挂起该函数并且像调用者返回一个值,但是保留足够的状态使得函数能够从他们离开的地方继续. \n",
    "* 需要继续时, 函数在上一个 yield 返回后立即继续执行"
   ]
  },
  {
   "cell_type": "markdown",
   "metadata": {},
   "source": [
    "__迭代协议整合__"
   ]
  },
  {
   "cell_type": "markdown",
   "metadata": {},
   "source": [
    "对于生成器协议的支持:\n",
    "1. 函数需要包含一条 yield 语句, 进行调用时, 他们返回一个迭代器对象, 该对象支持用一个名为__next__ 的自动创建的方法来继续执行的接口\n",
    "2. 生成器的 return 位于 def 语句块的末尾, 用于终止值的生成"
   ]
  },
  {
   "cell_type": "markdown",
   "metadata": {},
   "source": [
    "__生成器函数__"
   ]
  },
  {
   "cell_type": "code",
   "execution_count": 1,
   "metadata": {},
   "outputs": [],
   "source": [
    "def gen_squares(N):\n",
    "    for i in range(N):\n",
    "        yield i**2\n",
    "    return"
   ]
  },
  {
   "cell_type": "code",
   "execution_count": 3,
   "metadata": {},
   "outputs": [
    {
     "name": "stdout",
     "output_type": "stream",
     "text": [
      "0:1:4:9:16:"
     ]
    }
   ],
   "source": [
    "for i in gen_squares(5):\n",
    "    print(i, end=':')"
   ]
  },
  {
   "cell_type": "code",
   "execution_count": 4,
   "metadata": {},
   "outputs": [],
   "source": [
    "x = gen_squares(4)"
   ]
  },
  {
   "cell_type": "code",
   "execution_count": 5,
   "metadata": {},
   "outputs": [
    {
     "data": {
      "text/plain": [
       "<generator object gen_squares at 0x1038acf90>"
      ]
     },
     "execution_count": 5,
     "metadata": {},
     "output_type": "execute_result"
    }
   ],
   "source": [
    "x"
   ]
  },
  {
   "cell_type": "code",
   "execution_count": 6,
   "metadata": {},
   "outputs": [
    {
     "data": {
      "text/plain": [
       "0"
      ]
     },
     "execution_count": 6,
     "metadata": {},
     "output_type": "execute_result"
    }
   ],
   "source": [
    "next(x)"
   ]
  },
  {
   "cell_type": "code",
   "execution_count": 7,
   "metadata": {},
   "outputs": [
    {
     "data": {
      "text/plain": [
       "1"
      ]
     },
     "execution_count": 7,
     "metadata": {},
     "output_type": "execute_result"
    }
   ],
   "source": [
    "next(x)"
   ]
  },
  {
   "cell_type": "markdown",
   "metadata": {},
   "source": [
    "生成器在内存使用和性能方面都更好. 允许函数避免临时在做所有的工作. 当结果的列表很大或者在处理每一个结果都需要很多的时间时, 非常有用"
   ]
  },
  {
   "cell_type": "markdown",
   "metadata": {},
   "source": [
    "## 生成器表达式\n",
    "* 生成器表达式就像一般的列表解析一样, 他们是在圆括号中,而不是方括号中的\n",
    "* 生成器表达式不在内存中构建结果,而是返回一个生成器对象, 该对象支持迭代器协议\n"
   ]
  },
  {
   "cell_type": "code",
   "execution_count": 9,
   "metadata": {},
   "outputs": [],
   "source": [
    "G = (x ** 2 for x in range(4))"
   ]
  },
  {
   "cell_type": "code",
   "execution_count": 10,
   "metadata": {},
   "outputs": [
    {
     "data": {
      "text/plain": [
       "0"
      ]
     },
     "execution_count": 10,
     "metadata": {},
     "output_type": "execute_result"
    }
   ],
   "source": [
    "next(G)"
   ]
  },
  {
   "cell_type": "code",
   "execution_count": 11,
   "metadata": {},
   "outputs": [
    {
     "data": {
      "text/plain": [
       "1"
      ]
     },
     "execution_count": 11,
     "metadata": {},
     "output_type": "execute_result"
    }
   ],
   "source": [
    "next(G)"
   ]
  },
  {
   "cell_type": "code",
   "execution_count": 12,
   "metadata": {},
   "outputs": [
    {
     "data": {
      "text/plain": [
       "4"
      ]
     },
     "execution_count": 12,
     "metadata": {},
     "output_type": "execute_result"
    }
   ],
   "source": [
    "next(G)"
   ]
  },
  {
   "cell_type": "markdown",
   "metadata": {},
   "source": [
    "生成器表达式可以对于内存空间进行优化,但是不一定对于性能能够进行优化"
   ]
  },
  {
   "cell_type": "code",
   "execution_count": 15,
   "metadata": {},
   "outputs": [
    {
     "data": {
      "text/plain": [
       "['ssss', 'pppp', 'aaaa', 'mmmm']"
      ]
     },
     "execution_count": 15,
     "metadata": {},
     "output_type": "execute_result"
    }
   ],
   "source": [
    "G = (c*4 for c in 'spam')\n",
    "list(G)"
   ]
  },
  {
   "cell_type": "code",
   "execution_count": 16,
   "metadata": {},
   "outputs": [],
   "source": [
    "def time_four(s):\n",
    "    for c in s:\n",
    "        yield c * 4"
   ]
  },
  {
   "cell_type": "code",
   "execution_count": 17,
   "metadata": {},
   "outputs": [
    {
     "data": {
      "text/plain": [
       "['ssss', 'pppp', 'aaaa', 'mmmm']"
      ]
     },
     "execution_count": 17,
     "metadata": {},
     "output_type": "execute_result"
    }
   ],
   "source": [
    "list(time_four('spam'))"
   ]
  },
  {
   "cell_type": "markdown",
   "metadata": {},
   "source": [
    "生成器表达式和生成器函数自身都是迭代器,但是只支持一次活跃迭代. 一旦任何迭代器运行到完成, 所有的迭代器都将耗尽"
   ]
  },
  {
   "cell_type": "markdown",
   "metadata": {},
   "source": [
    "### 迭代工具模拟 zip 和 map\n"
   ]
  },
  {
   "cell_type": "markdown",
   "metadata": {},
   "source": [
    "模拟 map 函数"
   ]
  },
  {
   "cell_type": "code",
   "execution_count": 18,
   "metadata": {},
   "outputs": [],
   "source": [
    "def my_map(func, *seqs):\n",
    "    res = []\n",
    "    for args in zip(*seqs):\n",
    "        res.append(func(*args))\n",
    "    \n",
    "    return res"
   ]
  },
  {
   "cell_type": "code",
   "execution_count": 19,
   "metadata": {},
   "outputs": [
    {
     "name": "stdout",
     "output_type": "stream",
     "text": [
      "[0, 1, 2, 3]\n"
     ]
    }
   ],
   "source": [
    "print(my_map(abs, [0,-1,2,-3]))"
   ]
  },
  {
   "cell_type": "code",
   "execution_count": 20,
   "metadata": {},
   "outputs": [
    {
     "name": "stdout",
     "output_type": "stream",
     "text": [
      "[1, 16, 243, 4096]\n"
     ]
    }
   ],
   "source": [
    "print(my_map(pow, [1,2,3,4],[3,4,5,6,]))"
   ]
  },
  {
   "cell_type": "markdown",
   "metadata": {},
   "source": [
    "使用列表解析可以更简单的实现上述功能"
   ]
  },
  {
   "cell_type": "code",
   "execution_count": 21,
   "metadata": {},
   "outputs": [],
   "source": [
    "def my_map(func, *seqs):\n",
    "\n",
    "    return (func(*args) for args in zip(*seqs))"
   ]
  },
  {
   "cell_type": "code",
   "execution_count": 24,
   "metadata": {},
   "outputs": [
    {
     "name": "stdout",
     "output_type": "stream",
     "text": [
      "[1, 16, 243, 4096]\n"
     ]
    }
   ],
   "source": [
    "print(\n",
    "    my_map(\n",
    "        pow,\n",
    "        [1, 2, 3, 4],\n",
    "        [\n",
    "            3,\n",
    "            4,\n",
    "            5,\n",
    "            6,\n",
    "        ],\n",
    "    )\n",
    ")"
   ]
  },
  {
   "cell_type": "markdown",
   "metadata": {},
   "source": [
    "实现自己的 zip 和 map"
   ]
  },
  {
   "cell_type": "markdown",
   "metadata": {},
   "source": [
    "不带有默认版本的 zip"
   ]
  },
  {
   "cell_type": "code",
   "execution_count": 2,
   "metadata": {},
   "outputs": [],
   "source": [
    "def my_zip(*seqs, pad=None):\n",
    "    seqs = [list(item) for item in seqs]\n",
    "    res = []\n",
    "    while any(seqs):\n",
    "        res.append(tuple((seq.pop(0) if seq else pad) for seq in seqs))\n",
    "\n",
    "    return res"
   ]
  },
  {
   "cell_type": "code",
   "execution_count": 3,
   "metadata": {},
   "outputs": [
    {
     "name": "stdout",
     "output_type": "stream",
     "text": [
      "[('a', 'x'), ('b', 'y'), ('c', 'z'), (99, '1'), (99, '2'), (99, '3')]\n"
     ]
    }
   ],
   "source": [
    "s1 = \"abc\"\n",
    "s2 = \"xyz123\"\n",
    "\n",
    "print(my_zip(s1, s2,pad=99))"
   ]
  },
  {
   "cell_type": "markdown",
   "metadata": {},
   "source": [
    "生成器版本的 zip"
   ]
  },
  {
   "cell_type": "code",
   "execution_count": 4,
   "metadata": {},
   "outputs": [],
   "source": [
    "def my_zip(*seqs, pad=None):\n",
    "    seqs = [list(item) for item in seqs]\n",
    "    while any(seqs):\n",
    "        yield tuple(seq.pop(0) if seq else pad for seq in seqs)"
   ]
  },
  {
   "cell_type": "code",
   "execution_count": 6,
   "metadata": {},
   "outputs": [
    {
     "name": "stdout",
     "output_type": "stream",
     "text": [
      "[('a', 'x'), ('b', 'y'), ('c', 'z'), (99, '1'), (99, '2'), (99, '3')]\n"
     ]
    }
   ],
   "source": [
    "s1 = \"abc\"\n",
    "s2 = \"xyz123\"\n",
    "\n",
    "print(list(my_zip(s1, s2, pad=99)))"
   ]
  },
  {
   "cell_type": "code",
   "execution_count": 35,
   "metadata": {},
   "outputs": [],
   "source": [
    "import time\n",
    "import sys\n",
    "reps = 10000\n",
    "repslist= range(reps)\n",
    "\n",
    "def timer(func, *args,**kwargs):\n",
    "    start = time.time()\n",
    "    for _ in repslist:\n",
    "        ret = func(*args,**kwargs)\n",
    "    elapsed = time.time() - start\n",
    "\n",
    "    return elapsed,ret"
   ]
  },
  {
   "cell_type": "code",
   "execution_count": 37,
   "metadata": {},
   "outputs": [],
   "source": [
    "def for_loop():\n",
    "    res = []\n",
    "    for x in repslist:\n",
    "        res.append(abs(x))\n",
    "    \n",
    "    return res\n",
    "\n",
    "def list_comp():\n",
    "    return [abs(x) for x in repslist]\n",
    "\n",
    "def map_call():\n",
    "    \n",
    "    return list(map(abs, repslist))\n",
    "\n",
    "def gen_expr():\n",
    "    return list(abs(x) for x in repslist)\n",
    "\n",
    "def gen_func():\n",
    "    def gen():\n",
    "        for x in repslist:\n",
    "            yield abs(x)\n",
    "    \n",
    "    return list(gen())    \n"
   ]
  },
  {
   "cell_type": "markdown",
   "metadata": {},
   "source": [
    "开始记录时间"
   ]
  },
  {
   "cell_type": "code",
   "execution_count": 38,
   "metadata": {},
   "outputs": [
    {
     "name": "stdout",
     "output_type": "stream",
     "text": [
      "3.10.7 (v3.10.7:6cc6b13308, Sep  5 2022, 14:02:52) [Clang 13.0.0 (clang-1300.0.29.30)]\n"
     ]
    }
   ],
   "source": [
    "print(sys.version)"
   ]
  },
  {
   "cell_type": "code",
   "execution_count": 39,
   "metadata": {},
   "outputs": [
    {
     "name": "stdout",
     "output_type": "stream",
     "text": [
      "---------------------------------\n",
      "for_loop : 4.50421 => [0...9999]\n",
      "---------------------------------\n",
      "list_comp: 2.83421 => [0...9999]\n",
      "---------------------------------\n",
      "map_call : 1.60770 => [0...9999]\n",
      "---------------------------------\n",
      "gen_expr : 4.03837 => [0...9999]\n",
      "---------------------------------\n",
      "gen_func : 4.01984 => [0...9999]\n"
     ]
    }
   ],
   "source": [
    "for test in [for_loop, list_comp,map_call, gen_expr,gen_func]:\n",
    "    elapsed,result = timer(test)\n",
    "    print('-'*33)\n",
    "    print(\"%-9s: %.5f => [%s...%s]\" % (test.__name__, elapsed, result[0],result[-1]))"
   ]
  },
  {
   "cell_type": "markdown",
   "metadata": {
    "jp-MarkdownHeadingCollapsed": true
   },
   "source": [
    "# 第二十一章: 模块"
   ]
  },
  {
   "cell_type": "markdown",
   "metadata": {},
   "source": [
    "## import 是如何工作的"
   ]
  },
  {
   "cell_type": "markdown",
   "metadata": {},
   "source": [
    "Python 中的 import 并非是把一个文件插入到另一个文件中. 导入其实是运行时的运算, 程序第一次导入指定文件时,会执行三个步骤:\n",
    "1. 找到模块文件\n",
    "2. 编译成位码\n",
    "3. 执行模块的代码来创建其所定义的对象"
   ]
  },
  {
   "cell_type": "markdown",
   "metadata": {},
   "source": [
    "1. __搜索__: Python 必须查找 import 语句所引用的模块文件. Python 使用了标准模块搜索路径来查找 import 语句所对应的模块文件\n",
    "2. __编译__: 如果有需要会编译为字节码, 如果存在字节码,直接加载字节码. 如果发现字节码的文件比源代码的文件就,就会重新编译字节码\n",
    "3. __运行__: 依次执行文件中所有语句的字节码文件"
   ]
  },
  {
   "cell_type": "markdown",
   "metadata": {},
   "source": [
    "### 搜索\n",
    "1. 程序的主目录. 找到即停止, 先搜索先使用\n",
    "2. PYTHONPATH 目录(如果进行了设置)\n",
    "3. 任何.pth 文件的内容 (如果存在该文件)\n",
    "4. 标准库链接目录"
   ]
  },
  {
   "cell_type": "markdown",
   "metadata": {},
   "source": [
    "已经导入的模块查看"
   ]
  },
  {
   "cell_type": "code",
   "execution_count": 43,
   "metadata": {
    "scrolled": true
   },
   "outputs": [
    {
     "data": {
      "text/plain": [
       "['sys',\n",
       " 'builtins',\n",
       " '_frozen_importlib',\n",
       " '_imp',\n",
       " '_thread',\n",
       " '_warnings',\n",
       " '_weakref',\n",
       " '_io',\n",
       " 'marshal',\n",
       " 'posix',\n",
       " '_frozen_importlib_external',\n",
       " 'time',\n",
       " 'zipimport',\n",
       " '_codecs',\n",
       " 'codecs',\n",
       " 'encodings.aliases',\n",
       " 'encodings',\n",
       " 'encodings.utf_8',\n",
       " '_signal',\n",
       " '_abc',\n",
       " 'abc',\n",
       " 'io',\n",
       " '__main__',\n",
       " '_stat',\n",
       " 'stat',\n",
       " '_collections_abc',\n",
       " 'genericpath',\n",
       " 'posixpath',\n",
       " 'os.path',\n",
       " 'os',\n",
       " '_sitebuiltins',\n",
       " '__future__',\n",
       " 'itertools',\n",
       " 'keyword',\n",
       " '_operator',\n",
       " 'operator',\n",
       " 'reprlib',\n",
       " '_collections',\n",
       " 'collections',\n",
       " 'types',\n",
       " '_functools',\n",
       " 'functools',\n",
       " 'contextlib',\n",
       " '_virtualenv',\n",
       " '_distutils_hack',\n",
       " 'site',\n",
       " 'importlib._bootstrap',\n",
       " 'importlib._bootstrap_external',\n",
       " 'warnings',\n",
       " 'importlib',\n",
       " 'importlib.machinery',\n",
       " 'importlib._abc',\n",
       " 'importlib.util',\n",
       " 'runpy',\n",
       " 'enum',\n",
       " '_sre',\n",
       " 'sre_constants',\n",
       " 'sre_parse',\n",
       " 'sre_compile',\n",
       " '_locale',\n",
       " 'copyreg',\n",
       " 're',\n",
       " 'fnmatch',\n",
       " 'ntpath',\n",
       " 'errno',\n",
       " 'urllib',\n",
       " 'urllib.parse',\n",
       " 'pathlib',\n",
       " 'collections.abc',\n",
       " 'typing.io',\n",
       " 'typing.re',\n",
       " 'typing',\n",
       " 'ipykernel._version',\n",
       " '_json',\n",
       " 'json.scanner',\n",
       " 'json.decoder',\n",
       " 'json.encoder',\n",
       " 'json',\n",
       " 'signal',\n",
       " '_weakrefset',\n",
       " 'threading',\n",
       " 'fcntl',\n",
       " '_posixsubprocess',\n",
       " 'select',\n",
       " 'math',\n",
       " 'selectors',\n",
       " 'subprocess',\n",
       " 'jupyter_client._version',\n",
       " 'platform',\n",
       " '_ctypes',\n",
       " '_struct',\n",
       " 'struct',\n",
       " 'ctypes._endian',\n",
       " 'ctypes',\n",
       " 'zmq.backend.select',\n",
       " 'cython_runtime',\n",
       " '_cython_3_0_6',\n",
       " 'zmq.error',\n",
       " 'zmq.backend.cython.context',\n",
       " 'weakref',\n",
       " 'zmq.backend.cython.message',\n",
       " 'copy',\n",
       " '_bisect',\n",
       " 'bisect',\n",
       " '_random',\n",
       " '_sha512',\n",
       " 'random',\n",
       " '_compat_pickle',\n",
       " '_pickle',\n",
       " 'pickle',\n",
       " 'zmq.constants',\n",
       " 'zmq.backend.cython.socket',\n",
       " 'zmq.backend.cython._device',\n",
       " 'zmq.backend.cython._poll',\n",
       " 'zmq.backend.cython._proxy_steerable',\n",
       " 'zmq.backend.cython._version',\n",
       " 'zmq.backend.cython.error',\n",
       " 'zmq.backend.cython.utils',\n",
       " 'zmq.backend.cython',\n",
       " 'zmq.backend',\n",
       " 'atexit',\n",
       " 'zmq.utils',\n",
       " 'zmq.utils.interop',\n",
       " 'zmq.sugar.attrsettr',\n",
       " 'zmq._typing',\n",
       " 'zmq.utils.jsonapi',\n",
       " 'zmq.sugar.poll',\n",
       " 'zmq.sugar.socket',\n",
       " 'zmq.sugar.context',\n",
       " 'zmq.sugar.frame',\n",
       " 'zmq.sugar.tracker',\n",
       " 'zmq.sugar.version',\n",
       " 'zmq.sugar.stopwatch',\n",
       " 'zmq.sugar',\n",
       " 'zmq',\n",
       " 'concurrent',\n",
       " 'token',\n",
       " 'tokenize',\n",
       " 'linecache',\n",
       " 'traceback',\n",
       " '_string',\n",
       " 'string',\n",
       " 'logging',\n",
       " 'concurrent.futures._base',\n",
       " 'concurrent.futures',\n",
       " '_heapq',\n",
       " 'heapq',\n",
       " '_socket',\n",
       " 'array',\n",
       " 'socket',\n",
       " '_ssl',\n",
       " 'binascii',\n",
       " 'base64',\n",
       " 'ssl',\n",
       " 'asyncio.constants',\n",
       " '_ast',\n",
       " 'ast',\n",
       " '_opcode',\n",
       " 'opcode',\n",
       " 'dis',\n",
       " 'inspect',\n",
       " 'asyncio.format_helpers',\n",
       " 'asyncio.base_futures',\n",
       " 'asyncio.log',\n",
       " 'asyncio.coroutines',\n",
       " '_contextvars',\n",
       " 'contextvars',\n",
       " 'asyncio.exceptions',\n",
       " 'asyncio.base_tasks',\n",
       " '_asyncio',\n",
       " 'asyncio.events',\n",
       " 'asyncio.futures',\n",
       " 'asyncio.protocols',\n",
       " 'asyncio.transports',\n",
       " 'asyncio.sslproto',\n",
       " 'asyncio.mixins',\n",
       " 'asyncio.tasks',\n",
       " 'asyncio.locks',\n",
       " 'asyncio.staggered',\n",
       " 'asyncio.trsock',\n",
       " 'asyncio.base_events',\n",
       " 'asyncio.runners',\n",
       " 'asyncio.queues',\n",
       " 'asyncio.streams',\n",
       " 'asyncio.subprocess',\n",
       " 'asyncio.threads',\n",
       " 'asyncio.base_subprocess',\n",
       " 'asyncio.selector_events',\n",
       " 'asyncio.unix_events',\n",
       " 'asyncio',\n",
       " 'zmq._future',\n",
       " 'zmq.asyncio',\n",
       " 'traitlets.utils',\n",
       " 'traitlets.utils.bunch',\n",
       " 'traitlets.utils.descriptions',\n",
       " 'traitlets.utils.getargspec',\n",
       " 'traitlets.utils.importstring',\n",
       " 'traitlets.utils.sentinel',\n",
       " 'traitlets.utils.warnings',\n",
       " 'traitlets.traitlets',\n",
       " 'traitlets._version',\n",
       " 'traitlets.utils.decorators',\n",
       " 'traitlets',\n",
       " '_queue',\n",
       " 'queue',\n",
       " 'jupyter_core.version',\n",
       " 'jupyter_core',\n",
       " 'jupyter_core.utils',\n",
       " 'jupyter_client.channelsabc',\n",
       " '_hashlib',\n",
       " '_blake2',\n",
       " 'hashlib',\n",
       " 'hmac',\n",
       " 'dataclasses',\n",
       " 'pprint',\n",
       " '_datetime',\n",
       " 'datetime',\n",
       " 'tornado',\n",
       " 'numbers',\n",
       " 'logging.handlers',\n",
       " 'html.entities',\n",
       " 'html',\n",
       " 'zlib',\n",
       " 'tornado.speedups',\n",
       " 'tornado.util',\n",
       " 'tornado.escape',\n",
       " '_curses',\n",
       " 'curses',\n",
       " 'tornado.log',\n",
       " 'tornado.concurrent',\n",
       " 'tornado.ioloop',\n",
       " 'socketserver',\n",
       " 'logging.config',\n",
       " 'textwrap',\n",
       " 'traitlets.utils.text',\n",
       " 'gettext',\n",
       " 'argparse',\n",
       " 'traitlets.config.loader',\n",
       " 'traitlets.config.configurable',\n",
       " 'traitlets.utils.nested_update',\n",
       " 'traitlets.config.application',\n",
       " 'traitlets.config',\n",
       " 'traitlets.log',\n",
       " 'zmq.eventloop',\n",
       " 'zmq.eventloop.zmqstream',\n",
       " 'jupyter_client.adapter',\n",
       " 'dateutil._version',\n",
       " 'dateutil',\n",
       " 'locale',\n",
       " 'calendar',\n",
       " 'six',\n",
       " '_decimal',\n",
       " 'decimal',\n",
       " 'dateutil._common',\n",
       " 'dateutil.relativedelta',\n",
       " 'six.moves',\n",
       " 'dateutil.tz._common',\n",
       " 'dateutil.tz._factories',\n",
       " 'dateutil.tz.tz',\n",
       " 'dateutil.tz',\n",
       " 'dateutil.parser._parser',\n",
       " 'dateutil.parser.isoparser',\n",
       " 'dateutil.parser',\n",
       " '_strptime',\n",
       " 'jupyter_client.jsonutil',\n",
       " 'jupyter_client.session',\n",
       " 'jupyter_client.channels',\n",
       " 'termios',\n",
       " 'getpass',\n",
       " 'jupyter_client.clientabc',\n",
       " 'glob',\n",
       " '_compression',\n",
       " '_bz2',\n",
       " 'bz2',\n",
       " '_lzma',\n",
       " 'lzma',\n",
       " 'shutil',\n",
       " 'tempfile',\n",
       " 'platformdirs.api',\n",
       " 'platformdirs.version',\n",
       " 'platformdirs.macos',\n",
       " 'platformdirs',\n",
       " 'jupyter_core.paths',\n",
       " 'jupyter_client.localinterfaces',\n",
       " 'jupyter_client.utils',\n",
       " 'jupyter_client.connect',\n",
       " 'jupyter_client.client',\n",
       " 'jupyter_client.asynchronous.client',\n",
       " 'jupyter_client.asynchronous',\n",
       " 'jupyter_client.blocking.client',\n",
       " 'jupyter_client.blocking',\n",
       " 'jupyter_client.launcher',\n",
       " '_uuid',\n",
       " 'uuid',\n",
       " '_csv',\n",
       " 'csv',\n",
       " 'email',\n",
       " 'zipfile',\n",
       " 'uu',\n",
       " 'quopri',\n",
       " 'email._parseaddr',\n",
       " 'email.base64mime',\n",
       " 'email.quoprimime',\n",
       " 'email.errors',\n",
       " 'email.encoders',\n",
       " 'email.charset',\n",
       " 'email.utils',\n",
       " 'email.header',\n",
       " 'email._policybase',\n",
       " 'email._encoded_words',\n",
       " 'email.iterators',\n",
       " 'email.message',\n",
       " 'importlib.metadata._functools',\n",
       " 'importlib.metadata._text',\n",
       " 'importlib.metadata._adapters',\n",
       " 'importlib.metadata._meta',\n",
       " 'importlib.metadata._collections',\n",
       " 'importlib.metadata._itertools',\n",
       " 'importlib.abc',\n",
       " 'importlib.metadata',\n",
       " 'jupyter_client.provisioning.provisioner_base',\n",
       " 'jupyter_client.provisioning.factory',\n",
       " 'jupyter_client.provisioning.local_provisioner',\n",
       " 'jupyter_client.provisioning',\n",
       " 'jupyter_client.kernelspec',\n",
       " 'jupyter_client.managerabc',\n",
       " 'jupyter_client.manager',\n",
       " 'jupyter_client.multikernelmanager',\n",
       " 'jupyter_client',\n",
       " 'ipykernel.connect',\n",
       " 'ipykernel',\n",
       " 'IPython.core',\n",
       " 'IPython.core.getipython',\n",
       " 'IPython.core.release',\n",
       " 'pkgutil',\n",
       " 'sysconfig',\n",
       " '_sysconfigdata__darwin_darwin',\n",
       " '_osx_support',\n",
       " 'pydoc',\n",
       " 'executing.executing',\n",
       " 'executing.version',\n",
       " 'executing',\n",
       " 'asttokens.line_numbers',\n",
       " 'asttokens.util',\n",
       " 'asttokens.asttokens',\n",
       " 'asttokens',\n",
       " 'fractions',\n",
       " 'pure_eval.utils',\n",
       " 'pure_eval.my_getattr_static',\n",
       " 'pure_eval.core',\n",
       " 'pure_eval.version',\n",
       " 'pure_eval',\n",
       " 'stack_data.utils',\n",
       " 'stack_data.core',\n",
       " 'stack_data.formatting',\n",
       " 'stack_data.serializing',\n",
       " 'stack_data.version',\n",
       " 'stack_data',\n",
       " 'pygments',\n",
       " 'pygments.formatters._mapping',\n",
       " 'pygments.plugin',\n",
       " 'pygments.util',\n",
       " 'pygments.formatters',\n",
       " 'pygments.styles._mapping',\n",
       " 'pygments.styles',\n",
       " 'pygments.formatter',\n",
       " 'pygments.console',\n",
       " 'pygments.token',\n",
       " 'pygments.style',\n",
       " 'pygments.formatters.terminal256',\n",
       " 'IPython.utils',\n",
       " 'IPython.utils.colorable',\n",
       " 'IPython.utils.ipstruct',\n",
       " 'IPython.utils.coloransi',\n",
       " 'IPython.utils.PyColorize',\n",
       " 'IPython.utils.encoding',\n",
       " 'IPython.utils.py3compat',\n",
       " 'IPython.core.excolors',\n",
       " 'cmd',\n",
       " 'bdb',\n",
       " 'codeop',\n",
       " 'code',\n",
       " 'pdb',\n",
       " 'IPython.core.debugger',\n",
       " 'IPython.core.display_trap',\n",
       " 'shlex',\n",
       " 'IPython.utils._process_common',\n",
       " 'IPython.utils._process_posix',\n",
       " 'IPython.utils.process',\n",
       " 'IPython.utils.path',\n",
       " 'IPython.utils.terminal',\n",
       " 'IPython.core.ultratb',\n",
       " 'IPython.utils._sysinfo',\n",
       " 'IPython.utils.sysinfo',\n",
       " 'IPython.core.crashhandler',\n",
       " 'IPython.utils.importstring',\n",
       " 'IPython.paths',\n",
       " 'IPython.core.profiledir',\n",
       " 'IPython.core.application',\n",
       " 'IPython.terminal',\n",
       " 'IPython.core.compilerop',\n",
       " 'IPython.core.error',\n",
       " 'IPython.utils.docs',\n",
       " 'IPython.utils.decorators',\n",
       " 'IPython.utils.text',\n",
       " 'IPython.core.magic_arguments',\n",
       " 'getopt',\n",
       " 'IPython.core.display_functions',\n",
       " 'mimetypes',\n",
       " 'IPython.testing',\n",
       " 'IPython.testing.skipdoctest',\n",
       " 'IPython.core.display',\n",
       " 'IPython.lib',\n",
       " 'IPython.lib.display',\n",
       " 'IPython.display',\n",
       " 'IPython.utils.data',\n",
       " 'IPython.core.page',\n",
       " 'IPython.lib.pretty',\n",
       " 'IPython.utils.openpy',\n",
       " 'IPython.utils.dir2',\n",
       " 'IPython.utils.wildcard',\n",
       " 'pygments.lexers._mapping',\n",
       " 'pygments.modeline',\n",
       " 'pygments.lexers',\n",
       " 'pygments.filter',\n",
       " 'pygments.filters',\n",
       " 'pygments.regexopt',\n",
       " 'pygments.lexer',\n",
       " 'pygments.unistring',\n",
       " 'pygments.lexers.python',\n",
       " 'pygments.formatters.html',\n",
       " 'IPython.core.oinspect',\n",
       " 'IPython.utils.tokenutil',\n",
       " 'IPython.core.inputtransformer2',\n",
       " 'IPython.core.magic',\n",
       " 'IPython.core.hooks',\n",
       " 'IPython.core.autocall',\n",
       " 'IPython.core.macro',\n",
       " 'IPython.core.splitinput',\n",
       " 'IPython.core.prefilter',\n",
       " 'IPython.core.alias',\n",
       " 'IPython.core.builtin_trap',\n",
       " 'IPython.core.displayhook',\n",
       " 'IPython.core.displaypub',\n",
       " 'IPython.core.events',\n",
       " 'IPython.core.extensions',\n",
       " 'decorator',\n",
       " 'IPython.utils.sentinel',\n",
       " 'IPython.core.formatters',\n",
       " '_sqlite3',\n",
       " 'sqlite3.dbapi2',\n",
       " 'sqlite3',\n",
       " 'IPython.core.history',\n",
       " 'IPython.core.logger',\n",
       " 'IPython.core.payload',\n",
       " 'IPython.core.usage',\n",
       " 'IPython.utils.capture',\n",
       " 'IPython.utils.io',\n",
       " 'IPython.utils.strdispatch',\n",
       " 'IPython.utils.syspathcontext',\n",
       " 'exceptiongroup._exceptions',\n",
       " 'exceptiongroup._catch',\n",
       " 'exceptiongroup._version',\n",
       " 'exceptiongroup._formatting',\n",
       " 'exceptiongroup._suppress',\n",
       " 'exceptiongroup',\n",
       " 'IPython.core.async_helpers',\n",
       " 'IPython.core.interactiveshell',\n",
       " 'prompt_toolkit.application.current',\n",
       " 'prompt_toolkit.eventloop.utils',\n",
       " 'prompt_toolkit.eventloop.async_generator',\n",
       " 'prompt_toolkit.eventloop.inputhook',\n",
       " 'prompt_toolkit.eventloop',\n",
       " 'prompt_toolkit.application.run_in_terminal',\n",
       " 'prompt_toolkit.selection',\n",
       " 'prompt_toolkit.clipboard.base',\n",
       " 'prompt_toolkit.clipboard.in_memory',\n",
       " 'prompt_toolkit.clipboard',\n",
       " 'prompt_toolkit.cache',\n",
       " 'prompt_toolkit.enums',\n",
       " 'prompt_toolkit.filters.base',\n",
       " 'prompt_toolkit.filters.app',\n",
       " 'prompt_toolkit.filters.cli',\n",
       " 'prompt_toolkit.filters.utils',\n",
       " 'prompt_toolkit.filters',\n",
       " 'prompt_toolkit.document',\n",
       " 'prompt_toolkit.auto_suggest',\n",
       " 'prompt_toolkit.keys',\n",
       " 'prompt_toolkit.key_binding.key_bindings',\n",
       " 'wcwidth.table_vs16',\n",
       " 'wcwidth.table_wide',\n",
       " 'wcwidth.table_zero',\n",
       " 'wcwidth.unicode_versions',\n",
       " 'wcwidth.wcwidth',\n",
       " 'wcwidth',\n",
       " 'prompt_toolkit.utils',\n",
       " 'prompt_toolkit.key_binding.key_processor',\n",
       " 'prompt_toolkit.key_binding',\n",
       " 'prompt_toolkit.key_binding.vi_state',\n",
       " 'prompt_toolkit.cursor_shapes',\n",
       " 'prompt_toolkit.data_structures',\n",
       " 'prompt_toolkit.styles.base',\n",
       " 'prompt_toolkit.styles.named_colors',\n",
       " 'prompt_toolkit.styles.style',\n",
       " 'prompt_toolkit.styles.defaults',\n",
       " 'prompt_toolkit.styles.pygments',\n",
       " 'colorsys',\n",
       " 'prompt_toolkit.styles.style_transformation',\n",
       " 'prompt_toolkit.styles',\n",
       " 'prompt_toolkit.output.color_depth',\n",
       " 'prompt_toolkit.output.base',\n",
       " 'prompt_toolkit.output.flush_stdout',\n",
       " 'prompt_toolkit.output.plain_text',\n",
       " 'prompt_toolkit.output.defaults',\n",
       " 'prompt_toolkit.output',\n",
       " 'prompt_toolkit.output.vt100',\n",
       " 'prompt_toolkit.mouse_events',\n",
       " 'prompt_toolkit.formatted_text.base',\n",
       " 'prompt_toolkit.formatted_text.ansi',\n",
       " 'xml',\n",
       " 'xml.dom.domreg',\n",
       " 'xml.dom',\n",
       " 'xml.dom.minicompat',\n",
       " 'xml.dom.NodeFilter',\n",
       " 'xml.dom.xmlbuilder',\n",
       " 'xml.dom.minidom',\n",
       " 'prompt_toolkit.formatted_text.html',\n",
       " 'prompt_toolkit.formatted_text.pygments',\n",
       " 'prompt_toolkit.formatted_text.utils',\n",
       " 'prompt_toolkit.formatted_text',\n",
       " 'prompt_toolkit.completion.base',\n",
       " 'prompt_toolkit.completion.deduplicate',\n",
       " 'prompt_toolkit.completion.filesystem',\n",
       " 'prompt_toolkit.completion.word_completer',\n",
       " 'prompt_toolkit.completion.fuzzy_completer',\n",
       " 'prompt_toolkit.completion.nested',\n",
       " 'prompt_toolkit.completion',\n",
       " 'prompt_toolkit.history',\n",
       " 'prompt_toolkit.search',\n",
       " 'prompt_toolkit.validation',\n",
       " 'prompt_toolkit.buffer',\n",
       " 'prompt_toolkit.input.base',\n",
       " 'prompt_toolkit.input.defaults',\n",
       " 'prompt_toolkit.input',\n",
       " 'prompt_toolkit.input.typeahead',\n",
       " 'prompt_toolkit.key_binding.bindings',\n",
       " 'prompt_toolkit.key_binding.bindings.scroll',\n",
       " 'prompt_toolkit.key_binding.bindings.page_navigation',\n",
       " 'prompt_toolkit.lexers.base',\n",
       " 'prompt_toolkit.lexers.pygments',\n",
       " 'prompt_toolkit.lexers',\n",
       " 'prompt_toolkit.layout.utils',\n",
       " 'prompt_toolkit.layout.processors',\n",
       " 'prompt_toolkit.layout.controls',\n",
       " 'prompt_toolkit.layout.dimension',\n",
       " 'prompt_toolkit.layout.margins',\n",
       " 'prompt_toolkit.layout.mouse_handlers',\n",
       " 'prompt_toolkit.layout.screen',\n",
       " 'prompt_toolkit.layout.containers',\n",
       " 'prompt_toolkit.layout.layout',\n",
       " 'prompt_toolkit.layout.menus',\n",
       " 'prompt_toolkit.layout.scrollable_pane',\n",
       " 'prompt_toolkit.layout',\n",
       " 'prompt_toolkit.key_binding.bindings.completion',\n",
       " 'prompt_toolkit.key_binding.bindings.named_commands',\n",
       " 'prompt_toolkit.key_binding.bindings.basic',\n",
       " 'prompt_toolkit.key_binding.bindings.cpr',\n",
       " 'prompt_toolkit.key_binding.bindings.emacs',\n",
       " 'prompt_toolkit.key_binding.bindings.mouse',\n",
       " 'prompt_toolkit.input.ansi_escape_sequences',\n",
       " 'prompt_toolkit.input.vt100_parser',\n",
       " 'prompt_toolkit.key_binding.digraphs',\n",
       " 'prompt_toolkit.key_binding.bindings.vi',\n",
       " 'prompt_toolkit.key_binding.defaults',\n",
       " 'prompt_toolkit.key_binding.emacs_state',\n",
       " 'prompt_toolkit.layout.dummy',\n",
       " 'prompt_toolkit.renderer',\n",
       " 'prompt_toolkit.application.application',\n",
       " 'prompt_toolkit.application.dummy',\n",
       " 'prompt_toolkit.application',\n",
       " 'prompt_toolkit.key_binding.bindings.focus',\n",
       " 'prompt_toolkit.widgets.toolbars',\n",
       " 'prompt_toolkit.widgets.base',\n",
       " 'prompt_toolkit.widgets.dialogs',\n",
       " 'prompt_toolkit.widgets.menus',\n",
       " 'prompt_toolkit.widgets',\n",
       " 'prompt_toolkit.shortcuts.dialogs',\n",
       " 'prompt_toolkit.shortcuts.progress_bar.formatters',\n",
       " 'prompt_toolkit.shortcuts.progress_bar.base',\n",
       " 'prompt_toolkit.shortcuts.progress_bar',\n",
       " 'prompt_toolkit.key_binding.bindings.auto_suggest',\n",
       " 'prompt_toolkit.key_binding.bindings.open_in_editor',\n",
       " 'prompt_toolkit.shortcuts.prompt',\n",
       " 'prompt_toolkit.shortcuts.utils',\n",
       " 'prompt_toolkit.shortcuts',\n",
       " 'prompt_toolkit',\n",
       " 'prompt_toolkit.patch_stdout',\n",
       " 'unicodedata',\n",
       " 'IPython.core.guarded_eval',\n",
       " 'IPython.core.latex_symbols',\n",
       " 'IPython.utils.generics',\n",
       " 'parso.utils',\n",
       " 'parso.tree',\n",
       " 'parso.python',\n",
       " 'parso.python.token',\n",
       " 'parso.python.tokenize',\n",
       " 'parso.pgen2.grammar_parser',\n",
       " 'parso.pgen2.generator',\n",
       " 'parso.pgen2',\n",
       " 'parso.parser',\n",
       " 'parso._compatibility',\n",
       " 'difflib',\n",
       " 'parso.python.prefix',\n",
       " 'parso.python.tree',\n",
       " 'parso.python.parser',\n",
       " 'parso.python.diff',\n",
       " 'gc',\n",
       " 'parso.cache',\n",
       " 'parso.normalizer',\n",
       " 'parso.python.errors',\n",
       " 'parso.python.pep8',\n",
       " 'parso.file_io',\n",
       " 'parso.grammar',\n",
       " 'parso',\n",
       " 'jedi.parser_utils',\n",
       " 'jedi.debug',\n",
       " 'jedi.settings',\n",
       " 'jedi.cache',\n",
       " 'jedi.file_io',\n",
       " 'jedi.inference.cache',\n",
       " 'jedi.inference.helpers',\n",
       " 'jedi.inference.utils',\n",
       " 'jedi.inference.base_value',\n",
       " 'jedi.inference.sys_path',\n",
       " 'jedi.inference.recursion',\n",
       " 'jedi.inference.flow_analysis',\n",
       " 'jedi.common',\n",
       " 'jedi.inference.lazy_value',\n",
       " 'jedi.inference.docstrings',\n",
       " 'jedi.plugins',\n",
       " 'jedi.inference.names',\n",
       " 'jedi.inference.filters',\n",
       " 'jedi.inference.compiled.getattr_static',\n",
       " 'jedi.inference.compiled.access',\n",
       " 'jedi.inference.signature',\n",
       " 'jedi.inference.context',\n",
       " 'jedi.inference.compiled.value',\n",
       " 'jedi.inference.compiled',\n",
       " 'jedi.inference.analysis',\n",
       " 'jedi.inference.gradual',\n",
       " 'jedi.inference.value.module',\n",
       " 'jedi.inference.value.dynamic_arrays',\n",
       " 'jedi.inference.value.iterable',\n",
       " 'jedi.inference.arguments',\n",
       " 'jedi.inference.parser_cache',\n",
       " 'jedi.inference.gradual.generics',\n",
       " 'jedi.inference.value.function',\n",
       " 'jedi.inference.value.klass',\n",
       " 'jedi.inference.value.instance',\n",
       " 'jedi.inference.value',\n",
       " 'jedi.inference.gradual.base',\n",
       " 'jedi.inference.gradual.type_var',\n",
       " 'jedi.inference.gradual.typing',\n",
       " 'jedi.inference.gradual.stub_value',\n",
       " 'jedi.inference.gradual.typeshed',\n",
       " 'jedi._compatibility',\n",
       " 'jedi.inference.compiled.subprocess.functions',\n",
       " 'jedi.api.exceptions',\n",
       " 'jedi.inference.compiled.subprocess',\n",
       " 'jedi.inference.imports',\n",
       " 'jedi.inference.param',\n",
       " 'jedi.inference.gradual.annotation',\n",
       " 'jedi.inference.value.decorator',\n",
       " 'jedi.inference.syntax_tree',\n",
       " 'jedi.inference',\n",
       " 'jedi.inference.gradual.conversion',\n",
       " 'jedi.inference.compiled.mixed',\n",
       " 'pydoc_data',\n",
       " 'pydoc_data.topics',\n",
       " 'jedi.api.keywords',\n",
       " 'jedi.api.completion_cache',\n",
       " 'jedi.api.helpers',\n",
       " 'jedi.api.classes',\n",
       " 'jedi.api.interpreter',\n",
       " 'jedi.api.strings',\n",
       " 'jedi.api.file_name',\n",
       " 'jedi.inference.docstring_utils',\n",
       " 'jedi.api.completion',\n",
       " 'filecmp',\n",
       " 'jedi.api.environment',\n",
       " 'jedi.inference.references',\n",
       " 'jedi.api.project',\n",
       " 'jedi.api.errors',\n",
       " 'jedi.inference.value.namespace',\n",
       " 'jedi.api.refactoring',\n",
       " 'jedi.api.refactoring.extract',\n",
       " 'jedi.inference.gradual.utils',\n",
       " 'jedi.api',\n",
       " 'jedi.plugins.stdlib',\n",
       " 'jedi.plugins.flask',\n",
       " 'jedi.plugins.pytest',\n",
       " 'jedi.plugins.django',\n",
       " 'jedi.plugins.registry',\n",
       " 'jedi',\n",
       " 'IPython.core.completer',\n",
       " 'IPython.terminal.ptutils',\n",
       " 'IPython.terminal.shortcuts.auto_match',\n",
       " 'IPython.terminal.shortcuts.filters',\n",
       " 'IPython.terminal.shortcuts.auto_suggest',\n",
       " 'IPython.terminal.shortcuts',\n",
       " 'concurrent.futures.thread',\n",
       " 'IPython.terminal.debugger',\n",
       " 'IPython.lib.clipboard',\n",
       " 'IPython.terminal.magics',\n",
       " 'IPython.terminal.pt_inputhooks',\n",
       " 'IPython.terminal.prompts',\n",
       " 'IPython.terminal.interactiveshell',\n",
       " 'IPython.core.magics.auto',\n",
       " 'IPython.core.magics.basic',\n",
       " 'http',\n",
       " 'email.feedparser',\n",
       " 'email.parser',\n",
       " 'http.client',\n",
       " 'urllib.response',\n",
       " 'urllib.error',\n",
       " '_scproxy',\n",
       " 'urllib.request',\n",
       " 'IPython.utils.contexts',\n",
       " 'IPython.core.magics.code',\n",
       " 'IPython.core.magics.config',\n",
       " 'IPython.core.magics.display',\n",
       " '_lsprof',\n",
       " 'profile',\n",
       " 'cProfile',\n",
       " 'pstats',\n",
       " 'timeit',\n",
       " 'IPython.utils.module_paths',\n",
       " 'resource',\n",
       " 'IPython.utils.timing',\n",
       " 'IPython.core.magics.ast_mod',\n",
       " 'IPython.core.magics.execution',\n",
       " 'IPython.core.magics.extension',\n",
       " 'IPython.core.magics.history',\n",
       " 'IPython.core.magics.logging',\n",
       " 'IPython.core.magics.namespace',\n",
       " 'IPython.core.magics.osm',\n",
       " 'IPython.core.magics.packaging',\n",
       " 'IPython.core.pylabtools',\n",
       " 'IPython.core.magics.pylab',\n",
       " 'IPython.core.magics.script',\n",
       " 'IPython.core.magics',\n",
       " 'IPython.core.shellapp',\n",
       " 'IPython.extensions',\n",
       " 'IPython.extensions.storemagic',\n",
       " 'IPython.terminal.ipapp',\n",
       " 'IPython.terminal.embed',\n",
       " 'IPython.utils.frame',\n",
       " 'IPython',\n",
       " 'ipykernel.control',\n",
       " 'ipykernel.heartbeat',\n",
       " 'ipykernel.iostream',\n",
       " 'comm.base_comm',\n",
       " 'comm',\n",
       " 'ipykernel.jsonutil',\n",
       " 'pwd',\n",
       " 'psutil._common',\n",
       " 'psutil._compat',\n",
       " 'psutil._psutil_osx',\n",
       " 'psutil._psposix',\n",
       " 'psutil._psutil_posix',\n",
       " 'psutil._psosx',\n",
       " 'psutil',\n",
       " 'tornado.gen',\n",
       " 'tornado.locks',\n",
       " 'tornado.queues',\n",
       " 'ipykernel.kernelbase',\n",
       " 'ipykernel.comm.comm',\n",
       " 'ipykernel.comm.manager',\n",
       " 'ipykernel.comm',\n",
       " 'ipykernel.compiler',\n",
       " 'debugpy._version',\n",
       " 'debugpy.public_api',\n",
       " 'debugpy',\n",
       " 'debugpy._vendored._util',\n",
       " 'debugpy._vendored',\n",
       " '_pydevd_bundle',\n",
       " 'encodings.ascii',\n",
       " 'encodings.latin_1',\n",
       " 'stringprep',\n",
       " 'encodings.idna',\n",
       " '_pydevd_bundle.pydevd_vm_type',\n",
       " '_pydev_bundle',\n",
       " 'xmlrpc',\n",
       " 'xml.parsers',\n",
       " 'pyexpat.errors',\n",
       " 'pyexpat.model',\n",
       " 'pyexpat',\n",
       " 'xml.parsers.expat.model',\n",
       " 'xml.parsers.expat.errors',\n",
       " 'xml.parsers.expat',\n",
       " 'gzip',\n",
       " 'xmlrpc.client',\n",
       " 'http.server',\n",
       " 'xmlrpc.server',\n",
       " '_pydev_bundle._pydev_saved_modules',\n",
       " '_pydevd_bundle.pydevd_constants',\n",
       " '_pydev_runfiles',\n",
       " '_pydevd_frame_eval',\n",
       " 'pydev_ipython',\n",
       " 'pydevd_plugins',\n",
       " '_pydev_bundle.pydev_log',\n",
       " '_pydev_bundle._pydev_filesystem_encoding',\n",
       " '_pydevd_bundle.pydevd_comm_constants',\n",
       " 'pydevd_file_utils',\n",
       " '_pydev_bundle._pydev_execfile',\n",
       " '_pydevd_bundle.pydevd_exec2',\n",
       " '_pydev_bundle.pydev_imports',\n",
       " '_pydev_bundle.pydev_is_thread_alive',\n",
       " '_pydev_bundle.pydev_override',\n",
       " 'pydevd_plugins.extensions',\n",
       " '_pydevd_bundle.pydevd_extension_utils',\n",
       " '_pydevd_bundle.pydevd_frame_utils',\n",
       " '_pydevd_bundle.pydevd_filtering',\n",
       " '_pydevd_bundle.pydevd_io',\n",
       " '_pydevd_bundle.pydevd_defaults',\n",
       " '_pydevd_bundle.pydevd_utils',\n",
       " '_pydevd_bundle.pydevd_runpy',\n",
       " '_pydev_bundle._pydev_tipper_common',\n",
       " '_pydev_bundle._pydev_imports_tipper',\n",
       " '_pydev_bundle._pydev_calltip_util',\n",
       " '_pydevd_bundle.pydevd_safe_repr',\n",
       " '_pydevd_bundle.pydevd_resolver',\n",
       " '_pydevd_bundle.pydevd_extension_api',\n",
       " '_pydevd_bundle.pydevd_xml',\n",
       " '_pydevd_bundle.pydevd_dont_trace',\n",
       " '_pydevd_frame_eval.vendored',\n",
       " '_pydevd_frame_eval.vendored.bytecode.flags',\n",
       " '_pydevd_frame_eval.vendored.bytecode.instr',\n",
       " '_pydevd_frame_eval.vendored.bytecode.bytecode',\n",
       " '_pydevd_frame_eval.vendored.bytecode.concrete',\n",
       " '_pydevd_frame_eval.vendored.bytecode.cfg',\n",
       " '_pydevd_frame_eval.vendored.bytecode',\n",
       " '_pydevd_bundle.pydevd_bytecode_utils',\n",
       " '_pydevd_bundle.pydevd_frame',\n",
       " '_pydevd_bundle.pydevd_additional_thread_info_regular',\n",
       " '_pydevd_bundle.pydevd_additional_thread_info',\n",
       " '_pydevd_bundle.pydevd_thread_lifecycle',\n",
       " '_pydevd_bundle.pydevd_save_locals',\n",
       " '_pydev_bundle.pydev_monkey',\n",
       " 'pydevd_tracing',\n",
       " '_pydevd_bundle.pydevd_collect_bytecode_info',\n",
       " '_pydevd_bundle.pydevd_daemon_thread',\n",
       " '_pydevd_bundle.pydevd_timeout',\n",
       " '_pydevd_bundle.pydevd_vars',\n",
       " '_pydev_bundle.pydev_console_utils',\n",
       " '_pydevd_bundle.pydevd_import_class',\n",
       " '_pydevd_bundle.pydevd_breakpoints',\n",
       " '_pydevd_bundle.pydevd_custom_frames',\n",
       " '_pydevd_bundle.pydevd_dont_trace_files',\n",
       " '_pydevd_bundle.pydevd_net_command',\n",
       " '_pydevd_bundle.pydevconsole_code',\n",
       " '_pydev_bundle.pydev_umd',\n",
       " 'pydevconsole',\n",
       " '_pydev_bundle._pydev_completer',\n",
       " '_pydevd_bundle.pydevd_net_command_factory_xml',\n",
       " '_pydevd_bundle.pydevd_trace_dispatch_regular',\n",
       " '_pydevd_bundle.pydevd_trace_dispatch',\n",
       " '_pydevd_frame_eval.pydevd_frame_eval_main',\n",
       " '_pydevd_bundle.pydevd_source_mapping',\n",
       " '_pydevd_bundle.pydevd_concurrency_analyser',\n",
       " '_pydevd_bundle.pydevd_concurrency_analyser.pydevd_thread_wrappers',\n",
       " '_pydevd_bundle.pydevd_concurrency_analyser.pydevd_concurrency_logger',\n",
       " '_pydevd_bundle._debug_adapter',\n",
       " '_pydevd_bundle._debug_adapter.pydevd_schema_log',\n",
       " '_pydevd_bundle._debug_adapter.pydevd_base_schema',\n",
       " '_pydevd_bundle._debug_adapter.pydevd_schema',\n",
       " '_pydevd_bundle.pydevd_reload',\n",
       " '_pydev_bundle.fsnotify',\n",
       " '_pydevd_bundle.pydevd_console',\n",
       " '_pydevd_bundle.pydevd_comm',\n",
       " '_pydevd_bundle.pydevd_net_command_factory_json',\n",
       " '_pydevd_bundle.pydevd_api',\n",
       " '_pydevd_bundle.pydevd_json_debug_options',\n",
       " '_pydevd_bundle.pydevd_process_net_command_json',\n",
       " '_pydevd_bundle.pydevd_traceproperty',\n",
       " '_pydevd_bundle.pydevd_process_net_command',\n",
       " '_pydevd_bundle.pydevd_suspended_frames',\n",
       " '_pydevd_bundle.pydevd_trace_api',\n",
       " 'pydevd_plugins.pydevd_line_validation',\n",
       " 'pydevd_plugins.django_debug',\n",
       " 'pydevd_plugins.jinja2_debug',\n",
       " '_pydevd_bundle.pydevd_plugin_utils',\n",
       " 'pydevd_plugins.extensions.types',\n",
       " 'pydevd_plugins.extensions.types.pydevd_helpers',\n",
       " 'pydevd_plugins.extensions.types.pydevd_plugin_numpy_types',\n",
       " 'pydevd_plugins.extensions.types.pydevd_plugin_pandas_types',\n",
       " 'pydevd_plugins.extensions.types.pydevd_plugins_django_form_str',\n",
       " 'pydevd',\n",
       " 'debugpy._vendored.force_pydevd',\n",
       " 'debugpy.server',\n",
       " 'debugpy.adapter',\n",
       " 'debugpy.common',\n",
       " 'debugpy.common.json',\n",
       " 'debugpy.common.timestamp',\n",
       " 'debugpy.common.util',\n",
       " 'plistlib',\n",
       " 'debugpy.common.log',\n",
       " 'debugpy.common.sockets',\n",
       " 'debugpy.server.api',\n",
       " 'ipykernel.debugger',\n",
       " 'packaging',\n",
       " 'packaging._structures',\n",
       " 'packaging.version',\n",
       " 'ipykernel.eventloops',\n",
       " 'IPython.core.payloadpage',\n",
       " 'ipykernel.displayhook',\n",
       " 'ipykernel.zmqshell',\n",
       " 'ipykernel.ipkernel',\n",
       " 'ipykernel.parentpoller',\n",
       " 'ipykernel.kernelapp',\n",
       " 'tornado.platform',\n",
       " 'tornado.platform.asyncio',\n",
       " 'faulthandler',\n",
       " 'IPython.core.completerlib',\n",
       " 'ctypes.macholib',\n",
       " 'ctypes.macholib.framework',\n",
       " 'ctypes.macholib.dylib',\n",
       " 'ctypes.macholib.dyld',\n",
       " 'ctypes.util',\n",
       " 'appnope._nope',\n",
       " 'appnope',\n",
       " 'pygments.styles.default',\n",
       " 'zmq.utils.garbage']"
      ]
     },
     "execution_count": 43,
     "metadata": {},
     "output_type": "execute_result"
    }
   ],
   "source": [
    "list(sys.modules.keys())"
   ]
  },
  {
   "cell_type": "markdown",
   "metadata": {},
   "source": [
    "#### 配置搜索路径\n"
   ]
  },
  {
   "cell_type": "markdown",
   "metadata": {},
   "source": [
    "查看平台配置的模块搜索路径; python 会从左到右自动搜索该文件的路径"
   ]
  },
  {
   "cell_type": "code",
   "execution_count": 1,
   "metadata": {},
   "outputs": [
    {
     "name": "stdout",
     "output_type": "stream",
     "text": [
      "['/Users/lixun1/PycharmProjects/DatascientificProject/notebooks', '/Library/Frameworks/Python.framework/Versions/3.10/lib/python310.zip', '/Library/Frameworks/Python.framework/Versions/3.10/lib/python3.10', '/Library/Frameworks/Python.framework/Versions/3.10/lib/python3.10/lib-dynload', '', '/Users/lixun1/PycharmProjects/DatascientificProject/venv/lib/python3.10/site-packages']\n"
     ]
    }
   ],
   "source": [
    "import sys\n",
    "print(sys.path)"
   ]
  },
  {
   "cell_type": "markdown",
   "metadata": {},
   "source": [
    "默认的 sys 目录添加:\n",
    "1. 顶级文件的主目录\n",
    "2. 任何 PYTHONPATH 目录\n",
    "3. 已经创建的包含 .pth 文件路径的内容\n",
    "4. 标准库目录"
   ]
  },
  {
   "cell_type": "markdown",
   "metadata": {},
   "source": [
    "1. 通过修改 sys.path 进行导入路径的临时性修改\n",
    "2. 通过 PYTHONPATH 和 .pth 用于提供路径的持久化修改"
   ]
  },
  {
   "cell_type": "markdown",
   "metadata": {},
   "source": [
    "模块的处理函数:\n",
    "1. import: 使用一个变量名引用整个模块变量, 需要通过模块名来获取对象的属性\n",
    "2. from: 将变量名复制到该作用域, 建议直接使用该变量名\n",
    "3. from *: 将所有变量名引用到该作用域\n",
    "4. impl.reload(): 不终止程序的情况下,提供了一种重新载入模块文件代码的方法"
   ]
  },
  {
   "cell_type": "markdown",
   "metadata": {},
   "source": [
    "导入只有在第一次import 或 from 时,载入并且执行,并且只执行一次"
   ]
  },
  {
   "cell_type": "markdown",
   "metadata": {},
   "source": [
    "import 和 from 是可执行的语句,而不是编译期间的声明, 可以嵌套在 if 测试中,出现在函数 def 之中\n",
    "1. import 将整个模块的对象赋值给一个变量名\n",
    "2. from 用于将一个或者多个变量名赋值给另一个模块中同名的对象"
   ]
  },
  {
   "cell_type": "markdown",
   "metadata": {},
   "source": [
    "reload:\n",
    "1. reload 是 Python 中的内置函数, 而不是语句\n",
    "2. 传给 reload 的是已经存在的模块对象, 而不是变量名\n",
    "3. "
   ]
  },
  {
   "cell_type": "markdown",
   "metadata": {},
   "source": [
    "__init__.py: 包导入语句的路径中的每个目录内,都必须有 __init__.py 文件,否则包导入会失败. \n",
    "1. dir1 和 dir2 中必须有一个 __init__py 文件\n",
    "2. dir0 是容器,不需要 __init__.py"
   ]
  },
  {
   "cell_type": "markdown",
   "metadata": {},
   "source": [
    "1. 包的初始化: Python 首次导入某个目录时, 会自动执行该目录下 __init__.py 文件中的所有程序代码. 包含创建数据文件 连接数据库\n",
    "2. 模块命名空间的初始化: 在包导入的模型中, 目录内的目录路径, 在导入后会变成真实的嵌套对象路径. \n",
    "3. from 语句的行为: 可以在 __init__.py 文件内使用  __all__ 列表来定义"
   ]
  },
  {
   "cell_type": "markdown",
   "metadata": {
    "jp-MarkdownHeadingCollapsed": true
   },
   "source": [
    "# 第二十四章 在模块中隐藏数据"
   ]
  },
  {
   "cell_type": "markdown",
   "metadata": {},
   "source": [
    "* 在变量名前防止 _x 可以用于防止客户端使用 from * 语句导入模块时, 把其中的那些变量名复制出去\n",
    "* 在模块顶层把变量名的字符串列表赋值给变量 __all__, 用于达到类似 _x 命名惯例的隐藏效果\n",
    "  __all__ = ['Error', 'encode','decode'] 用于指出需要复制的变量名"
   ]
  },
  {
   "cell_type": "markdown",
   "metadata": {},
   "source": [
    "* __name__ : 如果文件是以顶层程序文件运行的话, 在启动时, __name__ 就会被设置为字符串 __main__ \n",
    "* 如果文件被导入, __name__ 就会改成客户端所了解的模块名\n",
    "* 模块可以检测自己的 __name__, 来确定他是在执行还是在导入\n",
    "* __name__ 可以用来进行最简单的单元测试"
   ]
  },
  {
   "cell_type": "code",
   "execution_count": 5,
   "metadata": {},
   "outputs": [
    {
     "name": "stdout",
     "output_type": "stream",
     "text": [
      "1\n",
      "6\n"
     ]
    }
   ],
   "source": [
    "def minmax(test, *args):\n",
    "    res = args[0]\n",
    "    for arg in args[1:]:\n",
    "        if test(arg,res):\n",
    "            res = arg\n",
    "\n",
    "    return res\n",
    "\n",
    "def lessthan(x,y): return x < y\n",
    "\n",
    "def grtrthan(x,y): return x > y\n",
    "\n",
    "\n",
    "if __name__=='__main__':\n",
    "    print(minmax(lessthan, 4,3,2,1,4,5,6,3))\n",
    "    print(minmax(grtrthan, 4,3,2,1,4,5,6,3))    \n",
    "    "
   ]
  },
  {
   "cell_type": "markdown",
   "metadata": {},
   "source": [
    "## 修改模块的搜索路径"
   ]
  },
  {
   "cell_type": "markdown",
   "metadata": {},
   "source": [
    "sys.path 在程序启动时进行初始化，并在此之后，可以任意对其元素进行删除，附加和重设."
   ]
  },
  {
   "cell_type": "code",
   "execution_count": 7,
   "metadata": {},
   "outputs": [
    {
     "data": {
      "text/plain": [
       "['/Users/lixun1/PycharmProjects/DatascientificProject/notebooks',\n",
       " '/opt/anaconda3/lib/python311.zip',\n",
       " '/opt/anaconda3/lib/python3.11',\n",
       " '/opt/anaconda3/lib/python3.11/lib-dynload',\n",
       " '',\n",
       " '/opt/anaconda3/lib/python3.11/site-packages',\n",
       " '/opt/anaconda3/lib/python3.11/site-packages/aeosa']"
      ]
     },
     "execution_count": 7,
     "metadata": {},
     "output_type": "execute_result"
    }
   ],
   "source": [
    "import sys\n",
    "sys.path"
   ]
  },
  {
   "cell_type": "code",
   "execution_count": 8,
   "metadata": {},
   "outputs": [],
   "source": [
    "sys.path.append('')"
   ]
  },
  {
   "cell_type": "markdown",
   "metadata": {},
   "source": [
    "## 模块是对象： 元程序\n",
    "模块通过内置属性显示了他们大多数的有趣的属性，因此可以很容易的编写程序来管理其他程序。这类程序称为元程序，在其他系统之上工作，也称为内省。程序可以看见可处理对象的内部"
   ]
  },
  {
   "cell_type": "markdown",
   "metadata": {},
   "source": [
    "* M.name\n",
    "* M.__dict__['name']\n",
    "* sys.modules['M'].name\n",
    "* getattr(M,'name')"
   ]
  },
  {
   "cell_type": "markdown",
   "metadata": {
    "jp-MarkdownHeadingCollapsed": true
   },
   "source": [
    "# 第二十五章: OOP 宏伟蓝图"
   ]
  },
  {
   "cell_type": "markdown",
   "metadata": {},
   "source": [
    "* OOP 提供了一种不同寻常的而且往往是更有效的检查程序的方式,利用这种设计方法,分解代码,降低代码的冗余度,通过定制现有的代码来编写新的程序,而不是在原处修改\n",
    "* 类的设计可以用来创建和管理新的对象\n",
    "* 类的两个作用:\n",
    "* * 继承: 继承父类的属性,并且扩展子类的属性\n",
    "* * 组合: 通过组合其他对象实例,来完成相应的指令,定义自己的行为以及类关系\n",
    "* * 类是对象的工厂: 类基本上就是产生对象的工厂, 每次调用一个类, 就会产生一个有独立命名空间的新对象. 每个通过类产生的对象都可以读取类的属性,并获得自己的命名空间来存储数据\n",
    "* * 通过继承进行定制: 支持在类的外部重新定义其属性,从而扩充该类.\n",
    "* * 运算符重载: 类可以定义对象来响应在内置类型上的几种运算. 切片 级联和索引等运算. 通过类钩子可以用来试下任何内置类型的运算\n"
   ]
  },
  {
   "cell_type": "markdown",
   "metadata": {},
   "source": [
    "## 概览 OOP\n",
    "\n"
   ]
  },
  {
   "cell_type": "markdown",
   "metadata": {},
   "source": [
    "* 像函数那样调用类会创建新的实例对象\n",
    "* 每个实例对象继承类的属性并且获得了自己命名空间\n",
    "* 在方法内对 self 属性做赋值运算会产生每个实例自己的属性"
   ]
  },
  {
   "cell_type": "code",
   "execution_count": 1,
   "metadata": {},
   "outputs": [],
   "source": [
    "class FirstClass:\n",
    "    def setdata(self, value):\n",
    "        self.data = value\n",
    "    def display(self):\n",
    "        print(self.data)\n"
   ]
  },
  {
   "cell_type": "code",
   "execution_count": 2,
   "metadata": {},
   "outputs": [],
   "source": [
    "x = FirstClass()\n",
    "y = FirstClass()"
   ]
  },
  {
   "cell_type": "code",
   "execution_count": 3,
   "metadata": {},
   "outputs": [],
   "source": [
    "x.setdata(\"King Arthur\")\n",
    "y.setdata(3.21156)"
   ]
  },
  {
   "cell_type": "code",
   "execution_count": 4,
   "metadata": {},
   "outputs": [
    {
     "name": "stdout",
     "output_type": "stream",
     "text": [
      "King Arthur\n"
     ]
    }
   ],
   "source": [
    "x.display()"
   ]
  },
  {
   "cell_type": "code",
   "execution_count": 5,
   "metadata": {},
   "outputs": [
    {
     "name": "stdout",
     "output_type": "stream",
     "text": [
      "3.21156\n"
     ]
    }
   ],
   "source": [
    "y.display()"
   ]
  },
  {
   "cell_type": "code",
   "execution_count": 6,
   "metadata": {},
   "outputs": [
    {
     "name": "stdout",
     "output_type": "stream",
     "text": [
      "New Value\n"
     ]
    }
   ],
   "source": [
    "x.data = \"New Value\"\n",
    "x.display()"
   ]
  },
  {
   "cell_type": "code",
   "execution_count": 7,
   "metadata": {},
   "outputs": [],
   "source": [
    "x.anothername = \"name\""
   ]
  },
  {
   "cell_type": "code",
   "execution_count": 8,
   "metadata": {},
   "outputs": [
    {
     "data": {
      "text/plain": [
       "'name'"
      ]
     },
     "execution_count": 8,
     "metadata": {},
     "output_type": "execute_result"
    }
   ],
   "source": [
    "x.anothername"
   ]
  },
  {
   "cell_type": "markdown",
   "metadata": {},
   "source": [
    "* 超类列在了类开头的括号中\n",
    "* 类从其超类中继承属性\n",
    "* 实例会继承所有可读取类的属性\n",
    "* 每个 object.attribute 都会开启新的独立的搜索\n",
    "* 逻辑的修改是通过创建子类，而不是修改超类"
   ]
  },
  {
   "cell_type": "code",
   "execution_count": 9,
   "metadata": {},
   "outputs": [],
   "source": [
    "class SecondClass(FirstClass):\n",
    "    def display(self):\n",
    "        print('Current value=\"%s\"' % self.data)"
   ]
  },
  {
   "cell_type": "code",
   "execution_count": 10,
   "metadata": {},
   "outputs": [
    {
     "name": "stdout",
     "output_type": "stream",
     "text": [
      "Current value=\"42\"\n"
     ]
    }
   ],
   "source": [
    "z = SecondClass()\n",
    "z.setdata(42)\n",
    "z.display()"
   ]
  },
  {
   "cell_type": "markdown",
   "metadata": {},
   "source": [
    "* 类可以截获 Python 运算符\n",
    "* 以 __x__ 双下换线命名的方法是特殊的钩子。Python 运算符重载的实现是提供特殊命名的方法来拦截运算。Python 语言替每种运算和特殊命名的方法之间，定义了固定不变的映射关系\n",
    "* 当实例出现内置运算时，这些方法会自动调用\n",
    "* 类可覆盖多数内置类型运算\n",
    "* 运算符覆盖方法没有默认值\n",
    "* 运算符可以让类与 Python 的对象模型相互集成"
   ]
  },
  {
   "cell_type": "code",
   "execution_count": 13,
   "metadata": {},
   "outputs": [],
   "source": [
    "class ThirdClass(SecondClass):\n",
    "    def __init__(self,value):\n",
    "        self.data = value\n",
    "    def __add__(self, other):\n",
    "        return ThirdClass(self.data + other)\n",
    "    def __str__(self):\n",
    "        return '[ThirdClass: %s]' % self.data\n",
    "    def mul(self,other):\n",
    "        self.data *= other"
   ]
  },
  {
   "cell_type": "code",
   "execution_count": 14,
   "metadata": {},
   "outputs": [
    {
     "name": "stdout",
     "output_type": "stream",
     "text": [
      "Current value=\"abc\"\n"
     ]
    }
   ],
   "source": [
    "a = ThirdClass('abc')\n",
    "a.display()"
   ]
  },
  {
   "cell_type": "code",
   "execution_count": 15,
   "metadata": {},
   "outputs": [
    {
     "name": "stdout",
     "output_type": "stream",
     "text": [
      "[ThirdClass: abc]\n"
     ]
    }
   ],
   "source": [
    "print(a)"
   ]
  },
  {
   "cell_type": "code",
   "execution_count": 16,
   "metadata": {},
   "outputs": [],
   "source": [
    "b = a + 'xyz'"
   ]
  },
  {
   "cell_type": "code",
   "execution_count": 17,
   "metadata": {},
   "outputs": [
    {
     "name": "stdout",
     "output_type": "stream",
     "text": [
      "[ThirdClass: abcxyz]\n"
     ]
    }
   ],
   "source": [
    "print(b)"
   ]
  },
  {
   "cell_type": "code",
   "execution_count": 18,
   "metadata": {},
   "outputs": [],
   "source": [
    "a.mul(3)"
   ]
  },
  {
   "cell_type": "code",
   "execution_count": 19,
   "metadata": {},
   "outputs": [
    {
     "name": "stdout",
     "output_type": "stream",
     "text": [
      "[ThirdClass: abcabcabc]\n"
     ]
    }
   ],
   "source": [
    "print(a)"
   ]
  },
  {
   "cell_type": "markdown",
   "metadata": {},
   "source": [
    "最简单的类"
   ]
  },
  {
   "cell_type": "code",
   "execution_count": 20,
   "metadata": {},
   "outputs": [],
   "source": [
    "class rec:pass"
   ]
  },
  {
   "cell_type": "code",
   "execution_count": 22,
   "metadata": {},
   "outputs": [],
   "source": [
    "rec.name = 'bob'\n",
    "rec.age=24"
   ]
  },
  {
   "cell_type": "code",
   "execution_count": 23,
   "metadata": {},
   "outputs": [
    {
     "name": "stdout",
     "output_type": "stream",
     "text": [
      "bob\n",
      "24\n"
     ]
    }
   ],
   "source": [
    "print(rec.name)\n",
    "print(rec.age)"
   ]
  },
  {
   "cell_type": "code",
   "execution_count": 24,
   "metadata": {},
   "outputs": [],
   "source": [
    "x = rec()\n",
    "y = rec()"
   ]
  },
  {
   "cell_type": "code",
   "execution_count": 25,
   "metadata": {},
   "outputs": [
    {
     "data": {
      "text/plain": [
       "('bob', 'bob')"
      ]
     },
     "execution_count": 25,
     "metadata": {},
     "output_type": "execute_result"
    }
   ],
   "source": [
    "x.name,y.name"
   ]
  },
  {
   "cell_type": "markdown",
   "metadata": {},
   "source": [
    "如果一个列没有实例化，为其动态添加的属性是存储在类空间的"
   ]
  },
  {
   "cell_type": "code",
   "execution_count": 26,
   "metadata": {},
   "outputs": [],
   "source": [
    "x.name='Sun'"
   ]
  },
  {
   "cell_type": "code",
   "execution_count": 28,
   "metadata": {},
   "outputs": [
    {
     "data": {
      "text/plain": [
       "('Sun', 'bob', 'bob')"
      ]
     },
     "execution_count": 28,
     "metadata": {},
     "output_type": "execute_result"
    }
   ],
   "source": [
    "x.name,y.name,rec.name"
   ]
  },
  {
   "cell_type": "markdown",
   "metadata": {},
   "source": [
    "命名空间对象的属性通常都是以字典的形式实现的，而类继承树只是连接到其他字典的字典而已"
   ]
  },
  {
   "cell_type": "code",
   "execution_count": 30,
   "metadata": {},
   "outputs": [
    {
     "data": {
      "text/plain": [
       "dict_keys(['__module__', '__dict__', '__weakref__', '__doc__', 'name', 'age'])"
      ]
     },
     "execution_count": 30,
     "metadata": {},
     "output_type": "execute_result"
    }
   ],
   "source": [
    "rec.__dict__.keys()"
   ]
  },
  {
   "cell_type": "code",
   "execution_count": 31,
   "metadata": {},
   "outputs": [
    {
     "data": {
      "text/plain": [
       "dict_keys(['name'])"
      ]
     },
     "execution_count": 31,
     "metadata": {},
     "output_type": "execute_result"
    }
   ],
   "source": [
    "x.__dict__.keys()"
   ]
  },
  {
   "cell_type": "code",
   "execution_count": 32,
   "metadata": {},
   "outputs": [
    {
     "data": {
      "text/plain": [
       "dict_keys([])"
      ]
     },
     "execution_count": 32,
     "metadata": {},
     "output_type": "execute_result"
    }
   ],
   "source": [
    "y.__dict__.keys()"
   ]
  },
  {
   "cell_type": "markdown",
   "metadata": {},
   "source": [
    "每个实例都会连接到其类以便于进行继承，可以通过 ____class____ 进行查看"
   ]
  },
  {
   "cell_type": "code",
   "execution_count": 33,
   "metadata": {},
   "outputs": [
    {
     "data": {
      "text/plain": [
       "__main__.rec"
      ]
     },
     "execution_count": 33,
     "metadata": {},
     "output_type": "execute_result"
    }
   ],
   "source": [
    "x.__class__"
   ]
  },
  {
   "cell_type": "markdown",
   "metadata": {},
   "source": [
    "类有一个__bases__属性，是其超类的元组"
   ]
  },
  {
   "cell_type": "code",
   "execution_count": 34,
   "metadata": {},
   "outputs": [
    {
     "data": {
      "text/plain": [
       "(object,)"
      ]
     },
     "execution_count": 34,
     "metadata": {},
     "output_type": "execute_result"
    }
   ],
   "source": [
    "rec.__bases__"
   ]
  },
  {
   "cell_type": "code",
   "execution_count": 36,
   "metadata": {},
   "outputs": [
    {
     "data": {
      "text/plain": [
       "__main__.rec"
      ]
     },
     "execution_count": 36,
     "metadata": {},
     "output_type": "execute_result"
    }
   ],
   "source": [
    "x.__class__"
   ]
  },
  {
   "cell_type": "markdown",
   "metadata": {},
   "source": [
    "Python 的类和实例只是命名空间对象，属性是通过赋值语句动态建立\n",
    "及时是方法也可以完全独立的在任意对象的外部创建"
   ]
  },
  {
   "cell_type": "code",
   "execution_count": 37,
   "metadata": {},
   "outputs": [],
   "source": [
    "def uppperName(self):\n",
    "    return self.name.upper()"
   ]
  },
  {
   "cell_type": "code",
   "execution_count": 38,
   "metadata": {},
   "outputs": [
    {
     "data": {
      "text/plain": [
       "'SUN'"
      ]
     },
     "execution_count": 38,
     "metadata": {},
     "output_type": "execute_result"
    }
   ],
   "source": [
    "uppperName(x)"
   ]
  },
  {
   "cell_type": "markdown",
   "metadata": {},
   "source": [
    "将函数赋值给类，作为属性"
   ]
  },
  {
   "cell_type": "code",
   "execution_count": 39,
   "metadata": {},
   "outputs": [],
   "source": [
    "rec.method = uppperName"
   ]
  },
  {
   "cell_type": "code",
   "execution_count": 41,
   "metadata": {},
   "outputs": [
    {
     "data": {
      "text/plain": [
       "'SUN'"
      ]
     },
     "execution_count": 41,
     "metadata": {},
     "output_type": "execute_result"
    }
   ],
   "source": [
    "x.method()"
   ]
  },
  {
   "cell_type": "code",
   "execution_count": 42,
   "metadata": {},
   "outputs": [
    {
     "data": {
      "text/plain": [
       "'BOB'"
      ]
     },
     "execution_count": 42,
     "metadata": {},
     "output_type": "execute_result"
    }
   ],
   "source": [
    "y.method()"
   ]
  },
  {
   "cell_type": "code",
   "execution_count": 44,
   "metadata": {},
   "outputs": [
    {
     "data": {
      "text/plain": [
       "'SUN'"
      ]
     },
     "execution_count": 44,
     "metadata": {},
     "output_type": "execute_result"
    }
   ],
   "source": [
    "rec.method(x)"
   ]
  },
  {
   "cell_type": "markdown",
   "metadata": {},
   "source": [
    "#### 类与字典的关系 "
   ]
  },
  {
   "cell_type": "code",
   "execution_count": 45,
   "metadata": {},
   "outputs": [],
   "source": [
    "rec = {}\n",
    "rec['name'] = 'mel'\n",
    "rec['age'] = 45\n",
    "rec['job'] = 'trainer/writer'"
   ]
  },
  {
   "cell_type": "code",
   "execution_count": 46,
   "metadata": {},
   "outputs": [
    {
     "name": "stdout",
     "output_type": "stream",
     "text": [
      "mel\n"
     ]
    }
   ],
   "source": [
    "print(rec['name'])"
   ]
  },
  {
   "cell_type": "markdown",
   "metadata": {},
   "source": [
    "通过类来记录参数的代价要比字典等价形式少很多。 通过空类来产生命名空间对象"
   ]
  },
  {
   "cell_type": "code",
   "execution_count": 47,
   "metadata": {},
   "outputs": [],
   "source": [
    "class rec:pass"
   ]
  },
  {
   "cell_type": "code",
   "execution_count": 48,
   "metadata": {},
   "outputs": [],
   "source": [
    "rec.name = 'mel'\n",
    "rec.age = 45\n",
    "rec.job = 'trainer/writer'"
   ]
  },
  {
   "cell_type": "code",
   "execution_count": 49,
   "metadata": {},
   "outputs": [
    {
     "name": "stdout",
     "output_type": "stream",
     "text": [
      "45\n"
     ]
    }
   ],
   "source": [
    "print(rec.age)"
   ]
  },
  {
   "cell_type": "markdown",
   "metadata": {
    "jp-MarkdownHeadingCollapsed": true
   },
   "source": [
    "# 第二十七章"
   ]
  },
  {
   "cell_type": "markdown",
   "metadata": {},
   "source": [
    "OOP 中的核心概念：\n",
    "1. 创建实例：填充实例属性\n",
    "2. 定义行为方法：在类方法中封装逻辑\n",
    "3. 运算符重载：为打印行为提供内置的操作行为\n",
    "4. 定制行为：重新定义子类中的方法使其特殊化\n",
    "5. 定制构造函数：为超类步骤添加初始化逻辑"
   ]
  },
  {
   "cell_type": "markdown",
   "metadata": {
    "scrolled": true
   },
   "source": [
    "委托：委托是一种常用代码模式的代表，是一种复合的结构，管理一个包装的对象并且吧方法调用传递给他"
   ]
  },
  {
   "cell_type": "markdown",
   "metadata": {
    "jp-MarkdownHeadingCollapsed": true
   },
   "source": [
    "# 第二十八章： 类编写细节\n"
   ]
  },
  {
   "cell_type": "markdown",
   "metadata": {},
   "source": [
    "把简单的非函数的对象赋值给类属性，就会产生数据属性，并且由实例共享"
   ]
  },
  {
   "cell_type": "code",
   "execution_count": 1,
   "metadata": {},
   "outputs": [],
   "source": [
    "class SharedData:\n",
    "    spam = 42\n"
   ]
  },
  {
   "cell_type": "code",
   "execution_count": 3,
   "metadata": {},
   "outputs": [
    {
     "data": {
      "text/plain": [
       "(42, 42)"
      ]
     },
     "execution_count": 3,
     "metadata": {},
     "output_type": "execute_result"
    }
   ],
   "source": [
    "x=SharedData()\n",
    "y=SharedData()\n",
    "x.spam,y.spam"
   ]
  },
  {
   "cell_type": "markdown",
   "metadata": {},
   "source": [
    "可以通过类名修改，通过实例或者类引用"
   ]
  },
  {
   "cell_type": "code",
   "execution_count": 4,
   "metadata": {},
   "outputs": [
    {
     "data": {
      "text/plain": [
       "(99, 99)"
      ]
     },
     "execution_count": 4,
     "metadata": {},
     "output_type": "execute_result"
    }
   ],
   "source": [
    "SharedData.spam=99\n",
    "x.spam,y.spam"
   ]
  },
  {
   "cell_type": "markdown",
   "metadata": {},
   "source": [
    "通过实例进行修改不会影响所有共享变量的值，而是创建对应的实例变量"
   ]
  },
  {
   "cell_type": "code",
   "execution_count": 6,
   "metadata": {},
   "outputs": [
    {
     "data": {
      "text/plain": [
       "(42, 99, 99)"
      ]
     },
     "execution_count": 6,
     "metadata": {},
     "output_type": "execute_result"
    }
   ],
   "source": [
    "x.spam=42\n",
    "x.spam,y.spam,SharedData.spam"
   ]
  },
  {
   "cell_type": "markdown",
   "metadata": {},
   "source": [
    "* 对于实例的属性进行赋值运算会在该实例内创建或者修改变量名，而不是在共享的类中\n",
    "* 继承搜索只会发生在属性引用时，而不是在赋值运算时发生：对对象属性的赋值总是会修改该对象\n"
   ]
  },
  {
   "cell_type": "code",
   "execution_count": 14,
   "metadata": {},
   "outputs": [],
   "source": [
    "class MixedNames:\n",
    "    data = 'spam'\n",
    "    def __init__(self,value):\n",
    "        self.data = value\n",
    "    def display(self):\n",
    "        print(self.data,MixedNames.data)"
   ]
  },
  {
   "cell_type": "markdown",
   "metadata": {},
   "source": [
    "通过构造函数进行修改"
   ]
  },
  {
   "cell_type": "code",
   "execution_count": 15,
   "metadata": {},
   "outputs": [],
   "source": [
    "x = MixedNames(1)\n",
    "y = MixedNames(2)"
   ]
  },
  {
   "cell_type": "code",
   "execution_count": 18,
   "metadata": {},
   "outputs": [
    {
     "name": "stdout",
     "output_type": "stream",
     "text": [
      "1 spam\n",
      "2 spam\n"
     ]
    }
   ],
   "source": [
    "x.display();y.display()"
   ]
  },
  {
   "cell_type": "markdown",
   "metadata": {},
   "source": [
    "将属性存储在不同的对象内，可以决定其可见范围；附加在类上时，变量名是共享的；附加在实例上时，变量名是属于每个实例的数据，非共享数据"
   ]
  },
  {
   "cell_type": "markdown",
   "metadata": {},
   "source": [
    "## 方法\n",
    "* Python 会自动将实例方法的调用对应到类方法函数；\n",
    "* class 通过Python 继承搜索流程找出方法名称所在之处\n",
    "* 通过 self 提供的钩子，返回调用的主体，本质上就是实例对象\n",
    "* 在 class 语句的作用域中赋值的对象，就会变成类对象的属性，然后由这个类创建的每个实例继承"
   ]
  },
  {
   "cell_type": "code",
   "execution_count": 19,
   "metadata": {},
   "outputs": [],
   "source": [
    "class NextClass:\n",
    "    def printer(self,text):\n",
    "        self.message = text\n",
    "        print(self.message)"
   ]
  },
  {
   "cell_type": "code",
   "execution_count": 20,
   "metadata": {},
   "outputs": [
    {
     "name": "stdout",
     "output_type": "stream",
     "text": [
      "instance call\n"
     ]
    }
   ],
   "source": [
    "x = NextClass()\n",
    "x.printer('instance call')"
   ]
  },
  {
   "cell_type": "code",
   "execution_count": 21,
   "metadata": {},
   "outputs": [
    {
     "data": {
      "text/plain": [
       "'instance call'"
      ]
     },
     "execution_count": 21,
     "metadata": {},
     "output_type": "execute_result"
    }
   ],
   "source": [
    "x.message"
   ]
  },
  {
   "cell_type": "markdown",
   "metadata": {},
   "source": [
    "方法只能够通过实例或类本身两种两种方法中的任意一种执行; 通过累的形式进行传递有相同的效果，只需要在类形式中传递了相同的实例对象"
   ]
  },
  {
   "cell_type": "code",
   "execution_count": 25,
   "metadata": {},
   "outputs": [
    {
     "name": "stdout",
     "output_type": "stream",
     "text": [
      "class call\n"
     ]
    }
   ],
   "source": [
    "NextClass.printer(x,'class call')"
   ]
  },
  {
   "cell_type": "code",
   "execution_count": 26,
   "metadata": {},
   "outputs": [
    {
     "data": {
      "text/plain": [
       "'class call'"
      ]
     },
     "execution_count": 26,
     "metadata": {},
     "output_type": "execute_result"
    }
   ],
   "source": [
    "x.message"
   ]
  },
  {
   "cell_type": "markdown",
   "metadata": {},
   "source": [
    "## 调用超类构造函数"
   ]
  },
  {
   "cell_type": "markdown",
   "metadata": {},
   "source": [
    "方法一般是通过实例调用的，但是对于构造函数之类的属性__init__ 都是通过继承进行查找的，Python 找出并且只调用一个 __init__. 如果要保证子类的构造函数执行超类的构造逻辑，一般需要通过类明确的调用超类的__init__ 方法"
   ]
  },
  {
   "cell_type": "code",
   "execution_count": 37,
   "metadata": {},
   "outputs": [],
   "source": [
    "class Super:\n",
    "    def __init__(self,x):\n",
    "        self.x = x\n",
    "class Sub(Super):\n",
    "    def __init__(self,x,y):\n",
    "        # Super.__init__(self,x)\n",
    "        super().__init__(x)\n",
    "        self.y = y \n",
    "    "
   ]
  },
  {
   "cell_type": "code",
   "execution_count": 38,
   "metadata": {},
   "outputs": [],
   "source": [
    "I = Sub(1,2)"
   ]
  },
  {
   "cell_type": "code",
   "execution_count": 39,
   "metadata": {},
   "outputs": [
    {
     "data": {
      "text/plain": [
       "1"
      ]
     },
     "execution_count": 39,
     "metadata": {},
     "output_type": "execute_result"
    }
   ],
   "source": [
    "I.x"
   ]
  },
  {
   "cell_type": "code",
   "execution_count": 40,
   "metadata": {},
   "outputs": [
    {
     "data": {
      "text/plain": [
       "2"
      ]
     },
     "execution_count": 40,
     "metadata": {},
     "output_type": "execute_result"
    }
   ],
   "source": [
    "I.y"
   ]
  },
  {
   "cell_type": "markdown",
   "metadata": {},
   "source": [
    "* 静态方法：支持编写不预期第一参数为实例对象的方法，支持这类方法向无实例的函数那样运作\n",
    "* 类方法：调用的时候接收一个类，而不是一个实例，可以用于管理一个类的数据\n",
    "\n",
    "后续会补充"
   ]
  },
  {
   "cell_type": "markdown",
   "metadata": {},
   "source": [
    "## 继承"
   ]
  },
  {
   "cell_type": "markdown",
   "metadata": {},
   "source": [
    "class 语句这样的命名空间的重点就是支持变量名继承 \\n \n",
    "在 Python 中，对于对象进行点运算符时，就会发生继承，而且涉及了搜索属性定义树（一个或者多个命名空间）。Python 会从头至尾搜索命名空间树，先从对象开始，寻找所能找到的第一个 attr"
   ]
  },
  {
   "cell_type": "markdown",
   "metadata": {},
   "source": [
    "### 继承方法的专有化\n",
    "* 系统设计：将系统设计成类的层次，在新增外部的子类对其进行扩展，而不是在原处修改已经存在得了逻辑\n",
    "* 子类完全可以取代继承的属性，提供超类可以找到的属性，并且通过已经覆盖的方法回调超类来扩展超类的方法"
   ]
  },
  {
   "cell_type": "code",
   "execution_count": 42,
   "metadata": {},
   "outputs": [],
   "source": [
    "class Super:\n",
    "    def method(self):\n",
    "        print('in Super.method')\n",
    "\n",
    "class Sub(Super):\n",
    "    def method(self):\n",
    "        print('starting Sub.method')\n",
    "        Super.method(self)\n",
    "        print('ending Sub.method')"
   ]
  },
  {
   "cell_type": "markdown",
   "metadata": {},
   "source": [
    "### 类接口技术"
   ]
  },
  {
   "cell_type": "code",
   "execution_count": null,
   "metadata": {},
   "outputs": [],
   "source": [
    "class Super:\n",
    "    def method(self):\n",
    "        print(\"in Super.method\")\n",
    "\n",
    "    def delegate(self):\n",
    "        self.action()\n",
    "\n",
    "\n",
    "class Inheritor(Super):\n",
    "    pass\n",
    "\n",
    "\n",
    "class Extender(Super):\n",
    "    def method(self):\n",
    "        print(\"stating Extender.method\")\n",
    "        Super.method(self)\n",
    "        print(\"ending Extender.method\")\n",
    "\n",
    "\n",
    "class Replacer(Super):\n",
    "    def method(self):\n",
    "        print(\"In Replace.method\")\n",
    "\n",
    "\n",
    "class Provider(Super):\n",
    "    def action(self):\n",
    "        print(\"in Provider.action\")\n",
    "\n",
    "\n",
    "if __name__ == \"__main__\":\n",
    "    for klass in (Inheritor, Replacer, Extender):\n",
    "        print(\"\\n\" + klass.__name__ + \"...\")\n",
    "        klass().method()\n",
    "        print(\"\\n Provider...\")\n",
    "        x = Provider()\n",
    "        x.delegate()"
   ]
  },
  {
   "cell_type": "markdown",
   "metadata": {},
   "source": [
    "### 抽象超类"
   ]
  },
  {
   "cell_type": "markdown",
   "metadata": {},
   "source": [
    "类的部分行为是由子类所提供的：\n",
    "1. x.delete 调用中，首先按照继承向上进行查找，直到在 Super 中找到 delegate 方法，并且将 x 传递给这个方法的 self 参数\n",
    "2. 在 Super.delegate 方法中，self.action 会对 self 以及在他上层的对象启动新的独立继承搜索，self 表示 Provider，并且在 Provider 子类中找到 action 方法"
   ]
  },
  {
   "cell_type": "markdown",
   "metadata": {},
   "source": [
    "抽象基类在 Python3 中可以通过 @abstractmethod 装饰器进行创建"
   ]
  },
  {
   "cell_type": "markdown",
   "metadata": {},
   "source": [
    "* 类：class 语句声明的赋值语句。类是产生对象的工厂\n",
    "* 对象：由类产生的对象\n",
    "* 实例：self 指的是就是 self "
   ]
  },
  {
   "cell_type": "markdown",
   "metadata": {},
   "source": [
    "## 命名空间"
   ]
  },
  {
   "cell_type": "markdown",
   "metadata": {},
   "source": [
    "可以通过类读取其属性，但是无法从 def 语句外读取函数或方法内的局部变量。\n",
    "局部变量只有在 def 内的其余代码才是可见的"
   ]
  },
  {
   "cell_type": "markdown",
   "metadata": {},
   "source": [
    "#### 命名空间字典\n"
   ]
  },
  {
   "cell_type": "markdown",
   "metadata": {},
   "source": [
    "* 模块的命名空间实际上是以字典的形式实现的，并且可以由内置属性 __dict__ 显示这一点；属性点运算符其实就是字典的索引运算，属性继承就是搜索链接的字典而已\n",
    "* 实例和对象就是 Python 中带有链接的字典而已\n"
   ]
  },
  {
   "cell_type": "code",
   "execution_count": 2,
   "metadata": {},
   "outputs": [],
   "source": [
    "class Super:\n",
    "    def hello(self):\n",
    "        self.data = 'spam'"
   ]
  },
  {
   "cell_type": "code",
   "execution_count": 3,
   "metadata": {},
   "outputs": [],
   "source": [
    "class Sub(Super):\n",
    "    def hola(self):\n",
    "        self.data2 = 'eggs'"
   ]
  },
  {
   "cell_type": "markdown",
   "metadata": {},
   "source": [
    "实例通过 __class__属性找到其类，类通过 __bases__ 属性找到其超类"
   ]
  },
  {
   "cell_type": "code",
   "execution_count": 5,
   "metadata": {},
   "outputs": [],
   "source": [
    "x = Sub()"
   ]
  },
  {
   "cell_type": "markdown",
   "metadata": {},
   "source": [
    "实例的命名空间字典"
   ]
  },
  {
   "cell_type": "code",
   "execution_count": 6,
   "metadata": {},
   "outputs": [
    {
     "data": {
      "text/plain": [
       "{}"
      ]
     },
     "execution_count": 6,
     "metadata": {},
     "output_type": "execute_result"
    }
   ],
   "source": [
    "x.__dict__"
   ]
  },
  {
   "cell_type": "markdown",
   "metadata": {},
   "source": [
    "实例所属的类"
   ]
  },
  {
   "cell_type": "code",
   "execution_count": 7,
   "metadata": {},
   "outputs": [
    {
     "data": {
      "text/plain": [
       "__main__.Sub"
      ]
     },
     "execution_count": 7,
     "metadata": {},
     "output_type": "execute_result"
    }
   ],
   "source": [
    "x.__class__"
   ]
  },
  {
   "cell_type": "markdown",
   "metadata": {},
   "source": [
    "类的父类"
   ]
  },
  {
   "cell_type": "code",
   "execution_count": 9,
   "metadata": {},
   "outputs": [
    {
     "data": {
      "text/plain": [
       "(__main__.Super,)"
      ]
     },
     "execution_count": 9,
     "metadata": {},
     "output_type": "execute_result"
    }
   ],
   "source": [
    "Sub.__bases__"
   ]
  },
  {
   "cell_type": "code",
   "execution_count": 10,
   "metadata": {},
   "outputs": [
    {
     "data": {
      "text/plain": [
       "(object,)"
      ]
     },
     "execution_count": 10,
     "metadata": {},
     "output_type": "execute_result"
    }
   ],
   "source": [
    "Super.__bases__"
   ]
  },
  {
   "cell_type": "markdown",
   "metadata": {},
   "source": [
    "当类为 self 属性赋值时，会填入实例对象。属性最后位于实例的属性命名空间字典内，而不是类的。实例对象的命名空间保存了数据，会随着实例的不同而不同，self 是进入其命名空间的钩子"
   ]
  },
  {
   "cell_type": "code",
   "execution_count": 11,
   "metadata": {},
   "outputs": [],
   "source": [
    "y = Sub()"
   ]
  },
  {
   "cell_type": "code",
   "execution_count": 12,
   "metadata": {},
   "outputs": [],
   "source": [
    "x.hello()"
   ]
  },
  {
   "cell_type": "code",
   "execution_count": 13,
   "metadata": {},
   "outputs": [
    {
     "data": {
      "text/plain": [
       "{'data': 'spam'}"
      ]
     },
     "execution_count": 13,
     "metadata": {},
     "output_type": "execute_result"
    }
   ],
   "source": [
    "x.__dict__"
   ]
  },
  {
   "cell_type": "code",
   "execution_count": 14,
   "metadata": {},
   "outputs": [],
   "source": [
    "x.hola()"
   ]
  },
  {
   "cell_type": "code",
   "execution_count": 15,
   "metadata": {},
   "outputs": [
    {
     "data": {
      "text/plain": [
       "{'data': 'spam', 'data2': 'eggs'}"
      ]
     },
     "execution_count": 15,
     "metadata": {},
     "output_type": "execute_result"
    }
   ],
   "source": [
    "x.__dict__"
   ]
  },
  {
   "cell_type": "code",
   "execution_count": 17,
   "metadata": {},
   "outputs": [
    {
     "data": {
      "text/plain": [
       "['__module__', 'hola', '__doc__', '__annotations__']"
      ]
     },
     "execution_count": 17,
     "metadata": {},
     "output_type": "execute_result"
    }
   ],
   "source": [
    "list(Sub.__dict__.keys())"
   ]
  },
  {
   "cell_type": "code",
   "execution_count": 18,
   "metadata": {},
   "outputs": [
    {
     "data": {
      "text/plain": [
       "dict_keys(['__module__', 'hello', '__dict__', '__weakref__', '__doc__'])"
      ]
     },
     "execution_count": 18,
     "metadata": {},
     "output_type": "execute_result"
    }
   ],
   "source": [
    "Super.__dict__.keys()"
   ]
  },
  {
   "cell_type": "code",
   "execution_count": 19,
   "metadata": {},
   "outputs": [
    {
     "data": {
      "text/plain": [
       "{}"
      ]
     },
     "execution_count": 19,
     "metadata": {},
     "output_type": "execute_result"
    }
   ],
   "source": [
    "y.__dict__"
   ]
  },
  {
   "cell_type": "markdown",
   "metadata": {},
   "source": []
  },
  {
   "cell_type": "code",
   "execution_count": 20,
   "metadata": {
    "scrolled": true
   },
   "outputs": [
    {
     "data": {
      "text/plain": [
       "['__annotations__',\n",
       " '__class__',\n",
       " '__delattr__',\n",
       " '__dict__',\n",
       " '__dir__',\n",
       " '__doc__',\n",
       " '__eq__',\n",
       " '__format__',\n",
       " '__ge__',\n",
       " '__getattribute__',\n",
       " '__gt__',\n",
       " '__hash__',\n",
       " '__init__',\n",
       " '__init_subclass__',\n",
       " '__le__',\n",
       " '__lt__',\n",
       " '__module__',\n",
       " '__ne__',\n",
       " '__new__',\n",
       " '__reduce__',\n",
       " '__reduce_ex__',\n",
       " '__repr__',\n",
       " '__setattr__',\n",
       " '__sizeof__',\n",
       " '__str__',\n",
       " '__subclasshook__',\n",
       " '__weakref__',\n",
       " 'hello',\n",
       " 'hola']"
      ]
     },
     "execution_count": 20,
     "metadata": {},
     "output_type": "execute_result"
    }
   ],
   "source": [
    "dir(Sub)"
   ]
  },
  {
   "cell_type": "code",
   "execution_count": 21,
   "metadata": {
    "scrolled": true
   },
   "outputs": [
    {
     "data": {
      "text/plain": [
       "['__class__',\n",
       " '__delattr__',\n",
       " '__dict__',\n",
       " '__dir__',\n",
       " '__doc__',\n",
       " '__eq__',\n",
       " '__format__',\n",
       " '__ge__',\n",
       " '__getattribute__',\n",
       " '__gt__',\n",
       " '__hash__',\n",
       " '__init__',\n",
       " '__init_subclass__',\n",
       " '__le__',\n",
       " '__lt__',\n",
       " '__module__',\n",
       " '__ne__',\n",
       " '__new__',\n",
       " '__reduce__',\n",
       " '__reduce_ex__',\n",
       " '__repr__',\n",
       " '__setattr__',\n",
       " '__sizeof__',\n",
       " '__str__',\n",
       " '__subclasshook__',\n",
       " '__weakref__',\n",
       " 'hello']"
      ]
     },
     "execution_count": 21,
     "metadata": {},
     "output_type": "execute_result"
    }
   ],
   "source": [
    "dir(Super)"
   ]
  },
  {
   "cell_type": "code",
   "execution_count": 22,
   "metadata": {
    "scrolled": true
   },
   "outputs": [
    {
     "data": {
      "text/plain": [
       "['__annotations__',\n",
       " '__class__',\n",
       " '__delattr__',\n",
       " '__dict__',\n",
       " '__dir__',\n",
       " '__doc__',\n",
       " '__eq__',\n",
       " '__format__',\n",
       " '__ge__',\n",
       " '__getattribute__',\n",
       " '__gt__',\n",
       " '__hash__',\n",
       " '__init__',\n",
       " '__init_subclass__',\n",
       " '__le__',\n",
       " '__lt__',\n",
       " '__module__',\n",
       " '__ne__',\n",
       " '__new__',\n",
       " '__reduce__',\n",
       " '__reduce_ex__',\n",
       " '__repr__',\n",
       " '__setattr__',\n",
       " '__sizeof__',\n",
       " '__str__',\n",
       " '__subclasshook__',\n",
       " '__weakref__',\n",
       " 'data',\n",
       " 'data2',\n",
       " 'hello',\n",
       " 'hola']"
      ]
     },
     "execution_count": 22,
     "metadata": {},
     "output_type": "execute_result"
    }
   ],
   "source": [
    "dir(x)"
   ]
  },
  {
   "cell_type": "markdown",
   "metadata": {
    "jp-MarkdownHeadingCollapsed": true
   },
   "source": [
    "# 第二十九章 运算符重载"
   ]
  },
  {
   "cell_type": "markdown",
   "metadata": {},
   "source": [
    "## 构造函数和表达式：__init__ 和 __sub__"
   ]
  },
  {
   "cell_type": "code",
   "execution_count": 35,
   "metadata": {},
   "outputs": [],
   "source": [
    "class Number:\n",
    "    def __init__(self,start):\n",
    "        self.data = start\n",
    "    def __sub__(self,other):\n",
    "        return Number(self.data - other)\n"
   ]
  },
  {
   "cell_type": "code",
   "execution_count": 36,
   "metadata": {},
   "outputs": [],
   "source": [
    "x = Number(5)"
   ]
  },
  {
   "cell_type": "code",
   "execution_count": 37,
   "metadata": {},
   "outputs": [],
   "source": [
    "y = x - 2"
   ]
  },
  {
   "cell_type": "code",
   "execution_count": 38,
   "metadata": {},
   "outputs": [
    {
     "data": {
      "text/plain": [
       "3"
      ]
     },
     "execution_count": 38,
     "metadata": {},
     "output_type": "execute_result"
    }
   ],
   "source": [
    "y.data"
   ]
  },
  {
   "cell_type": "markdown",
   "metadata": {},
   "source": [
    "## 索引和分片"
   ]
  },
  {
   "cell_type": "code",
   "execution_count": 42,
   "metadata": {},
   "outputs": [],
   "source": [
    "class Indexer:\n",
    "    def __getitem__(self, index):\n",
    "        return index ** 2"
   ]
  },
  {
   "cell_type": "code",
   "execution_count": 43,
   "metadata": {},
   "outputs": [],
   "source": [
    "x = Indexer()"
   ]
  },
  {
   "cell_type": "code",
   "execution_count": 44,
   "metadata": {},
   "outputs": [
    {
     "data": {
      "text/plain": [
       "4"
      ]
     },
     "execution_count": 44,
     "metadata": {},
     "output_type": "execute_result"
    }
   ],
   "source": [
    "x[2]"
   ]
  },
  {
   "cell_type": "code",
   "execution_count": 45,
   "metadata": {},
   "outputs": [
    {
     "name": "stdout",
     "output_type": "stream",
     "text": [
      "0 1 4 9 16 "
     ]
    }
   ],
   "source": [
    "for i in range(5):\n",
    "    print(x[i], end=' ')"
   ]
  },
  {
   "cell_type": "markdown",
   "metadata": {},
   "source": [
    "支持分片"
   ]
  },
  {
   "cell_type": "code",
   "execution_count": 46,
   "metadata": {},
   "outputs": [],
   "source": [
    "class Indexer:\n",
    "    data = [5,6,7,8,9]\n",
    "    def __getitem__(self, index):\n",
    "        print('getitem', index)\n",
    "        return self.data[index]\n",
    "    def __setitem__(self,index,value):\n",
    "        self.data[index] = value"
   ]
  },
  {
   "cell_type": "code",
   "execution_count": 47,
   "metadata": {},
   "outputs": [],
   "source": [
    "x = Indexer()"
   ]
  },
  {
   "cell_type": "code",
   "execution_count": 48,
   "metadata": {},
   "outputs": [
    {
     "name": "stdout",
     "output_type": "stream",
     "text": [
      "getitem 0\n"
     ]
    },
    {
     "data": {
      "text/plain": [
       "5"
      ]
     },
     "execution_count": 48,
     "metadata": {},
     "output_type": "execute_result"
    }
   ],
   "source": [
    "x[0]"
   ]
  },
  {
   "cell_type": "code",
   "execution_count": 49,
   "metadata": {},
   "outputs": [
    {
     "name": "stdout",
     "output_type": "stream",
     "text": [
      "getitem 1\n"
     ]
    },
    {
     "data": {
      "text/plain": [
       "6"
      ]
     },
     "execution_count": 49,
     "metadata": {},
     "output_type": "execute_result"
    }
   ],
   "source": [
    "x[1]"
   ]
  },
  {
   "cell_type": "code",
   "execution_count": 51,
   "metadata": {},
   "outputs": [
    {
     "name": "stdout",
     "output_type": "stream",
     "text": [
      "getitem slice(1, 4, None)\n"
     ]
    },
    {
     "data": {
      "text/plain": [
       "[6, 7, 8]"
      ]
     },
     "execution_count": 51,
     "metadata": {},
     "output_type": "execute_result"
    }
   ],
   "source": [
    "x[1:4]"
   ]
  },
  {
   "cell_type": "code",
   "execution_count": 52,
   "metadata": {},
   "outputs": [
    {
     "name": "stdout",
     "output_type": "stream",
     "text": [
      "getitem -1\n"
     ]
    },
    {
     "data": {
      "text/plain": [
       "9"
      ]
     },
     "execution_count": 52,
     "metadata": {},
     "output_type": "execute_result"
    }
   ],
   "source": [
    "x[-1]"
   ]
  },
  {
   "cell_type": "markdown",
   "metadata": {},
   "source": [
    "通过 __setitem__ 索引赋值方法类似的拦截索引和分片赋值，为后者接受一个分片对象，以同样的方式传递到另一个索引赋值中"
   ]
  },
  {
   "cell_type": "markdown",
   "metadata": {},
   "source": [
    "* 索引迭代：__getitem__\n",
    "* 定义该方法可以实现for 循环每次循环时调用类的 __getitem__ ，并持续搭配有更高的偏移值；任何响应索引运算的内置活用户定义的对象，都会响应迭代\n"
   ]
  },
  {
   "cell_type": "code",
   "execution_count": 1,
   "metadata": {},
   "outputs": [],
   "source": [
    "class stepper:\n",
    "    def __getitem__(self,i):\n",
    "        return self.data[i]"
   ]
  },
  {
   "cell_type": "code",
   "execution_count": 2,
   "metadata": {},
   "outputs": [],
   "source": [
    "x = stepper()"
   ]
  },
  {
   "cell_type": "code",
   "execution_count": 3,
   "metadata": {},
   "outputs": [],
   "source": [
    "x.data = 'spam'"
   ]
  },
  {
   "cell_type": "code",
   "execution_count": 4,
   "metadata": {},
   "outputs": [
    {
     "name": "stdout",
     "output_type": "stream",
     "text": [
      "s p a m "
     ]
    }
   ],
   "source": [
    "for item in x:\n",
    "    print(item, end=' ')"
   ]
  },
  {
   "cell_type": "markdown",
   "metadata": {},
   "source": [
    "对于任何支持 for 循环的类都会自动支持 Python 所有的迭代环境；例如：成员关系测试 in、列表解析、内置函数 map、列表和元组赋值运算符以及类型构造方法"
   ]
  },
  {
   "cell_type": "code",
   "execution_count": 5,
   "metadata": {},
   "outputs": [
    {
     "data": {
      "text/plain": [
       "True"
      ]
     },
     "execution_count": 5,
     "metadata": {},
     "output_type": "execute_result"
    }
   ],
   "source": [
    "'p' in x"
   ]
  },
  {
   "cell_type": "code",
   "execution_count": 6,
   "metadata": {},
   "outputs": [
    {
     "data": {
      "text/plain": [
       "['s', 'p', 'a', 'm']"
      ]
     },
     "execution_count": 6,
     "metadata": {},
     "output_type": "execute_result"
    }
   ],
   "source": [
    "[c for c in x]"
   ]
  },
  {
   "cell_type": "code",
   "execution_count": 7,
   "metadata": {},
   "outputs": [
    {
     "data": {
      "text/plain": [
       "['S', 'P', 'A', 'M']"
      ]
     },
     "execution_count": 7,
     "metadata": {},
     "output_type": "execute_result"
    }
   ],
   "source": [
    "list(map(str.upper, x))"
   ]
  },
  {
   "cell_type": "code",
   "execution_count": 8,
   "metadata": {},
   "outputs": [
    {
     "data": {
      "text/plain": [
       "['s', 'p', 'a', 'm']"
      ]
     },
     "execution_count": 8,
     "metadata": {},
     "output_type": "execute_result"
    }
   ],
   "source": [
    "list(x)"
   ]
  },
  {
   "cell_type": "code",
   "execution_count": 9,
   "metadata": {},
   "outputs": [
    {
     "data": {
      "text/plain": [
       "('s', 'p', 'a', 'm')"
      ]
     },
     "execution_count": 9,
     "metadata": {},
     "output_type": "execute_result"
    }
   ],
   "source": [
    "tuple(x)"
   ]
  },
  {
   "cell_type": "code",
   "execution_count": 10,
   "metadata": {},
   "outputs": [
    {
     "data": {
      "text/plain": [
       "'s p a m'"
      ]
     },
     "execution_count": 10,
     "metadata": {},
     "output_type": "execute_result"
    }
   ],
   "source": [
    "' '.join(x)"
   ]
  },
  {
   "cell_type": "markdown",
   "metadata": {},
   "source": [
    "## 迭代器对象：__iter__ 和 __next__\n",
    "\n",
    "* Python 中的迭代环境都会先尝试 __iter__ 方法，然后尝试 __getitem__ 方法。只有不支持迭代器协议时，才会尝试使用索引运算\n",
    "* 优先使用 __iter__ 然后尝试使用__getitem__\n",
    "* 迭代器是通过内置函数 iter 去尝试寻找 __iter__ 方法来实现的，而这种方法应该返回一个迭代器对象。如果已经提供了，Python 就会重复调用这个迭代器的 next 方法，直到触发 Stopiteration 异常；否则改用 __getiterm__ 机制，通过索引偏移量重复索引，直到触发 IndexError 异常\n"
   ]
  },
  {
   "cell_type": "code",
   "execution_count": 13,
   "metadata": {},
   "outputs": [],
   "source": [
    "class Squares:\n",
    "    def __init__(self,start,stop):\n",
    "        self.value = start - 1\n",
    "        self.stop = stop\n",
    "    \n",
    "    def __iter__(self):\n",
    "        return self\n",
    "\n",
    "    def __next__(self):\n",
    "        if self.value == self.stop:\n",
    "            raise StopIteration\n",
    "        self.value +=1\n",
    "        return self.value ** 2"
   ]
  },
  {
   "cell_type": "code",
   "execution_count": 12,
   "metadata": {},
   "outputs": [
    {
     "name": "stdout",
     "output_type": "stream",
     "text": [
      "1 4 9 16 25 "
     ]
    }
   ],
   "source": [
    "for i in Squares(1,5):\n",
    "    print(i, end=' ')"
   ]
  },
  {
   "cell_type": "code",
   "execution_count": 20,
   "metadata": {},
   "outputs": [],
   "source": [
    "x = Squares(1,5)\n",
    "i = iter(x)"
   ]
  },
  {
   "cell_type": "code",
   "execution_count": 21,
   "metadata": {},
   "outputs": [
    {
     "data": {
      "text/plain": [
       "1"
      ]
     },
     "execution_count": 21,
     "metadata": {},
     "output_type": "execute_result"
    }
   ],
   "source": [
    "next(i)"
   ]
  },
  {
   "cell_type": "code",
   "execution_count": 22,
   "metadata": {},
   "outputs": [
    {
     "data": {
      "text/plain": [
       "4"
      ]
     },
     "execution_count": 22,
     "metadata": {},
     "output_type": "execute_result"
    }
   ],
   "source": [
    "next(i)"
   ]
  },
  {
   "cell_type": "markdown",
   "metadata": {},
   "source": [
    "__iter__ 机制是在__getitem__ 中所见到的其他所有迭代环境的实现方式（成员关系测试、类构造函数、序列赋值运算）"
   ]
  },
  {
   "cell_type": "code",
   "execution_count": 24,
   "metadata": {},
   "outputs": [],
   "source": [
    "x = Squares(1,5)"
   ]
  },
  {
   "cell_type": "code",
   "execution_count": 25,
   "metadata": {},
   "outputs": [
    {
     "data": {
      "text/plain": [
       "[1, 4, 9, 16, 25]"
      ]
     },
     "execution_count": 25,
     "metadata": {},
     "output_type": "execute_result"
    }
   ],
   "source": [
    "[n for n in x]"
   ]
  },
  {
   "cell_type": "code",
   "execution_count": 26,
   "metadata": {},
   "outputs": [
    {
     "data": {
      "text/plain": [
       "[]"
      ]
     },
     "execution_count": 26,
     "metadata": {},
     "output_type": "execute_result"
    }
   ],
   "source": [
    "[n for n in x]"
   ]
  },
  {
   "cell_type": "markdown",
   "metadata": {},
   "source": [
    "#### 多个迭代器对象\n",
    "*  单迭代对象：生成器函数和表达式、map 以及 zip 内置函数\n",
    "*  多迭代对象：range 函数、其他内置类型支持多个活跃的迭代器。如果需要实现多个迭代器，__iter__ 只需要定义新的迭代器对象，而不是返回 self"
   ]
  },
  {
   "cell_type": "code",
   "execution_count": 8,
   "metadata": {},
   "outputs": [],
   "source": [
    "class SkipIterator:\n",
    "    def __init__(self,wrapped):\n",
    "        self.wrapped = wrapped\n",
    "        self.offset = 0\n",
    "    def __next__(self):\n",
    "        if self.offset >= len(self.wrapped):\n",
    "            raise StopIteration\n",
    "        else:\n",
    "            item = self.wrapped[self.offset]\n",
    "            self.offset += 2\n",
    "            return item\n",
    "\n",
    "class SkipObject:\n",
    "    def __init__(self,wrapped):\n",
    "        self.wrapped =  wrapped\n",
    "    def __iter__(self):\n",
    "        return SkipIterator(self.wrapped)\n",
    "if __name__ == \"__main__\":\n",
    "    alpha = \"abcedf\"\n",
    "    skipper = SkipObject(alpha)\n",
    "    I = iter(skipper)\n",
    "    "
   ]
  },
  {
   "cell_type": "code",
   "execution_count": 9,
   "metadata": {},
   "outputs": [
    {
     "data": {
      "text/plain": [
       "('a', 'c', 'd')"
      ]
     },
     "execution_count": 9,
     "metadata": {},
     "output_type": "execute_result"
    }
   ],
   "source": [
    "next(I),next(I),next(I)"
   ]
  },
  {
   "cell_type": "code",
   "execution_count": 10,
   "metadata": {},
   "outputs": [
    {
     "name": "stdout",
     "output_type": "stream",
     "text": [
      "aa ac ad ca cc cd da dc dd "
     ]
    }
   ],
   "source": [
    "for x in skipper:\n",
    "    for y in skipper:\n",
    "        print(x+y,end=' ')"
   ]
  },
  {
   "cell_type": "markdown",
   "metadata": {},
   "source": [
    "#### 成员关系：__contaions__、__iter__ 和 __getitem__"
   ]
  },
  {
   "cell_type": "markdown",
   "metadata": {},
   "source": [
    "* 在迭代领域，类通常把 in 成员关系运算符实现为一个迭代，使用 __item__ 方法或者 __getitem__ 方法，如果要支持更加特定的成员关系，需要编写 __contains__ 方法；\n",
    "* _contains_方法优先于：_iter_ 方法，__iter__ 方法优先于__getitem__ 方法\n",
    "* _contains_ 用于将成员关系定义为一个映射应用键（可以快速查找），用于进行序列的搜索\n"
   ]
  },
  {
   "cell_type": "code",
   "execution_count": 11,
   "metadata": {},
   "outputs": [],
   "source": [
    "class Iters:\n",
    "    def __init__(self,value):\n",
    "        self.data = value\n",
    "    \n",
    "    def __getitem__(self,i):\n",
    "        print('get[%s]: ' % i, end=' ')\n",
    "        return self.data[i]\n",
    "\n",
    "    def __iter__(self):\n",
    "        print('iter=> ', end=' ')\n",
    "        self.ix = 0\n",
    "        return self\n",
    "    def __next__(self):\n",
    "        print(\"next:\", end='')\n",
    "        if self.ix == len(self.data): raise StopIteration\n",
    "        item = self.data[self.ix]\n",
    "        self.ix += 1\n",
    "        return item\n",
    "\n",
    "    def __contains__(self,x):\n",
    "        print('contains: ', end=' ')\n",
    "        return x in self.data    "
   ]
  },
  {
   "cell_type": "code",
   "execution_count": 12,
   "metadata": {},
   "outputs": [],
   "source": [
    "x = Iters([1,2,3,4,5])"
   ]
  },
  {
   "cell_type": "code",
   "execution_count": 13,
   "metadata": {},
   "outputs": [
    {
     "name": "stdout",
     "output_type": "stream",
     "text": [
      "contains:  True\n"
     ]
    }
   ],
   "source": [
    "print(3 in x)"
   ]
  },
  {
   "cell_type": "code",
   "execution_count": 14,
   "metadata": {},
   "outputs": [
    {
     "name": "stdout",
     "output_type": "stream",
     "text": [
      "iter=>  next:1 | next:2 | next:3 | next:4 | next:5 | next:"
     ]
    }
   ],
   "source": [
    "for i in x:\n",
    "    print(i, end=' | ')"
   ]
  },
  {
   "cell_type": "code",
   "execution_count": 15,
   "metadata": {},
   "outputs": [
    {
     "name": "stdout",
     "output_type": "stream",
     "text": [
      "iter=>  next:next:next:next:next:next:[1, 4, 9, 16, 25]\n"
     ]
    }
   ],
   "source": [
    "print([i**2 for i in x])"
   ]
  },
  {
   "cell_type": "code",
   "execution_count": 16,
   "metadata": {},
   "outputs": [
    {
     "name": "stdout",
     "output_type": "stream",
     "text": [
      "iter=>  next:next:next:next:next:next:['0b1', '0b10', '0b11', '0b100', '0b101']\n"
     ]
    }
   ],
   "source": [
    "print(list(map(bin,x)))"
   ]
  },
  {
   "cell_type": "code",
   "execution_count": 17,
   "metadata": {},
   "outputs": [
    {
     "name": "stdout",
     "output_type": "stream",
     "text": [
      "iter=>  next:1@next:2@next:3@next:4@next:5@next:"
     ]
    }
   ],
   "source": [
    "i = iter(x)\n",
    "while True:\n",
    "    try:\n",
    "        print(next(i),end='@')\n",
    "    except StopIteration:\n",
    "        break"
   ]
  },
  {
   "cell_type": "markdown",
   "metadata": {},
   "source": [
    "分片"
   ]
  },
  {
   "cell_type": "code",
   "execution_count": 19,
   "metadata": {},
   "outputs": [
    {
     "name": "stdout",
     "output_type": "stream",
     "text": [
      "get[0]:  "
     ]
    },
    {
     "data": {
      "text/plain": [
       "'s'"
      ]
     },
     "execution_count": 19,
     "metadata": {},
     "output_type": "execute_result"
    }
   ],
   "source": [
    "x = Iters('spam')\n",
    "x[0]"
   ]
  },
  {
   "cell_type": "markdown",
   "metadata": {},
   "source": [
    "## 属性调用：__getattr__ 和 __setattr__\n",
    "* _getattr_ 放放是拦截属性点号运算符。对于未定义的属性名称和实例进行点运算时，就会用属性名称作为字符串调用者那个方法\n",
    "* 如果 Python 可以通过继承树搜索到这个属性，则不会触发该方法的调用。_getattr_ 可以作为钩子来通过通用的方式来响应属性需求"
   ]
  },
  {
   "cell_type": "code",
   "execution_count": 23,
   "metadata": {},
   "outputs": [],
   "source": [
    "class empty:\n",
    "    def __getattr__(self,attrname):\n",
    "        if attrname == \"age\":\n",
    "            return 40\n",
    "        else:\n",
    "            raise AttributeError(attrname)"
   ]
  },
  {
   "cell_type": "code",
   "execution_count": 24,
   "metadata": {},
   "outputs": [],
   "source": [
    "x = empty()"
   ]
  },
  {
   "cell_type": "code",
   "execution_count": 25,
   "metadata": {},
   "outputs": [
    {
     "data": {
      "text/plain": [
       "40"
      ]
     },
     "execution_count": 25,
     "metadata": {},
     "output_type": "execute_result"
    }
   ],
   "source": [
    "x.age"
   ]
  },
  {
   "cell_type": "code",
   "execution_count": 26,
   "metadata": {},
   "outputs": [
    {
     "ename": "AttributeError",
     "evalue": "name",
     "output_type": "error",
     "traceback": [
      "\u001b[0;31m---------------------------------------------------------------------------\u001b[0m",
      "\u001b[0;31mAttributeError\u001b[0m                            Traceback (most recent call last)",
      "Cell \u001b[0;32mIn[26], line 1\u001b[0m\n\u001b[0;32m----> 1\u001b[0m \u001b[43mx\u001b[49m\u001b[38;5;241;43m.\u001b[39;49m\u001b[43mname\u001b[49m\n",
      "Cell \u001b[0;32mIn[23], line 6\u001b[0m, in \u001b[0;36mempty.__getattr__\u001b[0;34m(self, attrname)\u001b[0m\n\u001b[1;32m      4\u001b[0m     \u001b[38;5;28;01mreturn\u001b[39;00m \u001b[38;5;241m40\u001b[39m\n\u001b[1;32m      5\u001b[0m \u001b[38;5;28;01melse\u001b[39;00m:\n\u001b[0;32m----> 6\u001b[0m     \u001b[38;5;28;01mraise\u001b[39;00m \u001b[38;5;167;01mAttributeError\u001b[39;00m(attrname)\n",
      "\u001b[0;31mAttributeError\u001b[0m: name"
     ]
    }
   ],
   "source": [
    "x.name"
   ]
  },
  {
   "cell_type": "markdown",
   "metadata": {},
   "source": [
    "__setattr__ 会拦截所有属性的赋值语句。如果定义了这个方法：self.attr = value 就会变成 self.__setattr__('attr',value)；\n",
    "在 __setattr__ 执行 self 赋值，都是导致再次调用__setattr__，导致无穷递归循环，需要通过属性字典进行索引计算进行赋值：self.__dict__['name'] = x\n",
    "而不是self.name = x"
   ]
  },
  {
   "cell_type": "code",
   "execution_count": 28,
   "metadata": {},
   "outputs": [],
   "source": [
    "class accesscontrol:\n",
    "    def __setattr__(self,attr,value):\n",
    "        if attr=='age':\n",
    "            self.__dict__[attr] = value\n",
    "        else:\n",
    "            raise AttributeError(attr + ' not allowed')"
   ]
  },
  {
   "cell_type": "code",
   "execution_count": 29,
   "metadata": {},
   "outputs": [],
   "source": [
    "x = accesscontrol()"
   ]
  },
  {
   "cell_type": "code",
   "execution_count": 30,
   "metadata": {},
   "outputs": [],
   "source": [
    "x.age = 40"
   ]
  },
  {
   "cell_type": "code",
   "execution_count": 31,
   "metadata": {},
   "outputs": [
    {
     "data": {
      "text/plain": [
       "40"
      ]
     },
     "execution_count": 31,
     "metadata": {},
     "output_type": "execute_result"
    }
   ],
   "source": [
    "x.age"
   ]
  },
  {
   "cell_type": "code",
   "execution_count": 32,
   "metadata": {},
   "outputs": [
    {
     "ename": "AttributeError",
     "evalue": "name not allowed",
     "output_type": "error",
     "traceback": [
      "\u001b[0;31m---------------------------------------------------------------------------\u001b[0m",
      "\u001b[0;31mAttributeError\u001b[0m                            Traceback (most recent call last)",
      "Cell \u001b[0;32mIn[32], line 1\u001b[0m\n\u001b[0;32m----> 1\u001b[0m \u001b[43mx\u001b[49m\u001b[38;5;241;43m.\u001b[39;49m\u001b[43mname\u001b[49m \u001b[38;5;241m=\u001b[39m \u001b[38;5;124m'\u001b[39m\u001b[38;5;124mmel\u001b[39m\u001b[38;5;124m'\u001b[39m\n",
      "Cell \u001b[0;32mIn[28], line 6\u001b[0m, in \u001b[0;36maccesscontrol.__setattr__\u001b[0;34m(self, attr, value)\u001b[0m\n\u001b[1;32m      4\u001b[0m     \u001b[38;5;28mself\u001b[39m\u001b[38;5;241m.\u001b[39m\u001b[38;5;18m__dict__\u001b[39m[attr] \u001b[38;5;241m=\u001b[39m value\n\u001b[1;32m      5\u001b[0m \u001b[38;5;28;01melse\u001b[39;00m:\n\u001b[0;32m----> 6\u001b[0m     \u001b[38;5;28;01mraise\u001b[39;00m \u001b[38;5;167;01mAttributeError\u001b[39;00m(attr \u001b[38;5;241m+\u001b[39m \u001b[38;5;124m'\u001b[39m\u001b[38;5;124m not allowed\u001b[39m\u001b[38;5;124m'\u001b[39m)\n",
      "\u001b[0;31mAttributeError\u001b[0m: name not allowed"
     ]
    }
   ],
   "source": [
    "x.name = 'mel'"
   ]
  },
  {
   "cell_type": "markdown",
   "metadata": {},
   "source": [
    "## 其他属性管理工具"
   ]
  },
  {
   "cell_type": "markdown",
   "metadata": {},
   "source": [
    "* __getattribute__ 方法拦截所有的属性获取，不仅仅是那些没有定义的，使用时比习更加小心防止出现循环\n",
    "* Property：内置函数允许我们把方法和特定雷属性上的获取和设置操作关联起来\n",
    "* 描述符提供了一个协议，把一个类的__get__和__set__方法与特定类属性的方法关联起来"
   ]
  },
  {
   "cell_type": "code",
   "execution_count": 51,
   "metadata": {},
   "outputs": [],
   "source": [
    "class PrivateExc(Exception): pass\n",
    "class Privacy:\n",
    "    def __setattr__(self,attrname,value):\n",
    "        if attrname in self.privates:\n",
    "            raise PrivateExc(attrname,self)\n",
    "        else:\n",
    "            self.__dict__[attrname] = value\n",
    "\n",
    "class Test1(Privacy):\n",
    "    privates = ['age']\n",
    "\n",
    "class Test2(Privacy):\n",
    "    privates = ['name','pay']\n",
    "    def __init__(self):\n",
    "        self.__dict__['name'] = 'Tom'"
   ]
  },
  {
   "cell_type": "code",
   "execution_count": 52,
   "metadata": {},
   "outputs": [],
   "source": [
    "x = Test1()\n",
    "y = Test2()"
   ]
  },
  {
   "cell_type": "code",
   "execution_count": 53,
   "metadata": {},
   "outputs": [],
   "source": [
    "x.name = 'Bob'"
   ]
  },
  {
   "cell_type": "code",
   "execution_count": 54,
   "metadata": {},
   "outputs": [
    {
     "ename": "PrivateExc",
     "evalue": "('name', <__main__.Test2 object at 0x11e103910>)",
     "output_type": "error",
     "traceback": [
      "\u001b[0;31m---------------------------------------------------------------------------\u001b[0m",
      "\u001b[0;31mPrivateExc\u001b[0m                                Traceback (most recent call last)",
      "Cell \u001b[0;32mIn[54], line 1\u001b[0m\n\u001b[0;32m----> 1\u001b[0m \u001b[43my\u001b[49m\u001b[38;5;241;43m.\u001b[39;49m\u001b[43mname\u001b[49m \u001b[38;5;241m=\u001b[39m \u001b[38;5;124m'\u001b[39m\u001b[38;5;124mSue\u001b[39m\u001b[38;5;124m'\u001b[39m\n",
      "Cell \u001b[0;32mIn[51], line 5\u001b[0m, in \u001b[0;36mPrivacy.__setattr__\u001b[0;34m(self, attrname, value)\u001b[0m\n\u001b[1;32m      3\u001b[0m \u001b[38;5;28;01mdef\u001b[39;00m \u001b[38;5;21m__setattr__\u001b[39m(\u001b[38;5;28mself\u001b[39m,attrname,value):\n\u001b[1;32m      4\u001b[0m     \u001b[38;5;28;01mif\u001b[39;00m attrname \u001b[38;5;129;01min\u001b[39;00m \u001b[38;5;28mself\u001b[39m\u001b[38;5;241m.\u001b[39mprivates:\n\u001b[0;32m----> 5\u001b[0m         \u001b[38;5;28;01mraise\u001b[39;00m PrivateExc(attrname,\u001b[38;5;28mself\u001b[39m)\n\u001b[1;32m      6\u001b[0m     \u001b[38;5;28;01melse\u001b[39;00m:\n\u001b[1;32m      7\u001b[0m         \u001b[38;5;28mself\u001b[39m\u001b[38;5;241m.\u001b[39m\u001b[38;5;18m__dict__\u001b[39m[attrname] \u001b[38;5;241m=\u001b[39m value\n",
      "\u001b[0;31mPrivateExc\u001b[0m: ('name', <__main__.Test2 object at 0x11e103910>)"
     ]
    }
   ],
   "source": [
    "y.name = 'Sue'"
   ]
  },
  {
   "cell_type": "code",
   "execution_count": 55,
   "metadata": {},
   "outputs": [],
   "source": [
    "y.age = 30"
   ]
  },
  {
   "cell_type": "code",
   "execution_count": 56,
   "metadata": {},
   "outputs": [
    {
     "ename": "PrivateExc",
     "evalue": "('age', <__main__.Test1 object at 0x11e102da0>)",
     "output_type": "error",
     "traceback": [
      "\u001b[0;31m---------------------------------------------------------------------------\u001b[0m",
      "\u001b[0;31mPrivateExc\u001b[0m                                Traceback (most recent call last)",
      "Cell \u001b[0;32mIn[56], line 1\u001b[0m\n\u001b[0;32m----> 1\u001b[0m \u001b[43mx\u001b[49m\u001b[38;5;241;43m.\u001b[39;49m\u001b[43mage\u001b[49m \u001b[38;5;241m=\u001b[39m \u001b[38;5;241m40\u001b[39m\n",
      "Cell \u001b[0;32mIn[51], line 5\u001b[0m, in \u001b[0;36mPrivacy.__setattr__\u001b[0;34m(self, attrname, value)\u001b[0m\n\u001b[1;32m      3\u001b[0m \u001b[38;5;28;01mdef\u001b[39;00m \u001b[38;5;21m__setattr__\u001b[39m(\u001b[38;5;28mself\u001b[39m,attrname,value):\n\u001b[1;32m      4\u001b[0m     \u001b[38;5;28;01mif\u001b[39;00m attrname \u001b[38;5;129;01min\u001b[39;00m \u001b[38;5;28mself\u001b[39m\u001b[38;5;241m.\u001b[39mprivates:\n\u001b[0;32m----> 5\u001b[0m         \u001b[38;5;28;01mraise\u001b[39;00m PrivateExc(attrname,\u001b[38;5;28mself\u001b[39m)\n\u001b[1;32m      6\u001b[0m     \u001b[38;5;28;01melse\u001b[39;00m:\n\u001b[1;32m      7\u001b[0m         \u001b[38;5;28mself\u001b[39m\u001b[38;5;241m.\u001b[39m\u001b[38;5;18m__dict__\u001b[39m[attrname] \u001b[38;5;241m=\u001b[39m value\n",
      "\u001b[0;31mPrivateExc\u001b[0m: ('age', <__main__.Test1 object at 0x11e102da0>)"
     ]
    }
   ],
   "source": [
    "x.age = 40"
   ]
  },
  {
   "cell_type": "markdown",
   "metadata": {},
   "source": [
    "通过上面的方式可以再 Python 中实现属性私有性的首选方法。更建议的方法是通过类装饰器来实现私有属性"
   ]
  },
  {
   "cell_type": "markdown",
   "metadata": {},
   "source": [
    "#### __repr__ 和 __str__ 会返回字符串表达形式"
   ]
  },
  {
   "cell_type": "markdown",
   "metadata": {},
   "source": [
    "当实例打印后者转换成字符串时，_repr_ 或者其近亲_str_ 就会自动调用"
   ]
  },
  {
   "cell_type": "code",
   "execution_count": 1,
   "metadata": {},
   "outputs": [],
   "source": [
    "class adder:\n",
    "    def __init__(self,value=0):\n",
    "        self.data = value\n",
    "    def __add__(self,other):\n",
    "        self.data += other"
   ]
  },
  {
   "cell_type": "code",
   "execution_count": 2,
   "metadata": {},
   "outputs": [],
   "source": [
    "x = adder()"
   ]
  },
  {
   "cell_type": "code",
   "execution_count": 3,
   "metadata": {},
   "outputs": [
    {
     "name": "stdout",
     "output_type": "stream",
     "text": [
      "<__main__.adder object at 0x1089c3010>\n"
     ]
    }
   ],
   "source": [
    "print(x)"
   ]
  },
  {
   "cell_type": "code",
   "execution_count": 4,
   "metadata": {},
   "outputs": [
    {
     "data": {
      "text/plain": [
       "<__main__.adder at 0x1089c3010>"
      ]
     },
     "execution_count": 4,
     "metadata": {},
     "output_type": "execute_result"
    }
   ],
   "source": [
    "x"
   ]
  },
  {
   "cell_type": "code",
   "execution_count": 5,
   "metadata": {},
   "outputs": [],
   "source": [
    "class addrer(adder):\n",
    "    def __repr__(self):\n",
    "        return 'addrrepr(%s) ' % self.data"
   ]
  },
  {
   "cell_type": "code",
   "execution_count": 6,
   "metadata": {},
   "outputs": [],
   "source": [
    "x = addrer(2)\n",
    "x + 1"
   ]
  },
  {
   "cell_type": "code",
   "execution_count": 7,
   "metadata": {},
   "outputs": [
    {
     "data": {
      "text/plain": [
       "addrrepr(3) "
      ]
     },
     "execution_count": 7,
     "metadata": {},
     "output_type": "execute_result"
    }
   ],
   "source": [
    "x"
   ]
  },
  {
   "cell_type": "code",
   "execution_count": 8,
   "metadata": {},
   "outputs": [
    {
     "name": "stdout",
     "output_type": "stream",
     "text": [
      "addrrepr(3) \n"
     ]
    }
   ],
   "source": [
    "print(x)"
   ]
  },
  {
   "cell_type": "code",
   "execution_count": 10,
   "metadata": {},
   "outputs": [
    {
     "data": {
      "text/plain": [
       "('addrrepr(3) ', 'addrrepr(3) ')"
      ]
     },
     "execution_count": 10,
     "metadata": {},
     "output_type": "execute_result"
    }
   ],
   "source": [
    "str(x),repr(x)"
   ]
  },
  {
   "cell_type": "markdown",
   "metadata": {},
   "source": [
    "* 打印操作通常尝试_str_和 str 内置函数（print 运行的内部等价形式）。返回用户一个友好的提示\n",
    "* __repr__ 用于所有其他的环境中：在交互式模式下，用于提示回应，以及 repr 函数，可以用于创建提示，或者给开发者一个更加详细的提示\n",
    "* 在交互式模式中，只能够实用 __repr__"
   ]
  },
  {
   "cell_type": "code",
   "execution_count": 11,
   "metadata": {},
   "outputs": [],
   "source": [
    "class addrstr(adder):\n",
    "    def __str__(self):\n",
    "        return '[value:%s ]' % self.data"
   ]
  },
  {
   "cell_type": "code",
   "execution_count": 12,
   "metadata": {},
   "outputs": [],
   "source": [
    "x = addrstr(3)"
   ]
  },
  {
   "cell_type": "code",
   "execution_count": 13,
   "metadata": {},
   "outputs": [],
   "source": [
    "x + 1"
   ]
  },
  {
   "cell_type": "code",
   "execution_count": 14,
   "metadata": {},
   "outputs": [
    {
     "data": {
      "text/plain": [
       "<__main__.addrstr at 0x108d87cd0>"
      ]
     },
     "execution_count": 14,
     "metadata": {},
     "output_type": "execute_result"
    }
   ],
   "source": [
    "x"
   ]
  },
  {
   "cell_type": "code",
   "execution_count": 15,
   "metadata": {},
   "outputs": [
    {
     "name": "stdout",
     "output_type": "stream",
     "text": [
      "[value:4 ]\n"
     ]
    }
   ],
   "source": [
    "print(x)"
   ]
  },
  {
   "cell_type": "code",
   "execution_count": 16,
   "metadata": {},
   "outputs": [
    {
     "data": {
      "text/plain": [
       "('[value:4 ]', '<__main__.addrstr object at 0x108d87cd0>')"
      ]
     },
     "execution_count": 16,
     "metadata": {},
     "output_type": "execute_result"
    }
   ],
   "source": [
    "str(x),repr(x)"
   ]
  },
  {
   "cell_type": "code",
   "execution_count": 17,
   "metadata": {},
   "outputs": [],
   "source": [
    "class addboth(adder):\n",
    "    def __str__(self):\n",
    "        return '[Value: %s]' % self.data\n",
    "    def __repr__(self):\n",
    "        return '[addboth(%s)]' % self.data"
   ]
  },
  {
   "cell_type": "code",
   "execution_count": 18,
   "metadata": {},
   "outputs": [],
   "source": [
    "x = addboth(4)"
   ]
  },
  {
   "cell_type": "code",
   "execution_count": 19,
   "metadata": {},
   "outputs": [],
   "source": [
    "x+1"
   ]
  },
  {
   "cell_type": "code",
   "execution_count": 20,
   "metadata": {},
   "outputs": [
    {
     "data": {
      "text/plain": [
       "[addboth(5)]"
      ]
     },
     "execution_count": 20,
     "metadata": {},
     "output_type": "execute_result"
    }
   ],
   "source": [
    "x"
   ]
  },
  {
   "cell_type": "code",
   "execution_count": 21,
   "metadata": {},
   "outputs": [
    {
     "name": "stdout",
     "output_type": "stream",
     "text": [
      "[Value: 5]\n"
     ]
    }
   ],
   "source": [
    "print(x)"
   ]
  },
  {
   "cell_type": "markdown",
   "metadata": {},
   "source": [
    "* str 和 repr 都必须返回字符串，其他结果类型不会被转换，并且会引发错误\n",
    "* __str__ 有好的用户提示只有当对象出现在一个打印操作顶层的时候才应用。嵌入到大对象中的对象可能用其__repr__ 或者默认的方法打印\n"
   ]
  },
  {
   "cell_type": "code",
   "execution_count": 1,
   "metadata": {},
   "outputs": [],
   "source": [
    "class Printer:\n",
    "    def __init__(self,val):\n",
    "        self.val = val\n",
    "    def __str__(self):\n",
    "        return str(self.val)"
   ]
  },
  {
   "cell_type": "code",
   "execution_count": 3,
   "metadata": {},
   "outputs": [
    {
     "name": "stdout",
     "output_type": "stream",
     "text": [
      "2\n",
      "3\n"
     ]
    }
   ],
   "source": [
    "objs = [Printer(2),Printer(3)]\n",
    "for x in objs:\n",
    "    print(x)"
   ]
  },
  {
   "cell_type": "code",
   "execution_count": 4,
   "metadata": {},
   "outputs": [
    {
     "name": "stdout",
     "output_type": "stream",
     "text": [
      "[<__main__.Printer object at 0x1116d2770>, <__main__.Printer object at 0x1116d2110>]\n"
     ]
    }
   ],
   "source": [
    "print(objs)"
   ]
  },
  {
   "cell_type": "markdown",
   "metadata": {},
   "source": [
    "编写 repr 来适应第二种情况"
   ]
  },
  {
   "cell_type": "code",
   "execution_count": 5,
   "metadata": {},
   "outputs": [],
   "source": [
    "class Printer:\n",
    "    def __init__(self,val):\n",
    "        self.val = val\n",
    "    def __repr__(self):\n",
    "        return str(self.val)"
   ]
  },
  {
   "cell_type": "code",
   "execution_count": 6,
   "metadata": {},
   "outputs": [
    {
     "name": "stdout",
     "output_type": "stream",
     "text": [
      "2\n",
      "3\n"
     ]
    }
   ],
   "source": [
    "objs = [Printer(2),Printer(3)]\n",
    "for x in objs:print(x)"
   ]
  },
  {
   "cell_type": "code",
   "execution_count": 7,
   "metadata": {},
   "outputs": [
    {
     "name": "stdout",
     "output_type": "stream",
     "text": [
      "[2, 3]\n"
     ]
    }
   ],
   "source": [
    "print(objs)"
   ]
  },
  {
   "cell_type": "markdown",
   "metadata": {},
   "source": [
    "在打印并且可以看到定制显示的时候，肯定是使用了__str__或者__repr__中的任何一个"
   ]
  },
  {
   "cell_type": "markdown",
   "metadata": {},
   "source": [
    "#### 右侧加法 radd 和 iadd"
   ]
  },
  {
   "cell_type": "markdown",
   "metadata": {},
   "source": [
    "* 如果需要实现右侧使用实例对象的加法，需要增加__radd__方法。只有当+右侧的对象是类实例，而左边对象不是类实例的时候，会调用__radd__；\n",
    "* 主要取决于类实例位于 + 左边还是右边\n"
   ]
  },
  {
   "cell_type": "code",
   "execution_count": 16,
   "metadata": {},
   "outputs": [],
   "source": [
    "class Commuter:\n",
    "    def __init__(self, val):\n",
    "        self.val = val\n",
    "    def __add__(self,other):\n",
    "        print('add', self.val, other)\n",
    "        return self.val + other\n",
    "        \n",
    "    def __radd__(self, other):\n",
    "        print('radd', self.val, other)\n",
    "        return other + self.val"
   ]
  },
  {
   "cell_type": "code",
   "execution_count": 17,
   "metadata": {},
   "outputs": [],
   "source": [
    "x = Commuter(88)\n",
    "y = Commuter(99)"
   ]
  },
  {
   "cell_type": "code",
   "execution_count": 18,
   "metadata": {},
   "outputs": [
    {
     "name": "stdout",
     "output_type": "stream",
     "text": [
      "add 88 1\n"
     ]
    },
    {
     "data": {
      "text/plain": [
       "89"
      ]
     },
     "execution_count": 18,
     "metadata": {},
     "output_type": "execute_result"
    }
   ],
   "source": [
    "x + 1"
   ]
  },
  {
   "cell_type": "code",
   "execution_count": 19,
   "metadata": {},
   "outputs": [
    {
     "name": "stdout",
     "output_type": "stream",
     "text": [
      "radd 99 1\n"
     ]
    },
    {
     "data": {
      "text/plain": [
       "100"
      ]
     },
     "execution_count": 19,
     "metadata": {},
     "output_type": "execute_result"
    }
   ],
   "source": [
    "1 + y"
   ]
  },
  {
   "cell_type": "code",
   "execution_count": 20,
   "metadata": {},
   "outputs": [
    {
     "name": "stdout",
     "output_type": "stream",
     "text": [
      "add 88 <__main__.Commuter object at 0x110c17f10>\n",
      "radd 99 88\n"
     ]
    },
    {
     "data": {
      "text/plain": [
       "187"
      ]
     },
     "execution_count": 20,
     "metadata": {},
     "output_type": "execute_result"
    }
   ],
   "source": [
    "x + y"
   ]
  },
  {
   "cell_type": "markdown",
   "metadata": {},
   "source": [
    "类型测试可能需要辨别它是否能够安全的转换并由此避免嵌套 ？？？？"
   ]
  },
  {
   "cell_type": "markdown",
   "metadata": {},
   "source": [
    "#### 原处加法\n",
    "为了实现 += 原处相加，编写 iadd 或者 add，如果 iadd 不存在，则使用 add"
   ]
  },
  {
   "cell_type": "code",
   "execution_count": 21,
   "metadata": {},
   "outputs": [],
   "source": [
    "class Number:\n",
    "    def __init__(self,val):\n",
    "        self.val = val\n",
    "    def __iadd__(self, other):\n",
    "        self.val += other\n",
    "        return self"
   ]
  },
  {
   "cell_type": "code",
   "execution_count": 22,
   "metadata": {},
   "outputs": [],
   "source": [
    "x = Number(5)"
   ]
  },
  {
   "cell_type": "code",
   "execution_count": 23,
   "metadata": {},
   "outputs": [],
   "source": [
    "x += 1"
   ]
  },
  {
   "cell_type": "code",
   "execution_count": 24,
   "metadata": {},
   "outputs": [],
   "source": [
    "x+=1"
   ]
  },
  {
   "cell_type": "code",
   "execution_count": 25,
   "metadata": {},
   "outputs": [
    {
     "data": {
      "text/plain": [
       "7"
      ]
     },
     "execution_count": 25,
     "metadata": {},
     "output_type": "execute_result"
    }
   ],
   "source": [
    "x.val"
   ]
  },
  {
   "cell_type": "markdown",
   "metadata": {},
   "source": [
    "使用 add 实现原处相加"
   ]
  },
  {
   "cell_type": "code",
   "execution_count": 30,
   "metadata": {},
   "outputs": [],
   "source": [
    "class Number:\n",
    "    def __init__(self,val):\n",
    "        self.val =  val\n",
    "    def __add__(self,other):\n",
    "        return Number(self.val + other)"
   ]
  },
  {
   "cell_type": "code",
   "execution_count": 31,
   "metadata": {},
   "outputs": [],
   "source": [
    "x = Number(5)"
   ]
  },
  {
   "cell_type": "code",
   "execution_count": 32,
   "metadata": {},
   "outputs": [],
   "source": [
    "x += 1"
   ]
  },
  {
   "cell_type": "code",
   "execution_count": 33,
   "metadata": {},
   "outputs": [],
   "source": [
    "x+=1"
   ]
  },
  {
   "cell_type": "code",
   "execution_count": 34,
   "metadata": {},
   "outputs": [
    {
     "data": {
      "text/plain": [
       "7"
      ]
     },
     "execution_count": 34,
     "metadata": {},
     "output_type": "execute_result"
    }
   ],
   "source": [
    "x.val"
   ]
  },
  {
   "cell_type": "markdown",
   "metadata": {},
   "source": [
    "## Call 表达式：call"
   ]
  },
  {
   "cell_type": "markdown",
   "metadata": {},
   "source": [
    "如果定义了 call 表达式，Python 就会为实例应用表达式运行__call__ 方法，让类实例的外观和用法类似于函数"
   ]
  },
  {
   "cell_type": "code",
   "execution_count": 42,
   "metadata": {},
   "outputs": [],
   "source": [
    "class Callee:\n",
    "    def __call__(self, *pargs,**kargs):\n",
    "        print('Called:', pargs, kargs)"
   ]
  },
  {
   "cell_type": "code",
   "execution_count": 43,
   "metadata": {},
   "outputs": [],
   "source": [
    "c = Callee()"
   ]
  },
  {
   "cell_type": "code",
   "execution_count": 44,
   "metadata": {},
   "outputs": [
    {
     "name": "stdout",
     "output_type": "stream",
     "text": [
      "Called: (1, 2, 3) {}\n"
     ]
    }
   ],
   "source": [
    "c(1,2,3)"
   ]
  },
  {
   "cell_type": "markdown",
   "metadata": {},
   "source": [
    "* 带有一个__call__ 的类和实例，支持与常规函数和方法完全相同的参数语法和语义\n",
    "* 拦截调用表达式允许类实例模拟类似函数的外观，但是也在掉用户总保持了状态信息以供使用\n"
   ]
  },
  {
   "cell_type": "code",
   "execution_count": 54,
   "metadata": {},
   "outputs": [],
   "source": [
    "class Prod:\n",
    "    def __init__(self,value):\n",
    "        self.value = value\n",
    "    def __call__(self,other):\n",
    "        return self.value * other\n",
    "    def comp(self,other):\n",
    "        return self.value * other"
   ]
  },
  {
   "cell_type": "code",
   "execution_count": 55,
   "metadata": {},
   "outputs": [],
   "source": [
    "x = Prod(2)"
   ]
  },
  {
   "cell_type": "code",
   "execution_count": 56,
   "metadata": {},
   "outputs": [
    {
     "data": {
      "text/plain": [
       "6"
      ]
     },
     "execution_count": 56,
     "metadata": {},
     "output_type": "execute_result"
    }
   ],
   "source": [
    "x(3)"
   ]
  },
  {
   "cell_type": "code",
   "execution_count": 57,
   "metadata": {},
   "outputs": [
    {
     "data": {
      "text/plain": [
       "8"
      ]
     },
     "execution_count": 57,
     "metadata": {},
     "output_type": "execute_result"
    }
   ],
   "source": [
    "x(4)"
   ]
  },
  {
   "cell_type": "markdown",
   "metadata": {},
   "source": [
    "通过一个简单的方法也可以通过上面类似的功能"
   ]
  },
  {
   "cell_type": "code",
   "execution_count": 58,
   "metadata": {},
   "outputs": [
    {
     "data": {
      "text/plain": [
       "6"
      ]
     },
     "execution_count": 58,
     "metadata": {},
     "output_type": "execute_result"
    }
   ],
   "source": [
    "x.comp(3)"
   ]
  },
  {
   "cell_type": "code",
   "execution_count": 59,
   "metadata": {},
   "outputs": [
    {
     "data": {
      "text/plain": [
       "8"
      ]
     },
     "execution_count": 59,
     "metadata": {},
     "output_type": "execute_result"
    }
   ],
   "source": [
    "x.comp(4)"
   ]
  },
  {
   "cell_type": "markdown",
   "metadata": {},
   "source": [
    "除了 init str repr, call 是最常用的重载方法了"
   ]
  },
  {
   "cell_type": "markdown",
   "metadata": {},
   "source": [
    "#### 布尔测试： bool 和 len"
   ]
  },
  {
   "cell_type": "markdown",
   "metadata": {},
   "source": [
    "Python 首先尝试 __bool__ 来获取一个直接的 bool 值，如果没有该方法，尝试根据 __len__ 根据对象的长度确定一个真值"
   ]
  },
  {
   "cell_type": "code",
   "execution_count": 60,
   "metadata": {},
   "outputs": [],
   "source": [
    "class Truth:\n",
    "    def __bool__(self):\n",
    "        return True"
   ]
  },
  {
   "cell_type": "code",
   "execution_count": 61,
   "metadata": {},
   "outputs": [],
   "source": [
    "x = Truth()"
   ]
  },
  {
   "cell_type": "code",
   "execution_count": 63,
   "metadata": {},
   "outputs": [
    {
     "name": "stdout",
     "output_type": "stream",
     "text": [
      "yes!\n"
     ]
    }
   ],
   "source": [
    "if x:print('yes!')"
   ]
  },
  {
   "cell_type": "markdown",
   "metadata": {},
   "source": [
    "通过 len 判断长度是一个费控对象为真"
   ]
  },
  {
   "cell_type": "code",
   "execution_count": 64,
   "metadata": {},
   "outputs": [],
   "source": [
    "class Truth:\n",
    "    def __len__(self):\n",
    "        return 0"
   ]
  },
  {
   "cell_type": "code",
   "execution_count": 65,
   "metadata": {},
   "outputs": [],
   "source": [
    "x = Truth()"
   ]
  },
  {
   "cell_type": "code",
   "execution_count": 67,
   "metadata": {},
   "outputs": [
    {
     "name": "stdout",
     "output_type": "stream",
     "text": [
      "bool\n"
     ]
    }
   ],
   "source": [
    "if not x:print('bool')"
   ]
  },
  {
   "cell_type": "markdown",
   "metadata": {},
   "source": [
    "如果都没有定义，则一定为真"
   ]
  },
  {
   "cell_type": "code",
   "execution_count": 68,
   "metadata": {},
   "outputs": [],
   "source": [
    "class Truth:\n",
    "    pass"
   ]
  },
  {
   "cell_type": "code",
   "execution_count": 69,
   "metadata": {},
   "outputs": [],
   "source": [
    "x = Truth()"
   ]
  },
  {
   "cell_type": "code",
   "execution_count": 70,
   "metadata": {},
   "outputs": [
    {
     "data": {
      "text/plain": [
       "True"
      ]
     },
     "execution_count": 70,
     "metadata": {},
     "output_type": "execute_result"
    }
   ],
   "source": [
    "bool(x)"
   ]
  },
  {
   "cell_type": "markdown",
   "metadata": {},
   "source": [
    "## 对象析构函数 del\n",
    "产生实例时，调用 __init__ 构造函数，没当实例被回收时，执行析构函数 __del__ "
   ]
  },
  {
   "cell_type": "code",
   "execution_count": 80,
   "metadata": {},
   "outputs": [],
   "source": [
    "class Life:\n",
    "    def __init__(self,name='unknown'):\n",
    "        print(\"hello\", name)\n",
    "        self.name = name\n",
    "    \n",
    "    def __del__(self):\n",
    "        print(\"GoodBye\", self.name)"
   ]
  },
  {
   "cell_type": "code",
   "execution_count": 81,
   "metadata": {},
   "outputs": [
    {
     "name": "stdout",
     "output_type": "stream",
     "text": [
      "hello Brain\n"
     ]
    }
   ],
   "source": [
    "brain = Life('Brain')"
   ]
  },
  {
   "cell_type": "markdown",
   "metadata": {},
   "source": [
    "1. 当 brain 赋值为字符串时，我们会失去 Life 实例的最后一个引用，因此出发析构函数，此时需要一些清理行为\n",
    "2. Python 在实例回收时，会自动回收该实例所拥有的全部空间，对于空间管理不需要析构函数\n"
   ]
  },
  {
   "cell_type": "code",
   "execution_count": 82,
   "metadata": {},
   "outputs": [
    {
     "name": "stdout",
     "output_type": "stream",
     "text": [
      "GoodBye Brain\n"
     ]
    }
   ],
   "source": [
    "brain = 'Loretta'"
   ]
  },
  {
   "cell_type": "markdown",
   "metadata": {
    "jp-MarkdownHeadingCollapsed": true
   },
   "source": [
    "# 第三十章：类的设计"
   ]
  },
  {
   "cell_type": "markdown",
   "metadata": {},
   "source": [
    "## Python 和 OOP\n",
    "1. Python 中的 OOP 包含以下三个概念：\n",
    "2. 继承：继承是基于 Python 中的属性查找实现的\n",
    "3. 多态：在 x.method 中， method 的意义取决于 x 的类型。实现相同接口的对象是可以相互交换的，客户端不需要知道他们调用的方法的对象种类。多态是基于对象接口的，而不是基于类型的\n",
    "4. 封装：方法和运算符实现行为，数据隐藏默认是一种惯例；将实现的细节隐藏在对象接口之后。用于保证对象的接口出现变动时，不影响该对象的用户"
   ]
  },
  {
   "cell_type": "markdown",
   "metadata": {},
   "source": [
    "### 通过标记进行重载"
   ]
  },
  {
   "cell_type": "markdown",
   "metadata": {},
   "source": [
    "* 一些情况下，OOP 语言 将多态定义为基于参数类型标记的重载函数。但是 Python 中的多态是基于对象接口的，而不是类型\n",
    "* 应该将代码编写为预期的对象接口，而不是特定的数据类型\n"
   ]
  },
  {
   "cell_type": "markdown",
   "metadata": {},
   "source": [
    "## OOP 和 继承 \"是一个\" 关系"
   ]
  },
  {
   "cell_type": "markdown",
   "metadata": {},
   "source": [
    "* 程序员的角度：继承是由属性点好运算符启动的，由此触发实例、类、以及任何超累中的变量名搜索\n",
    "* 设计师的角度：继承是一种定义集合成员关系的方式：类定义了一组内容属性，可由更具体的子类继承和定制"
   ]
  },
  {
   "cell_type": "markdown",
   "metadata": {},
   "source": [
    "## OOP 和组合：\"有一个\" 关系"
   ]
  },
  {
   "cell_type": "markdown",
   "metadata": {},
   "source": [
    "* 从程序员的角度：组合涉及把其他对象嵌入容器对象内，并使其实现容器方法。\n",
    "* 从设计师的角度：组合是另一种表示问题领域中关系的方式"
   ]
  },
  {
   "cell_type": "markdown",
   "metadata": {},
   "source": [
    "组合反映了各组成部分之间的关系，通常是 has-a 关系。组合类一般都提供自己的接口，并通过内嵌的对象来实现接口"
   ]
  },
  {
   "cell_type": "markdown",
   "metadata": {},
   "source": [
    "## OOP 和委托： \"包装\" 对象"
   ]
  },
  {
   "cell_type": "markdown",
   "metadata": {},
   "source": [
    "* 委托：控制器对象内嵌其他对象，而把运算请求传递给对应的对象。控制器负责管理工作。\n",
    "* 在 Python 中，委托通常以 __getattr__ 钩子方法来实现，庸医拦截对不存在属性的读取。\n",
    "* 包装类，代理类：可以使用__getattr__把任意读取转发给被包装的对象\n"
   ]
  },
  {
   "cell_type": "code",
   "execution_count": 1,
   "metadata": {},
   "outputs": [],
   "source": [
    "class wrapper:\n",
    "    def __init__(self, object):\n",
    "        self.wrapped = object\n",
    "\n",
    "    def __getattr__(self,attrname):\n",
    "        print('Trace:', attrname)\n",
    "        return getattr(self.wrapped, attrname)"
   ]
  },
  {
   "cell_type": "code",
   "execution_count": 2,
   "metadata": {},
   "outputs": [],
   "source": [
    "x = wrapper([1,2,3])"
   ]
  },
  {
   "cell_type": "code",
   "execution_count": 3,
   "metadata": {},
   "outputs": [
    {
     "name": "stdout",
     "output_type": "stream",
     "text": [
      "Trace: append\n"
     ]
    }
   ],
   "source": [
    "x.append(4)"
   ]
  },
  {
   "cell_type": "code",
   "execution_count": 5,
   "metadata": {},
   "outputs": [
    {
     "data": {
      "text/plain": [
       "[1, 2, 3, 4]"
      ]
     },
     "execution_count": 5,
     "metadata": {},
     "output_type": "execute_result"
    }
   ],
   "source": [
    "x.wrapped"
   ]
  },
  {
   "cell_type": "markdown",
   "metadata": {},
   "source": [
    "__getattr__ 会获得属性名称字符串。 改代码利用 getattr 内置函数，以变量名字符串从包裹对象中取出属性：getattr(x,n)就像 x.n，但是 n 是表达式，可以在运算时计算出字符串"
   ]
  },
  {
   "cell_type": "code",
   "execution_count": 6,
   "metadata": {},
   "outputs": [],
   "source": [
    "x = wrapper({'a':1,'b':2})"
   ]
  },
  {
   "cell_type": "code",
   "execution_count": 8,
   "metadata": {},
   "outputs": [
    {
     "name": "stdout",
     "output_type": "stream",
     "text": [
      "Trace: keys\n"
     ]
    },
    {
     "data": {
      "text/plain": [
       "['a', 'b']"
      ]
     },
     "execution_count": 8,
     "metadata": {},
     "output_type": "execute_result"
    }
   ],
   "source": [
    "list(x.keys())"
   ]
  },
  {
   "cell_type": "markdown",
   "metadata": {},
   "source": [
    "## 类的伪私有属性"
   ]
  },
  {
   "cell_type": "markdown",
   "metadata": {},
   "source": [
    "* Python 通过变量名压缩技术实现某些变量局部化。压缩后的变量名有时会被认为是私有属性，但是这其实只是一种把类所创建的变量名局部化的方式而已\n",
    "* 该功能主要适用于避免实例内的命名空间冲突，而不是限制变量名的读取\n",
    "* 通过单下换线来编写内部名称: _X"
   ]
  },
  {
   "cell_type": "markdown",
   "metadata": {},
   "source": [
    "class 语句内开头有两个下换线，但是结尾没有两个下划线的变量名，就会自动扩张，从而包含所在类的名称：\n",
    "* _x 扩张为：_spam_X：\n",
    "* 变量名压缩只发生在 class 语句内，而且只针对开头有两个下划线的变量名，对于方法名称和实例属性名称都会发生"
   ]
  },
  {
   "cell_type": "markdown",
   "metadata": {},
   "source": [
    "在 Python 的类方法内，每当方法赋值 self 的属性时，就会在该实例内修改或创驾该属性。即使在这个层次中有多个类赋值相同的属性"
   ]
  },
  {
   "cell_type": "code",
   "execution_count": 16,
   "metadata": {},
   "outputs": [],
   "source": [
    "class C1:\n",
    "    def meth1(self): self.__x = 88\n",
    "    def meth2(self): print(self.__x)\n",
    "\n",
    "class C2:\n",
    "    def metha(self): self.__x = 99\n",
    "    def methb(self): print(self.__x)"
   ]
  },
  {
   "cell_type": "code",
   "execution_count": 17,
   "metadata": {},
   "outputs": [],
   "source": [
    "class C3(C1,C2):\n",
    "    pass\n",
    "\n",
    "I = C3()\n"
   ]
  },
  {
   "cell_type": "code",
   "execution_count": 19,
   "metadata": {},
   "outputs": [
    {
     "name": "stdout",
     "output_type": "stream",
     "text": [
      "{'_C1__x': 88, '_C2__x': 99}\n",
      "88\n",
      "99\n"
     ]
    }
   ],
   "source": [
    "I.meth1();I.metha()\n",
    "print(I.__dict__)\n",
    "I.meth2();I.methb()"
   ]
  },
  {
   "cell_type": "markdown",
   "metadata": {},
   "source": [
    "## 方法是对象： 绑定或者无绑定"
   ]
  },
  {
   "cell_type": "markdown",
   "metadata": {},
   "source": [
    "方法是一种对象，并且用于其他对象大部分相同的方式来广泛使用，支持赋值、将其传递给函数、存储在数据结构中。类方法可以从一个实例或者一个类访问，在 Python 存储字啊以下两种形式：\n",
    "* 无绑定方法对象（无 self）：\n",
    "  通过对类进行点号运算符从而获取类的函数属性，会传回无绑定方法对象。调用该方法时，必须明确提供实例对象作为第一个参数。无绑定方法和函数类似，通过类名直接进行调用\n",
    "* 绑定实例方法对象（self + 函数对）：\n",
    "  通过对实例进行全运算从而获取类的函数属性，会传回绑定（Bound）方法对象\n",
    "  Python 在绑定方法对象中自动把实例和函数打包，所以不需要传递实例去调用该方法"
   ]
  },
  {
   "cell_type": "code",
   "execution_count": 20,
   "metadata": {},
   "outputs": [],
   "source": [
    "class Spam:\n",
    "    def doit(self,message):\n",
    "        print(message)"
   ]
  },
  {
   "cell_type": "code",
   "execution_count": 21,
   "metadata": {},
   "outputs": [
    {
     "name": "stdout",
     "output_type": "stream",
     "text": [
      "hello world\n"
     ]
    }
   ],
   "source": [
    "obj1 = Spam()\n",
    "obj1.doit(\"hello world\")"
   ]
  },
  {
   "cell_type": "markdown",
   "metadata": {},
   "source": [
    "绑定方法对象是在过程中产生的，就在方法调用的括号前；\n",
    "* 可以通过 obj.name 结合运算符称为一个对象表达式，并且将绑定方法赋值给一个变量名后，然后像简单函数那样进行调用"
   ]
  },
  {
   "cell_type": "code",
   "execution_count": 22,
   "metadata": {},
   "outputs": [
    {
     "name": "stdout",
     "output_type": "stream",
     "text": [
      "hello world\n"
     ]
    }
   ],
   "source": [
    "obj1 = Spam()\n",
    "x = obj1.doit\n",
    "x(\"hello world\")"
   ]
  },
  {
   "cell_type": "markdown",
   "metadata": {},
   "source": [
    "操作无绑定方法对象: 如果对于类进行点号运算符获取属性值，就会得到无绑定方法对象，也就是函数对象的引用值"
   ]
  },
  {
   "cell_type": "code",
   "execution_count": 24,
   "metadata": {},
   "outputs": [
    {
     "name": "stdout",
     "output_type": "stream",
     "text": [
      "howdy\n"
     ]
    }
   ],
   "source": [
    "obj1 = Spam()\n",
    "t = Spam.doit\n",
    "t(obj1, 'howdy')"
   ]
  },
  {
   "cell_type": "markdown",
   "metadata": {},
   "source": [
    "* 只有通过实例调用，Python 3.0 才会向方法传递一个实例\n",
    "* 当通过一个类调用的时候，只有在方法期待一个实例的时候，才必须手动传递一个实例"
   ]
  },
  {
   "cell_type": "code",
   "execution_count": 25,
   "metadata": {},
   "outputs": [],
   "source": [
    "class Selfless:\n",
    "    def __init__(self,data):\n",
    "        self.data = data\n",
    "    \n",
    "    def selfless(arg1,arg2):\n",
    "        return arg1 + arg2\n",
    "\n",
    "    def normal(self, arg1,arg2):\n",
    "        return self.data + arg1 + arg2"
   ]
  },
  {
   "cell_type": "code",
   "execution_count": 26,
   "metadata": {},
   "outputs": [],
   "source": [
    "x = Selfless(2)"
   ]
  },
  {
   "cell_type": "markdown",
   "metadata": {},
   "source": [
    "实例自动传递"
   ]
  },
  {
   "cell_type": "code",
   "execution_count": 27,
   "metadata": {
    "scrolled": true
   },
   "outputs": [
    {
     "data": {
      "text/plain": [
       "9"
      ]
     },
     "execution_count": 27,
     "metadata": {},
     "output_type": "execute_result"
    }
   ],
   "source": [
    "x.normal(3,4)"
   ]
  },
  {
   "cell_type": "code",
   "execution_count": null,
   "metadata": {},
   "outputs": [],
   "source": [
    "通过方法手动传递实例"
   ]
  },
  {
   "cell_type": "code",
   "execution_count": 28,
   "metadata": {},
   "outputs": [
    {
     "data": {
      "text/plain": [
       "9"
      ]
     },
     "execution_count": 28,
     "metadata": {},
     "output_type": "execute_result"
    }
   ],
   "source": [
    "Selfless.normal(x,3,4)"
   ]
  },
  {
   "cell_type": "markdown",
   "metadata": {},
   "source": [
    "不传递实例，在 3.0 中也是可以正常工作的"
   ]
  },
  {
   "cell_type": "code",
   "execution_count": 30,
   "metadata": {},
   "outputs": [
    {
     "data": {
      "text/plain": [
       "7"
      ]
     },
     "execution_count": 30,
     "metadata": {},
     "output_type": "execute_result"
    }
   ],
   "source": [
    "Selfless.selfless(3,4)"
   ]
  },
  {
   "cell_type": "markdown",
   "metadata": {},
   "source": [
    "绑定方法可以像一个通用对象处理，支持像任何其他可调用对象一样对待"
   ]
  },
  {
   "cell_type": "code",
   "execution_count": 31,
   "metadata": {},
   "outputs": [],
   "source": [
    "class Number:\n",
    "    def __init__(self, base):\n",
    "        self.base = base\n",
    "    def double(self):\n",
    "        return self.base * 2\n",
    "    def triple(self):\n",
    "        return self.base * 3"
   ]
  },
  {
   "cell_type": "code",
   "execution_count": 32,
   "metadata": {},
   "outputs": [],
   "source": [
    "x = Number(2)"
   ]
  },
  {
   "cell_type": "code",
   "execution_count": 36,
   "metadata": {},
   "outputs": [],
   "source": [
    "y = Number(3)"
   ]
  },
  {
   "cell_type": "code",
   "execution_count": 37,
   "metadata": {},
   "outputs": [],
   "source": [
    "z = Number(4)"
   ]
  },
  {
   "cell_type": "code",
   "execution_count": 38,
   "metadata": {},
   "outputs": [
    {
     "data": {
      "text/plain": [
       "8"
      ]
     },
     "execution_count": 38,
     "metadata": {},
     "output_type": "execute_result"
    }
   ],
   "source": [
    "x.double()"
   ]
  },
  {
   "cell_type": "code",
   "execution_count": 39,
   "metadata": {},
   "outputs": [
    {
     "name": "stdout",
     "output_type": "stream",
     "text": [
      "8\n",
      "6\n",
      "9\n",
      "8\n"
     ]
    }
   ],
   "source": [
    "acts = [x.double, y.double, y.triple, z.double]\n",
    "for act in acts:\n",
    "    print(act())"
   ]
  },
  {
   "cell_type": "markdown",
   "metadata": {},
   "source": [
    "绑定方法对象拥有自己的内省信息，包括让它们配对的实例对象和方法函数访问的属性。调用绑定方法会直接分配配对："
   ]
  },
  {
   "cell_type": "code",
   "execution_count": 40,
   "metadata": {},
   "outputs": [],
   "source": [
    "bound = x.double"
   ]
  },
  {
   "cell_type": "code",
   "execution_count": 41,
   "metadata": {},
   "outputs": [
    {
     "data": {
      "text/plain": [
       "(<__main__.Number at 0x107c5e170>, <function __main__.Number.double(self)>)"
      ]
     },
     "execution_count": 41,
     "metadata": {},
     "output_type": "execute_result"
    }
   ],
   "source": [
    "bound.__self__,bound.__func__"
   ]
  },
  {
   "cell_type": "code",
   "execution_count": 42,
   "metadata": {},
   "outputs": [
    {
     "data": {
      "text/plain": [
       "4"
      ]
     },
     "execution_count": 42,
     "metadata": {},
     "output_type": "execute_result"
    }
   ],
   "source": [
    "bound.__self__.base"
   ]
  },
  {
   "cell_type": "code",
   "execution_count": 43,
   "metadata": {},
   "outputs": [
    {
     "data": {
      "text/plain": [
       "8"
      ]
     },
     "execution_count": 43,
     "metadata": {},
     "output_type": "execute_result"
    }
   ],
   "source": [
    "bound()"
   ]
  },
  {
   "cell_type": "markdown",
   "metadata": {},
   "source": [
    "## 多重继承：混合类"
   ]
  },
  {
   "cell_type": "markdown",
   "metadata": {},
   "source": [
    "* class 语句中，首行括号中可以列出一个以上的超类，就实现了多重继承：类和实例继承了列出的所有超类的变量名\n",
    "* 属性搜索时，Python 会由左至右搜索首行中的超类，直到找到相符者\n",
    "* 传统类：属性的搜索处理对于所有路径都是深度优先\n",
    "* 新式类：属性沿着树层级进行搜索、以更加广度优先的方式进行搜索\n"
   ]
  },
  {
   "cell_type": "markdown",
   "metadata": {},
   "source": [
    "### 编写混合类"
   ]
  },
  {
   "cell_type": "code",
   "execution_count": 44,
   "metadata": {},
   "outputs": [],
   "source": [
    "class Spam:\n",
    "    def __init__(self):\n",
    "        self.data1 = \"food\""
   ]
  },
  {
   "cell_type": "code",
   "execution_count": 45,
   "metadata": {},
   "outputs": [],
   "source": [
    "x = Spam()"
   ]
  },
  {
   "cell_type": "code",
   "execution_count": 46,
   "metadata": {},
   "outputs": [
    {
     "name": "stdout",
     "output_type": "stream",
     "text": [
      "<__main__.Spam object at 0x107cc4cd0>\n"
     ]
    }
   ],
   "source": [
    "print(x)"
   ]
  },
  {
   "cell_type": "markdown",
   "metadata": {},
   "source": [
    "在混合类中顶一个显示方法一次，使得我们能够在想要看到的一个定制显示格式的任何地方重用"
   ]
  },
  {
   "cell_type": "markdown",
   "metadata": {},
   "source": [
    "#### 使用 __dict__ 列出实例属性"
   ]
  },
  {
   "cell_type": "code",
   "execution_count": 56,
   "metadata": {},
   "outputs": [],
   "source": [
    "#!/usr/bin/env python3\n",
    "# -*- coding: utf-8 -*-\n",
    "\n",
    "\n",
    "class ListInstance:\n",
    "\n",
    "    def __str__(self) -> str:\n",
    "        return \"<Instance of %s, address %s:\\n%s>\" % (\n",
    "            self.__class__.__name__,\n",
    "            id(self),\n",
    "            self.__attrnames(),\n",
    "        )\n",
    "\n",
    "    def __attrnames(self):\n",
    "        return \"\".join(\n",
    "            \"\\tname %s=%s\\n\" % (attr, self.__dict__[attr])\n",
    "            for attr in sorted(self.__dict__)\n",
    "        )\n"
   ]
  },
  {
   "cell_type": "markdown",
   "metadata": {},
   "source": [
    "* 通过实例的__class__属性获取创建其的类，并通过__name__获取其名称\n",
    "* 通过扫描实例的属性字典，用于构建一个字符串来显示所有实例属性的名称和值\n",
    "* 通过调用 ID 显示其内存地址，该函数返回任何对象的地址（根据定义，这是一个唯一的对象标识符号，在随后对这一代码的修改有用）"
   ]
  },
  {
   "cell_type": "code",
   "execution_count": 57,
   "metadata": {},
   "outputs": [],
   "source": [
    "class Spam(ListInstance):\n",
    "    def __init__(self):\n",
    "        self.data1 = 'food'"
   ]
  },
  {
   "cell_type": "code",
   "execution_count": 58,
   "metadata": {},
   "outputs": [],
   "source": [
    "x = Spam()"
   ]
  },
  {
   "cell_type": "code",
   "execution_count": 59,
   "metadata": {},
   "outputs": [
    {
     "name": "stdout",
     "output_type": "stream",
     "text": [
      "<Instance of Spam, address 4424928512:\n",
      "\tname data1=food\n",
      ">\n"
     ]
    }
   ],
   "source": [
    "print(x)"
   ]
  },
  {
   "cell_type": "code",
   "execution_count": 60,
   "metadata": {},
   "outputs": [
    {
     "data": {
      "text/plain": [
       "'<Instance of Spam, address 4424928512:\\n\\tname data1=food\\n>'"
      ]
     },
     "execution_count": 60,
     "metadata": {},
     "output_type": "execute_result"
    }
   ],
   "source": [
    "str(x)"
   ]
  },
  {
   "cell_type": "markdown",
   "metadata": {},
   "source": [
    "#### 使用 dir 列出继承的属性"
   ]
  },
  {
   "cell_type": "markdown",
   "metadata": {},
   "source": [
    "__dict__ 混合类只显示实例属性，扩展该类以显式从一个实例可以访问的所有属性，使用 dir 函数，而不是扫描实例的 __dict__ 字典，后者只保存了实例属性"
   ]
  },
  {
   "cell_type": "code",
   "execution_count": 62,
   "metadata": {},
   "outputs": [],
   "source": [
    "#!/usr/bin/env python3\n",
    "# -*- coding: utf-8 -*-\n",
    "\n",
    "\n",
    "class ListInstance:\n",
    "\n",
    "    def __str__(self) -> str:\n",
    "        return \"<Instance of %s, address %s:\\n%s>\" % (\n",
    "            self.__class__.__name__,\n",
    "            id(self),\n",
    "            self.__attrnames(),\n",
    "        )\n",
    "\n",
    "    def __attrnames(self):\n",
    "        result = ''\n",
    "        for attr in dir(self):\n",
    "            if attr[:2] == '__' and attr[-2:] == '__':\n",
    "                result += '\\tname %s =<>\\n ' % attr\n",
    "            else:\n",
    "                result += '\\tname %s=%s\\n' %(attr, getattr(self, attr))\n",
    "\n",
    "        return result\n"
   ]
  },
  {
   "cell_type": "markdown",
   "metadata": {},
   "source": [
    "#### 列出类树种每个对象的属性"
   ]
  },
  {
   "cell_type": "markdown",
   "metadata": {},
   "source": [
    "## 类是对象：通用对象的工厂"
   ]
  },
  {
   "cell_type": "markdown",
   "metadata": {},
   "source": [
    "* 基于类的设计要求创建的对象来响应条件，而这些条件是在编写程序的时候无法预料的。工厂设计模式允许这样一种延迟方法\n",
    "* 类是对象，因此很容易在程序中进行传递，保存在数据结构中，也可以把类传递给会产生任意种类对象的函数。这类函数在 OOP 设计领域中偶尔称为工厂\n"
   ]
  },
  {
   "cell_type": "code",
   "execution_count": 2,
   "metadata": {},
   "outputs": [],
   "source": [
    "def factory(aClass,*args,**kwargs):\n",
    "    return aClass(*args,**kwargs)\n",
    "\n",
    "class Spam:\n",
    "    def doit(self,message):\n",
    "        print(message)\n",
    "\n",
    "class Person:\n",
    "    def __init__(self,name,job):\n",
    "        self.name = name\n",
    "        self.job = job"
   ]
  },
  {
   "cell_type": "code",
   "execution_count": 3,
   "metadata": {},
   "outputs": [],
   "source": [
    "obj1 = factory(Spam)\n",
    "obj2 = factory(Person,\"Guido\",'guru')"
   ]
  },
  {
   "cell_type": "markdown",
   "metadata": {},
   "source": [
    "## 为什么要有工厂"
   ]
  },
  {
   "cell_type": "markdown",
   "metadata": {},
   "source": [
    "工厂函数可以将代码和动态配置的对象的构造细节隔离开"
   ]
  },
  {
   "cell_type": "markdown",
   "metadata": {},
   "source": [
    "## 与设计相关的其他话题\n",
    "* 继承\n",
    "* 复合\n",
    "* 委托\n",
    "* 多继承\n",
    "* 绑定方法\n",
    "* 工厂\n",
    "* 抽象基类\n",
    "* 装饰器\n",
    "* 类型子类\n",
    "* 静态方法和类方法\n",
    "* 管理属性\n",
    "* 元类"
   ]
  },
  {
   "cell_type": "markdown",
   "metadata": {},
   "source": [
    "# 第三十一章：类的高级主题"
   ]
  },
  {
   "cell_type": "markdown",
   "metadata": {},
   "source": [
    "## 扩展内置类型\n",
    "类可以用于扩展 Python 内置类型的功能，从而支持更另类的数据结构"
   ]
  },
  {
   "cell_type": "markdown",
   "metadata": {},
   "source": [
    "### 通过嵌入扩展类型\n",
    "通过将列表嵌入到新类中，并且新增运算符重载，实现了新的集合对象"
   ]
  },
  {
   "cell_type": "code",
   "execution_count": 2,
   "metadata": {},
   "outputs": [],
   "source": [
    "class Set:\n",
    "    def __init__(self,value=[]):\n",
    "        self.data = []\n",
    "        self.concat(value)\n",
    "\n",
    "    def interset(self,other):\n",
    "        res = []\n",
    "        for x in self.data:\n",
    "            if x in other:\n",
    "                res.append(x)\n",
    "        return Set(res)\n",
    "\n",
    "    def union(self,other):\n",
    "        res = self.data[:]\n",
    "        for x in other:\n",
    "            if not x in res:\n",
    "                res.append(x)\n",
    "        return Set(res)\n",
    "\n",
    "    def concat(self,value):\n",
    "        for x in value:\n",
    "            if not x in self.data:\n",
    "                self.data.append(x)\n",
    "\n",
    "    def __len__(self): return len(self.data)\n",
    "    def __getitem__(self,key): return self.data[key]\n",
    "    def __and__(self,other): return self.interset(other)\n",
    "    def __or__(self,other): return self.union(other)\n",
    "    def __repr__(self): return \"Set:\" + repr(self.data)\n"
   ]
  },
  {
   "cell_type": "markdown",
   "metadata": {},
   "source": [
    "调用新类的方法"
   ]
  },
  {
   "cell_type": "code",
   "execution_count": 3,
   "metadata": {},
   "outputs": [],
   "source": [
    "x = Set([1,3,5,7])"
   ]
  },
  {
   "cell_type": "code",
   "execution_count": 4,
   "metadata": {},
   "outputs": [
    {
     "name": "stdout",
     "output_type": "stream",
     "text": [
      "Set:[1, 3, 5, 7, 4]\n"
     ]
    }
   ],
   "source": [
    "print(x.union(Set([1,4,7])))"
   ]
  },
  {
   "cell_type": "code",
   "execution_count": 5,
   "metadata": {},
   "outputs": [
    {
     "name": "stdout",
     "output_type": "stream",
     "text": [
      "Set:[1, 3, 5, 7, 4, 6]\n"
     ]
    }
   ],
   "source": [
    "print(x | Set([1,4,6]))"
   ]
  },
  {
   "cell_type": "markdown",
   "metadata": {},
   "source": [
    "### 通过子类扩展类型\n",
    "* 所有的内置类型都能够直接创建子类，这种行为支持用户通过自定义的 class 语句定制或者扩展内置类型：类型的子类能够出现在原始内置类型出现的任何地方\n",
    "* 定制自己的子类来修改定制列表的核心行为\n"
   ]
  },
  {
   "cell_type": "code",
   "execution_count": 13,
   "metadata": {},
   "outputs": [],
   "source": [
    "class MyList(list):\n",
    "    def __getitem__(self,offset):\n",
    "        print('(indexing %s at %s)' % (self,offset))\n",
    "        return list.__getitem__(self, offset-1)    "
   ]
  },
  {
   "cell_type": "code",
   "execution_count": 14,
   "metadata": {},
   "outputs": [
    {
     "name": "stdout",
     "output_type": "stream",
     "text": [
      "['a', 'b', 'c']\n"
     ]
    }
   ],
   "source": [
    "print(list('abc'))"
   ]
  },
  {
   "cell_type": "code",
   "execution_count": 15,
   "metadata": {},
   "outputs": [
    {
     "name": "stdout",
     "output_type": "stream",
     "text": [
      "['a', 'b', 'c']\n"
     ]
    }
   ],
   "source": [
    "x = MyList('abc')\n",
    "print(x)"
   ]
  },
  {
   "cell_type": "code",
   "execution_count": 16,
   "metadata": {},
   "outputs": [
    {
     "name": "stdout",
     "output_type": "stream",
     "text": [
      "(indexing ['a', 'b', 'c'] at 1)\n",
      "a\n"
     ]
    }
   ],
   "source": [
    "print(x[1])"
   ]
  },
  {
   "cell_type": "code",
   "execution_count": 17,
   "metadata": {},
   "outputs": [
    {
     "name": "stdout",
     "output_type": "stream",
     "text": [
      "(indexing ['a', 'b', 'c'] at 3)\n",
      "c\n"
     ]
    }
   ],
   "source": [
    "print(x[3])"
   ]
  },
  {
   "cell_type": "code",
   "execution_count": 18,
   "metadata": {},
   "outputs": [],
   "source": [
    "x.append('spam')"
   ]
  },
  {
   "cell_type": "code",
   "execution_count": 19,
   "metadata": {},
   "outputs": [],
   "source": [
    "x.reverse()"
   ]
  },
  {
   "cell_type": "code",
   "execution_count": 20,
   "metadata": {},
   "outputs": [
    {
     "data": {
      "text/plain": [
       "['spam', 'c', 'b', 'a']"
      ]
     },
     "execution_count": 20,
     "metadata": {},
     "output_type": "execute_result"
    }
   ],
   "source": [
    "x"
   ]
  },
  {
   "cell_type": "markdown",
   "metadata": {},
   "source": [
    "通过继承子类的方式来定制内置类型，是很强大的工具"
   ]
  },
  {
   "cell_type": "code",
   "execution_count": 25,
   "metadata": {},
   "outputs": [],
   "source": [
    "class Set(list):\n",
    "    def __init__(self, value=[]):\n",
    "        list.__init__([])\n",
    "        self.concat(value)\n",
    "\n",
    "    def intersect(self,other):\n",
    "        res = []\n",
    "        for x in self:\n",
    "            if x in other:\n",
    "                res.append(x)\n",
    "\n",
    "        return Set(res)\n",
    "\n",
    "    def union(self,other):\n",
    "        res = Set(self)\n",
    "        res.concat(other)\n",
    "        \n",
    "        return res\n",
    "    \n",
    "    def concat(self,value):\n",
    "        for x in value:\n",
    "            if x not in self:\n",
    "                self.append(x)\n",
    "    def __and__(self,other): return self.intersect(other)\n",
    "    def __or__(self, other): return self.union(other)\n",
    "    def __repr__(self): return 'Set:' + list.__repr__(self)"
   ]
  },
  {
   "cell_type": "code",
   "execution_count": 26,
   "metadata": {},
   "outputs": [],
   "source": [
    "x = Set([1,3,5,7])\n",
    "y = Set([2,1,4,5,6])"
   ]
  },
  {
   "cell_type": "code",
   "execution_count": 31,
   "metadata": {},
   "outputs": [
    {
     "name": "stdout",
     "output_type": "stream",
     "text": [
      "Set:[1, 3, 5, 7] Set:[2, 1, 4, 5, 6] 4\t"
     ]
    }
   ],
   "source": [
    "print(x,y,len(x),end='\\t')"
   ]
  },
  {
   "cell_type": "code",
   "execution_count": 32,
   "metadata": {},
   "outputs": [
    {
     "name": "stdout",
     "output_type": "stream",
     "text": [
      "Set:[1, 5] Set:[2, 1, 4, 5, 6, 3, 7]\n"
     ]
    }
   ],
   "source": [
    "print(x.intersect(y),y.union(x))"
   ]
  },
  {
   "cell_type": "code",
   "execution_count": 33,
   "metadata": {},
   "outputs": [
    {
     "name": "stdout",
     "output_type": "stream",
     "text": [
      "Set:[1, 5] Set:[1, 3, 5, 7, 2, 4, 6]\n"
     ]
    }
   ],
   "source": [
    "print(x & y, x | y)"
   ]
  },
  {
   "cell_type": "code",
   "execution_count": 34,
   "metadata": {},
   "outputs": [
    {
     "name": "stdout",
     "output_type": "stream",
     "text": [
      "Set:[7, 5, 3, 1]\n"
     ]
    }
   ],
   "source": [
    "x.reverse();print(x)"
   ]
  },
  {
   "cell_type": "markdown",
   "metadata": {},
   "source": [
    "## 新式类\n",
    "在 Python 2 中存在新式类和经典类的区分，但是在 3.0 中已经基本上融合了\n",
    "* Python 3.0 中，无论是否显式的继承自 Object。所有的实例的都默认继承 Object，并且所有的对象都是 Object 的实例\n",
    "* 在 Python 2.6 和以前的版本中，类必须继承自的类看做是新式 Object，并且获得所有新式类的特征"
   ]
  },
  {
   "cell_type": "markdown",
   "metadata": {},
   "source": [
    "新式类在语法和行为上几乎与经典类完全向后兼容，只是添加了一些高级的新特性而已"
   ]
  },
  {
   "cell_type": "markdown",
   "metadata": {},
   "source": [
    "### 新式类的变化"
   ]
  },
  {
   "cell_type": "markdown",
   "metadata": {},
   "source": [
    "继承搜索顺序\n",
    "* 多继承的钻石模式有一种略微不同的搜索顺序。先横向搜索再纵向搜索，并且先宽度优先搜索，再深度优先搜索"
   ]
  },
  {
   "cell_type": "markdown",
   "metadata": {},
   "source": [
    "新式类支持一些新的高级工具\n",
    "* 新式类：slow、特征、描述符和__getattribute 方法"
   ]
  },
  {
   "cell_type": "markdown",
   "metadata": {},
   "source": [
    "针对内置函数的属性获取\n",
    "__getattr__ 和 __getattribute__ 方法不再针对内置运算的隐式属性获取而运行。名称搜索从类开始，而不是从实例开始"
   ]
  },
  {
   "cell_type": "markdown",
   "metadata": {},
   "source": [
    "## 类模式变化\n",
    "类自身就是类型：\n",
    "1. Python3 中的所有类都是自动新式类，即使他们没有显式的超类。类本身就是一个类类型\n",
    "2. 经典类中的实例类型都具有相同的实例类型，要比较类型，必须要比较__class__ 属性。 新式类中，比较实例类型会自动比较实例的类\n"
   ]
  },
  {
   "cell_type": "markdown",
   "metadata": {},
   "source": [
    "所有的类隐式的派生自（继承自）Object 内置类，不管是直接的还是间接的通过一个超类"
   ]
  },
  {
   "cell_type": "code",
   "execution_count": 35,
   "metadata": {},
   "outputs": [],
   "source": [
    "class C:pass"
   ]
  },
  {
   "cell_type": "code",
   "execution_count": 36,
   "metadata": {},
   "outputs": [],
   "source": [
    "x = C()"
   ]
  },
  {
   "cell_type": "code",
   "execution_count": 37,
   "metadata": {},
   "outputs": [
    {
     "data": {
      "text/plain": [
       "__main__.C"
      ]
     },
     "execution_count": 37,
     "metadata": {},
     "output_type": "execute_result"
    }
   ],
   "source": [
    "type(x)"
   ]
  },
  {
   "cell_type": "code",
   "execution_count": 38,
   "metadata": {},
   "outputs": [
    {
     "data": {
      "text/plain": [
       "type"
      ]
     },
     "execution_count": 38,
     "metadata": {},
     "output_type": "execute_result"
    }
   ],
   "source": [
    "type(C)"
   ]
  },
  {
   "cell_type": "markdown",
   "metadata": {},
   "source": [
    "每个类都有一个显式或者隐式的超类"
   ]
  },
  {
   "cell_type": "code",
   "execution_count": 39,
   "metadata": {},
   "outputs": [
    {
     "data": {
      "text/plain": [
       "True"
      ]
     },
     "execution_count": 39,
     "metadata": {},
     "output_type": "execute_result"
    }
   ],
   "source": [
    "isinstance(x,object)"
   ]
  },
  {
   "cell_type": "code",
   "execution_count": 41,
   "metadata": {},
   "outputs": [
    {
     "data": {
      "text/plain": [
       "True"
      ]
     },
     "execution_count": 41,
     "metadata": {},
     "output_type": "execute_result"
    }
   ],
   "source": [
    "isinstance(C,object)"
   ]
  },
  {
   "cell_type": "markdown",
   "metadata": {},
   "source": [
    "#### 钻石继承变动"
   ]
  },
  {
   "cell_type": "markdown",
   "metadata": {},
   "source": [
    "* 经典类：继承搜索程序是绝对深度优先，然后是从做至右。Python 一路向上搜索，深入树的左侧，返回后才开始深入树的右侧\n",
    "* 新式类：搜索为宽度优先。Python 先查找第一个搜索的右侧的所有超类，然后一路向上搜索至顶端共同的超类，先水平搜索再向上移动。新式规则可以再多个子类访问超类的时候，可以避免访问同一个超类"
   ]
  },
  {
   "cell_type": "markdown",
   "metadata": {},
   "source": [
    "##### 钻石继承的例子"
   ]
  },
  {
   "cell_type": "code",
   "execution_count": 42,
   "metadata": {},
   "outputs": [],
   "source": [
    "class A:\n",
    "    attr = 1\n",
    "class B(A):\n",
    "    pass\n",
    "class C(A):\n",
    "    pass"
   ]
  },
  {
   "cell_type": "code",
   "execution_count": 43,
   "metadata": {},
   "outputs": [],
   "source": [
    "class D(B,C):\n",
    "    pass"
   ]
  },
  {
   "cell_type": "code",
   "execution_count": 44,
   "metadata": {},
   "outputs": [],
   "source": [
    "x = D()"
   ]
  },
  {
   "cell_type": "code",
   "execution_count": 45,
   "metadata": {},
   "outputs": [
    {
     "data": {
      "text/plain": [
       "1"
      ]
     },
     "execution_count": 45,
     "metadata": {},
     "output_type": "execute_result"
    }
   ],
   "source": [
    "x.attr"
   ]
  },
  {
   "cell_type": "markdown",
   "metadata": {},
   "source": [
    "* 经典类查找顺序：搜索顺序为D、B、A、C（在 A 中找到时，B 之上的搜索就会停止）\n",
    "* 新式类的查找顺序：D、C、B、A"
   ]
  },
  {
   "cell_type": "code",
   "execution_count": 49,
   "metadata": {},
   "outputs": [],
   "source": [
    "class A(object):\n",
    "    attr = 1\n",
    "\n",
    "class B(A):\n",
    "    pass\n",
    "\n",
    "class C(A):\n",
    "    attr = 2\n",
    "    pass\n",
    "\n",
    "class D(B,C):\n",
    "    pass"
   ]
  },
  {
   "cell_type": "code",
   "execution_count": 50,
   "metadata": {},
   "outputs": [],
   "source": [
    "x = D()"
   ]
  },
  {
   "cell_type": "code",
   "execution_count": 51,
   "metadata": {},
   "outputs": [
    {
     "data": {
      "text/plain": [
       "2"
      ]
     },
     "execution_count": 51,
     "metadata": {},
     "output_type": "execute_result"
    }
   ],
   "source": [
    "x.attr"
   ]
  },
  {
   "cell_type": "markdown",
   "metadata": {},
   "source": [
    "明确继承的属性来解决可能遇到的冲突问题\n",
    "通过赋值或者在类的混合处，指出你想要的变量名"
   ]
  },
  {
   "cell_type": "code",
   "execution_count": 53,
   "metadata": {},
   "outputs": [],
   "source": [
    "class A:\n",
    "    attr = 1\n",
    "class B(A):\n",
    "    pass\n",
    "\n",
    "class C(A):\n",
    "    attr = 2\n",
    "\n",
    "class D(B,C):\n",
    "    attr = C.attr"
   ]
  },
  {
   "cell_type": "code",
   "execution_count": 54,
   "metadata": {},
   "outputs": [],
   "source": [
    "x = D()"
   ]
  },
  {
   "cell_type": "code",
   "execution_count": 55,
   "metadata": {},
   "outputs": [
    {
     "data": {
      "text/plain": [
       "2"
      ]
     },
     "execution_count": 55,
     "metadata": {},
     "output_type": "execute_result"
    }
   ],
   "source": [
    "x.attr"
   ]
  },
  {
   "cell_type": "markdown",
   "metadata": {},
   "source": [
    "通过上述的方式来解决冲突，大致上就能够忽略搜索顺序的差异，而不依赖假设来决定所编写的类的意义"
   ]
  },
  {
   "cell_type": "markdown",
   "metadata": {},
   "source": [
    "方法是可以正常赋值的对象，也可以使用上述的方式解决"
   ]
  },
  {
   "cell_type": "code",
   "execution_count": 63,
   "metadata": {},
   "outputs": [],
   "source": [
    "class A:\n",
    "    def meth(s): print('A.meth')\n",
    "\n",
    "class C(A):\n",
    "    def meth(s): print('C.meth')\n",
    "\n",
    "class B(A):\n",
    "    pass\n",
    "\n",
    "class D(B,C):\n",
    "    meth = C.meth\n",
    "    pass"
   ]
  },
  {
   "cell_type": "code",
   "execution_count": 64,
   "metadata": {},
   "outputs": [],
   "source": [
    "x = D()"
   ]
  },
  {
   "cell_type": "code",
   "execution_count": 65,
   "metadata": {},
   "outputs": [
    {
     "name": "stdout",
     "output_type": "stream",
     "text": [
      "C.meth\n"
     ]
    }
   ],
   "source": [
    "x.meth()"
   ]
  },
  {
   "cell_type": "markdown",
   "metadata": {},
   "source": [
    "#### 搜索顺序变化的范围\n",
    "新式类中的隐式 Object 超类为各种内置操作提供了默认方法，包括 __str__和 __repr__ 显示格式化方法"
   ]
  },
  {
   "cell_type": "code",
   "execution_count": 66,
   "metadata": {
    "scrolled": true
   },
   "outputs": [
    {
     "data": {
      "text/plain": [
       "['__class__',\n",
       " '__delattr__',\n",
       " '__dir__',\n",
       " '__doc__',\n",
       " '__eq__',\n",
       " '__format__',\n",
       " '__ge__',\n",
       " '__getattribute__',\n",
       " '__gt__',\n",
       " '__hash__',\n",
       " '__init__',\n",
       " '__init_subclass__',\n",
       " '__le__',\n",
       " '__lt__',\n",
       " '__ne__',\n",
       " '__new__',\n",
       " '__reduce__',\n",
       " '__reduce_ex__',\n",
       " '__repr__',\n",
       " '__setattr__',\n",
       " '__sizeof__',\n",
       " '__str__',\n",
       " '__subclasshook__']"
      ]
     },
     "execution_count": 66,
     "metadata": {},
     "output_type": "execute_result"
    }
   ],
   "source": [
    "dir(object)"
   ]
  },
  {
   "cell_type": "markdown",
   "metadata": {},
   "source": [
    "## 新式类的扩展"
   ]
  },
  {
   "cell_type": "markdown",
   "metadata": {},
   "source": [
    "### slots 实例\n",
    "* 将字符串属性名称顺序赋值给特殊的__slots__类属性，新式类就有可能既限制类的实例的合法属性集，又能够优化内存和速度的性能\n"
   ]
  },
  {
   "cell_type": "markdown",
   "metadata": {},
   "source": [
    "该属性一般是在 class 语句顶层内将字符串名称顺序赋值给变量 __slots__ 而设置；只有__slots__列表内的这些变量名可赋值为实例属性，实例属性名必须在引用前赋值"
   ]
  },
  {
   "cell_type": "code",
   "execution_count": 67,
   "metadata": {},
   "outputs": [],
   "source": [
    "class limiter(object):\n",
    "    __slots__ = ['age','name','job']"
   ]
  },
  {
   "cell_type": "code",
   "execution_count": 68,
   "metadata": {},
   "outputs": [],
   "source": [
    "x = limiter()"
   ]
  },
  {
   "cell_type": "code",
   "execution_count": 69,
   "metadata": {},
   "outputs": [],
   "source": [
    "x.age = 40"
   ]
  },
  {
   "cell_type": "code",
   "execution_count": 70,
   "metadata": {},
   "outputs": [
    {
     "data": {
      "text/plain": [
       "40"
      ]
     },
     "execution_count": 70,
     "metadata": {},
     "output_type": "execute_result"
    }
   ],
   "source": [
    "x.age"
   ]
  },
  {
   "cell_type": "code",
   "execution_count": 71,
   "metadata": {
    "scrolled": true
   },
   "outputs": [
    {
     "ename": "AttributeError",
     "evalue": "'limiter' object has no attribute 'ape'",
     "output_type": "error",
     "traceback": [
      "\u001b[0;31m---------------------------------------------------------------------------\u001b[0m",
      "\u001b[0;31mAttributeError\u001b[0m                            Traceback (most recent call last)",
      "Cell \u001b[0;32mIn[71], line 1\u001b[0m\n\u001b[0;32m----> 1\u001b[0m \u001b[43mx\u001b[49m\u001b[38;5;241;43m.\u001b[39;49m\u001b[43mape\u001b[49m \u001b[38;5;241m=\u001b[39m \u001b[38;5;241m1000\u001b[39m\n",
      "\u001b[0;31mAttributeError\u001b[0m: 'limiter' object has no attribute 'ape'"
     ]
    }
   ],
   "source": [
    "x.ape = 1000"
   ]
  },
  {
   "cell_type": "markdown",
   "metadata": {},
   "source": [
    "* slot 对于 Python 动态特性来说是一种违背，而动态特性要求任何名称都可以通过赋值来创建\n",
    "* slot 属性可以顺序存储以供快速查找，而不是为每个实例分配一个字典\n",
    "* 只有 slot 列表中的名称可以分配给实例，但是，基于 slot 的属性仍然可以使用通用工具通过名称来访问或者设置"
   ]
  },
  {
   "cell_type": "code",
   "execution_count": 72,
   "metadata": {},
   "outputs": [],
   "source": [
    "class C:\n",
    "    __slots__ = ['a','b']"
   ]
  },
  {
   "cell_type": "code",
   "execution_count": 73,
   "metadata": {},
   "outputs": [],
   "source": [
    "x = C()"
   ]
  },
  {
   "cell_type": "code",
   "execution_count": 74,
   "metadata": {},
   "outputs": [
    {
     "data": {
      "text/plain": [
       "1"
      ]
     },
     "execution_count": 74,
     "metadata": {},
     "output_type": "execute_result"
    }
   ],
   "source": [
    "x.a=1\n",
    "x.a"
   ]
  },
  {
   "cell_type": "code",
   "execution_count": 75,
   "metadata": {},
   "outputs": [
    {
     "ename": "AttributeError",
     "evalue": "'C' object has no attribute '__dict__'",
     "output_type": "error",
     "traceback": [
      "\u001b[0;31m---------------------------------------------------------------------------\u001b[0m",
      "\u001b[0;31mAttributeError\u001b[0m                            Traceback (most recent call last)",
      "Cell \u001b[0;32mIn[75], line 1\u001b[0m\n\u001b[0;32m----> 1\u001b[0m \u001b[43mx\u001b[49m\u001b[38;5;241;43m.\u001b[39;49m\u001b[38;5;18;43m__dict__\u001b[39;49m\n",
      "\u001b[0;31mAttributeError\u001b[0m: 'C' object has no attribute '__dict__'"
     ]
    }
   ],
   "source": [
    "x.__dict__"
   ]
  },
  {
   "cell_type": "code",
   "execution_count": 76,
   "metadata": {},
   "outputs": [
    {
     "data": {
      "text/plain": [
       "1"
      ]
     },
     "execution_count": 76,
     "metadata": {},
     "output_type": "execute_result"
    }
   ],
   "source": [
    "getattr(x, 'a')"
   ]
  },
  {
   "cell_type": "code",
   "execution_count": 77,
   "metadata": {},
   "outputs": [],
   "source": [
    "setattr(x,'b',2)"
   ]
  },
  {
   "cell_type": "code",
   "execution_count": 78,
   "metadata": {},
   "outputs": [
    {
     "data": {
      "text/plain": [
       "True"
      ]
     },
     "execution_count": 78,
     "metadata": {},
     "output_type": "execute_result"
    }
   ],
   "source": [
    "'a' in dir(x)"
   ]
  },
  {
   "cell_type": "code",
   "execution_count": 79,
   "metadata": {},
   "outputs": [
    {
     "data": {
      "text/plain": [
       "True"
      ]
     },
     "execution_count": 79,
     "metadata": {},
     "output_type": "execute_result"
    }
   ],
   "source": [
    "'a' in dir(x)"
   ]
  },
  {
   "cell_type": "code",
   "execution_count": 80,
   "metadata": {},
   "outputs": [
    {
     "data": {
      "text/plain": [
       "True"
      ]
     },
     "execution_count": 80,
     "metadata": {},
     "output_type": "execute_result"
    }
   ],
   "source": [
    "'b' in dir(x)"
   ]
  },
  {
   "cell_type": "markdown",
   "metadata": {},
   "source": [
    "如果没有一个属性命名空间字典，不可能给不是 slots 列表中名称的实例来分配新的名称"
   ]
  },
  {
   "cell_type": "code",
   "execution_count": 89,
   "metadata": {},
   "outputs": [],
   "source": [
    "class D:\n",
    "    __slots__ = ['a','b','__dict__']\n",
    "    c = 3\n",
    "    def __init__(self): self.d = 4"
   ]
  },
  {
   "cell_type": "code",
   "execution_count": 90,
   "metadata": {},
   "outputs": [],
   "source": [
    "x = D()"
   ]
  },
  {
   "cell_type": "code",
   "execution_count": 91,
   "metadata": {},
   "outputs": [
    {
     "data": {
      "text/plain": [
       "4"
      ]
     },
     "execution_count": 91,
     "metadata": {},
     "output_type": "execute_result"
    }
   ],
   "source": [
    "x.d"
   ]
  },
  {
   "cell_type": "code",
   "execution_count": 92,
   "metadata": {},
   "outputs": [
    {
     "data": {
      "text/plain": [
       "['a', 'b', '__dict__']"
      ]
     },
     "execution_count": 92,
     "metadata": {},
     "output_type": "execute_result"
    }
   ],
   "source": [
    "x.__slots__"
   ]
  },
  {
   "cell_type": "code",
   "execution_count": null,
   "metadata": {},
   "outputs": [],
   "source": [
    "通过在 slot 中增加 __dict__ 是可以容纳额外的属性的"
   ]
  },
  {
   "cell_type": "code",
   "execution_count": 93,
   "metadata": {},
   "outputs": [
    {
     "data": {
      "text/plain": [
       "3"
      ]
     },
     "execution_count": 93,
     "metadata": {},
     "output_type": "execute_result"
    }
   ],
   "source": [
    "x.c"
   ]
  },
  {
   "cell_type": "code",
   "execution_count": 98,
   "metadata": {},
   "outputs": [],
   "source": [
    "x.a = 1"
   ]
  },
  {
   "cell_type": "code",
   "execution_count": 99,
   "metadata": {},
   "outputs": [
    {
     "data": {
      "text/plain": [
       "(1, 3, 4)"
      ]
     },
     "execution_count": 99,
     "metadata": {},
     "output_type": "execute_result"
    }
   ],
   "source": [
    "getattr(x,'a'),getattr(x,'c'),getattr(x,'d')"
   ]
  },
  {
   "cell_type": "code",
   "execution_count": 100,
   "metadata": {},
   "outputs": [],
   "source": [
    "x.b = 1"
   ]
  },
  {
   "cell_type": "markdown",
   "metadata": {},
   "source": [
    "如果需要查找处对应的属性，需要覆盖这两种存储方式，以为 dir 也返回继承的属性"
   ]
  },
  {
   "cell_type": "code",
   "execution_count": 101,
   "metadata": {},
   "outputs": [
    {
     "name": "stdout",
     "output_type": "stream",
     "text": [
      "d ==> 4\n",
      "a ==> 1\n",
      "b ==> 1\n",
      "__dict__ ==> {'d': 4}\n"
     ]
    }
   ],
   "source": [
    "for attr in list(x.__dict__) + x.__slots__:\n",
    "    print(attr,'==>', getattr(x,attr))"
   ]
  },
  {
   "cell_type": "markdown",
   "metadata": {},
   "source": [
    "#### 超类中的多个 __slots__ 列表"
   ]
  },
  {
   "cell_type": "markdown",
   "metadata": {},
   "source": []
  },
  {
   "cell_type": "markdown",
   "metadata": {},
   "source": [
    "## 类特性"
   ]
  },
  {
   "cell_type": "markdown",
   "metadata": {},
   "source": [
    "* property 提供另一种方式让新式类定义自动调用的方法，来读取或赋值实例属性。\n",
    "* property 和 __getattr__ 和 __setattr__ 重载方法的替代做法，只在读取所需要的动态计算的变量名时，才会发生额外的方法调用"
   ]
  },
  {
   "cell_type": "markdown",
   "metadata": {},
   "source": [
    "property 是一种对象，赋值给类属性名称。property 的产生是以三种方法（获得、设置以及删除运算的处理器）以及通过文档字符串调用内置函数 preperty"
   ]
  },
  {
   "cell_type": "code",
   "execution_count": 102,
   "metadata": {},
   "outputs": [],
   "source": [
    "class newprops(object):\n",
    "    def getage(self):\n",
    "        return 40\n",
    "\n",
    "    age = property(getage,None,None,None) # GET SET DEL DOCS"
   ]
  },
  {
   "cell_type": "code",
   "execution_count": 103,
   "metadata": {},
   "outputs": [],
   "source": [
    "x = newprops()"
   ]
  },
  {
   "cell_type": "code",
   "execution_count": 104,
   "metadata": {},
   "outputs": [
    {
     "data": {
      "text/plain": [
       "40"
      ]
     },
     "execution_count": 104,
     "metadata": {},
     "output_type": "execute_result"
    }
   ],
   "source": [
    "x.age"
   ]
  },
  {
   "cell_type": "markdown",
   "metadata": {},
   "source": [
    "property 比传统技术不是那么复杂，而且运行起来更快。当我们新增属性赋值运算支持时，property 就会更加有吸引力"
   ]
  },
  {
   "cell_type": "code",
   "execution_count": 1,
   "metadata": {},
   "outputs": [],
   "source": [
    "class newsrepos(object):\n",
    "    def getage(self):\n",
    "        return 40\n",
    "\n",
    "    def setage(self,value):\n",
    "        print('set age', value)\n",
    "        self._age = value\n",
    "    \n",
    "    age = property(getage,setage,None,None)"
   ]
  },
  {
   "cell_type": "code",
   "execution_count": 2,
   "metadata": {},
   "outputs": [],
   "source": [
    "x = newsrepos()"
   ]
  },
  {
   "cell_type": "code",
   "execution_count": 3,
   "metadata": {},
   "outputs": [
    {
     "data": {
      "text/plain": [
       "40"
      ]
     },
     "execution_count": 3,
     "metadata": {},
     "output_type": "execute_result"
    }
   ],
   "source": [
    "x.age "
   ]
  },
  {
   "cell_type": "code",
   "execution_count": 4,
   "metadata": {},
   "outputs": [
    {
     "name": "stdout",
     "output_type": "stream",
     "text": [
      "set age 42\n"
     ]
    }
   ],
   "source": [
    "x.age = 42"
   ]
  },
  {
   "cell_type": "code",
   "execution_count": 6,
   "metadata": {},
   "outputs": [],
   "source": [
    "x.name = 'trainer'"
   ]
  },
  {
   "cell_type": "code",
   "execution_count": 7,
   "metadata": {},
   "outputs": [
    {
     "data": {
      "text/plain": [
       "'trainer'"
      ]
     },
     "execution_count": 7,
     "metadata": {},
     "output_type": "execute_result"
    }
   ],
   "source": [
    "x.name"
   ]
  },
  {
   "cell_type": "markdown",
   "metadata": {},
   "source": [
    "#### __getattribute__ 和描述符\n",
    "* __getattribute__ 方法只适合于新式类，可以让类拦截所有属性的引用，而不局限于未定义的引用\n",
    "* Python 支持描述符的概念 -- 带有 __get__ 和 __set__ 方法的类，分配给类属性，并且由实例继承，用于拦截对于特定属性的读取和访问\n"
   ]
  },
  {
   "cell_type": "markdown",
   "metadata": {},
   "source": [
    "## 元类\n"
   ]
  },
  {
   "cell_type": "markdown",
   "metadata": {},
   "source": [
    "## 静态方法和类方法\n"
   ]
  },
  {
   "cell_type": "markdown",
   "metadata": {},
   "source": [
    "Python 2.2 中可能存在两种方法：\n",
    "1. 静态方法大致与一个类中的简单的无实例函数类似的工作\n",
    "2. 类方法传递一个类而不是一个实例\n",
    "3. 静态方法和类方法只对经典类有效"
   ]
  },
  {
   "cell_type": "markdown",
   "metadata": {},
   "source": [
    "1. Python 2.2 中使用上述这些算法必须在类中调用特殊的内置函数：staticmethod和 classmethod、或者使用装饰器语法\n",
    "2. Python3 中，无实例的方法只通过一个类名来调用，不需要 staticmethod 声明"
   ]
  },
  {
   "cell_type": "markdown",
   "metadata": {},
   "source": [
    "## 为什么使用特殊方法\n",
    "1. 程序需要处理与类而不是与实例相关的数据。需要类中的一个方法不仅不传递而且页不期待一个 self 实例参数。\n",
    "2. Python 可以通过静态方法来支持这样的目标，并且旨在操作类属性而不是实例属性。静态方法不会接受一个自动的 self 参数，不管是通过一个类还是一个实例调用。通常用于记录所有实例的信息，而不是为实例提供行为\n",
    "3. Python 还支持类方法的概念，这个是类的一种方法，传递给他们的第一个参数是一个类对象而不是一个实例"
   ]
  },
  {
   "cell_type": "markdown",
   "metadata": {},
   "source": [
    "### Python2.0 和 Python3 中的静态方法\n",
    "1. 在 Python 2.6 中，从一个类获取一个方法会产生一个未绑定方法，没有手动传递一个实例就不会调用它。无论通过实例或者类调用，总要求传入一个实例\n",
    "2. 在 Python 3.0 中，从一个类获取一个方法会产生一个简单函数，没有给出实例也可以常规调用。只有方法期待实例调用的时候，才传入实例"
   ]
  },
  {
   "cell_type": "markdown",
   "metadata": {},
   "source": [
    "通过类属性计算从一个类产生了多少实例：\n",
    "1. 把类的计数器存储为类属性，每次创建一个新的实例时，构造器函数 + 1\n",
    "2. 支持显示计数器"
   ]
  },
  {
   "cell_type": "code",
   "execution_count": 1,
   "metadata": {},
   "outputs": [],
   "source": [
    "class Spam:\n",
    "    numInstances = 0\n",
    "    def __init__(self):\n",
    "        Spam.numInstances = Spam.numInstances + 1\n",
    "    def printNumInstances():\n",
    "        print(\"Number of instances created: \", Spam.numInstances)"
   ]
  },
  {
   "cell_type": "markdown",
   "metadata": {},
   "source": [
    "函数：printNumInstances 用于处理所有的类数据而不是实力数据，是关于所有实例的，而不是某个特定的实例"
   ]
  },
  {
   "cell_type": "code",
   "execution_count": 6,
   "metadata": {},
   "outputs": [],
   "source": [
    "a=Spam();b=Spam();c=Spam()"
   ]
  },
  {
   "cell_type": "code",
   "execution_count": 7,
   "metadata": {},
   "outputs": [
    {
     "name": "stdout",
     "output_type": "stream",
     "text": [
      "Number of instances created:  3\n"
     ]
    }
   ],
   "source": [
    "Spam.printNumInstances()"
   ]
  },
  {
   "cell_type": "markdown",
   "metadata": {},
   "source": [
    "上述代码在 Python3 中是可以执行的，但是在 Python2 中是不能够执行的"
   ]
  },
  {
   "cell_type": "code",
   "execution_count": 8,
   "metadata": {},
   "outputs": [
    {
     "ename": "TypeError",
     "evalue": "Spam.printNumInstances() takes 0 positional arguments but 1 was given",
     "output_type": "error",
     "traceback": [
      "\u001b[0;31m---------------------------------------------------------------------------\u001b[0m",
      "\u001b[0;31mTypeError\u001b[0m                                 Traceback (most recent call last)",
      "Cell \u001b[0;32mIn[8], line 1\u001b[0m\n\u001b[0;32m----> 1\u001b[0m \u001b[43ma\u001b[49m\u001b[38;5;241;43m.\u001b[39;49m\u001b[43mprintNumInstances\u001b[49m\u001b[43m(\u001b[49m\u001b[43m)\u001b[49m\n",
      "\u001b[0;31mTypeError\u001b[0m: Spam.printNumInstances() takes 0 positional arguments but 1 was given"
     ]
    }
   ],
   "source": [
    "a.printNumInstances()"
   ]
  },
  {
   "cell_type": "markdown",
   "metadata": {},
   "source": [
    "### 静态方法替代方案\n",
    "如果希望调用没有一个实例而访问类成员的函数，最简单的思路就是仅在类之外生成它们的简单函数，而不是类方法; 以下函数在 Python3.0 和 Python2.6 中都能够遇到"
   ]
  },
  {
   "cell_type": "code",
   "execution_count": 10,
   "metadata": {},
   "outputs": [],
   "source": [
    "def printNumInstances():\n",
    "    print(\"Number of instances created\", Spam.numInstances)\n",
    "\n",
    "class Spam:\n",
    "    numInstances = 0\n",
    "    def __init__(self):\n",
    "        Spam.numInstances += 1 "
   ]
  },
  {
   "cell_type": "code",
   "execution_count": 11,
   "metadata": {},
   "outputs": [],
   "source": [
    "a = Spam();b = Spam(); c = Spam()"
   ]
  },
  {
   "cell_type": "code",
   "execution_count": 12,
   "metadata": {},
   "outputs": [
    {
     "name": "stdout",
     "output_type": "stream",
     "text": [
      "Number of instances created 3\n"
     ]
    }
   ],
   "source": [
    "printNumInstances()"
   ]
  },
  {
   "cell_type": "markdown",
   "metadata": {},
   "source": [
    "1. 通过将函数名变为全局变量，使得上述方法可以通用工作；\n",
    "2. 给文件的作用域增加了一个额外的名称，该名称只用来处理单个的类\n",
    "3. 该函数与类的关联性很小，这样的方法没法通过继承修改"
   ]
  },
  {
   "cell_type": "markdown",
   "metadata": {},
   "source": [
    "### 使用静态和类方法"
   ]
  },
  {
   "cell_type": "markdown",
   "metadata": {},
   "source": [
    "1. 编写和类相关联的简单函数\n",
    "2. 使用静态和类方法编写类，需要调用 staticmethod 和 classmethod"
   ]
  },
  {
   "cell_type": "markdown",
   "metadata": {},
   "source": [
    "1. 对于 staticmethod 不需要传递实例\n",
    "2. 对于 classmethod 需要一个类参数"
   ]
  },
  {
   "cell_type": "code",
   "execution_count": 18,
   "metadata": {},
   "outputs": [],
   "source": [
    "class Method:\n",
    "    def imeth(self, x):\n",
    "        print(self, x)\n",
    "\n",
    "    def smeth(x):\n",
    "        print(x)\n",
    "\n",
    "    def cmeth(cls, x):\n",
    "        print(cls, x)\n",
    "\n",
    "    semth = staticmethod(smeth)\n",
    "    cmeth = classmethod(cmeth)"
   ]
  },
  {
   "cell_type": "markdown",
   "metadata": {},
   "source": [
    "Python 支持三种类相关的方法：实例、静态和类。Python 3.0 也允许类中的简单函数在通过一个类调用的时候充当静态方法的角色，而不需要额外的协议，从而扩展了这一模式\n",
    "* 实例方法：必须通过实例对象调用实例方法。通过实例调用时，Python 会把实例自动传给第一个参数。类调用时，需要手动传递传入实例\n",
    "* 静态方法：静态方法调用时不需要实例参数。与类之外的简单函数不同，其变量名位于定义所在累的范围内，属于局部变量，可以通过继承查找\n",
    "* 类方法：Python 自动将类而不是实例传入类方法的第一个参数中，不管是通过一个类还是实例调用"
   ]
  },
  {
   "cell_type": "code",
   "execution_count": 22,
   "metadata": {},
   "outputs": [],
   "source": [
    "obj = Method()"
   ]
  },
  {
   "cell_type": "code",
   "execution_count": 23,
   "metadata": {},
   "outputs": [
    {
     "name": "stdout",
     "output_type": "stream",
     "text": [
      "<__main__.Method object at 0x107d87d30> 1\n"
     ]
    }
   ],
   "source": [
    "obj.imeth(1)"
   ]
  },
  {
   "cell_type": "code",
   "execution_count": 24,
   "metadata": {},
   "outputs": [
    {
     "name": "stdout",
     "output_type": "stream",
     "text": [
      "<__main__.Method object at 0x107d87d30> 2\n"
     ]
    }
   ],
   "source": [
    "Method.imeth(obj,2)"
   ]
  },
  {
   "cell_type": "code",
   "execution_count": 25,
   "metadata": {},
   "outputs": [
    {
     "name": "stdout",
     "output_type": "stream",
     "text": [
      "<class '__main__.Method'> 5\n"
     ]
    }
   ],
   "source": [
    "Method.cmeth(5)"
   ]
  },
  {
   "cell_type": "code",
   "execution_count": 26,
   "metadata": {},
   "outputs": [
    {
     "name": "stdout",
     "output_type": "stream",
     "text": [
      "<class '__main__.Method'> 6\n"
     ]
    }
   ],
   "source": [
    "obj.cmeth(6)"
   ]
  },
  {
   "cell_type": "markdown",
   "metadata": {},
   "source": [
    "## 使用静态方法统计实例\n",
    "用于将方法标记为特殊的，以便于不会自动传递一个实例"
   ]
  },
  {
   "cell_type": "code",
   "execution_count": 27,
   "metadata": {},
   "outputs": [],
   "source": [
    "class Spam:\n",
    "    numInstances = 0\n",
    "    def __init__(self):\n",
    "        Spam.numInstances += 1\n",
    "    def printNumInstances():\n",
    "        print(\"Number of instances: \", Spam.numInstances)\n",
    "    printNumInstances = staticmethod(printNumInstances)"
   ]
  },
  {
   "cell_type": "markdown",
   "metadata": {},
   "source": [
    "使用静态方法内置函数可以通过类或者其任何实例来调用无 self 方法"
   ]
  },
  {
   "cell_type": "code",
   "execution_count": 28,
   "metadata": {},
   "outputs": [],
   "source": [
    "a = Spam(); b = Spam(); c = Spam()"
   ]
  },
  {
   "cell_type": "code",
   "execution_count": 30,
   "metadata": {},
   "outputs": [
    {
     "name": "stdout",
     "output_type": "stream",
     "text": [
      "Number of instances:  3\n"
     ]
    }
   ],
   "source": [
    "Spam.printNumInstances()"
   ]
  },
  {
   "cell_type": "code",
   "execution_count": 31,
   "metadata": {},
   "outputs": [
    {
     "name": "stdout",
     "output_type": "stream",
     "text": [
      "Number of instances:  3\n"
     ]
    }
   ],
   "source": [
    "a.printNumInstances()"
   ]
  },
  {
   "cell_type": "markdown",
   "metadata": {},
   "source": [
    "将函数名称作为类作用域内的局部变量，而且吧函数程序代码靠近其使用的地方，并且支持子类用继承的方式定制静态方法"
   ]
  },
  {
   "cell_type": "code",
   "execution_count": 32,
   "metadata": {},
   "outputs": [],
   "source": [
    "class Sub(Spam):\n",
    "    def printNumInstances():\n",
    "        print(\"Extra stuff ....\")\n",
    "        Spam.printNumInstances()\n",
    "    printNumInstances = staticmethod(printNumInstances)"
   ]
  },
  {
   "cell_type": "code",
   "execution_count": 33,
   "metadata": {},
   "outputs": [],
   "source": [
    "a = Sub()"
   ]
  },
  {
   "cell_type": "code",
   "execution_count": 34,
   "metadata": {},
   "outputs": [],
   "source": [
    "b = Sub()"
   ]
  },
  {
   "cell_type": "code",
   "execution_count": 35,
   "metadata": {},
   "outputs": [
    {
     "name": "stdout",
     "output_type": "stream",
     "text": [
      "Extra stuff ....\n",
      "Number of instances:  5\n"
     ]
    }
   ],
   "source": [
    "a.printNumInstances()"
   ]
  },
  {
   "cell_type": "code",
   "execution_count": 36,
   "metadata": {},
   "outputs": [
    {
     "name": "stdout",
     "output_type": "stream",
     "text": [
      "Extra stuff ....\n",
      "Number of instances:  5\n"
     ]
    }
   ],
   "source": [
    "Sub.printNumInstances()"
   ]
  },
  {
   "cell_type": "code",
   "execution_count": 37,
   "metadata": {},
   "outputs": [
    {
     "name": "stdout",
     "output_type": "stream",
     "text": [
      "Number of instances:  5\n"
     ]
    }
   ],
   "source": [
    "Spam.printNumInstances()"
   ]
  },
  {
   "cell_type": "markdown",
   "metadata": {},
   "source": [
    "### 实用类方法统计实例\n",
    "* 类方法：使用一个类方法把实例的类接收到其第一个参数中。类方法使用通用的自动传递类对象"
   ]
  },
  {
   "cell_type": "code",
   "execution_count": 45,
   "metadata": {},
   "outputs": [],
   "source": [
    "class Spam:\n",
    "    numInstances = 0 \n",
    "    def __init__(self):\n",
    "        Spam.numInstances +=1\n",
    "    def printNumInstances(cls):\n",
    "        print(\"Number of instances: \", cls.numInstances)\n",
    "    printNumInstances = classmethod(printNumInstances)"
   ]
  },
  {
   "cell_type": "markdown",
   "metadata": {},
   "source": [
    "可以类和实例调用 PrintNumInstance 的时候，接收的参数是类而不是实例"
   ]
  },
  {
   "cell_type": "code",
   "execution_count": 46,
   "metadata": {},
   "outputs": [],
   "source": [
    "a,b = Spam(),Spam()"
   ]
  },
  {
   "cell_type": "code",
   "execution_count": 47,
   "metadata": {},
   "outputs": [
    {
     "name": "stdout",
     "output_type": "stream",
     "text": [
      "Number of instances:  2\n"
     ]
    }
   ],
   "source": [
    "a.printNumInstances()"
   ]
  },
  {
   "cell_type": "code",
   "execution_count": 48,
   "metadata": {},
   "outputs": [
    {
     "name": "stdout",
     "output_type": "stream",
     "text": [
      "Number of instances:  2\n"
     ]
    }
   ],
   "source": [
    "Spam.printNumInstances()"
   ]
  },
  {
   "cell_type": "code",
   "execution_count": null,
   "metadata": {},
   "outputs": [],
   "source": []
  },
  {
   "cell_type": "code",
   "execution_count": 50,
   "metadata": {},
   "outputs": [],
   "source": [
    "class Spam:\n",
    "    numInstances = 0\n",
    "    def __init__(self):\n",
    "        Spam.numInstances += 1\n",
    "    def printNumInstances(cls):\n",
    "        print(\"Number of Instances\", cls.numInstances, cls)\n",
    "    printNumInstances = classmethod(printNumInstances)\n",
    "\n",
    "class Sub(Spam):\n",
    "    def printNumInstances(cls):\n",
    "        print(\"Extra stuff ...\", cls)\n",
    "        Spam.printNumInstances()\n",
    "    printNumInstances = classmethod(printNumInstances)\n",
    "\n",
    "class Other(Spam): pass"
   ]
  },
  {
   "cell_type": "markdown",
   "metadata": {},
   "source": [
    "无论何时运行一个类方法的时候，最低层的类传入，即使自己的类没有对应的类方法"
   ]
  },
  {
   "cell_type": "code",
   "execution_count": 51,
   "metadata": {},
   "outputs": [],
   "source": [
    "x,y = Sub(),Spam()"
   ]
  },
  {
   "cell_type": "code",
   "execution_count": 52,
   "metadata": {},
   "outputs": [
    {
     "name": "stdout",
     "output_type": "stream",
     "text": [
      "Extra stuff ... <class '__main__.Sub'>\n",
      "Number of Instances 2 <class '__main__.Spam'>\n"
     ]
    }
   ],
   "source": [
    "x.printNumInstances()"
   ]
  },
  {
   "cell_type": "code",
   "execution_count": 53,
   "metadata": {},
   "outputs": [
    {
     "name": "stdout",
     "output_type": "stream",
     "text": [
      "Extra stuff ... <class '__main__.Sub'>\n",
      "Number of Instances 2 <class '__main__.Spam'>\n"
     ]
    }
   ],
   "source": [
    "Sub.printNumInstances()"
   ]
  },
  {
   "cell_type": "code",
   "execution_count": 54,
   "metadata": {},
   "outputs": [
    {
     "name": "stdout",
     "output_type": "stream",
     "text": [
      "Number of Instances 2 <class '__main__.Spam'>\n"
     ]
    }
   ],
   "source": [
    "y.printNumInstances()"
   ]
  },
  {
   "cell_type": "markdown",
   "metadata": {},
   "source": [
    "Other 子类没有任何方法， cls 依然将其进行传入"
   ]
  },
  {
   "cell_type": "code",
   "execution_count": 55,
   "metadata": {},
   "outputs": [],
   "source": [
    "z = Other()"
   ]
  },
  {
   "cell_type": "code",
   "execution_count": 56,
   "metadata": {},
   "outputs": [
    {
     "name": "stdout",
     "output_type": "stream",
     "text": [
      "Number of Instances 3 <class '__main__.Other'>\n"
     ]
    }
   ],
   "source": [
    "z.printNumInstances()"
   ]
  },
  {
   "cell_type": "markdown",
   "metadata": {},
   "source": [
    "#### 使用类方法统计每个类的实例\n",
    "* 类方法总是接收一个实例树中的最低类：\n",
    "* * 静态方法和显示类名称对于处理一个类本地的数据来说是最好的解决方案\n",
    "  * 类方法更适合处理对层级中每个类不同的数据"
   ]
  },
  {
   "cell_type": "code",
   "execution_count": 65,
   "metadata": {},
   "outputs": [],
   "source": [
    "class Spam:\n",
    "    numInstances = 0 \n",
    "    def count(cls):\n",
    "        cls.numInstances += 1\n",
    "    def __init__(self):\n",
    "        self.count()\n",
    "    count = classmethod(count)\n",
    "\n",
    "class Sub(Spam):\n",
    "    numInstances = 0\n",
    "    def __init__(self):\n",
    "        Spam.__init__(self)\n",
    "\n",
    "class Other(Spam):\n",
    "    numInstances = 0"
   ]
  },
  {
   "cell_type": "code",
   "execution_count": 66,
   "metadata": {},
   "outputs": [],
   "source": [
    "x = Spam()"
   ]
  },
  {
   "cell_type": "code",
   "execution_count": 67,
   "metadata": {},
   "outputs": [],
   "source": [
    "y1,y2 = Sub(),Sub()"
   ]
  },
  {
   "cell_type": "code",
   "execution_count": 68,
   "metadata": {},
   "outputs": [],
   "source": [
    "z1,z2,z3 = Other(),Other(),Other()"
   ]
  },
  {
   "cell_type": "code",
   "execution_count": 69,
   "metadata": {},
   "outputs": [
    {
     "data": {
      "text/plain": [
       "(1, 2, 3)"
      ]
     },
     "execution_count": 69,
     "metadata": {},
     "output_type": "execute_result"
    }
   ],
   "source": [
    "x.numInstances,y1.numInstances,z1.numInstances"
   ]
  },
  {
   "cell_type": "code",
   "execution_count": 70,
   "metadata": {},
   "outputs": [
    {
     "data": {
      "text/plain": [
       "(1, 2, 3)"
      ]
     },
     "execution_count": 70,
     "metadata": {},
     "output_type": "execute_result"
    }
   ],
   "source": [
    "Spam.numInstances,Sub.numInstances,Other.numInstances"
   ]
  },
  {
   "cell_type": "markdown",
   "metadata": {},
   "source": [
    "## 装饰器和元类：第一部分\n",
    "函数装饰器提供了一种方式，替函数明确了特定的预算模式，将函数包裹了另一层，在另一函数的逻辑内实现"
   ]
  },
  {
   "cell_type": "markdown",
   "metadata": {},
   "source": [
    "### 函数装饰器基础\n",
    "函数装饰器是它后边的函数的运行时的声明。调用方法函数的名称，实际上是触发了它 staticmethod 装饰器的结果，装饰器可以返回原始函数，或者新的对象"
   ]
  },
  {
   "cell_type": "markdown",
   "metadata": {},
   "source": [
    "通过装饰器对于代码进行修改"
   ]
  },
  {
   "cell_type": "code",
   "execution_count": 71,
   "metadata": {},
   "outputs": [],
   "source": [
    "class Spam:\n",
    "    numInstances = 0 \n",
    "    def __init__(self):\n",
    "        Spam.numInstances += 1\n",
    "    @staticmethod\n",
    "    def printNumInstances():\n",
    "        print(\"Number of instances created: \", Spam.numInstances)"
   ]
  },
  {
   "cell_type": "code",
   "execution_count": 72,
   "metadata": {},
   "outputs": [],
   "source": [
    "a = Spam()\n",
    "b = Spam()\n",
    "c = Spam()"
   ]
  },
  {
   "cell_type": "markdown",
   "metadata": {},
   "source": [
    "通过类和实例调用都是有效的"
   ]
  },
  {
   "cell_type": "code",
   "execution_count": 73,
   "metadata": {},
   "outputs": [
    {
     "name": "stdout",
     "output_type": "stream",
     "text": [
      "Number of instances created:  3\n"
     ]
    }
   ],
   "source": [
    "Spam.printNumInstances()"
   ]
  },
  {
   "cell_type": "code",
   "execution_count": 74,
   "metadata": {},
   "outputs": [
    {
     "name": "stdout",
     "output_type": "stream",
     "text": [
      "Number of instances created:  3\n"
     ]
    }
   ],
   "source": [
    "a.printNumInstances()"
   ]
  },
  {
   "cell_type": "markdown",
   "metadata": {},
   "source": [
    "## 装饰器例子\n",
    "在实例中存储装饰器的类，并捕捉对最初变量名的调用"
   ]
  },
  {
   "cell_type": "code",
   "execution_count": 81,
   "metadata": {},
   "outputs": [],
   "source": [
    "class tracer:\n",
    "    def __init__(self,func):\n",
    "        self.calls = 0\n",
    "        self.func = func\n",
    "\n",
    "    def __call__(self,*args):\n",
    "        self.calls += 1\n",
    "        print(\"call %s to %s\" % (self.calls, self.func.__name__))\n",
    "        self.func(*args)\n"
   ]
  },
  {
   "cell_type": "code",
   "execution_count": 82,
   "metadata": {},
   "outputs": [],
   "source": [
    "@tracer\n",
    "def spam(a,b,c):\n",
    "    print(a,b,c)"
   ]
  },
  {
   "cell_type": "code",
   "execution_count": 83,
   "metadata": {},
   "outputs": [
    {
     "name": "stdout",
     "output_type": "stream",
     "text": [
      "call 1 to spam\n",
      "1 2 3\n"
     ]
    }
   ],
   "source": [
    "spam(1,2,3)"
   ]
  },
  {
   "cell_type": "code",
   "execution_count": 84,
   "metadata": {},
   "outputs": [
    {
     "name": "stdout",
     "output_type": "stream",
     "text": [
      "call 2 to spam\n",
      "a b c\n"
     ]
    }
   ],
   "source": [
    "spam('a','b','c')"
   ]
  },
  {
   "cell_type": "code",
   "execution_count": 85,
   "metadata": {},
   "outputs": [
    {
     "name": "stdout",
     "output_type": "stream",
     "text": [
      "call 3 to spam\n",
      "4 5 6\n"
     ]
    }
   ],
   "source": [
    "spam(4,5,6)"
   ]
  },
  {
   "cell_type": "markdown",
   "metadata": {},
   "source": [
    "### 类装饰器和元类\n",
    "类装饰器类似于函数装饰器，在 class 语句的默认执行，并且把一个类名重新绑定到一个可调用对象，通常用于在类创建之后管理类，或者在创建实例后插入一个包装逻辑层来管理实例"
   ]
  },
  {
   "cell_type": "markdown",
   "metadata": {},
   "source": [
    "通过钩子自动扩展带有实例计数器和任何其他所需数据的类"
   ]
  },
  {
   "cell_type": "code",
   "execution_count": 86,
   "metadata": {},
   "outputs": [],
   "source": [
    "def count(aClass):\n",
    "    aClass.numInstances = 0 \n",
    "    return aClass\n",
    "\n",
    "@count\n",
    "class Spam: pass\n",
    "\n",
    "@count\n",
    "class Sub(Spam):pass\n",
    "\n",
    "@count\n",
    "class Other(Spam):pass\n"
   ]
  },
  {
   "cell_type": "markdown",
   "metadata": {},
   "source": [
    "元类：与类装饰器的功能有所重合。提供了一种可选的模式，会把一个类对象的创建导向顶级 type 类的一个子类"
   ]
  },
  {
   "cell_type": "code",
   "execution_count": 87,
   "metadata": {},
   "outputs": [],
   "source": [
    "class Meta(type):\n",
    "    def __new__(meta,classname,supers,classdict):\n",
    "        pass\n",
    "\n",
    "class C(metaclass=Meta):pass"
   ]
  },
  {
   "cell_type": "markdown",
   "metadata": {},
   "source": [
    "后续补充元类的知识"
   ]
  },
  {
   "cell_type": "markdown",
   "metadata": {},
   "source": [
    "## 类陷阱\n",
    "类本质上是多了一些技巧的命名空间而已"
   ]
  },
  {
   "cell_type": "markdown",
   "metadata": {},
   "source": [
    "### 修改类属性的副作用"
   ]
  },
  {
   "cell_type": "code",
   "execution_count": 88,
   "metadata": {},
   "outputs": [],
   "source": [
    "class X:\n",
    "    a = 1\n"
   ]
  },
  {
   "cell_type": "code",
   "execution_count": 89,
   "metadata": {},
   "outputs": [],
   "source": [
    "i = X()"
   ]
  },
  {
   "cell_type": "code",
   "execution_count": 90,
   "metadata": {},
   "outputs": [
    {
     "data": {
      "text/plain": [
       "1"
      ]
     },
     "execution_count": 90,
     "metadata": {},
     "output_type": "execute_result"
    }
   ],
   "source": [
    "i.a"
   ]
  },
  {
   "cell_type": "code",
   "execution_count": 92,
   "metadata": {},
   "outputs": [
    {
     "data": {
      "text/plain": [
       "1"
      ]
     },
     "execution_count": 92,
     "metadata": {},
     "output_type": "execute_result"
    }
   ],
   "source": [
    "X.a"
   ]
  },
  {
   "cell_type": "markdown",
   "metadata": {},
   "source": [
    "修改了 x 中的 a，会导致 X 的实例 I 也会被修改"
   ]
  },
  {
   "cell_type": "code",
   "execution_count": 95,
   "metadata": {},
   "outputs": [],
   "source": [
    "X.a = 2"
   ]
  },
  {
   "cell_type": "code",
   "execution_count": 96,
   "metadata": {},
   "outputs": [
    {
     "data": {
      "text/plain": [
       "2"
      ]
     },
     "execution_count": 96,
     "metadata": {},
     "output_type": "execute_result"
    }
   ],
   "source": [
    "i.a"
   ]
  },
  {
   "cell_type": "markdown",
   "metadata": {},
   "source": [
    "*为了避免发生上述问题，修改实例，而不是修改类*"
   ]
  },
  {
   "cell_type": "markdown",
   "metadata": {},
   "source": [
    "### 修改可变的类属性可能产生副作用"
   ]
  },
  {
   "cell_type": "markdown",
   "metadata": {},
   "source": [
    "类属性由所有实例共享，如果一个类属性引用一个可变对象，那么从任何实例原处修改该对象都会立即影响所有实例"
   ]
  },
  {
   "cell_type": "code",
   "execution_count": 97,
   "metadata": {},
   "outputs": [],
   "source": [
    "class C:\n",
    "    shared = []\n",
    "    def __init__(self):\n",
    "        self.perobj = []"
   ]
  },
  {
   "cell_type": "code",
   "execution_count": 98,
   "metadata": {},
   "outputs": [],
   "source": [
    "x = C()"
   ]
  },
  {
   "cell_type": "code",
   "execution_count": 99,
   "metadata": {},
   "outputs": [],
   "source": [
    "y = C()"
   ]
  },
  {
   "cell_type": "code",
   "execution_count": 100,
   "metadata": {},
   "outputs": [
    {
     "data": {
      "text/plain": [
       "([], [])"
      ]
     },
     "execution_count": 100,
     "metadata": {},
     "output_type": "execute_result"
    }
   ],
   "source": [
    "x.shared, y.perobj"
   ]
  },
  {
   "cell_type": "code",
   "execution_count": 101,
   "metadata": {},
   "outputs": [],
   "source": [
    "x.shared.append('spam')\n",
    "x.perobj.append('spam')"
   ]
  },
  {
   "cell_type": "code",
   "execution_count": 102,
   "metadata": {},
   "outputs": [
    {
     "data": {
      "text/plain": [
       "(['spam'], ['spam'])"
      ]
     },
     "execution_count": 102,
     "metadata": {},
     "output_type": "execute_result"
    }
   ],
   "source": [
    "x.shared,x.perobj"
   ]
  },
  {
   "cell_type": "code",
   "execution_count": 103,
   "metadata": {},
   "outputs": [
    {
     "data": {
      "text/plain": [
       "(['spam'], [])"
      ]
     },
     "execution_count": 103,
     "metadata": {},
     "output_type": "execute_result"
    }
   ],
   "source": [
    "y.shared,y.perobj"
   ]
  },
  {
   "cell_type": "code",
   "execution_count": 104,
   "metadata": {},
   "outputs": [
    {
     "data": {
      "text/plain": [
       "['spam']"
      ]
     },
     "execution_count": 104,
     "metadata": {},
     "output_type": "execute_result"
    }
   ],
   "source": [
    "C.shared"
   ]
  },
  {
   "cell_type": "markdown",
   "metadata": {},
   "source": [
    "### 多重继承：继承顺序很重要"
   ]
  },
  {
   "cell_type": "markdown",
   "metadata": {},
   "source": [
    "Python 总是会根据超类在首行中的顺序，由左到右搜索超类"
   ]
  },
  {
   "cell_type": "markdown",
   "metadata": {},
   "source": [
    "可以在子类中指定需要继承的父类的属性，避免多重继承选择的属性不符合自己的预期"
   ]
  },
  {
   "cell_type": "markdown",
   "metadata": {},
   "source": [
    "#### 过度包装"
   ]
  },
  {
   "cell_type": "markdown",
   "metadata": {},
   "source": [
    "除非真的有必要，否则不要把事情弄得很复杂。抽象是多态和封装的基础，只要恰当的使用就会成为非常高效的工具"
   ]
  },
  {
   "cell_type": "markdown",
   "metadata": {},
   "source": [
    "# 第三十二章：异常处理"
   ]
  },
  {
   "cell_type": "markdown",
   "metadata": {},
   "source": [
    "可以在任意一个步骤内，跳转至异常处理器，中止开始的所有函数调用而进入异常管理器。在一场管理器中编写代码，响应处理异常"
   ]
  },
  {
   "cell_type": "markdown",
   "metadata": {},
   "source": [
    "异常的角色：\n",
    "1. 错误处理：在程序代码中捕捉和响应错误，进入异常处理器处理异常\n",
    "2. 事件通知：可以用于发出有效的信号，而不需啊哟在程序间传递结果标志位\n",
    "3. 特殊情况处理：\n",
    "4. 终止行为：\n",
    "5. 非常规控制流程："
   ]
  },
  {
   "cell_type": "markdown",
   "metadata": {},
   "source": [
    "出发异常的语句：\n",
    "1. try except\n",
    "2. try finally\n",
    "3. raise\n",
    "4. assert\n",
    "5. with / as"
   ]
  },
  {
   "cell_type": "markdown",
   "metadata": {},
   "source": [
    "如果没有捕捉异常，就会一直向上返回到程序顶层，并且启用默认的异常处理器，打印出标准的出错消息"
   ]
  },
  {
   "cell_type": "markdown",
   "metadata": {},
   "source": [
    "try except 支持捕捉异常，也可以从中恢复执行"
   ]
  },
  {
   "cell_type": "code",
   "execution_count": 105,
   "metadata": {},
   "outputs": [],
   "source": [
    "def cacher():\n",
    "    try:\n",
    "        fetcher(x,4)\n",
    "    except IndexError:\n",
    "        print('got  exception')\n",
    "    print('continuing')"
   ]
  },
  {
   "cell_type": "markdown",
   "metadata": {},
   "source": [
    "### 引发异常"
   ]
  },
  {
   "cell_type": "markdown",
   "metadata": {},
   "source": [
    "### 用户定义的异常"
   ]
  },
  {
   "cell_type": "code",
   "execution_count": 106,
   "metadata": {},
   "outputs": [],
   "source": [
    "class Bad(Exception):\n",
    "    pass"
   ]
  },
  {
   "cell_type": "code",
   "execution_count": 107,
   "metadata": {},
   "outputs": [],
   "source": [
    "def doomed():\n",
    "    raise Bad()"
   ]
  },
  {
   "cell_type": "code",
   "execution_count": 108,
   "metadata": {},
   "outputs": [
    {
     "name": "stdout",
     "output_type": "stream",
     "text": [
      "got Bad\n"
     ]
    }
   ],
   "source": [
    "try:\n",
    "    doomed()\n",
    "except Bad:\n",
    "    print(\"got Bad\")"
   ]
  },
  {
   "cell_type": "markdown",
   "metadata": {},
   "source": [
    "#### 终止行为"
   ]
  },
  {
   "cell_type": "markdown",
   "metadata": {},
   "source": [
    "无论是否发生了异常，可以用于定义一定会在最后执行时收尾的行为"
   ]
  },
  {
   "cell_type": "code",
   "execution_count": 109,
   "metadata": {},
   "outputs": [
    {
     "name": "stdout",
     "output_type": "stream",
     "text": [
      "after fetch\n"
     ]
    }
   ],
   "source": [
    "try:\n",
    "    pass\n",
    "finally:\n",
    "    print(\"after fetch\")"
   ]
  },
  {
   "cell_type": "markdown",
   "metadata": {},
   "source": [
    "# 第三十三章：异常编码细节"
   ]
  },
  {
   "cell_type": "markdown",
   "metadata": {},
   "source": [
    "try 语句的运行方式：\n",
    "1. 如果 try 代码块语句执行时发生了异常，Python 跳回 try，执行第一个符合引发异常的 except 子句下的语句，执行后，控制权会到整个 try 语句后继续执行\n",
    "2. 如果 try 代码块发生异常，但是没有符合的 except 子句，异常就会向上传递到程序之前进入 try 中，如果现在是第一条，就会传递到顶层\n",
    "3. 如果 try 首行底下执行的语句没有发生异常，Python 就会执行 else 行下的语句"
   ]
  },
  {
   "cell_type": "markdown",
   "metadata": {},
   "source": [
    "else 语句只有在不发生异常时才会执行"
   ]
  },
  {
   "cell_type": "markdown",
   "metadata": {},
   "source": [
    "捕捉所有异常"
   ]
  },
  {
   "cell_type": "code",
   "execution_count": 1,
   "metadata": {},
   "outputs": [],
   "source": [
    "try:\n",
    "    action()\n",
    "except :\n",
    "    pass\n",
    "else:\n",
    "    pass"
   ]
  },
  {
   "cell_type": "markdown",
   "metadata": {},
   "source": [
    "上述的异常捕捉，会捕捉到很多与程序代码无关的异常，比如系统异常，而且可能拦截其他处理器的异常；Python 3.0 中引入 Exceptiton 用于忽略和系统退出相关的异常"
   ]
  },
  {
   "cell_type": "markdown",
   "metadata": {},
   "source": [
    "### try/else 语句"
   ]
  },
  {
   "cell_type": "markdown",
   "metadata": {},
   "source": [
    "else 语句 用于判断控制流程是否通过了 try 语句 "
   ]
  },
  {
   "cell_type": "code",
   "execution_count": 2,
   "metadata": {
    "scrolled": true
   },
   "outputs": [
    {
     "ename": "SyntaxError",
     "evalue": "invalid syntax (275941454.py, line 2)",
     "output_type": "error",
     "traceback": [
      "\u001b[0;36m  Cell \u001b[0;32mIn[2], line 2\u001b[0;36m\u001b[0m\n\u001b[0;31m    run code\u001b[0m\n\u001b[0m        ^\u001b[0m\n\u001b[0;31mSyntaxError\u001b[0m\u001b[0;31m:\u001b[0m invalid syntax\n"
     ]
    }
   ],
   "source": [
    "try:\n",
    "    run code\n",
    "except IndexError:\n",
    "    handle exception\n",
    "else:\n",
    "    no exception occured"
   ]
  },
  {
   "cell_type": "markdown",
   "metadata": {},
   "source": [
    "异常的默认行为：打印"
   ]
  },
  {
   "cell_type": "code",
   "execution_count": 3,
   "metadata": {},
   "outputs": [
    {
     "ename": "ZeroDivisionError",
     "evalue": "division by zero",
     "output_type": "error",
     "traceback": [
      "\u001b[0;31m---------------------------------------------------------------------------\u001b[0m",
      "\u001b[0;31mZeroDivisionError\u001b[0m                         Traceback (most recent call last)",
      "Cell \u001b[0;32mIn[3], line 6\u001b[0m\n\u001b[1;32m      4\u001b[0m \u001b[38;5;28;01mdef\u001b[39;00m \u001b[38;5;21mgosouth\u001b[39m(x):\n\u001b[1;32m      5\u001b[0m     \u001b[38;5;28mprint\u001b[39m(gobad(x,\u001b[38;5;241m0\u001b[39m))\n\u001b[0;32m----> 6\u001b[0m \u001b[43mgosouth\u001b[49m\u001b[43m(\u001b[49m\u001b[38;5;241;43m1\u001b[39;49m\u001b[43m)\u001b[49m\n",
      "Cell \u001b[0;32mIn[3], line 5\u001b[0m, in \u001b[0;36mgosouth\u001b[0;34m(x)\u001b[0m\n\u001b[1;32m      4\u001b[0m \u001b[38;5;28;01mdef\u001b[39;00m \u001b[38;5;21mgosouth\u001b[39m(x):\n\u001b[0;32m----> 5\u001b[0m     \u001b[38;5;28mprint\u001b[39m(\u001b[43mgobad\u001b[49m\u001b[43m(\u001b[49m\u001b[43mx\u001b[49m\u001b[43m,\u001b[49m\u001b[38;5;241;43m0\u001b[39;49m\u001b[43m)\u001b[49m)\n",
      "Cell \u001b[0;32mIn[3], line 2\u001b[0m, in \u001b[0;36mgobad\u001b[0;34m(x, y)\u001b[0m\n\u001b[1;32m      1\u001b[0m \u001b[38;5;28;01mdef\u001b[39;00m \u001b[38;5;21mgobad\u001b[39m(x,y):\n\u001b[0;32m----> 2\u001b[0m     \u001b[38;5;28;01mreturn\u001b[39;00m \u001b[43mx\u001b[49m\u001b[43m \u001b[49m\u001b[38;5;241;43m/\u001b[39;49m\u001b[43m \u001b[49m\u001b[43my\u001b[49m\n",
      "\u001b[0;31mZeroDivisionError\u001b[0m: division by zero"
     ]
    }
   ],
   "source": [
    "def gobad(x,y):\n",
    "    return x / y\n",
    "\n",
    "def gosouth(x):\n",
    "    print(gobad(x,0))\n",
    "gosouth(1)"
   ]
  },
  {
   "cell_type": "markdown",
   "metadata": {},
   "source": [
    "### try finally 语句"
   ]
  },
  {
   "cell_type": "markdown",
   "metadata": {},
   "source": [
    "如果 try 语句中包含了 finally ，Python 一定会在 try 语句后执行其语句代码块，无路 try 是否发生了异常"
   ]
  },
  {
   "cell_type": "code",
   "execution_count": 4,
   "metadata": {},
   "outputs": [
    {
     "ename": "SyntaxError",
     "evalue": "invalid syntax (2725364301.py, line 2)",
     "output_type": "error",
     "traceback": [
      "\u001b[0;36m  Cell \u001b[0;32mIn[4], line 2\u001b[0;36m\u001b[0m\n\u001b[0;31m    <statement>\u001b[0m\n\u001b[0m    ^\u001b[0m\n\u001b[0;31mSyntaxError\u001b[0m\u001b[0;31m:\u001b[0m invalid syntax\n"
     ]
    }
   ],
   "source": [
    "try:\n",
    "    <statement>\n",
    "finally:\n",
    "    <statement>"
   ]
  },
  {
   "cell_type": "markdown",
   "metadata": {},
   "source": [
    "1. 抛出异常：执行 try + finally 然后再抛出异常\n",
    "2. 未抛出异常：执行 finally 然后在整个 try 语句后继续执行下去"
   ]
  },
  {
   "cell_type": "markdown",
   "metadata": {},
   "source": [
    "利用 try finally 编写终止行为"
   ]
  },
  {
   "cell_type": "code",
   "execution_count": 6,
   "metadata": {},
   "outputs": [
    {
     "name": "stdout",
     "output_type": "stream",
     "text": [
      "not reached\n"
     ]
    },
    {
     "ename": "MyError",
     "evalue": "",
     "output_type": "error",
     "traceback": [
      "\u001b[0;31m---------------------------------------------------------------------------\u001b[0m",
      "\u001b[0;31mMyError\u001b[0m                                   Traceback (most recent call last)",
      "Cell \u001b[0;32mIn[6], line 8\u001b[0m\n\u001b[1;32m      6\u001b[0m file \u001b[38;5;241m=\u001b[39m \u001b[38;5;28mopen\u001b[39m(\u001b[38;5;124m'\u001b[39m\u001b[38;5;124mdata\u001b[39m\u001b[38;5;124m'\u001b[39m,\u001b[38;5;124m'\u001b[39m\u001b[38;5;124mw\u001b[39m\u001b[38;5;124m'\u001b[39m)\n\u001b[1;32m      7\u001b[0m \u001b[38;5;28;01mtry\u001b[39;00m:\n\u001b[0;32m----> 8\u001b[0m     \u001b[43mstuff\u001b[49m\u001b[43m(\u001b[49m\u001b[43mfile\u001b[49m\u001b[43m)\u001b[49m\n\u001b[1;32m      9\u001b[0m \u001b[38;5;28;01mfinally\u001b[39;00m:\n\u001b[1;32m     10\u001b[0m     file\u001b[38;5;241m.\u001b[39mclose()\n",
      "Cell \u001b[0;32mIn[6], line 4\u001b[0m, in \u001b[0;36mstuff\u001b[0;34m(file)\u001b[0m\n\u001b[1;32m      3\u001b[0m \u001b[38;5;28;01mdef\u001b[39;00m \u001b[38;5;21mstuff\u001b[39m(file):\n\u001b[0;32m----> 4\u001b[0m     \u001b[38;5;28;01mraise\u001b[39;00m MyError()\n",
      "\u001b[0;31mMyError\u001b[0m: "
     ]
    }
   ],
   "source": [
    "class MyError(Exception):pass\n",
    "\n",
    "def stuff(file):\n",
    "    raise MyError()\n",
    "\n",
    "file = open('data','w')\n",
    "try:\n",
    "    stuff(file)\n",
    "finally:\n",
    "    file.close()\n",
    "    print('not reached')"
   ]
  },
  {
   "cell_type": "markdown",
   "metadata": {},
   "source": [
    "## raise 语句"
   ]
  },
  {
   "cell_type": "markdown",
   "metadata": {},
   "source": [
    "显示的触发异常语句，组成：raise 关键字，后面跟着可选的要引发的类或者一个类的实例"
   ]
  },
  {
   "cell_type": "code",
   "execution_count": null,
   "metadata": {},
   "outputs": [],
   "source": [
    "raise <instance>\n",
    "raise <class>"
   ]
  },
  {
   "cell_type": "markdown",
   "metadata": {},
   "source": [
    "## assert 语句"
   ]
  },
  {
   "cell_type": "code",
   "execution_count": 7,
   "metadata": {},
   "outputs": [
    {
     "ename": "SyntaxError",
     "evalue": "invalid syntax (530231791.py, line 1)",
     "output_type": "error",
     "traceback": [
      "\u001b[0;36m  Cell \u001b[0;32mIn[7], line 1\u001b[0;36m\u001b[0m\n\u001b[0;31m    assert <test>,<data>\u001b[0m\n\u001b[0m           ^\u001b[0m\n\u001b[0;31mSyntaxError\u001b[0m\u001b[0;31m:\u001b[0m invalid syntax\n"
     ]
    }
   ],
   "source": [
    "assert <test>,<data>"
   ]
  },
  {
   "cell_type": "markdown",
   "metadata": {},
   "source": [
    "如果 test 为假，则抛出异常"
   ]
  },
  {
   "cell_type": "markdown",
   "metadata": {},
   "source": [
    "## 环境管理协议"
   ]
  },
  {
   "cell_type": "markdown",
   "metadata": {},
   "source": [
    "with 语句实际的工作方式：\n",
    "1. 计算表达式，所得到的对象称为环境管理器，必须包含 __enter__ 和 __exit__ 方法\n",
    "2. 环境管理器的__enter__方法会被调用。如果 as 子句存在，其返回值就会赋值给 As 子句中的变量，否则丢弃\n",
    "3. 代码块中嵌套的代码会执行\n",
    "4. 如果 with 代码块引发异常，__exit__ （type、value、traceback）方法就会被调用。如果此方法为假，则异常会重新引发，否则，异常会终止\n",
    "5. 如果 with 代码块没有引发异常，__exit__ 方法依然会被调用，其 type、value 以及 traceback 参数都会以 None 传递"
   ]
  },
  {
   "cell_type": "code",
   "execution_count": 8,
   "metadata": {},
   "outputs": [],
   "source": [
    "class TraceBlock:\n",
    "    def message(self,arg):\n",
    "        print('running', arg)\n",
    "    def __enter__(self):\n",
    "        print(\"starting with block\")\n",
    "    def __exit__(self,exc_type,exc_value,exc_tb):\n",
    "        if exc_type is None:\n",
    "            print(\"exited normally\\n\")\n",
    "        else:\n",
    "            print(\"raise an exception!!\", exc_type)\n",
    "            return False"
   ]
  },
  {
   "cell_type": "code",
   "execution_count": 10,
   "metadata": {},
   "outputs": [
    {
     "name": "stdout",
     "output_type": "stream",
     "text": [
      "starting with block\n",
      "raise an exception!! <class 'AttributeError'>\n"
     ]
    },
    {
     "ename": "AttributeError",
     "evalue": "'NoneType' object has no attribute 'message'",
     "output_type": "error",
     "traceback": [
      "\u001b[0;31m---------------------------------------------------------------------------\u001b[0m",
      "\u001b[0;31mAttributeError\u001b[0m                            Traceback (most recent call last)",
      "Cell \u001b[0;32mIn[10], line 2\u001b[0m\n\u001b[1;32m      1\u001b[0m \u001b[38;5;28;01mwith\u001b[39;00m TraceBlock() \u001b[38;5;28;01mas\u001b[39;00m action:\n\u001b[0;32m----> 2\u001b[0m     \u001b[43maction\u001b[49m\u001b[38;5;241;43m.\u001b[39;49m\u001b[43mmessage\u001b[49m(\u001b[38;5;124m'\u001b[39m\u001b[38;5;124mtest 2\u001b[39m\u001b[38;5;124m'\u001b[39m)\n\u001b[1;32m      3\u001b[0m     \u001b[38;5;28mprint\u001b[39m(\u001b[38;5;124m'\u001b[39m\u001b[38;5;124mreached\u001b[39m\u001b[38;5;124m'\u001b[39m)\n",
      "\u001b[0;31mAttributeError\u001b[0m: 'NoneType' object has no attribute 'message'"
     ]
    }
   ],
   "source": [
    "with TraceBlock() as action:\n",
    "    action.message('test 2')\n",
    "    print('reached')"
   ]
  },
  {
   "cell_type": "markdown",
   "metadata": {},
   "source": [
    "# 第三十四章: 类异常"
   ]
  },
  {
   "cell_type": "markdown",
   "metadata": {},
   "source": [
    "使用类异常并且"
   ]
  },
  {
   "cell_type": "code",
   "execution_count": 1,
   "metadata": {},
   "outputs": [],
   "source": [
    "class Numerr(Exception):pass\n",
    "class Divzero(Numerr):pass\n",
    "class Oflow(Numerr):pass"
   ]
  },
  {
   "cell_type": "code",
   "execution_count": null,
   "metadata": {},
   "outputs": [],
   "source": [
    "try:\n",
    "    action()\n",
    "except Numerr:\n",
    "    pass"
   ]
  },
  {
   "cell_type": "markdown",
   "metadata": {},
   "source": [
    "## 内置的 Exception 类"
   ]
  },
  {
   "cell_type": "markdown",
   "metadata": {},
   "source": [
    "#### 定制异常的打印显示"
   ]
  },
  {
   "cell_type": "code",
   "execution_count": 2,
   "metadata": {},
   "outputs": [],
   "source": [
    "class MyBad(Exception):\n",
    "    def __str__(self):\n",
    "        return \"Always look on bright side of life\""
   ]
  },
  {
   "cell_type": "code",
   "execution_count": 3,
   "metadata": {},
   "outputs": [
    {
     "name": "stdout",
     "output_type": "stream",
     "text": [
      "Always look on bright side of life\n"
     ]
    }
   ],
   "source": [
    "try:\n",
    "    raise MyBad()\n",
    "except MyBad as x:\n",
    "    print(x)"
   ]
  },
  {
   "cell_type": "markdown",
   "metadata": {},
   "source": [
    "## 定制数据和行为"
   ]
  },
  {
   "cell_type": "markdown",
   "metadata": {},
   "source": [
    "通过自己提供构造函数，类可以定义在处理器中的方法，来提供预先编码的异常处理逻辑"
   ]
  },
  {
   "cell_type": "code",
   "execution_count": 4,
   "metadata": {},
   "outputs": [],
   "source": [
    "class FormatError(Exception):\n",
    "    def __init__(self,line,file):\n",
    "        self.line = line\n",
    "        self.file = file\n",
    "\n",
    "def parser():\n",
    "    raise FormatError(42,file='spam.txt')"
   ]
  },
  {
   "cell_type": "code",
   "execution_count": 5,
   "metadata": {},
   "outputs": [
    {
     "name": "stdout",
     "output_type": "stream",
     "text": [
      "Error at spam.txt 42\n"
     ]
    }
   ],
   "source": [
    "try:\n",
    "    parser()\n",
    "except FormatError as x:\n",
    "    print('Error at', x.file,x.line)"
   ]
  },
  {
   "cell_type": "markdown",
   "metadata": {},
   "source": [
    "# 高级话题：Unicode 和 字节字符串"
   ]
  },
  {
   "cell_type": "markdown",
   "metadata": {},
   "source": [
    "## 字符串基础知识"
   ]
  },
  {
   "cell_type": "markdown",
   "metadata": {},
   "source": [
    "### 字符编码方法"
   ]
  },
  {
   "cell_type": "markdown",
   "metadata": {},
   "source": [
    "ASCII 定义了从 0 到 127 的字符代码，并且允许每个字符存储在意一个 8 位的字节中，存储在内存和文件的一个单个字节中"
   ]
  },
  {
   "cell_type": "markdown",
   "metadata": {},
   "source": [
    "Python 的内置函数 ord 给出一个字符的二进制值"
   ]
  },
  {
   "cell_type": "code",
   "execution_count": 1,
   "metadata": {},
   "outputs": [
    {
     "data": {
      "text/plain": [
       "97"
      ]
     },
     "execution_count": 1,
     "metadata": {},
     "output_type": "execute_result"
    }
   ],
   "source": [
    "ord('a')"
   ]
  },
  {
   "cell_type": "code",
   "execution_count": 2,
   "metadata": {},
   "outputs": [
    {
     "data": {
      "text/plain": [
       "'0x61'"
      ]
     },
     "execution_count": 2,
     "metadata": {},
     "output_type": "execute_result"
    }
   ],
   "source": [
    "hex(97)"
   ]
  },
  {
   "cell_type": "markdown",
   "metadata": {},
   "source": [
    "针对给定的整数代码值返回其字符串"
   ]
  },
  {
   "cell_type": "code",
   "execution_count": 4,
   "metadata": {},
   "outputs": [
    {
     "data": {
      "text/plain": [
       "'a'"
      ]
     },
     "execution_count": 4,
     "metadata": {},
     "output_type": "execute_result"
    }
   ],
   "source": [
    "chr(97)"
   ]
  },
  {
   "cell_type": "markdown",
   "metadata": {},
   "source": [
    "Unicode 文本通常叫做 __宽字符__ 字符串，因为每个字符可能表示为多个字节。用于表示 8 为字符更多的字节。在计算机中存储丰富的文本，需要保证字符和原始字节之间可以使用一种编码进行相互转换。编码表示就是把一个 Unicode 字符转换为字节序列，以及从一个字节序列提取字符串的规则\n",
    "* 编码：根据一个想要的编码名称，把一个字符翻译为其原始的字节形式\n",
    "* 解码：根据其名称，把一个原始字符串翻译为字符串形式的过程\n",
    "由于编码的字符映射吧字符分配给同样的代码以保证兼容性，因此 ASCII 是 Latin-1 和 UTF-8 的子集"
   ]
  },
  {
   "cell_type": "markdown",
   "metadata": {},
   "source": [
    "utf-8：通过采用可变的字节数的方案，允许表示众多的字符\n",
    "1. 小于 128 的字符代码表示为单个字节\n",
    "2. 128--0x7ff 之间的代码转换为两个字节，每个字节拥有一个 128 到 255 之间的值\n",
    "3. 0x7ff 以上的代码转换为 3 个或者 4 个字节序列"
   ]
  },
  {
   "cell_type": "code",
   "execution_count": 1,
   "metadata": {},
   "outputs": [
    {
     "data": {
      "text/plain": [
       "196"
      ]
     },
     "execution_count": 1,
     "metadata": {},
     "output_type": "execute_result"
    }
   ],
   "source": [
    "0xC4"
   ]
  },
  {
   "cell_type": "code",
   "execution_count": 2,
   "metadata": {},
   "outputs": [
    {
     "data": {
      "text/plain": [
       "'Ä'"
      ]
     },
     "execution_count": 2,
     "metadata": {},
     "output_type": "execute_result"
    }
   ],
   "source": [
    "chr(196)"
   ]
  },
  {
   "cell_type": "markdown",
   "metadata": {},
   "source": [
    "* 在 Python 2.6 中 我们可以对简单的文本使用 str 并对文本的更高级的形式使用二进制数据 和 Unicode\n",
    "* 在 Python 3.0 中 我们将针对任何类型的文本使用 str，并且针对二进制数据使用 bytes 和 bytearray"
   ]
  },
  {
   "cell_type": "code",
   "execution_count": 1,
   "metadata": {},
   "outputs": [
    {
     "data": {
      "text/plain": [
       "'utf-8'"
      ]
     },
     "execution_count": 1,
     "metadata": {},
     "output_type": "execute_result"
    }
   ],
   "source": [
    "import sys\n",
    "sys.getdefaultencoding()"
   ]
  },
  {
   "cell_type": "code",
   "execution_count": 2,
   "metadata": {
    "scrolled": true
   },
   "outputs": [
    {
     "name": "stdout",
     "output_type": "stream",
     "text": [
      "Help on package encodings:\n",
      "\n",
      "NAME\n",
      "    encodings - Standard \"encodings\" Package\n",
      "\n",
      "DESCRIPTION\n",
      "        Standard Python encoding modules are stored in this package\n",
      "        directory.\n",
      "    \n",
      "        Codec modules must have names corresponding to normalized encoding\n",
      "        names as defined in the normalize_encoding() function below, e.g.\n",
      "        'utf-8' must be implemented by the module 'utf_8.py'.\n",
      "    \n",
      "        Each codec module must export the following interface:\n",
      "    \n",
      "        * getregentry() -> codecs.CodecInfo object\n",
      "        The getregentry() API must return a CodecInfo object with encoder, decoder,\n",
      "        incrementalencoder, incrementaldecoder, streamwriter and streamreader\n",
      "        attributes which adhere to the Python Codec Interface Standard.\n",
      "    \n",
      "        In addition, a module may optionally also define the following\n",
      "        APIs which are then used by the package's codec search function:\n",
      "    \n",
      "        * getaliases() -> sequence of encoding name strings to use as aliases\n",
      "    \n",
      "        Alias names returned by getaliases() must be normalized encoding\n",
      "        names as defined by normalize_encoding().\n",
      "    \n",
      "    Written by Marc-Andre Lemburg (mal@lemburg.com).\n",
      "    \n",
      "    (c) Copyright CNRI, All Rights Reserved. NO WARRANTY.\n",
      "\n",
      "PACKAGE CONTENTS\n",
      "    aliases\n",
      "    ascii\n",
      "    base64_codec\n",
      "    big5\n",
      "    big5hkscs\n",
      "    bz2_codec\n",
      "    charmap\n",
      "    cp037\n",
      "    cp1006\n",
      "    cp1026\n",
      "    cp1125\n",
      "    cp1140\n",
      "    cp1250\n",
      "    cp1251\n",
      "    cp1252\n",
      "    cp1253\n",
      "    cp1254\n",
      "    cp1255\n",
      "    cp1256\n",
      "    cp1257\n",
      "    cp1258\n",
      "    cp273\n",
      "    cp424\n",
      "    cp437\n",
      "    cp500\n",
      "    cp720\n",
      "    cp737\n",
      "    cp775\n",
      "    cp850\n",
      "    cp852\n",
      "    cp855\n",
      "    cp856\n",
      "    cp857\n",
      "    cp858\n",
      "    cp860\n",
      "    cp861\n",
      "    cp862\n",
      "    cp863\n",
      "    cp864\n",
      "    cp865\n",
      "    cp866\n",
      "    cp869\n",
      "    cp874\n",
      "    cp875\n",
      "    cp932\n",
      "    cp949\n",
      "    cp950\n",
      "    euc_jis_2004\n",
      "    euc_jisx0213\n",
      "    euc_jp\n",
      "    euc_kr\n",
      "    gb18030\n",
      "    gb2312\n",
      "    gbk\n",
      "    hex_codec\n",
      "    hp_roman8\n",
      "    hz\n",
      "    idna\n",
      "    iso2022_jp\n",
      "    iso2022_jp_1\n",
      "    iso2022_jp_2\n",
      "    iso2022_jp_2004\n",
      "    iso2022_jp_3\n",
      "    iso2022_jp_ext\n",
      "    iso2022_kr\n",
      "    iso8859_1\n",
      "    iso8859_10\n",
      "    iso8859_11\n",
      "    iso8859_13\n",
      "    iso8859_14\n",
      "    iso8859_15\n",
      "    iso8859_16\n",
      "    iso8859_2\n",
      "    iso8859_3\n",
      "    iso8859_4\n",
      "    iso8859_5\n",
      "    iso8859_6\n",
      "    iso8859_7\n",
      "    iso8859_8\n",
      "    iso8859_9\n",
      "    johab\n",
      "    koi8_r\n",
      "    koi8_t\n",
      "    koi8_u\n",
      "    kz1048\n",
      "    latin_1\n",
      "    mac_arabic\n",
      "    mac_croatian\n",
      "    mac_cyrillic\n",
      "    mac_farsi\n",
      "    mac_greek\n",
      "    mac_iceland\n",
      "    mac_latin2\n",
      "    mac_roman\n",
      "    mac_romanian\n",
      "    mac_turkish\n",
      "    mbcs\n",
      "    oem\n",
      "    palmos\n",
      "    ptcp154\n",
      "    punycode\n",
      "    quopri_codec\n",
      "    raw_unicode_escape\n",
      "    rot_13\n",
      "    shift_jis\n",
      "    shift_jis_2004\n",
      "    shift_jisx0213\n",
      "    tis_620\n",
      "    undefined\n",
      "    unicode_escape\n",
      "    utf_16\n",
      "    utf_16_be\n",
      "    utf_16_le\n",
      "    utf_32\n",
      "    utf_32_be\n",
      "    utf_32_le\n",
      "    utf_7\n",
      "    utf_8\n",
      "    utf_8_sig\n",
      "    uu_codec\n",
      "    zlib_codec\n",
      "\n",
      "CLASSES\n",
      "    builtins.LookupError(builtins.Exception)\n",
      "        CodecRegistryError(builtins.LookupError, builtins.SystemError)\n",
      "    builtins.SystemError(builtins.Exception)\n",
      "        CodecRegistryError(builtins.LookupError, builtins.SystemError)\n",
      "    \n",
      "    class CodecRegistryError(builtins.LookupError, builtins.SystemError)\n",
      "     |  Method resolution order:\n",
      "     |      CodecRegistryError\n",
      "     |      builtins.LookupError\n",
      "     |      builtins.SystemError\n",
      "     |      builtins.Exception\n",
      "     |      builtins.BaseException\n",
      "     |      builtins.object\n",
      "     |  \n",
      "     |  Data descriptors defined here:\n",
      "     |  \n",
      "     |  __weakref__\n",
      "     |      list of weak references to the object (if defined)\n",
      "     |  \n",
      "     |  ----------------------------------------------------------------------\n",
      "     |  Methods inherited from builtins.LookupError:\n",
      "     |  \n",
      "     |  __init__(self, /, *args, **kwargs)\n",
      "     |      Initialize self.  See help(type(self)) for accurate signature.\n",
      "     |  \n",
      "     |  ----------------------------------------------------------------------\n",
      "     |  Static methods inherited from builtins.LookupError:\n",
      "     |  \n",
      "     |  __new__(*args, **kwargs) from builtins.type\n",
      "     |      Create and return a new object.  See help(type) for accurate signature.\n",
      "     |  \n",
      "     |  ----------------------------------------------------------------------\n",
      "     |  Methods inherited from builtins.BaseException:\n",
      "     |  \n",
      "     |  __delattr__(self, name, /)\n",
      "     |      Implement delattr(self, name).\n",
      "     |  \n",
      "     |  __getattribute__(self, name, /)\n",
      "     |      Return getattr(self, name).\n",
      "     |  \n",
      "     |  __reduce__(...)\n",
      "     |      Helper for pickle.\n",
      "     |  \n",
      "     |  __repr__(self, /)\n",
      "     |      Return repr(self).\n",
      "     |  \n",
      "     |  __setattr__(self, name, value, /)\n",
      "     |      Implement setattr(self, name, value).\n",
      "     |  \n",
      "     |  __setstate__(...)\n",
      "     |  \n",
      "     |  __str__(self, /)\n",
      "     |      Return str(self).\n",
      "     |  \n",
      "     |  with_traceback(...)\n",
      "     |      Exception.with_traceback(tb) --\n",
      "     |      set self.__traceback__ to tb and return self.\n",
      "     |  \n",
      "     |  ----------------------------------------------------------------------\n",
      "     |  Data descriptors inherited from builtins.BaseException:\n",
      "     |  \n",
      "     |  __cause__\n",
      "     |      exception cause\n",
      "     |  \n",
      "     |  __context__\n",
      "     |      exception context\n",
      "     |  \n",
      "     |  __dict__\n",
      "     |  \n",
      "     |  __suppress_context__\n",
      "     |  \n",
      "     |  __traceback__\n",
      "     |  \n",
      "     |  args\n",
      "\n",
      "FUNCTIONS\n",
      "    normalize_encoding(encoding)\n",
      "        Normalize an encoding name.\n",
      "        \n",
      "        Normalization works as follows: all non-alphanumeric\n",
      "        characters except the dot used for Python package names are\n",
      "        collapsed and replaced with a single underscore, e.g. '  -;#'\n",
      "        becomes '_'. Leading and trailing underscores are removed.\n",
      "        \n",
      "        Note that encoding names should be ASCII only.\n",
      "    \n",
      "    search_function(encoding)\n",
      "\n",
      "FILE\n",
      "    /opt/homebrew/Cellar/python@3.10/3.10.13/Frameworks/Python.framework/Versions/3.10/lib/python3.10/encodings/__init__.py\n",
      "\n",
      "\n"
     ]
    }
   ],
   "source": [
    "import encodings\n",
    "help(encodings)"
   ]
  },
  {
   "cell_type": "markdown",
   "metadata": {},
   "source": [
    "## Python 的字符串类型"
   ]
  },
  {
   "cell_type": "markdown",
   "metadata": {},
   "source": [
    "Python3 中支持三种字符串字符串对象\n",
    "* str 表示 Unicode 文本（8 位的和更宽的）\n",
    "* bytes 表示二进制数据。定义了一个 8 位整数的不可变序列，表示绝对的字节值。该类型支持几乎 str 类型所做的所有相同操作：字符串方法、序列操作、re 模块匹配\n",
    "* bytearray 是一种可变的 bytes 类型"
   ]
  },
  {
   "cell_type": "markdown",
   "metadata": {},
   "source": [
    "__bytes__\n",
    "Python 3.0 的 bytes 对象其实只是较小整数的一个序列，每个整数的范围都在 0-255 之间；索引一个 bytes 将返回一个 int；分片一个 bytes 将返回另一个 bytes；在一个 bytes 上运行内置函数 list 将返回整数，而不是一个字符串的列表"
   ]
  },
  {
   "cell_type": "code",
   "execution_count": 3,
   "metadata": {},
   "outputs": [],
   "source": [
    "B = b'spam'"
   ]
  },
  {
   "cell_type": "code",
   "execution_count": 4,
   "metadata": {},
   "outputs": [
    {
     "data": {
      "text/plain": [
       "(115, b's', [115, 112])"
      ]
     },
     "execution_count": 4,
     "metadata": {},
     "output_type": "execute_result"
    }
   ],
   "source": [
    "B[0],B[:1],list(B[:2])"
   ]
  },
  {
   "cell_type": "code",
   "execution_count": 5,
   "metadata": {},
   "outputs": [
    {
     "data": {
      "text/plain": [
       "115"
      ]
     },
     "execution_count": 5,
     "metadata": {},
     "output_type": "execute_result"
    }
   ],
   "source": [
    "ord('s')"
   ]
  },
  {
   "cell_type": "markdown",
   "metadata": {},
   "source": [
    "bytearray 类型，bytearray 是 bytes 类型的一个变体，是可变的并且支持原处修改。支持 str 和 bytes 所支持的常见的字符串操作，以及和列表相同的很多原处修改。Bytearray 为字符串增加了直接原处修改的能力"
   ]
  },
  {
   "cell_type": "markdown",
   "metadata": {},
   "source": [
    "Python 3.0 中，针对任何的文本使用 str，并且针对任何的二进制数据使用 bytes 和 bytearray"
   ]
  },
  {
   "cell_type": "markdown",
   "metadata": {},
   "source": [
    "## 文本文件和二进制文件"
   ]
  },
  {
   "cell_type": "markdown",
   "metadata": {},
   "source": [
    "* 文本文件：当一个文件以文本模式打开时，读取其数据会自动将其内容解码为，并且将其返回为一个 str，写入接受 str，并且在写入文件前进行编码\n",
    "* 二进制文件：通过内置 open 打开文件时，添加 b，以二进制模式打开一个文件，读取文件时不会以任何方式进行解码，直接返回 raw 内容，并且作用 bytes 对象。二进制文件接受一个 Bytearray 对象作为写入文件中的内容"
   ]
  },
  {
   "cell_type": "markdown",
   "metadata": {},
   "source": [
    "### Python 3.0 中的字符串应用"
   ]
  },
  {
   "cell_type": "markdown",
   "metadata": {},
   "source": [
    "创建 字符串 byte 和 Bytearray"
   ]
  },
  {
   "cell_type": "code",
   "execution_count": 8,
   "metadata": {},
   "outputs": [],
   "source": [
    "s = 'spam'\n",
    "b = b'spam'\n",
    "b_array = bytearray('spam',encoding='utf-8')"
   ]
  },
  {
   "cell_type": "code",
   "execution_count": 9,
   "metadata": {},
   "outputs": [
    {
     "data": {
      "text/plain": [
       "(str, bytes, bytearray)"
      ]
     },
     "execution_count": 9,
     "metadata": {},
     "output_type": "execute_result"
    }
   ],
   "source": [
    "type(s),type(b),type(b_array)"
   ]
  },
  {
   "cell_type": "markdown",
   "metadata": {},
   "source": [
    "bytes 对象实际上激素是较小的整数序列，可以将自己的内容打印为字符"
   ]
  },
  {
   "cell_type": "code",
   "execution_count": 11,
   "metadata": {},
   "outputs": [
    {
     "data": {
      "text/plain": [
       "(115, 's')"
      ]
     },
     "execution_count": 11,
     "metadata": {},
     "output_type": "execute_result"
    }
   ],
   "source": [
    "b[0],s[0]"
   ]
  },
  {
   "cell_type": "markdown",
   "metadata": {},
   "source": [
    "byte 进行切片"
   ]
  },
  {
   "cell_type": "code",
   "execution_count": 13,
   "metadata": {},
   "outputs": [
    {
     "data": {
      "text/plain": [
       "(b'pa', 'pa')"
      ]
     },
     "execution_count": 13,
     "metadata": {},
     "output_type": "execute_result"
    }
   ],
   "source": [
    "b[1:3],s[1:3]"
   ]
  },
  {
   "cell_type": "markdown",
   "metadata": {},
   "source": [
    "调用 list"
   ]
  },
  {
   "cell_type": "code",
   "execution_count": 14,
   "metadata": {},
   "outputs": [
    {
     "data": {
      "text/plain": [
       "(['s', 'p', 'a', 'm'], [115, 112, 97, 109])"
      ]
     },
     "execution_count": 14,
     "metadata": {},
     "output_type": "execute_result"
    }
   ],
   "source": [
    "list(s),list(b)"
   ]
  },
  {
   "cell_type": "markdown",
   "metadata": {},
   "source": [
    "bytes 对象和 str 一样是不可以修改的，Bytearray 则是可以进行修改的"
   ]
  },
  {
   "cell_type": "code",
   "execution_count": 15,
   "metadata": {
    "scrolled": true
   },
   "outputs": [
    {
     "ename": "TypeError",
     "evalue": "'bytes' object does not support item assignment",
     "output_type": "error",
     "traceback": [
      "\u001b[0;31m---------------------------------------------------------------------------\u001b[0m",
      "\u001b[0;31mTypeError\u001b[0m                                 Traceback (most recent call last)",
      "Cell \u001b[0;32mIn[15], line 1\u001b[0m\n\u001b[0;32m----> 1\u001b[0m \u001b[43mb\u001b[49m\u001b[43m[\u001b[49m\u001b[38;5;241;43m0\u001b[39;49m\u001b[43m]\u001b[49m \u001b[38;5;241m=\u001b[39m \u001b[38;5;124m'\u001b[39m\u001b[38;5;124mx\u001b[39m\u001b[38;5;124m'\u001b[39m\n",
      "\u001b[0;31mTypeError\u001b[0m: 'bytes' object does not support item assignment"
     ]
    }
   ],
   "source": [
    "b[0] = 'x'"
   ]
  },
  {
   "cell_type": "markdown",
   "metadata": {},
   "source": [
    "### 转换"
   ]
  },
  {
   "cell_type": "markdown",
   "metadata": {},
   "source": [
    "Python3 引入了更加鲜明的区分：str 和 bytes 类型对象不在表达式中自动混合，传递给函数的时候不会自动的进行相互转换。\n",
    "转换：\n",
    "1. str.encode() 和 bytes(s,encoding) 用于将一个字符串转换为其 raw bytes 形式，并且在此过程中根据一个 str 创建一个 bytes\n",
    "2. bytes.decode() 和 str(B,encoding) 把 raw bytes 转换为其他字符串形式，并且再次过程中根据一个 bytes 创建一个 str"
   ]
  },
  {
   "cell_type": "code",
   "execution_count": 1,
   "metadata": {},
   "outputs": [
    {
     "data": {
      "text/plain": [
       "b'eggs'"
      ]
     },
     "execution_count": 1,
     "metadata": {},
     "output_type": "execute_result"
    }
   ],
   "source": [
    "s = 'eggs'\n",
    "s.encode()"
   ]
  },
  {
   "cell_type": "code",
   "execution_count": 2,
   "metadata": {},
   "outputs": [
    {
     "data": {
      "text/plain": [
       "b'eggs'"
      ]
     },
     "execution_count": 2,
     "metadata": {},
     "output_type": "execute_result"
    }
   ],
   "source": [
    "bytes(s,encoding='ascii')"
   ]
  },
  {
   "cell_type": "code",
   "execution_count": 3,
   "metadata": {},
   "outputs": [],
   "source": [
    "b = b'spam'"
   ]
  },
  {
   "cell_type": "code",
   "execution_count": 4,
   "metadata": {},
   "outputs": [
    {
     "data": {
      "text/plain": [
       "'spam'"
      ]
     },
     "execution_count": 4,
     "metadata": {},
     "output_type": "execute_result"
    }
   ],
   "source": [
    "b.decode()"
   ]
  },
  {
   "cell_type": "code",
   "execution_count": 5,
   "metadata": {},
   "outputs": [
    {
     "data": {
      "text/plain": [
       "'spam'"
      ]
     },
     "execution_count": 5,
     "metadata": {},
     "output_type": "execute_result"
    }
   ],
   "source": [
    "str(b,encoding='ascii')"
   ]
  },
  {
   "cell_type": "markdown",
   "metadata": {},
   "source": [
    "不带编码的 str 调用返回 bytes 对象的打印字符串，而不是其 str 转换后的形式"
   ]
  },
  {
   "cell_type": "code",
   "execution_count": 6,
   "metadata": {},
   "outputs": [],
   "source": [
    "import sys"
   ]
  },
  {
   "cell_type": "code",
   "execution_count": 7,
   "metadata": {},
   "outputs": [
    {
     "data": {
      "text/plain": [
       "'darwin'"
      ]
     },
     "execution_count": 7,
     "metadata": {},
     "output_type": "execute_result"
    }
   ],
   "source": [
    "sys.platform"
   ]
  },
  {
   "cell_type": "code",
   "execution_count": 8,
   "metadata": {},
   "outputs": [
    {
     "data": {
      "text/plain": [
       "'utf-8'"
      ]
     },
     "execution_count": 8,
     "metadata": {},
     "output_type": "execute_result"
    }
   ],
   "source": [
    "sys.getdefaultencoding()"
   ]
  },
  {
   "cell_type": "code",
   "execution_count": 9,
   "metadata": {},
   "outputs": [
    {
     "ename": "TypeError",
     "evalue": "string argument without an encoding",
     "output_type": "error",
     "traceback": [
      "\u001b[0;31m---------------------------------------------------------------------------\u001b[0m",
      "\u001b[0;31mTypeError\u001b[0m                                 Traceback (most recent call last)",
      "Cell \u001b[0;32mIn[9], line 1\u001b[0m\n\u001b[0;32m----> 1\u001b[0m \u001b[38;5;28;43mbytes\u001b[39;49m\u001b[43m(\u001b[49m\u001b[43ms\u001b[49m\u001b[43m)\u001b[49m\n",
      "\u001b[0;31mTypeError\u001b[0m: string argument without an encoding"
     ]
    }
   ],
   "source": [
    "bytes(s)"
   ]
  },
  {
   "cell_type": "code",
   "execution_count": 10,
   "metadata": {},
   "outputs": [
    {
     "data": {
      "text/plain": [
       "\"b'spam'\""
      ]
     },
     "execution_count": 10,
     "metadata": {},
     "output_type": "execute_result"
    }
   ],
   "source": [
    "str(b)"
   ]
  },
  {
   "cell_type": "code",
   "execution_count": 11,
   "metadata": {},
   "outputs": [
    {
     "data": {
      "text/plain": [
       "7"
      ]
     },
     "execution_count": 11,
     "metadata": {},
     "output_type": "execute_result"
    }
   ],
   "source": [
    "len(str(b))"
   ]
  },
  {
   "cell_type": "code",
   "execution_count": 12,
   "metadata": {},
   "outputs": [
    {
     "data": {
      "text/plain": [
       "4"
      ]
     },
     "execution_count": 12,
     "metadata": {},
     "output_type": "execute_result"
    }
   ],
   "source": [
    "len(str(b,encoding='ascii'))"
   ]
  },
  {
   "cell_type": "markdown",
   "metadata": {},
   "source": [
    "## 编码 Unicode 字符串"
   ]
  },
  {
   "cell_type": "markdown",
   "metadata": {},
   "source": [
    "#### 编码 ASCII 文本"
   ]
  },
  {
   "cell_type": "markdown",
   "metadata": {},
   "source": [
    "ASCII 文本是一种简单的 Unicode, 存储为表示字符的字节值的一个序列"
   ]
  },
  {
   "cell_type": "code",
   "execution_count": 13,
   "metadata": {},
   "outputs": [
    {
     "data": {
      "text/plain": [
       "120"
      ]
     },
     "execution_count": 13,
     "metadata": {},
     "output_type": "execute_result"
    }
   ],
   "source": [
    "ord('x')"
   ]
  },
  {
   "cell_type": "code",
   "execution_count": 14,
   "metadata": {},
   "outputs": [
    {
     "data": {
      "text/plain": [
       "'X'"
      ]
     },
     "execution_count": 14,
     "metadata": {},
     "output_type": "execute_result"
    }
   ],
   "source": [
    "chr(88)"
   ]
  },
  {
   "cell_type": "code",
   "execution_count": 15,
   "metadata": {},
   "outputs": [],
   "source": [
    "s = 'XYZ'"
   ]
  },
  {
   "cell_type": "code",
   "execution_count": 16,
   "metadata": {},
   "outputs": [
    {
     "data": {
      "text/plain": [
       "'XYZ'"
      ]
     },
     "execution_count": 16,
     "metadata": {},
     "output_type": "execute_result"
    }
   ],
   "source": [
    "s"
   ]
  },
  {
   "cell_type": "code",
   "execution_count": 17,
   "metadata": {},
   "outputs": [
    {
     "data": {
      "text/plain": [
       "3"
      ]
     },
     "execution_count": 17,
     "metadata": {},
     "output_type": "execute_result"
    }
   ],
   "source": [
    "len(s)"
   ]
  },
  {
   "cell_type": "code",
   "execution_count": 18,
   "metadata": {},
   "outputs": [
    {
     "data": {
      "text/plain": [
       "[88, 89, 90]"
      ]
     },
     "execution_count": 18,
     "metadata": {},
     "output_type": "execute_result"
    }
   ],
   "source": [
    "[ord(c) for c in s]"
   ]
  },
  {
   "cell_type": "markdown",
   "metadata": {},
   "source": [
    "对于常见的 7 为 ASCII 文本，按照 Unicode 编码方案，都是以每字节一个字符的方式表现的"
   ]
  },
  {
   "cell_type": "code",
   "execution_count": 19,
   "metadata": {},
   "outputs": [
    {
     "data": {
      "text/plain": [
       "b'XYZ'"
      ]
     },
     "execution_count": 19,
     "metadata": {},
     "output_type": "execute_result"
    }
   ],
   "source": [
    "s.encode('ascii')"
   ]
  },
  {
   "cell_type": "code",
   "execution_count": 20,
   "metadata": {},
   "outputs": [
    {
     "data": {
      "text/plain": [
       "b'XYZ'"
      ]
     },
     "execution_count": 20,
     "metadata": {},
     "output_type": "execute_result"
    }
   ],
   "source": [
    "s.encode('latin-1')"
   ]
  },
  {
   "cell_type": "code",
   "execution_count": 21,
   "metadata": {},
   "outputs": [
    {
     "data": {
      "text/plain": [
       "b'XYZ'"
      ]
     },
     "execution_count": 21,
     "metadata": {},
     "output_type": "execute_result"
    }
   ],
   "source": [
    "s.encode('utf-8')"
   ]
  },
  {
   "cell_type": "markdown",
   "metadata": {},
   "source": [
    "以这种方式编码 ASCII 文本而返回 bytes 对象，本质上是一个较短整数序列，只不过这个序列可能打印为 ASCII 字符"
   ]
  },
  {
   "cell_type": "code",
   "execution_count": 22,
   "metadata": {},
   "outputs": [
    {
     "data": {
      "text/plain": [
       "88"
      ]
     },
     "execution_count": 22,
     "metadata": {},
     "output_type": "execute_result"
    }
   ],
   "source": [
    "s.encode('latin-1')[0]"
   ]
  },
  {
   "cell_type": "code",
   "execution_count": 23,
   "metadata": {},
   "outputs": [
    {
     "data": {
      "text/plain": [
       "[88, 89, 90]"
      ]
     },
     "execution_count": 23,
     "metadata": {},
     "output_type": "execute_result"
    }
   ],
   "source": [
    "list(s.encode('latin-1'))"
   ]
  },
  {
   "cell_type": "markdown",
   "metadata": {},
   "source": [
    "#### 编码非 ASCII 文本"
   ]
  },
  {
   "cell_type": "markdown",
   "metadata": {},
   "source": [
    "编码 非 ASCII 文本，需要在字符串中使用十六进制或 Unicode；十六进制转移限制于单个自己的值，但 Unicode 转义可以指定其值有两个和四个字节宽度的字符"
   ]
  },
  {
   "cell_type": "code",
   "execution_count": 24,
   "metadata": {},
   "outputs": [
    {
     "data": {
      "text/plain": [
       "'Ä'"
      ]
     },
     "execution_count": 24,
     "metadata": {},
     "output_type": "execute_result"
    }
   ],
   "source": [
    "chr(0xc4)"
   ]
  },
  {
   "cell_type": "code",
   "execution_count": 25,
   "metadata": {},
   "outputs": [
    {
     "data": {
      "text/plain": [
       "'Å'"
      ]
     },
     "execution_count": 25,
     "metadata": {},
     "output_type": "execute_result"
    }
   ],
   "source": [
    "chr(0xc5)"
   ]
  },
  {
   "cell_type": "code",
   "execution_count": 26,
   "metadata": {},
   "outputs": [
    {
     "data": {
      "text/plain": [
       "'è'"
      ]
     },
     "execution_count": 26,
     "metadata": {},
     "output_type": "execute_result"
    }
   ],
   "source": [
    "chr(0xe8)"
   ]
  },
  {
   "cell_type": "code",
   "execution_count": 27,
   "metadata": {},
   "outputs": [],
   "source": [
    "s = '\\xc4\\xe8'"
   ]
  },
  {
   "cell_type": "code",
   "execution_count": 28,
   "metadata": {},
   "outputs": [
    {
     "data": {
      "text/plain": [
       "'Äè'"
      ]
     },
     "execution_count": 28,
     "metadata": {},
     "output_type": "execute_result"
    }
   ],
   "source": [
    "s"
   ]
  },
  {
   "cell_type": "code",
   "execution_count": 29,
   "metadata": {},
   "outputs": [],
   "source": [
    "s = '\\u00c4\\u00e8'"
   ]
  },
  {
   "cell_type": "code",
   "execution_count": 30,
   "metadata": {},
   "outputs": [
    {
     "data": {
      "text/plain": [
       "'Äè'"
      ]
     },
     "execution_count": 30,
     "metadata": {},
     "output_type": "execute_result"
    }
   ],
   "source": [
    "s"
   ]
  },
  {
   "cell_type": "code",
   "execution_count": 31,
   "metadata": {},
   "outputs": [
    {
     "data": {
      "text/plain": [
       "2"
      ]
     },
     "execution_count": 31,
     "metadata": {},
     "output_type": "execute_result"
    }
   ],
   "source": [
    "len(s)"
   ]
  },
  {
   "cell_type": "markdown",
   "metadata": {},
   "source": [
    "### 编码和解码非 ASCII 文本"
   ]
  },
  {
   "cell_type": "markdown",
   "metadata": {},
   "source": [
    "如果试图把一个非 ASCII 字符串编码为 raw 像 ASCII 一样使用，会得到一个错误"
   ]
  },
  {
   "cell_type": "code",
   "execution_count": 32,
   "metadata": {},
   "outputs": [],
   "source": [
    "s = '\\u00c4\\u00e8'"
   ]
  },
  {
   "cell_type": "code",
   "execution_count": 33,
   "metadata": {},
   "outputs": [
    {
     "data": {
      "text/plain": [
       "'Äè'"
      ]
     },
     "execution_count": 33,
     "metadata": {},
     "output_type": "execute_result"
    }
   ],
   "source": [
    "s"
   ]
  },
  {
   "cell_type": "code",
   "execution_count": 34,
   "metadata": {},
   "outputs": [
    {
     "data": {
      "text/plain": [
       "2"
      ]
     },
     "execution_count": 34,
     "metadata": {},
     "output_type": "execute_result"
    }
   ],
   "source": [
    "len(s)"
   ]
  },
  {
   "cell_type": "code",
   "execution_count": 35,
   "metadata": {},
   "outputs": [
    {
     "ename": "UnicodeEncodeError",
     "evalue": "'ascii' codec can't encode characters in position 0-1: ordinal not in range(128)",
     "output_type": "error",
     "traceback": [
      "\u001b[0;31m---------------------------------------------------------------------------\u001b[0m",
      "\u001b[0;31mUnicodeEncodeError\u001b[0m                        Traceback (most recent call last)",
      "Cell \u001b[0;32mIn[35], line 1\u001b[0m\n\u001b[0;32m----> 1\u001b[0m \u001b[43ms\u001b[49m\u001b[38;5;241;43m.\u001b[39;49m\u001b[43mencode\u001b[49m\u001b[43m(\u001b[49m\u001b[38;5;124;43m'\u001b[39;49m\u001b[38;5;124;43mascii\u001b[39;49m\u001b[38;5;124;43m'\u001b[39;49m\u001b[43m)\u001b[49m\n",
      "\u001b[0;31mUnicodeEncodeError\u001b[0m: 'ascii' codec can't encode characters in position 0-1: ordinal not in range(128)"
     ]
    }
   ],
   "source": [
    "s.encode('ascii')"
   ]
  },
  {
   "cell_type": "code",
   "execution_count": 36,
   "metadata": {},
   "outputs": [
    {
     "data": {
      "text/plain": [
       "b'\\xc4\\xe8'"
      ]
     },
     "execution_count": 36,
     "metadata": {},
     "output_type": "execute_result"
    }
   ],
   "source": [
    "s.encode('latin-1')"
   ]
  },
  {
   "cell_type": "code",
   "execution_count": 37,
   "metadata": {},
   "outputs": [
    {
     "data": {
      "text/plain": [
       "b'\\xc3\\x84\\xc3\\xa8'"
      ]
     },
     "execution_count": 37,
     "metadata": {},
     "output_type": "execute_result"
    }
   ],
   "source": [
    "s.encode('utf-8')"
   ]
  },
  {
   "cell_type": "code",
   "execution_count": 38,
   "metadata": {},
   "outputs": [
    {
     "data": {
      "text/plain": [
       "2"
      ]
     },
     "execution_count": 38,
     "metadata": {},
     "output_type": "execute_result"
    }
   ],
   "source": [
    "len(s.encode('latin-1'))"
   ]
  },
  {
   "cell_type": "code",
   "execution_count": 39,
   "metadata": {},
   "outputs": [
    {
     "data": {
      "text/plain": [
       "4"
      ]
     },
     "execution_count": 39,
     "metadata": {},
     "output_type": "execute_result"
    }
   ],
   "source": [
    "len(s.encode('utf-8'))"
   ]
  },
  {
   "cell_type": "markdown",
   "metadata": {},
   "source": [
    "## 其他 Unicode 编码技术"
   ]
  },
  {
   "cell_type": "markdown",
   "metadata": {},
   "source": [
    "支持为字符串制定 16 位或者 32 位的 Unicode 值"
   ]
  },
  {
   "cell_type": "code",
   "execution_count": 54,
   "metadata": {},
   "outputs": [],
   "source": [
    "s = 'A\\u00c4B\\U0000000e8C'"
   ]
  },
  {
   "cell_type": "code",
   "execution_count": 55,
   "metadata": {},
   "outputs": [
    {
     "data": {
      "text/plain": [
       "'AÄB\\x0e8C'"
      ]
     },
     "execution_count": 55,
     "metadata": {},
     "output_type": "execute_result"
    }
   ],
   "source": [
    "s"
   ]
  },
  {
   "cell_type": "code",
   "execution_count": 56,
   "metadata": {},
   "outputs": [
    {
     "data": {
      "text/plain": [
       "6"
      ]
     },
     "execution_count": 56,
     "metadata": {},
     "output_type": "execute_result"
    }
   ],
   "source": [
    "len(s)"
   ]
  },
  {
   "cell_type": "code",
   "execution_count": 57,
   "metadata": {},
   "outputs": [
    {
     "data": {
      "text/plain": [
       "b'A\\xc4B\\x0e8C'"
      ]
     },
     "execution_count": 57,
     "metadata": {},
     "output_type": "execute_result"
    }
   ],
   "source": [
    "s.encode('latin-1')"
   ]
  },
  {
   "cell_type": "code",
   "execution_count": 60,
   "metadata": {},
   "outputs": [
    {
     "data": {
      "text/plain": [
       "b'A\\xc3\\x84B\\x0e8C'"
      ]
     },
     "execution_count": 60,
     "metadata": {},
     "output_type": "execute_result"
    }
   ],
   "source": [
    "s.encode('utf-8')"
   ]
  },
  {
   "cell_type": "code",
   "execution_count": 61,
   "metadata": {},
   "outputs": [
    {
     "data": {
      "text/plain": [
       "7"
      ]
     },
     "execution_count": 61,
     "metadata": {},
     "output_type": "execute_result"
    }
   ],
   "source": [
    "len(s.encode('utf-8'))"
   ]
  },
  {
   "cell_type": "markdown",
   "metadata": {},
   "source": [
    "#### 转换编码"
   ]
  },
  {
   "cell_type": "markdown",
   "metadata": {},
   "source": [
    "将字符串转换为不同于原字符集默认的一种编码，必须显式地提供一个编码名称以进行编码和解码"
   ]
  },
  {
   "cell_type": "code",
   "execution_count": 69,
   "metadata": {},
   "outputs": [],
   "source": [
    "s = 'AABèC'"
   ]
  },
  {
   "cell_type": "code",
   "execution_count": 70,
   "metadata": {},
   "outputs": [
    {
     "data": {
      "text/plain": [
       "'AABèC'"
      ]
     },
     "execution_count": 70,
     "metadata": {},
     "output_type": "execute_result"
    }
   ],
   "source": [
    "s"
   ]
  },
  {
   "cell_type": "code",
   "execution_count": 71,
   "metadata": {},
   "outputs": [
    {
     "data": {
      "text/plain": [
       "b'AAB\\xc3\\xa8C'"
      ]
     },
     "execution_count": 71,
     "metadata": {},
     "output_type": "execute_result"
    }
   ],
   "source": [
    "s.encode()"
   ]
  },
  {
   "cell_type": "code",
   "execution_count": 72,
   "metadata": {},
   "outputs": [],
   "source": [
    "t = s.encode('cp500')"
   ]
  },
  {
   "cell_type": "code",
   "execution_count": 73,
   "metadata": {},
   "outputs": [
    {
     "data": {
      "text/plain": [
       "b'\\xc1\\xc1\\xc2T\\xc3'"
      ]
     },
     "execution_count": 73,
     "metadata": {},
     "output_type": "execute_result"
    }
   ],
   "source": [
    "t"
   ]
  },
  {
   "cell_type": "code",
   "execution_count": 74,
   "metadata": {},
   "outputs": [],
   "source": [
    "u = t.decode('cp500')"
   ]
  },
  {
   "cell_type": "code",
   "execution_count": 75,
   "metadata": {},
   "outputs": [
    {
     "data": {
      "text/plain": [
       "'AABèC'"
      ]
     },
     "execution_count": 75,
     "metadata": {},
     "output_type": "execute_result"
    }
   ],
   "source": [
    "u"
   ]
  },
  {
   "cell_type": "markdown",
   "metadata": {},
   "source": [
    "## 源文件字符集编码声明"
   ]
  },
  {
   "cell_type": "markdown",
   "metadata": {},
   "source": [
    "Python 默认使用 UTF-8 编码，但是允许我们通过包含一个注释来说明想要的编码"
   ]
  },
  {
   "cell_type": "code",
   "execution_count": 76,
   "metadata": {},
   "outputs": [],
   "source": [
    "# -*- coding: latin-1 -*-"
   ]
  },
  {
   "cell_type": "markdown",
   "metadata": {},
   "source": [
    "## 使用 Python 3 Bytes 对象"
   ]
  },
  {
   "cell_type": "markdown",
   "metadata": {},
   "source": [
    "Python 3 bytes 对象支持的操作集"
   ]
  },
  {
   "cell_type": "markdown",
   "metadata": {},
   "source": [
    "Python3 的 bytes 是一个较小的整数序列，其中每个整数都在 0 到 255 之间，并且在显示的时候恰好打印为 ASCII 字符"
   ]
  },
  {
   "cell_type": "markdown",
   "metadata": {},
   "source": [
    "### 方法调用"
   ]
  },
  {
   "cell_type": "markdown",
   "metadata": {},
   "source": [
    "通过下列方式来查看 str 拥有哪些 bytes 所没有的属性"
   ]
  },
  {
   "cell_type": "code",
   "execution_count": 77,
   "metadata": {},
   "outputs": [
    {
     "data": {
      "text/plain": [
       "{'casefold',\n",
       " 'encode',\n",
       " 'format',\n",
       " 'format_map',\n",
       " 'isdecimal',\n",
       " 'isidentifier',\n",
       " 'isnumeric',\n",
       " 'isprintable'}"
      ]
     },
     "execution_count": 77,
     "metadata": {},
     "output_type": "execute_result"
    }
   ],
   "source": [
    "set(dir('abc')) - set(dir(b'abc'))"
   ]
  },
  {
   "cell_type": "code",
   "execution_count": 78,
   "metadata": {},
   "outputs": [
    {
     "data": {
      "text/plain": [
       "{'decode', 'fromhex', 'hex'}"
      ]
     },
     "execution_count": 78,
     "metadata": {},
     "output_type": "execute_result"
    }
   ],
   "source": [
    "set(dir(b'abc')) - set(dir('abc'))"
   ]
  },
  {
   "cell_type": "markdown",
   "metadata": {},
   "source": [
    "常见的查找，替换，分片"
   ]
  },
  {
   "cell_type": "code",
   "execution_count": 79,
   "metadata": {},
   "outputs": [],
   "source": [
    "b = b'spam'"
   ]
  },
  {
   "cell_type": "code",
   "execution_count": 80,
   "metadata": {},
   "outputs": [
    {
     "data": {
      "text/plain": [
       "1"
      ]
     },
     "execution_count": 80,
     "metadata": {},
     "output_type": "execute_result"
    }
   ],
   "source": [
    "b.find(b'pa')"
   ]
  },
  {
   "cell_type": "code",
   "execution_count": 81,
   "metadata": {},
   "outputs": [
    {
     "data": {
      "text/plain": [
       "b'sxym'"
      ]
     },
     "execution_count": 81,
     "metadata": {},
     "output_type": "execute_result"
    }
   ],
   "source": [
    "b.replace(b'pa',b'xy')"
   ]
  },
  {
   "cell_type": "code",
   "execution_count": 82,
   "metadata": {},
   "outputs": [
    {
     "data": {
      "text/plain": [
       "[b's', b'm']"
      ]
     },
     "execution_count": 82,
     "metadata": {},
     "output_type": "execute_result"
    }
   ],
   "source": [
    "b.split(b'pa')"
   ]
  },
  {
   "cell_type": "code",
   "execution_count": 83,
   "metadata": {},
   "outputs": [
    {
     "data": {
      "text/plain": [
       "b'spam'"
      ]
     },
     "execution_count": 83,
     "metadata": {},
     "output_type": "execute_result"
    }
   ],
   "source": [
    "b"
   ]
  },
  {
   "cell_type": "code",
   "execution_count": 84,
   "metadata": {},
   "outputs": [
    {
     "ename": "TypeError",
     "evalue": "'bytes' object does not support item assignment",
     "output_type": "error",
     "traceback": [
      "\u001b[0;31m---------------------------------------------------------------------------\u001b[0m",
      "\u001b[0;31mTypeError\u001b[0m                                 Traceback (most recent call last)",
      "Cell \u001b[0;32mIn[84], line 1\u001b[0m\n\u001b[0;32m----> 1\u001b[0m \u001b[43mb\u001b[49m\u001b[43m[\u001b[49m\u001b[38;5;241;43m0\u001b[39;49m\u001b[43m]\u001b[49m \u001b[38;5;241m=\u001b[39m \u001b[38;5;124m'\u001b[39m\u001b[38;5;124mx\u001b[39m\u001b[38;5;124m'\u001b[39m\n",
      "\u001b[0;31mTypeError\u001b[0m: 'bytes' object does not support item assignment"
     ]
    }
   ],
   "source": [
    "b[0] = 'x'"
   ]
  },
  {
   "cell_type": "markdown",
   "metadata": {},
   "source": [
    "序列操作"
   ]
  },
  {
   "cell_type": "code",
   "execution_count": 87,
   "metadata": {},
   "outputs": [],
   "source": [
    "b = b'spam'"
   ]
  },
  {
   "cell_type": "code",
   "execution_count": 88,
   "metadata": {},
   "outputs": [
    {
     "data": {
      "text/plain": [
       "b'spam'"
      ]
     },
     "execution_count": 88,
     "metadata": {},
     "output_type": "execute_result"
    }
   ],
   "source": [
    "b"
   ]
  },
  {
   "cell_type": "code",
   "execution_count": 89,
   "metadata": {},
   "outputs": [
    {
     "data": {
      "text/plain": [
       "115"
      ]
     },
     "execution_count": 89,
     "metadata": {},
     "output_type": "execute_result"
    }
   ],
   "source": [
    "b[0]"
   ]
  },
  {
   "cell_type": "code",
   "execution_count": 90,
   "metadata": {},
   "outputs": [
    {
     "data": {
      "text/plain": [
       "109"
      ]
     },
     "execution_count": 90,
     "metadata": {},
     "output_type": "execute_result"
    }
   ],
   "source": [
    "b[-1]"
   ]
  },
  {
   "cell_type": "code",
   "execution_count": 92,
   "metadata": {},
   "outputs": [
    {
     "data": {
      "text/plain": [
       "'s'"
      ]
     },
     "execution_count": 92,
     "metadata": {},
     "output_type": "execute_result"
    }
   ],
   "source": [
    "chr(b[0])"
   ]
  },
  {
   "cell_type": "code",
   "execution_count": 94,
   "metadata": {},
   "outputs": [
    {
     "data": {
      "text/plain": [
       "[115, 112, 97, 109]"
      ]
     },
     "execution_count": 94,
     "metadata": {},
     "output_type": "execute_result"
    }
   ],
   "source": [
    "list(b)"
   ]
  },
  {
   "cell_type": "code",
   "execution_count": 95,
   "metadata": {},
   "outputs": [
    {
     "data": {
      "text/plain": [
       "b'spamlmn'"
      ]
     },
     "execution_count": 95,
     "metadata": {},
     "output_type": "execute_result"
    }
   ],
   "source": [
    "b + b'lmn'"
   ]
  },
  {
   "cell_type": "code",
   "execution_count": 96,
   "metadata": {},
   "outputs": [
    {
     "data": {
      "text/plain": [
       "b'spamspamspamspam'"
      ]
     },
     "execution_count": 96,
     "metadata": {},
     "output_type": "execute_result"
    }
   ],
   "source": [
    "b * 4"
   ]
  },
  {
   "cell_type": "markdown",
   "metadata": {},
   "source": [
    "创建 bytes 对象的其他方式"
   ]
  },
  {
   "cell_type": "code",
   "execution_count": 97,
   "metadata": {},
   "outputs": [],
   "source": [
    "b = b'abc'"
   ]
  },
  {
   "cell_type": "code",
   "execution_count": 98,
   "metadata": {},
   "outputs": [
    {
     "data": {
      "text/plain": [
       "b'abc'"
      ]
     },
     "execution_count": 98,
     "metadata": {},
     "output_type": "execute_result"
    }
   ],
   "source": [
    "b"
   ]
  },
  {
   "cell_type": "code",
   "execution_count": 99,
   "metadata": {},
   "outputs": [],
   "source": [
    "b = bytes('abc','ascii')"
   ]
  },
  {
   "cell_type": "code",
   "execution_count": 100,
   "metadata": {},
   "outputs": [
    {
     "data": {
      "text/plain": [
       "b'abc'"
      ]
     },
     "execution_count": 100,
     "metadata": {},
     "output_type": "execute_result"
    }
   ],
   "source": [
    "b"
   ]
  },
  {
   "cell_type": "code",
   "execution_count": 101,
   "metadata": {},
   "outputs": [
    {
     "data": {
      "text/plain": [
       "97"
      ]
     },
     "execution_count": 101,
     "metadata": {},
     "output_type": "execute_result"
    }
   ],
   "source": [
    "ord('a')"
   ]
  },
  {
   "cell_type": "code",
   "execution_count": 102,
   "metadata": {},
   "outputs": [],
   "source": [
    "b = bytes([97,98,99])"
   ]
  },
  {
   "cell_type": "code",
   "execution_count": 103,
   "metadata": {},
   "outputs": [
    {
     "data": {
      "text/plain": [
       "b'abc'"
      ]
     },
     "execution_count": 103,
     "metadata": {},
     "output_type": "execute_result"
    }
   ],
   "source": [
    "b"
   ]
  },
  {
   "cell_type": "markdown",
   "metadata": {},
   "source": [
    "str to bytes"
   ]
  },
  {
   "cell_type": "code",
   "execution_count": 104,
   "metadata": {},
   "outputs": [],
   "source": [
    "b = 'spam'.encode()"
   ]
  },
  {
   "cell_type": "code",
   "execution_count": 108,
   "metadata": {},
   "outputs": [
    {
     "data": {
      "text/plain": [
       "b'spam'"
      ]
     },
     "execution_count": 108,
     "metadata": {},
     "output_type": "execute_result"
    }
   ],
   "source": [
    "b"
   ]
  },
  {
   "cell_type": "markdown",
   "metadata": {},
   "source": [
    "bytes to str"
   ]
  },
  {
   "cell_type": "code",
   "execution_count": 106,
   "metadata": {},
   "outputs": [],
   "source": [
    "s = b.decode()"
   ]
  },
  {
   "cell_type": "code",
   "execution_count": 107,
   "metadata": {},
   "outputs": [
    {
     "data": {
      "text/plain": [
       "'spam'"
      ]
     },
     "execution_count": 107,
     "metadata": {},
     "output_type": "execute_result"
    }
   ],
   "source": [
    "s"
   ]
  },
  {
   "cell_type": "markdown",
   "metadata": {},
   "source": [
    "## 使用 Python3 的 bytearray 对象"
   ]
  },
  {
   "cell_type": "markdown",
   "metadata": {},
   "source": []
  },
  {
   "cell_type": "code",
   "execution_count": null,
   "metadata": {},
   "outputs": [],
   "source": []
  },
  {
   "cell_type": "code",
   "execution_count": null,
   "metadata": {},
   "outputs": [],
   "source": []
  },
  {
   "cell_type": "code",
   "execution_count": null,
   "metadata": {},
   "outputs": [],
   "source": []
  },
  {
   "cell_type": "code",
   "execution_count": null,
   "metadata": {},
   "outputs": [],
   "source": []
  },
  {
   "cell_type": "code",
   "execution_count": null,
   "metadata": {},
   "outputs": [],
   "source": []
  },
  {
   "cell_type": "code",
   "execution_count": null,
   "metadata": {},
   "outputs": [],
   "source": []
  },
  {
   "cell_type": "code",
   "execution_count": null,
   "metadata": {},
   "outputs": [],
   "source": []
  },
  {
   "cell_type": "code",
   "execution_count": null,
   "metadata": {},
   "outputs": [],
   "source": []
  },
  {
   "cell_type": "code",
   "execution_count": null,
   "metadata": {},
   "outputs": [],
   "source": []
  },
  {
   "cell_type": "code",
   "execution_count": null,
   "metadata": {},
   "outputs": [],
   "source": []
  },
  {
   "cell_type": "code",
   "execution_count": null,
   "metadata": {},
   "outputs": [],
   "source": []
  },
  {
   "cell_type": "code",
   "execution_count": null,
   "metadata": {},
   "outputs": [],
   "source": []
  },
  {
   "cell_type": "code",
   "execution_count": null,
   "metadata": {},
   "outputs": [],
   "source": []
  },
  {
   "cell_type": "code",
   "execution_count": null,
   "metadata": {},
   "outputs": [],
   "source": []
  },
  {
   "cell_type": "code",
   "execution_count": null,
   "metadata": {},
   "outputs": [],
   "source": [
    "aa"
   ]
  },
  {
   "cell_type": "code",
   "execution_count": null,
   "metadata": {},
   "outputs": [],
   "source": []
  },
  {
   "cell_type": "code",
   "execution_count": null,
   "metadata": {},
   "outputs": [],
   "source": []
  },
  {
   "cell_type": "code",
   "execution_count": null,
   "metadata": {},
   "outputs": [],
   "source": []
  }
 ],
 "metadata": {
  "kernelspec": {
   "display_name": "Python 3 (ipykernel)",
   "language": "python",
   "name": "python3"
  },
  "language_info": {
   "codemirror_mode": {
    "name": "ipython",
    "version": 3
   },
   "file_extension": ".py",
   "mimetype": "text/x-python",
   "name": "python",
   "nbconvert_exporter": "python",
   "pygments_lexer": "ipython3",
   "version": "3.10.13"
  }
 },
 "nbformat": 4,
 "nbformat_minor": 4
}
